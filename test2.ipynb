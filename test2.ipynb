{
 "cells": [
  {
   "cell_type": "code",
   "execution_count": 5,
   "id": "d4038228-21ce-4bc8-967f-e2bd9e77d80b",
   "metadata": {},
   "outputs": [
    {
     "name": "stdout",
     "output_type": "stream",
     "text": [
      "Fichier «mesh.vtk» déjà présent ; pas de récupération.\n",
      "\n"
     ]
    },
    {
     "data": {
      "application/vnd.jupyter.widget-view+json": {
       "model_id": "a0231117effd4a6e9a1534334cf2030d",
       "version_major": 2,
       "version_minor": 0
      },
      "text/plain": [
       "Renderer(camera=PerspectiveCamera(aspect=1.3333333333333333, children=(DirectionalLight(intensity=0.25, positi…"
      ]
     },
     "metadata": {},
     "output_type": "display_data"
    }
   ],
   "source": [
    "import pyvista as pv\n",
    "import vtk\n",
    "\n",
    "vtk.vtkLogger.SetStderrVerbosity(vtk.vtkLogger.VERBOSITY_OFF)\n",
    "\n",
    "! wget -nc https://thredds-su.ipsl.fr/thredds/fileServer/ipsl_thredds/brocksce/pyvista/mesh.vtk\n",
    "mesh = pv.PolyData('mesh.vtk')\n",
    "edges = mesh.extract_feature_edges(boundary_edges=True)\n",
    "\n",
    "pl = pv.Plotter()\n",
    "pl.set_background('white')\n",
    "\n",
    "pl.add_mesh(pv.Sphere(radius=0.999, theta_resolution=360, phi_resolution=180))\n",
    "pl.add_mesh(mesh, show_edges=True, edge_color=\"gray\")\n",
    "pl.add_mesh(edges, color=\"red\", line_width=2)\n",
    "\n",
    "viewer = pl.show(jupyter_backend='pythreejs', return_viewer=True)\n",
    "display(viewer)"
   ]
  },
  {
   "cell_type": "code",
   "execution_count": null,
   "id": "58615868-c653-4b14-b737-e4d53d401863",
   "metadata": {},
   "outputs": [],
   "source": []
  }
 ],
 "metadata": {
  "kernelspec": {
   "display_name": "Python 3 (ipykernel)",
   "language": "python",
   "name": "python3"
  },
  "language_info": {
   "codemirror_mode": {
    "name": "ipython",
    "version": 3
   },
   "file_extension": ".py",
   "mimetype": "text/x-python",
   "name": "python",
   "nbconvert_exporter": "python",
   "pygments_lexer": "ipython3",
   "version": "3.10.6"
  }
 },
 "nbformat": 4,
 "nbformat_minor": 5
}
