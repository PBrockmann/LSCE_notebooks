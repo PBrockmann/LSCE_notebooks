{
 "cells": [
  {
   "cell_type": "markdown",
   "id": "91ed21c4-8757-4313-877a-0348851c2e96",
   "metadata": {
    "execution": {
     "iopub.execute_input": "2023-02-14T14:06:00.035712Z",
     "iopub.status.busy": "2023-02-14T14:06:00.035342Z",
     "iopub.status.idle": "2023-02-14T14:06:00.040178Z",
     "shell.execute_reply": "2023-02-14T14:06:00.039307Z",
     "shell.execute_reply.started": "2023-02-14T14:06:00.035681Z"
    },
    "tags": []
   },
   "source": [
    "### https://github.com/pyvista/pyvista/discussions/2567"
   ]
  },
  {
   "cell_type": "code",
   "execution_count": 1,
   "id": "b960092c-252c-49b1-a9be-33ee4513d251",
   "metadata": {
    "execution": {
     "iopub.execute_input": "2023-02-14T18:06:37.654817Z",
     "iopub.status.busy": "2023-02-14T18:06:37.654431Z",
     "iopub.status.idle": "2023-02-14T18:06:38.289018Z",
     "shell.execute_reply": "2023-02-14T18:06:38.288256Z",
     "shell.execute_reply.started": "2023-02-14T18:06:37.654784Z"
    },
    "tags": []
   },
   "outputs": [
    {
     "data": {
      "application/vnd.jupyter.widget-view+json": {
       "model_id": "8d14abff642e43419757455224313b8b",
       "version_major": 2,
       "version_minor": 0
      },
      "text/plain": [
       "Widget(value=\"<iframe src='http://localhost:33893/index.html?ui=P_0x7faac7b88a90_0&reconnect=auto' style='widt…"
      ]
     },
     "metadata": {},
     "output_type": "display_data"
    },
    {
     "data": {
      "application/vnd.jupyter.widget-view+json": {
       "model_id": "81a2f7965c504563b16da6542f922fb9",
       "version_major": 2,
       "version_minor": 0
      },
      "text/plain": [
       "interactive(children=(IntSlider(value=6, description='resolution', max=20, min=3), Output()), _dom_classes=('w…"
      ]
     },
     "metadata": {},
     "output_type": "display_data"
    }
   ],
   "source": [
    "import vtk\n",
    "import pyvista as pv\n",
    "from ipywidgets import interact\n",
    "\n",
    "pv.set_jupyter_backend('trame')\n",
    "\n",
    "pl = pv.Plotter()\n",
    "#c = pv.Cone(resolution=6)\n",
    "c = vtk.vtkConeSource()\n",
    "c_actor = pl.add_mesh(c)\n",
    "pl.show(jupyter_backend='client')\n",
    "\n",
    "def plot(resolution=6):\n",
    "    #c.shallow_copy(pv.Cone(resolution=resolution))\n",
    "    c.SetResolution(resolution)\n",
    "    pl.render()\n",
    "\n",
    "a = interact(plot, resolution = (3,20,1))"
   ]
  },
  {
   "cell_type": "code",
   "execution_count": 2,
   "id": "487db41a",
   "metadata": {
    "execution": {
     "iopub.execute_input": "2023-02-14T18:06:39.459481Z",
     "iopub.status.busy": "2023-02-14T18:06:39.458020Z",
     "iopub.status.idle": "2023-02-14T18:06:39.827208Z",
     "shell.execute_reply": "2023-02-14T18:06:39.826490Z",
     "shell.execute_reply.started": "2023-02-14T18:06:39.459392Z"
    },
    "tags": []
   },
   "outputs": [],
   "source": [
    "import numpy as np\n",
    "import xarray as xr\n",
    "import pyvista as pv\n",
    "import matplotlib"
   ]
  },
  {
   "cell_type": "code",
   "execution_count": 3,
   "id": "0579a733",
   "metadata": {
    "execution": {
     "iopub.execute_input": "2023-02-14T18:06:40.071092Z",
     "iopub.status.busy": "2023-02-14T18:06:40.069606Z",
     "iopub.status.idle": "2023-02-14T18:06:40.077331Z",
     "shell.execute_reply": "2023-02-14T18:06:40.076164Z",
     "shell.execute_reply.started": "2023-02-14T18:06:40.071038Z"
    },
    "tags": []
   },
   "outputs": [],
   "source": [
    "import ipywidgets as widgets\n",
    "from ipywidgets import Button, HBox, VBox"
   ]
  },
  {
   "cell_type": "code",
   "execution_count": 4,
   "id": "4d058a22",
   "metadata": {
    "execution": {
     "iopub.execute_input": "2023-02-14T18:06:40.750784Z",
     "iopub.status.busy": "2023-02-14T18:06:40.750495Z",
     "iopub.status.idle": "2023-02-14T18:06:41.509070Z",
     "shell.execute_reply": "2023-02-14T18:06:41.507956Z",
     "shell.execute_reply.started": "2023-02-14T18:06:40.750763Z"
    },
    "tags": []
   },
   "outputs": [
    {
     "data": {
      "text/html": [
       "<div><svg style=\"position: absolute; width: 0; height: 0; overflow: hidden\">\n",
       "<defs>\n",
       "<symbol id=\"icon-database\" viewBox=\"0 0 32 32\">\n",
       "<path d=\"M16 0c-8.837 0-16 2.239-16 5v4c0 2.761 7.163 5 16 5s16-2.239 16-5v-4c0-2.761-7.163-5-16-5z\"></path>\n",
       "<path d=\"M16 17c-8.837 0-16-2.239-16-5v6c0 2.761 7.163 5 16 5s16-2.239 16-5v-6c0 2.761-7.163 5-16 5z\"></path>\n",
       "<path d=\"M16 26c-8.837 0-16-2.239-16-5v6c0 2.761 7.163 5 16 5s16-2.239 16-5v-6c0 2.761-7.163 5-16 5z\"></path>\n",
       "</symbol>\n",
       "<symbol id=\"icon-file-text2\" viewBox=\"0 0 32 32\">\n",
       "<path d=\"M28.681 7.159c-0.694-0.947-1.662-2.053-2.724-3.116s-2.169-2.030-3.116-2.724c-1.612-1.182-2.393-1.319-2.841-1.319h-15.5c-1.378 0-2.5 1.121-2.5 2.5v27c0 1.378 1.122 2.5 2.5 2.5h23c1.378 0 2.5-1.122 2.5-2.5v-19.5c0-0.448-0.137-1.23-1.319-2.841zM24.543 5.457c0.959 0.959 1.712 1.825 2.268 2.543h-4.811v-4.811c0.718 0.556 1.584 1.309 2.543 2.268zM28 29.5c0 0.271-0.229 0.5-0.5 0.5h-23c-0.271 0-0.5-0.229-0.5-0.5v-27c0-0.271 0.229-0.5 0.5-0.5 0 0 15.499-0 15.5 0v7c0 0.552 0.448 1 1 1h7v19.5z\"></path>\n",
       "<path d=\"M23 26h-14c-0.552 0-1-0.448-1-1s0.448-1 1-1h14c0.552 0 1 0.448 1 1s-0.448 1-1 1z\"></path>\n",
       "<path d=\"M23 22h-14c-0.552 0-1-0.448-1-1s0.448-1 1-1h14c0.552 0 1 0.448 1 1s-0.448 1-1 1z\"></path>\n",
       "<path d=\"M23 18h-14c-0.552 0-1-0.448-1-1s0.448-1 1-1h14c0.552 0 1 0.448 1 1s-0.448 1-1 1z\"></path>\n",
       "</symbol>\n",
       "</defs>\n",
       "</svg>\n",
       "<style>/* CSS stylesheet for displaying xarray objects in jupyterlab.\n",
       " *\n",
       " */\n",
       "\n",
       ":root {\n",
       "  --xr-font-color0: var(--jp-content-font-color0, rgba(0, 0, 0, 1));\n",
       "  --xr-font-color2: var(--jp-content-font-color2, rgba(0, 0, 0, 0.54));\n",
       "  --xr-font-color3: var(--jp-content-font-color3, rgba(0, 0, 0, 0.38));\n",
       "  --xr-border-color: var(--jp-border-color2, #e0e0e0);\n",
       "  --xr-disabled-color: var(--jp-layout-color3, #bdbdbd);\n",
       "  --xr-background-color: var(--jp-layout-color0, white);\n",
       "  --xr-background-color-row-even: var(--jp-layout-color1, white);\n",
       "  --xr-background-color-row-odd: var(--jp-layout-color2, #eeeeee);\n",
       "}\n",
       "\n",
       "html[theme=dark],\n",
       "body[data-theme=dark],\n",
       "body.vscode-dark {\n",
       "  --xr-font-color0: rgba(255, 255, 255, 1);\n",
       "  --xr-font-color2: rgba(255, 255, 255, 0.54);\n",
       "  --xr-font-color3: rgba(255, 255, 255, 0.38);\n",
       "  --xr-border-color: #1F1F1F;\n",
       "  --xr-disabled-color: #515151;\n",
       "  --xr-background-color: #111111;\n",
       "  --xr-background-color-row-even: #111111;\n",
       "  --xr-background-color-row-odd: #313131;\n",
       "}\n",
       "\n",
       ".xr-wrap {\n",
       "  display: block !important;\n",
       "  min-width: 300px;\n",
       "  max-width: 700px;\n",
       "}\n",
       "\n",
       ".xr-text-repr-fallback {\n",
       "  /* fallback to plain text repr when CSS is not injected (untrusted notebook) */\n",
       "  display: none;\n",
       "}\n",
       "\n",
       ".xr-header {\n",
       "  padding-top: 6px;\n",
       "  padding-bottom: 6px;\n",
       "  margin-bottom: 4px;\n",
       "  border-bottom: solid 1px var(--xr-border-color);\n",
       "}\n",
       "\n",
       ".xr-header > div,\n",
       ".xr-header > ul {\n",
       "  display: inline;\n",
       "  margin-top: 0;\n",
       "  margin-bottom: 0;\n",
       "}\n",
       "\n",
       ".xr-obj-type,\n",
       ".xr-array-name {\n",
       "  margin-left: 2px;\n",
       "  margin-right: 10px;\n",
       "}\n",
       "\n",
       ".xr-obj-type {\n",
       "  color: var(--xr-font-color2);\n",
       "}\n",
       "\n",
       ".xr-sections {\n",
       "  padding-left: 0 !important;\n",
       "  display: grid;\n",
       "  grid-template-columns: 150px auto auto 1fr 20px 20px;\n",
       "}\n",
       "\n",
       ".xr-section-item {\n",
       "  display: contents;\n",
       "}\n",
       "\n",
       ".xr-section-item input {\n",
       "  display: none;\n",
       "}\n",
       "\n",
       ".xr-section-item input + label {\n",
       "  color: var(--xr-disabled-color);\n",
       "}\n",
       "\n",
       ".xr-section-item input:enabled + label {\n",
       "  cursor: pointer;\n",
       "  color: var(--xr-font-color2);\n",
       "}\n",
       "\n",
       ".xr-section-item input:enabled + label:hover {\n",
       "  color: var(--xr-font-color0);\n",
       "}\n",
       "\n",
       ".xr-section-summary {\n",
       "  grid-column: 1;\n",
       "  color: var(--xr-font-color2);\n",
       "  font-weight: 500;\n",
       "}\n",
       "\n",
       ".xr-section-summary > span {\n",
       "  display: inline-block;\n",
       "  padding-left: 0.5em;\n",
       "}\n",
       "\n",
       ".xr-section-summary-in:disabled + label {\n",
       "  color: var(--xr-font-color2);\n",
       "}\n",
       "\n",
       ".xr-section-summary-in + label:before {\n",
       "  display: inline-block;\n",
       "  content: '►';\n",
       "  font-size: 11px;\n",
       "  width: 15px;\n",
       "  text-align: center;\n",
       "}\n",
       "\n",
       ".xr-section-summary-in:disabled + label:before {\n",
       "  color: var(--xr-disabled-color);\n",
       "}\n",
       "\n",
       ".xr-section-summary-in:checked + label:before {\n",
       "  content: '▼';\n",
       "}\n",
       "\n",
       ".xr-section-summary-in:checked + label > span {\n",
       "  display: none;\n",
       "}\n",
       "\n",
       ".xr-section-summary,\n",
       ".xr-section-inline-details {\n",
       "  padding-top: 4px;\n",
       "  padding-bottom: 4px;\n",
       "}\n",
       "\n",
       ".xr-section-inline-details {\n",
       "  grid-column: 2 / -1;\n",
       "}\n",
       "\n",
       ".xr-section-details {\n",
       "  display: none;\n",
       "  grid-column: 1 / -1;\n",
       "  margin-bottom: 5px;\n",
       "}\n",
       "\n",
       ".xr-section-summary-in:checked ~ .xr-section-details {\n",
       "  display: contents;\n",
       "}\n",
       "\n",
       ".xr-array-wrap {\n",
       "  grid-column: 1 / -1;\n",
       "  display: grid;\n",
       "  grid-template-columns: 20px auto;\n",
       "}\n",
       "\n",
       ".xr-array-wrap > label {\n",
       "  grid-column: 1;\n",
       "  vertical-align: top;\n",
       "}\n",
       "\n",
       ".xr-preview {\n",
       "  color: var(--xr-font-color3);\n",
       "}\n",
       "\n",
       ".xr-array-preview,\n",
       ".xr-array-data {\n",
       "  padding: 0 5px !important;\n",
       "  grid-column: 2;\n",
       "}\n",
       "\n",
       ".xr-array-data,\n",
       ".xr-array-in:checked ~ .xr-array-preview {\n",
       "  display: none;\n",
       "}\n",
       "\n",
       ".xr-array-in:checked ~ .xr-array-data,\n",
       ".xr-array-preview {\n",
       "  display: inline-block;\n",
       "}\n",
       "\n",
       ".xr-dim-list {\n",
       "  display: inline-block !important;\n",
       "  list-style: none;\n",
       "  padding: 0 !important;\n",
       "  margin: 0;\n",
       "}\n",
       "\n",
       ".xr-dim-list li {\n",
       "  display: inline-block;\n",
       "  padding: 0;\n",
       "  margin: 0;\n",
       "}\n",
       "\n",
       ".xr-dim-list:before {\n",
       "  content: '(';\n",
       "}\n",
       "\n",
       ".xr-dim-list:after {\n",
       "  content: ')';\n",
       "}\n",
       "\n",
       ".xr-dim-list li:not(:last-child):after {\n",
       "  content: ',';\n",
       "  padding-right: 5px;\n",
       "}\n",
       "\n",
       ".xr-has-index {\n",
       "  font-weight: bold;\n",
       "}\n",
       "\n",
       ".xr-var-list,\n",
       ".xr-var-item {\n",
       "  display: contents;\n",
       "}\n",
       "\n",
       ".xr-var-item > div,\n",
       ".xr-var-item label,\n",
       ".xr-var-item > .xr-var-name span {\n",
       "  background-color: var(--xr-background-color-row-even);\n",
       "  margin-bottom: 0;\n",
       "}\n",
       "\n",
       ".xr-var-item > .xr-var-name:hover span {\n",
       "  padding-right: 5px;\n",
       "}\n",
       "\n",
       ".xr-var-list > li:nth-child(odd) > div,\n",
       ".xr-var-list > li:nth-child(odd) > label,\n",
       ".xr-var-list > li:nth-child(odd) > .xr-var-name span {\n",
       "  background-color: var(--xr-background-color-row-odd);\n",
       "}\n",
       "\n",
       ".xr-var-name {\n",
       "  grid-column: 1;\n",
       "}\n",
       "\n",
       ".xr-var-dims {\n",
       "  grid-column: 2;\n",
       "}\n",
       "\n",
       ".xr-var-dtype {\n",
       "  grid-column: 3;\n",
       "  text-align: right;\n",
       "  color: var(--xr-font-color2);\n",
       "}\n",
       "\n",
       ".xr-var-preview {\n",
       "  grid-column: 4;\n",
       "}\n",
       "\n",
       ".xr-index-preview {\n",
       "  grid-column: 2 / 5;\n",
       "  color: var(--xr-font-color2);\n",
       "}\n",
       "\n",
       ".xr-var-name,\n",
       ".xr-var-dims,\n",
       ".xr-var-dtype,\n",
       ".xr-preview,\n",
       ".xr-attrs dt {\n",
       "  white-space: nowrap;\n",
       "  overflow: hidden;\n",
       "  text-overflow: ellipsis;\n",
       "  padding-right: 10px;\n",
       "}\n",
       "\n",
       ".xr-var-name:hover,\n",
       ".xr-var-dims:hover,\n",
       ".xr-var-dtype:hover,\n",
       ".xr-attrs dt:hover {\n",
       "  overflow: visible;\n",
       "  width: auto;\n",
       "  z-index: 1;\n",
       "}\n",
       "\n",
       ".xr-var-attrs,\n",
       ".xr-var-data,\n",
       ".xr-index-data {\n",
       "  display: none;\n",
       "  background-color: var(--xr-background-color) !important;\n",
       "  padding-bottom: 5px !important;\n",
       "}\n",
       "\n",
       ".xr-var-attrs-in:checked ~ .xr-var-attrs,\n",
       ".xr-var-data-in:checked ~ .xr-var-data,\n",
       ".xr-index-data-in:checked ~ .xr-index-data {\n",
       "  display: block;\n",
       "}\n",
       "\n",
       ".xr-var-data > table {\n",
       "  float: right;\n",
       "}\n",
       "\n",
       ".xr-var-name span,\n",
       ".xr-var-data,\n",
       ".xr-index-name div,\n",
       ".xr-index-data,\n",
       ".xr-attrs {\n",
       "  padding-left: 25px !important;\n",
       "}\n",
       "\n",
       ".xr-attrs,\n",
       ".xr-var-attrs,\n",
       ".xr-var-data,\n",
       ".xr-index-data {\n",
       "  grid-column: 1 / -1;\n",
       "}\n",
       "\n",
       "dl.xr-attrs {\n",
       "  padding: 0;\n",
       "  margin: 0;\n",
       "  display: grid;\n",
       "  grid-template-columns: 125px auto;\n",
       "}\n",
       "\n",
       ".xr-attrs dt,\n",
       ".xr-attrs dd {\n",
       "  padding: 0;\n",
       "  margin: 0;\n",
       "  float: left;\n",
       "  padding-right: 10px;\n",
       "  width: auto;\n",
       "}\n",
       "\n",
       ".xr-attrs dt {\n",
       "  font-weight: normal;\n",
       "  grid-column: 1;\n",
       "}\n",
       "\n",
       ".xr-attrs dt:hover span {\n",
       "  display: inline-block;\n",
       "  background: var(--xr-background-color);\n",
       "  padding-right: 10px;\n",
       "}\n",
       "\n",
       ".xr-attrs dd {\n",
       "  grid-column: 2;\n",
       "  white-space: pre-wrap;\n",
       "  word-break: break-all;\n",
       "}\n",
       "\n",
       ".xr-icon-database,\n",
       ".xr-icon-file-text2,\n",
       ".xr-no-icon {\n",
       "  display: inline-block;\n",
       "  vertical-align: middle;\n",
       "  width: 1em;\n",
       "  height: 1.5em !important;\n",
       "  stroke-width: 0;\n",
       "  stroke: currentColor;\n",
       "  fill: currentColor;\n",
       "}\n",
       "</style><pre class='xr-text-repr-fallback'>&lt;xarray.Dataset&gt;\n",
       "Dimensions:               (cell: 16002, nvertex: 6, presnivs: 79,\n",
       "                           time_counter: 24, axis_nbounds: 2)\n",
       "Coordinates:\n",
       "    lat                   (cell) float32 ...\n",
       "    lon                   (cell) float32 ...\n",
       "  * presnivs              (presnivs) float32 1.012e+05 1.009e+05 ... 5.297 1.483\n",
       "    time_centered         (time_counter) datetime64[ns] ...\n",
       "  * time_counter          (time_counter) datetime64[ns] 1979-01-01T00:30:00 ....\n",
       "    time_instant          (time_counter) datetime64[ns] ...\n",
       "Dimensions without coordinates: cell, nvertex, axis_nbounds\n",
       "Data variables: (12/29)\n",
       "    bounds_lon            (cell, nvertex) float32 ...\n",
       "    bounds_lat            (cell, nvertex) float32 ...\n",
       "    time_centered_bounds  (time_counter, axis_nbounds) datetime64[ns] ...\n",
       "    time_counter_bounds   (time_counter, axis_nbounds) datetime64[ns] ...\n",
       "    time_instant_bounds   (time_counter, axis_nbounds) datetime64[ns] ...\n",
       "    pmid                  (time_counter, presnivs, cell) float64 ...\n",
       "    ...                    ...\n",
       "    vmrmcf                (time_counter, presnivs, cell) float64 ...\n",
       "    vmrbe7                (time_counter, presnivs, cell) float64 ...\n",
       "    vmrn2o                (time_counter, presnivs, cell) float64 ...\n",
       "    vmrch4                (time_counter, presnivs, cell) float64 ...\n",
       "    vmrco                 (time_counter, presnivs, cell) float64 ...\n",
       "    vmrco2bih             (time_counter, presnivs, cell) float64 ...\n",
       "Attributes:\n",
       "    _NCProperties:                   version=1|netcdflibversion=4.6.0|hdf5lib...\n",
       "    name:                            inca1d_ges\n",
       "    description:                     Created by xios\n",
       "    title:                           Created by xios\n",
       "    Conventions:                     CF-1.6\n",
       "    timeStamp:                       2022-Apr-05 08:59:15 GMT\n",
       "    uuid:                            8982bdb7-b650-45c4-896c-e228bec0cb5a\n",
       "    history:                         Fri Apr 15 12:05:37 2022: ncatted -O -a ...\n",
       "    NCO:                             4.6.9\n",
       "    DODS_EXTRA.Unlimited_Dimension:  time_counter</pre><div class='xr-wrap' style='display:none'><div class='xr-header'><div class='xr-obj-type'>xarray.Dataset</div></div><ul class='xr-sections'><li class='xr-section-item'><input id='section-2f1e7f38-59bd-4447-a3f3-72e9c7b95bc7' class='xr-section-summary-in' type='checkbox' disabled ><label for='section-2f1e7f38-59bd-4447-a3f3-72e9c7b95bc7' class='xr-section-summary'  title='Expand/collapse section'>Dimensions:</label><div class='xr-section-inline-details'><ul class='xr-dim-list'><li><span>cell</span>: 16002</li><li><span>nvertex</span>: 6</li><li><span class='xr-has-index'>presnivs</span>: 79</li><li><span class='xr-has-index'>time_counter</span>: 24</li><li><span>axis_nbounds</span>: 2</li></ul></div><div class='xr-section-details'></div></li><li class='xr-section-item'><input id='section-117358ba-a8e2-44c0-87b1-c9655c34eebe' class='xr-section-summary-in' type='checkbox'  checked><label for='section-117358ba-a8e2-44c0-87b1-c9655c34eebe' class='xr-section-summary' >Coordinates: <span>(6)</span></label><div class='xr-section-inline-details'></div><div class='xr-section-details'><ul class='xr-var-list'><li class='xr-var-item'><div class='xr-var-name'><span>lat</span></div><div class='xr-var-dims'>(cell)</div><div class='xr-var-dtype'>float32</div><div class='xr-var-preview xr-preview'>...</div><input id='attrs-05b55461-1973-4d54-9299-afff9362199e' class='xr-var-attrs-in' type='checkbox' ><label for='attrs-05b55461-1973-4d54-9299-afff9362199e' title='Show/Hide attributes'><svg class='icon xr-icon-file-text2'><use xlink:href='#icon-file-text2'></use></svg></label><input id='data-21f55a0d-bf92-4ea6-b610-00f8fed26468' class='xr-var-data-in' type='checkbox'><label for='data-21f55a0d-bf92-4ea6-b610-00f8fed26468' title='Show/Hide data repr'><svg class='icon xr-icon-database'><use xlink:href='#icon-database'></use></svg></label><div class='xr-var-attrs'><dl class='xr-attrs'><dt><span>units :</span></dt><dd>degrees_north</dd><dt><span>bounds :</span></dt><dd>bounds_lat</dd><dt><span>standard_name :</span></dt><dd>latitude</dd><dt><span>long_name :</span></dt><dd>Latitude</dd><dt><span>_ChunkSizes :</span></dt><dd>16002</dd></dl></div><div class='xr-var-data'><pre>[16002 values with dtype=float32]</pre></div></li><li class='xr-var-item'><div class='xr-var-name'><span>lon</span></div><div class='xr-var-dims'>(cell)</div><div class='xr-var-dtype'>float32</div><div class='xr-var-preview xr-preview'>...</div><input id='attrs-7ca155df-ce19-42b0-a0a4-6f1e0dae1511' class='xr-var-attrs-in' type='checkbox' ><label for='attrs-7ca155df-ce19-42b0-a0a4-6f1e0dae1511' title='Show/Hide attributes'><svg class='icon xr-icon-file-text2'><use xlink:href='#icon-file-text2'></use></svg></label><input id='data-5b755cc4-6541-49c2-bdb3-2f732bd26d39' class='xr-var-data-in' type='checkbox'><label for='data-5b755cc4-6541-49c2-bdb3-2f732bd26d39' title='Show/Hide data repr'><svg class='icon xr-icon-database'><use xlink:href='#icon-database'></use></svg></label><div class='xr-var-attrs'><dl class='xr-attrs'><dt><span>units :</span></dt><dd>degrees_east</dd><dt><span>bounds :</span></dt><dd>bounds_lon</dd><dt><span>standard_name :</span></dt><dd>longitude</dd><dt><span>long_name :</span></dt><dd>Longitude</dd><dt><span>_ChunkSizes :</span></dt><dd>16002</dd></dl></div><div class='xr-var-data'><pre>[16002 values with dtype=float32]</pre></div></li><li class='xr-var-item'><div class='xr-var-name'><span class='xr-has-index'>presnivs</span></div><div class='xr-var-dims'>(presnivs)</div><div class='xr-var-dtype'>float32</div><div class='xr-var-preview xr-preview'>1.012e+05 1.009e+05 ... 5.297 1.483</div><input id='attrs-7eb7f099-c91c-4496-95f6-b6a5ae7ec313' class='xr-var-attrs-in' type='checkbox' ><label for='attrs-7eb7f099-c91c-4496-95f6-b6a5ae7ec313' title='Show/Hide attributes'><svg class='icon xr-icon-file-text2'><use xlink:href='#icon-file-text2'></use></svg></label><input id='data-89c8320f-2c46-4f3a-9ff0-1eb1163c170f' class='xr-var-data-in' type='checkbox'><label for='data-89c8320f-2c46-4f3a-9ff0-1eb1163c170f' title='Show/Hide data repr'><svg class='icon xr-icon-database'><use xlink:href='#icon-database'></use></svg></label><div class='xr-var-attrs'><dl class='xr-attrs'><dt><span>axis :</span></dt><dd>Z</dd><dt><span>name :</span></dt><dd>presnivs</dd><dt><span>standard_name :</span></dt><dd>Vertical levels</dd><dt><span>units :</span></dt><dd>Pa</dd><dt><span>_ChunkSizes :</span></dt><dd>79</dd></dl></div><div class='xr-var-data'><pre>array([1.012021e+05, 1.009424e+05, 1.006534e+05, 1.003319e+05, 9.997420e+04,\n",
       "       9.957655e+04, 9.913467e+04, 9.864384e+04, 9.809898e+04, 9.749448e+04,\n",
       "       9.682430e+04, 9.608191e+04, 9.526024e+04, 9.435173e+04, 9.334834e+04,\n",
       "       9.224155e+04, 9.102246e+04, 8.968182e+04, 8.821020e+04, 8.659811e+04,\n",
       "       8.483623e+04, 8.291569e+04, 8.082840e+04, 7.856748e+04, 7.612779e+04,\n",
       "       7.350645e+04, 7.070354e+04, 6.772281e+04, 6.457239e+04, 6.126538e+04,\n",
       "       5.782047e+04, 5.426217e+04, 5.062074e+04, 4.693169e+04, 4.323469e+04,\n",
       "       3.957199e+04, 3.598637e+04, 3.251885e+04, 2.920636e+04, 2.607983e+04,\n",
       "       2.316271e+04, 2.047042e+04, 1.801036e+04, 1.578271e+04, 1.378158e+04,\n",
       "       1.199642e+04, 1.041344e+04, 9.016865e+03, 7.790020e+03, 6.716147e+03,\n",
       "       5.778999e+03, 4.963233e+03, 4.254644e+03, 3.640276e+03, 3.108450e+03,\n",
       "       2.648733e+03, 2.251867e+03, 1.909687e+03, 1.615018e+03, 1.361581e+03,\n",
       "       1.143891e+03, 9.571722e+02, 7.972696e+02, 6.605754e+02, 5.439607e+02,\n",
       "       4.447146e+02, 3.604912e+02, 2.892627e+02, 2.292787e+02, 1.790303e+02,\n",
       "       1.372198e+02, 1.027344e+02, 7.462312e+01, 5.207758e+01, 3.441441e+01,\n",
       "       2.105668e+01, 1.150741e+01, 5.296797e+00, 1.483435e+00], dtype=float32)</pre></div></li><li class='xr-var-item'><div class='xr-var-name'><span>time_centered</span></div><div class='xr-var-dims'>(time_counter)</div><div class='xr-var-dtype'>datetime64[ns]</div><div class='xr-var-preview xr-preview'>...</div><input id='attrs-fa9130f3-5580-4d3e-ba3e-336b6e9a616f' class='xr-var-attrs-in' type='checkbox' ><label for='attrs-fa9130f3-5580-4d3e-ba3e-336b6e9a616f' title='Show/Hide attributes'><svg class='icon xr-icon-file-text2'><use xlink:href='#icon-file-text2'></use></svg></label><input id='data-5ba0f0ca-0f94-459c-a6ae-2a3d0b7598cf' class='xr-var-data-in' type='checkbox'><label for='data-5ba0f0ca-0f94-459c-a6ae-2a3d0b7598cf' title='Show/Hide data repr'><svg class='icon xr-icon-database'><use xlink:href='#icon-database'></use></svg></label><div class='xr-var-attrs'><dl class='xr-attrs'><dt><span>time_origin :</span></dt><dd>1979-01-01 00:00:00</dd><dt><span>bounds :</span></dt><dd>time_centered_bounds</dd><dt><span>standard_name :</span></dt><dd>time</dd><dt><span>long_name :</span></dt><dd>Time axis</dd><dt><span>_ChunkSizes :</span></dt><dd>1</dd></dl></div><div class='xr-var-data'><pre>[24 values with dtype=datetime64[ns]]</pre></div></li><li class='xr-var-item'><div class='xr-var-name'><span class='xr-has-index'>time_counter</span></div><div class='xr-var-dims'>(time_counter)</div><div class='xr-var-dtype'>datetime64[ns]</div><div class='xr-var-preview xr-preview'>1979-01-01T00:30:00 ... 1979-01-...</div><input id='attrs-50d55ed1-71fd-4178-871e-2522e7486eb5' class='xr-var-attrs-in' type='checkbox' ><label for='attrs-50d55ed1-71fd-4178-871e-2522e7486eb5' title='Show/Hide attributes'><svg class='icon xr-icon-file-text2'><use xlink:href='#icon-file-text2'></use></svg></label><input id='data-3791591f-7b5d-4361-8d67-6c2634c15580' class='xr-var-data-in' type='checkbox'><label for='data-3791591f-7b5d-4361-8d67-6c2634c15580' title='Show/Hide data repr'><svg class='icon xr-icon-database'><use xlink:href='#icon-database'></use></svg></label><div class='xr-var-attrs'><dl class='xr-attrs'><dt><span>axis :</span></dt><dd>T</dd><dt><span>standard_name :</span></dt><dd>time</dd><dt><span>long_name :</span></dt><dd>Time axis</dd><dt><span>time_origin :</span></dt><dd>1979-01-01 00:00:00</dd><dt><span>bounds :</span></dt><dd>time_counter_bounds</dd><dt><span>_ChunkSizes :</span></dt><dd>1</dd></dl></div><div class='xr-var-data'><pre>array([&#x27;1979-01-01T00:30:00.000000000&#x27;, &#x27;1979-01-01T01:30:00.000000000&#x27;,\n",
       "       &#x27;1979-01-01T02:30:00.000000000&#x27;, &#x27;1979-01-01T03:30:00.000000000&#x27;,\n",
       "       &#x27;1979-01-01T04:30:00.000000000&#x27;, &#x27;1979-01-01T05:30:00.000000000&#x27;,\n",
       "       &#x27;1979-01-01T06:30:00.000000000&#x27;, &#x27;1979-01-01T07:30:00.000000000&#x27;,\n",
       "       &#x27;1979-01-01T08:30:00.000000000&#x27;, &#x27;1979-01-01T09:30:00.000000000&#x27;,\n",
       "       &#x27;1979-01-01T10:30:00.000000000&#x27;, &#x27;1979-01-01T11:30:00.000000000&#x27;,\n",
       "       &#x27;1979-01-01T12:30:00.000000000&#x27;, &#x27;1979-01-01T13:30:00.000000000&#x27;,\n",
       "       &#x27;1979-01-01T14:30:00.000000000&#x27;, &#x27;1979-01-01T15:30:00.000000000&#x27;,\n",
       "       &#x27;1979-01-01T16:30:00.000000000&#x27;, &#x27;1979-01-01T17:30:00.000000000&#x27;,\n",
       "       &#x27;1979-01-01T18:30:00.000000000&#x27;, &#x27;1979-01-01T19:30:00.000000000&#x27;,\n",
       "       &#x27;1979-01-01T20:30:00.000000000&#x27;, &#x27;1979-01-01T21:30:00.000000000&#x27;,\n",
       "       &#x27;1979-01-01T22:30:00.000000000&#x27;, &#x27;1979-01-01T23:30:00.000000000&#x27;],\n",
       "      dtype=&#x27;datetime64[ns]&#x27;)</pre></div></li><li class='xr-var-item'><div class='xr-var-name'><span>time_instant</span></div><div class='xr-var-dims'>(time_counter)</div><div class='xr-var-dtype'>datetime64[ns]</div><div class='xr-var-preview xr-preview'>...</div><input id='attrs-7d8739e6-105e-453f-a468-9e4a71b50f90' class='xr-var-attrs-in' type='checkbox' ><label for='attrs-7d8739e6-105e-453f-a468-9e4a71b50f90' title='Show/Hide attributes'><svg class='icon xr-icon-file-text2'><use xlink:href='#icon-file-text2'></use></svg></label><input id='data-fd4ddcdb-2ad5-43a8-9e1e-d38151c28a19' class='xr-var-data-in' type='checkbox'><label for='data-fd4ddcdb-2ad5-43a8-9e1e-d38151c28a19' title='Show/Hide data repr'><svg class='icon xr-icon-database'><use xlink:href='#icon-database'></use></svg></label><div class='xr-var-attrs'><dl class='xr-attrs'><dt><span>standard_name :</span></dt><dd>time</dd><dt><span>long_name :</span></dt><dd>Time axis</dd><dt><span>time_origin :</span></dt><dd>1979-01-01 00:00:00</dd><dt><span>bounds :</span></dt><dd>time_instant_bounds</dd><dt><span>_ChunkSizes :</span></dt><dd>1</dd></dl></div><div class='xr-var-data'><pre>[24 values with dtype=datetime64[ns]]</pre></div></li></ul></div></li><li class='xr-section-item'><input id='section-be0a2ad1-3649-46c7-827d-618b9681a0a1' class='xr-section-summary-in' type='checkbox'  ><label for='section-be0a2ad1-3649-46c7-827d-618b9681a0a1' class='xr-section-summary' >Data variables: <span>(29)</span></label><div class='xr-section-inline-details'></div><div class='xr-section-details'><ul class='xr-var-list'><li class='xr-var-item'><div class='xr-var-name'><span>bounds_lon</span></div><div class='xr-var-dims'>(cell, nvertex)</div><div class='xr-var-dtype'>float32</div><div class='xr-var-preview xr-preview'>...</div><input id='attrs-af3be217-0933-4319-9663-e78019b68f14' class='xr-var-attrs-in' type='checkbox' ><label for='attrs-af3be217-0933-4319-9663-e78019b68f14' title='Show/Hide attributes'><svg class='icon xr-icon-file-text2'><use xlink:href='#icon-file-text2'></use></svg></label><input id='data-d8d53d37-b974-4842-acd9-bc6f2f1fbce4' class='xr-var-data-in' type='checkbox'><label for='data-d8d53d37-b974-4842-acd9-bc6f2f1fbce4' title='Show/Hide data repr'><svg class='icon xr-icon-database'><use xlink:href='#icon-database'></use></svg></label><div class='xr-var-attrs'><dl class='xr-attrs'><dt><span>_ChunkSizes :</span></dt><dd>[16002     6]</dd></dl></div><div class='xr-var-data'><pre>[96012 values with dtype=float32]</pre></div></li><li class='xr-var-item'><div class='xr-var-name'><span>bounds_lat</span></div><div class='xr-var-dims'>(cell, nvertex)</div><div class='xr-var-dtype'>float32</div><div class='xr-var-preview xr-preview'>...</div><input id='attrs-57a7a389-e698-4ba9-b813-86724d35604d' class='xr-var-attrs-in' type='checkbox' ><label for='attrs-57a7a389-e698-4ba9-b813-86724d35604d' title='Show/Hide attributes'><svg class='icon xr-icon-file-text2'><use xlink:href='#icon-file-text2'></use></svg></label><input id='data-afa7be38-5589-4c22-bb7b-a7699775e06a' class='xr-var-data-in' type='checkbox'><label for='data-afa7be38-5589-4c22-bb7b-a7699775e06a' title='Show/Hide data repr'><svg class='icon xr-icon-database'><use xlink:href='#icon-database'></use></svg></label><div class='xr-var-attrs'><dl class='xr-attrs'><dt><span>_ChunkSizes :</span></dt><dd>[16002     6]</dd></dl></div><div class='xr-var-data'><pre>[96012 values with dtype=float32]</pre></div></li><li class='xr-var-item'><div class='xr-var-name'><span>time_centered_bounds</span></div><div class='xr-var-dims'>(time_counter, axis_nbounds)</div><div class='xr-var-dtype'>datetime64[ns]</div><div class='xr-var-preview xr-preview'>...</div><input id='attrs-5fe75115-5cbe-48a4-b6f6-2d092e995614' class='xr-var-attrs-in' type='checkbox' ><label for='attrs-5fe75115-5cbe-48a4-b6f6-2d092e995614' title='Show/Hide attributes'><svg class='icon xr-icon-file-text2'><use xlink:href='#icon-file-text2'></use></svg></label><input id='data-78886dbe-bdad-4307-817b-5960c5e813ad' class='xr-var-data-in' type='checkbox'><label for='data-78886dbe-bdad-4307-817b-5960c5e813ad' title='Show/Hide data repr'><svg class='icon xr-icon-database'><use xlink:href='#icon-database'></use></svg></label><div class='xr-var-attrs'><dl class='xr-attrs'><dt><span>_ChunkSizes :</span></dt><dd>[1 2]</dd></dl></div><div class='xr-var-data'><pre>[48 values with dtype=datetime64[ns]]</pre></div></li><li class='xr-var-item'><div class='xr-var-name'><span>time_counter_bounds</span></div><div class='xr-var-dims'>(time_counter, axis_nbounds)</div><div class='xr-var-dtype'>datetime64[ns]</div><div class='xr-var-preview xr-preview'>...</div><input id='attrs-a76ac799-a7a2-44cb-9563-74cafb821e63' class='xr-var-attrs-in' type='checkbox' ><label for='attrs-a76ac799-a7a2-44cb-9563-74cafb821e63' title='Show/Hide attributes'><svg class='icon xr-icon-file-text2'><use xlink:href='#icon-file-text2'></use></svg></label><input id='data-87aaaa9a-1c7e-41b2-9ec2-eab70c9049f3' class='xr-var-data-in' type='checkbox'><label for='data-87aaaa9a-1c7e-41b2-9ec2-eab70c9049f3' title='Show/Hide data repr'><svg class='icon xr-icon-database'><use xlink:href='#icon-database'></use></svg></label><div class='xr-var-attrs'><dl class='xr-attrs'><dt><span>_ChunkSizes :</span></dt><dd>[1 2]</dd></dl></div><div class='xr-var-data'><pre>[48 values with dtype=datetime64[ns]]</pre></div></li><li class='xr-var-item'><div class='xr-var-name'><span>time_instant_bounds</span></div><div class='xr-var-dims'>(time_counter, axis_nbounds)</div><div class='xr-var-dtype'>datetime64[ns]</div><div class='xr-var-preview xr-preview'>...</div><input id='attrs-62d913ca-79fe-4bca-877d-3c1584710b38' class='xr-var-attrs-in' type='checkbox' ><label for='attrs-62d913ca-79fe-4bca-877d-3c1584710b38' title='Show/Hide attributes'><svg class='icon xr-icon-file-text2'><use xlink:href='#icon-file-text2'></use></svg></label><input id='data-f467b81b-e222-449c-86af-629c2b012baa' class='xr-var-data-in' type='checkbox'><label for='data-f467b81b-e222-449c-86af-629c2b012baa' title='Show/Hide data repr'><svg class='icon xr-icon-database'><use xlink:href='#icon-database'></use></svg></label><div class='xr-var-attrs'><dl class='xr-attrs'><dt><span>_ChunkSizes :</span></dt><dd>[1 2]</dd></dl></div><div class='xr-var-data'><pre>[48 values with dtype=datetime64[ns]]</pre></div></li><li class='xr-var-item'><div class='xr-var-name'><span>pmid</span></div><div class='xr-var-dims'>(time_counter, presnivs, cell)</div><div class='xr-var-dtype'>float64</div><div class='xr-var-preview xr-preview'>...</div><input id='attrs-c15eaffa-72a0-430e-82f4-9b9d6ea74392' class='xr-var-attrs-in' type='checkbox' ><label for='attrs-c15eaffa-72a0-430e-82f4-9b9d6ea74392' title='Show/Hide attributes'><svg class='icon xr-icon-file-text2'><use xlink:href='#icon-file-text2'></use></svg></label><input id='data-c58b61cc-ee82-45dd-b222-ee19194bf21f' class='xr-var-data-in' type='checkbox'><label for='data-c58b61cc-ee82-45dd-b222-ee19194bf21f' title='Show/Hide data repr'><svg class='icon xr-icon-database'><use xlink:href='#icon-database'></use></svg></label><div class='xr-var-attrs'><dl class='xr-attrs'><dt><span>long_name :</span></dt><dd>mid-level air pressure</dd><dt><span>units :</span></dt><dd>Pa</dd><dt><span>online_operation :</span></dt><dd>average</dd><dt><span>interval_operation :</span></dt><dd>900 s</dd><dt><span>interval_write :</span></dt><dd>1 h</dd><dt><span>cell_methods :</span></dt><dd>time: mean (interval: 900 s)</dd><dt><span>_ChunkSizes :</span></dt><dd>[    1    79 16002]</dd></dl></div><div class='xr-var-data'><pre>[30339792 values with dtype=float64]</pre></div></li><li class='xr-var-item'><div class='xr-var-name'><span>sh</span></div><div class='xr-var-dims'>(time_counter, presnivs, cell)</div><div class='xr-var-dtype'>float64</div><div class='xr-var-preview xr-preview'>...</div><input id='attrs-3acc6956-f013-4a19-b33e-2ec62ddbb314' class='xr-var-attrs-in' type='checkbox' ><label for='attrs-3acc6956-f013-4a19-b33e-2ec62ddbb314' title='Show/Hide attributes'><svg class='icon xr-icon-file-text2'><use xlink:href='#icon-file-text2'></use></svg></label><input id='data-1ecc491d-d46a-43b2-b03e-413b43b5bdb3' class='xr-var-data-in' type='checkbox'><label for='data-1ecc491d-d46a-43b2-b03e-413b43b5bdb3' title='Show/Hide data repr'><svg class='icon xr-icon-database'><use xlink:href='#icon-database'></use></svg></label><div class='xr-var-attrs'><dl class='xr-attrs'><dt><span>long_name :</span></dt><dd>water Mass Mixing Ratio</dd><dt><span>units :</span></dt><dd>kg kg-1</dd><dt><span>online_operation :</span></dt><dd>average</dd><dt><span>interval_operation :</span></dt><dd>900 s</dd><dt><span>interval_write :</span></dt><dd>1 h</dd><dt><span>cell_methods :</span></dt><dd>time: mean (interval: 900 s)</dd><dt><span>_ChunkSizes :</span></dt><dd>[    1    79 16002]</dd></dl></div><div class='xr-var-data'><pre>[30339792 values with dtype=float64]</pre></div></li><li class='xr-var-item'><div class='xr-var-name'><span>pdel</span></div><div class='xr-var-dims'>(time_counter, presnivs, cell)</div><div class='xr-var-dtype'>float64</div><div class='xr-var-preview xr-preview'>...</div><input id='attrs-e1c7e830-e976-42af-ae86-3d9d52d9b92b' class='xr-var-attrs-in' type='checkbox' ><label for='attrs-e1c7e830-e976-42af-ae86-3d9d52d9b92b' title='Show/Hide attributes'><svg class='icon xr-icon-file-text2'><use xlink:href='#icon-file-text2'></use></svg></label><input id='data-76eda5a8-2c42-4036-9d2d-841539cddfc2' class='xr-var-data-in' type='checkbox'><label for='data-76eda5a8-2c42-4036-9d2d-841539cddfc2' title='Show/Hide data repr'><svg class='icon xr-icon-database'><use xlink:href='#icon-database'></use></svg></label><div class='xr-var-attrs'><dl class='xr-attrs'><dt><span>long_name :</span></dt><dd>pressure difference model level</dd><dt><span>units :</span></dt><dd>K</dd><dt><span>online_operation :</span></dt><dd>average</dd><dt><span>interval_operation :</span></dt><dd>900 s</dd><dt><span>interval_write :</span></dt><dd>1 h</dd><dt><span>cell_methods :</span></dt><dd>time: mean (interval: 900 s)</dd><dt><span>_ChunkSizes :</span></dt><dd>[    1    79 16002]</dd></dl></div><div class='xr-var-data'><pre>[30339792 values with dtype=float64]</pre></div></li><li class='xr-var-item'><div class='xr-var-name'><span>zdens</span></div><div class='xr-var-dims'>(time_counter, presnivs, cell)</div><div class='xr-var-dtype'>float64</div><div class='xr-var-preview xr-preview'>...</div><input id='attrs-0b70a323-ae2a-4547-b09d-3a01b0bc4880' class='xr-var-attrs-in' type='checkbox' ><label for='attrs-0b70a323-ae2a-4547-b09d-3a01b0bc4880' title='Show/Hide attributes'><svg class='icon xr-icon-file-text2'><use xlink:href='#icon-file-text2'></use></svg></label><input id='data-af7971d9-4306-4c34-8483-0162bb457dee' class='xr-var-data-in' type='checkbox'><label for='data-af7971d9-4306-4c34-8483-0162bb457dee' title='Show/Hide data repr'><svg class='icon xr-icon-database'><use xlink:href='#icon-database'></use></svg></label><div class='xr-var-attrs'><dl class='xr-attrs'><dt><span>long_name :</span></dt><dd>masse volumique</dd><dt><span>units :</span></dt><dd>?</dd><dt><span>online_operation :</span></dt><dd>average</dd><dt><span>interval_operation :</span></dt><dd>900 s</dd><dt><span>interval_write :</span></dt><dd>1 h</dd><dt><span>cell_methods :</span></dt><dd>time: mean (interval: 900 s)</dd><dt><span>_ChunkSizes :</span></dt><dd>[    1    79 16002]</dd></dl></div><div class='xr-var-data'><pre>[30339792 values with dtype=float64]</pre></div></li><li class='xr-var-item'><div class='xr-var-name'><span>temp</span></div><div class='xr-var-dims'>(time_counter, presnivs, cell)</div><div class='xr-var-dtype'>float64</div><div class='xr-var-preview xr-preview'>...</div><input id='attrs-aa0caafe-927f-411b-af7e-efe2fd312f49' class='xr-var-attrs-in' type='checkbox' ><label for='attrs-aa0caafe-927f-411b-af7e-efe2fd312f49' title='Show/Hide attributes'><svg class='icon xr-icon-file-text2'><use xlink:href='#icon-file-text2'></use></svg></label><input id='data-f5940f28-e3ad-4c41-adb7-a7088c28af50' class='xr-var-data-in' type='checkbox'><label for='data-f5940f28-e3ad-4c41-adb7-a7088c28af50' title='Show/Hide data repr'><svg class='icon xr-icon-database'><use xlink:href='#icon-database'></use></svg></label><div class='xr-var-attrs'><dl class='xr-attrs'><dt><span>long_name :</span></dt><dd>temperature model level</dd><dt><span>units :</span></dt><dd>K</dd><dt><span>online_operation :</span></dt><dd>average</dd><dt><span>interval_operation :</span></dt><dd>900 s</dd><dt><span>interval_write :</span></dt><dd>1 h</dd><dt><span>cell_methods :</span></dt><dd>time: mean (interval: 900 s)</dd><dt><span>_ChunkSizes :</span></dt><dd>[    1    79 16002]</dd></dl></div><div class='xr-var-data'><pre>[30339792 values with dtype=float64]</pre></div></li><li class='xr-var-item'><div class='xr-var-name'><span>AIRMASS</span></div><div class='xr-var-dims'>(time_counter, presnivs, cell)</div><div class='xr-var-dtype'>float64</div><div class='xr-var-preview xr-preview'>...</div><input id='attrs-2f793fd8-82c9-410b-bab7-f01e20c77984' class='xr-var-attrs-in' type='checkbox' ><label for='attrs-2f793fd8-82c9-410b-bab7-f01e20c77984' title='Show/Hide attributes'><svg class='icon xr-icon-file-text2'><use xlink:href='#icon-file-text2'></use></svg></label><input id='data-3bd3c525-1a8d-4483-95ba-6b06a9afd266' class='xr-var-data-in' type='checkbox'><label for='data-3bd3c525-1a8d-4483-95ba-6b06a9afd266' title='Show/Hide data repr'><svg class='icon xr-icon-database'><use xlink:href='#icon-database'></use></svg></label><div class='xr-var-attrs'><dl class='xr-attrs'><dt><span>interval_operation :</span></dt><dd>900 s</dd><dt><span>interval_write :</span></dt><dd>1 h</dd><dt><span>cell_methods :</span></dt><dd>time: mean (interval: 900 s)</dd><dt><span>online_operation :</span></dt><dd>average</dd><dt><span>_ChunkSizes :</span></dt><dd>[    1    79 16002]</dd></dl></div><div class='xr-var-data'><pre>[30339792 values with dtype=float64]</pre></div></li><li class='xr-var-item'><div class='xr-var-name'><span>ps</span></div><div class='xr-var-dims'>(time_counter, cell)</div><div class='xr-var-dtype'>float64</div><div class='xr-var-preview xr-preview'>...</div><input id='attrs-504ea298-9276-4b42-8277-703eccdb4e9f' class='xr-var-attrs-in' type='checkbox' ><label for='attrs-504ea298-9276-4b42-8277-703eccdb4e9f' title='Show/Hide attributes'><svg class='icon xr-icon-file-text2'><use xlink:href='#icon-file-text2'></use></svg></label><input id='data-aca82137-41dc-479e-823a-40c39e516096' class='xr-var-data-in' type='checkbox'><label for='data-aca82137-41dc-479e-823a-40c39e516096' title='Show/Hide data repr'><svg class='icon xr-icon-database'><use xlink:href='#icon-database'></use></svg></label><div class='xr-var-attrs'><dl class='xr-attrs'><dt><span>long_name :</span></dt><dd>surface air pressure</dd><dt><span>units :</span></dt><dd>Pa</dd><dt><span>online_operation :</span></dt><dd>average</dd><dt><span>interval_operation :</span></dt><dd>900 s</dd><dt><span>interval_write :</span></dt><dd>1 h</dd><dt><span>cell_methods :</span></dt><dd>time: mean (interval: 900 s)</dd><dt><span>_ChunkSizes :</span></dt><dd>[    1 16002]</dd></dl></div><div class='xr-var-data'><pre>[384048 values with dtype=float64]</pre></div></li><li class='xr-var-item'><div class='xr-var-name'><span>area</span></div><div class='xr-var-dims'>(time_counter, cell)</div><div class='xr-var-dtype'>float64</div><div class='xr-var-preview xr-preview'>...</div><input id='attrs-d27e99c9-b6aa-4a13-b894-a1aea288ab84' class='xr-var-attrs-in' type='checkbox' ><label for='attrs-d27e99c9-b6aa-4a13-b894-a1aea288ab84' title='Show/Hide attributes'><svg class='icon xr-icon-file-text2'><use xlink:href='#icon-file-text2'></use></svg></label><input id='data-b3148084-bdd1-487f-b244-85df4fdd8367' class='xr-var-data-in' type='checkbox'><label for='data-b3148084-bdd1-487f-b244-85df4fdd8367' title='Show/Hide data repr'><svg class='icon xr-icon-database'><use xlink:href='#icon-database'></use></svg></label><div class='xr-var-attrs'><dl class='xr-attrs'><dt><span>long_name :</span></dt><dd>area of gridbox</dd><dt><span>units :</span></dt><dd>m2</dd><dt><span>online_operation :</span></dt><dd>instant</dd><dt><span>interval_operation :</span></dt><dd>900 s</dd><dt><span>interval_write :</span></dt><dd>1 h</dd><dt><span>cell_methods :</span></dt><dd>time: point (interval: 900 s)</dd><dt><span>_ChunkSizes :</span></dt><dd>[    1 16002]</dd></dl></div><div class='xr-var-data'><pre>[384048 values with dtype=float64]</pre></div></li><li class='xr-var-item'><div class='xr-var-name'><span>emirn222</span></div><div class='xr-var-dims'>(time_counter, cell)</div><div class='xr-var-dtype'>float64</div><div class='xr-var-preview xr-preview'>...</div><input id='attrs-b65e1849-de72-4dc6-b49a-cf0f302b8b0b' class='xr-var-attrs-in' type='checkbox' ><label for='attrs-b65e1849-de72-4dc6-b49a-cf0f302b8b0b' title='Show/Hide attributes'><svg class='icon xr-icon-file-text2'><use xlink:href='#icon-file-text2'></use></svg></label><input id='data-ed500516-acf5-4a20-a472-0385cd832a1a' class='xr-var-data-in' type='checkbox'><label for='data-ed500516-acf5-4a20-a472-0385cd832a1a' title='Show/Hide data repr'><svg class='icon xr-icon-database'><use xlink:href='#icon-database'></use></svg></label><div class='xr-var-attrs'><dl class='xr-attrs'><dt><span>long_name :</span></dt><dd>Total Emission Rate of Rn222</dd><dt><span>units :</span></dt><dd>kg m-2 s-1</dd><dt><span>online_operation :</span></dt><dd>average</dd><dt><span>interval_operation :</span></dt><dd>900 s</dd><dt><span>interval_write :</span></dt><dd>1 h</dd><dt><span>cell_methods :</span></dt><dd>time: mean (interval: 900 s)</dd><dt><span>_ChunkSizes :</span></dt><dd>[    1 16002]</dd></dl></div><div class='xr-var-data'><pre>[384048 values with dtype=float64]</pre></div></li><li class='xr-var-item'><div class='xr-var-name'><span>emipb210</span></div><div class='xr-var-dims'>(time_counter, cell)</div><div class='xr-var-dtype'>float64</div><div class='xr-var-preview xr-preview'>...</div><input id='attrs-7ffbc2fe-a6b8-4398-91f4-fa292a0235f2' class='xr-var-attrs-in' type='checkbox' ><label for='attrs-7ffbc2fe-a6b8-4398-91f4-fa292a0235f2' title='Show/Hide attributes'><svg class='icon xr-icon-file-text2'><use xlink:href='#icon-file-text2'></use></svg></label><input id='data-7162c714-c6ba-4359-ab23-c9f7961ca731' class='xr-var-data-in' type='checkbox'><label for='data-7162c714-c6ba-4359-ab23-c9f7961ca731' title='Show/Hide data repr'><svg class='icon xr-icon-database'><use xlink:href='#icon-database'></use></svg></label><div class='xr-var-attrs'><dl class='xr-attrs'><dt><span>long_name :</span></dt><dd>Total Emission Rate of Pb210</dd><dt><span>units :</span></dt><dd>kg m-2 s-1</dd><dt><span>online_operation :</span></dt><dd>average</dd><dt><span>interval_operation :</span></dt><dd>900 s</dd><dt><span>interval_write :</span></dt><dd>1 h</dd><dt><span>cell_methods :</span></dt><dd>time: mean (interval: 900 s)</dd><dt><span>_ChunkSizes :</span></dt><dd>[    1 16002]</dd></dl></div><div class='xr-var-data'><pre>[384048 values with dtype=float64]</pre></div></li><li class='xr-var-item'><div class='xr-var-name'><span>emimcf</span></div><div class='xr-var-dims'>(time_counter, cell)</div><div class='xr-var-dtype'>float64</div><div class='xr-var-preview xr-preview'>...</div><input id='attrs-9efb96bc-4ea1-4426-b535-6f79fca40b5e' class='xr-var-attrs-in' type='checkbox' ><label for='attrs-9efb96bc-4ea1-4426-b535-6f79fca40b5e' title='Show/Hide attributes'><svg class='icon xr-icon-file-text2'><use xlink:href='#icon-file-text2'></use></svg></label><input id='data-f5ae37a0-dbbc-4b0d-8116-04aee882dd63' class='xr-var-data-in' type='checkbox'><label for='data-f5ae37a0-dbbc-4b0d-8116-04aee882dd63' title='Show/Hide data repr'><svg class='icon xr-icon-database'><use xlink:href='#icon-database'></use></svg></label><div class='xr-var-attrs'><dl class='xr-attrs'><dt><span>long_name :</span></dt><dd>Total Emission Rate of MCF</dd><dt><span>units :</span></dt><dd>kg m-2 s-1</dd><dt><span>online_operation :</span></dt><dd>average</dd><dt><span>interval_operation :</span></dt><dd>900 s</dd><dt><span>interval_write :</span></dt><dd>1 h</dd><dt><span>cell_methods :</span></dt><dd>time: mean (interval: 900 s)</dd><dt><span>_ChunkSizes :</span></dt><dd>[    1 16002]</dd></dl></div><div class='xr-var-data'><pre>[384048 values with dtype=float64]</pre></div></li><li class='xr-var-item'><div class='xr-var-name'><span>emibe7</span></div><div class='xr-var-dims'>(time_counter, cell)</div><div class='xr-var-dtype'>float64</div><div class='xr-var-preview xr-preview'>...</div><input id='attrs-1704b872-1332-4b94-b5fe-b666130d3eed' class='xr-var-attrs-in' type='checkbox' ><label for='attrs-1704b872-1332-4b94-b5fe-b666130d3eed' title='Show/Hide attributes'><svg class='icon xr-icon-file-text2'><use xlink:href='#icon-file-text2'></use></svg></label><input id='data-bfefc1ac-3d38-4dd6-8d75-edcc1936d4e7' class='xr-var-data-in' type='checkbox'><label for='data-bfefc1ac-3d38-4dd6-8d75-edcc1936d4e7' title='Show/Hide data repr'><svg class='icon xr-icon-database'><use xlink:href='#icon-database'></use></svg></label><div class='xr-var-attrs'><dl class='xr-attrs'><dt><span>long_name :</span></dt><dd>Total Emission Rate of Be7</dd><dt><span>units :</span></dt><dd>kg m-2 s-1</dd><dt><span>online_operation :</span></dt><dd>average</dd><dt><span>interval_operation :</span></dt><dd>900 s</dd><dt><span>interval_write :</span></dt><dd>1 h</dd><dt><span>cell_methods :</span></dt><dd>time: mean (interval: 900 s)</dd><dt><span>_ChunkSizes :</span></dt><dd>[    1 16002]</dd></dl></div><div class='xr-var-data'><pre>[384048 values with dtype=float64]</pre></div></li><li class='xr-var-item'><div class='xr-var-name'><span>emin2o</span></div><div class='xr-var-dims'>(time_counter, cell)</div><div class='xr-var-dtype'>float64</div><div class='xr-var-preview xr-preview'>...</div><input id='attrs-1593fc09-f640-497c-920d-32c85ccc4746' class='xr-var-attrs-in' type='checkbox' ><label for='attrs-1593fc09-f640-497c-920d-32c85ccc4746' title='Show/Hide attributes'><svg class='icon xr-icon-file-text2'><use xlink:href='#icon-file-text2'></use></svg></label><input id='data-da9a732d-da63-4cad-ae2d-8fe00712cc5f' class='xr-var-data-in' type='checkbox'><label for='data-da9a732d-da63-4cad-ae2d-8fe00712cc5f' title='Show/Hide data repr'><svg class='icon xr-icon-database'><use xlink:href='#icon-database'></use></svg></label><div class='xr-var-attrs'><dl class='xr-attrs'><dt><span>long_name :</span></dt><dd>Total Emission Rate of N2O</dd><dt><span>units :</span></dt><dd>kg m-2 s-1</dd><dt><span>online_operation :</span></dt><dd>average</dd><dt><span>interval_operation :</span></dt><dd>900 s</dd><dt><span>interval_write :</span></dt><dd>1 h</dd><dt><span>cell_methods :</span></dt><dd>time: mean (interval: 900 s)</dd><dt><span>_ChunkSizes :</span></dt><dd>[    1 16002]</dd></dl></div><div class='xr-var-data'><pre>[384048 values with dtype=float64]</pre></div></li><li class='xr-var-item'><div class='xr-var-name'><span>emich4</span></div><div class='xr-var-dims'>(time_counter, cell)</div><div class='xr-var-dtype'>float64</div><div class='xr-var-preview xr-preview'>...</div><input id='attrs-0fd9cf52-0503-419a-90c0-cd0105173f47' class='xr-var-attrs-in' type='checkbox' ><label for='attrs-0fd9cf52-0503-419a-90c0-cd0105173f47' title='Show/Hide attributes'><svg class='icon xr-icon-file-text2'><use xlink:href='#icon-file-text2'></use></svg></label><input id='data-d44ff654-63b4-4fb6-b5f5-681dc47699a9' class='xr-var-data-in' type='checkbox'><label for='data-d44ff654-63b4-4fb6-b5f5-681dc47699a9' title='Show/Hide data repr'><svg class='icon xr-icon-database'><use xlink:href='#icon-database'></use></svg></label><div class='xr-var-attrs'><dl class='xr-attrs'><dt><span>long_name :</span></dt><dd>Total Emission Rate of CH4</dd><dt><span>units :</span></dt><dd>kg m-2 s-1</dd><dt><span>online_operation :</span></dt><dd>average</dd><dt><span>interval_operation :</span></dt><dd>900 s</dd><dt><span>interval_write :</span></dt><dd>1 h</dd><dt><span>cell_methods :</span></dt><dd>time: mean (interval: 900 s)</dd><dt><span>_ChunkSizes :</span></dt><dd>[    1 16002]</dd></dl></div><div class='xr-var-data'><pre>[384048 values with dtype=float64]</pre></div></li><li class='xr-var-item'><div class='xr-var-name'><span>emico</span></div><div class='xr-var-dims'>(time_counter, cell)</div><div class='xr-var-dtype'>float64</div><div class='xr-var-preview xr-preview'>...</div><input id='attrs-8d3ac8db-b02b-4afc-bea2-9f6d44800a56' class='xr-var-attrs-in' type='checkbox' ><label for='attrs-8d3ac8db-b02b-4afc-bea2-9f6d44800a56' title='Show/Hide attributes'><svg class='icon xr-icon-file-text2'><use xlink:href='#icon-file-text2'></use></svg></label><input id='data-f6083aa0-b14e-4500-83a0-b15b77227fa8' class='xr-var-data-in' type='checkbox'><label for='data-f6083aa0-b14e-4500-83a0-b15b77227fa8' title='Show/Hide data repr'><svg class='icon xr-icon-database'><use xlink:href='#icon-database'></use></svg></label><div class='xr-var-attrs'><dl class='xr-attrs'><dt><span>long_name :</span></dt><dd>Total Emission Rate of CO</dd><dt><span>units :</span></dt><dd>kg m-2 s-1</dd><dt><span>online_operation :</span></dt><dd>average</dd><dt><span>interval_operation :</span></dt><dd>900 s</dd><dt><span>interval_write :</span></dt><dd>1 h</dd><dt><span>cell_methods :</span></dt><dd>time: mean (interval: 900 s)</dd><dt><span>_ChunkSizes :</span></dt><dd>[    1 16002]</dd></dl></div><div class='xr-var-data'><pre>[384048 values with dtype=float64]</pre></div></li><li class='xr-var-item'><div class='xr-var-name'><span>emico2bih</span></div><div class='xr-var-dims'>(time_counter, cell)</div><div class='xr-var-dtype'>float64</div><div class='xr-var-preview xr-preview'>...</div><input id='attrs-836e2934-4c9b-47af-955e-953a901ae16a' class='xr-var-attrs-in' type='checkbox' ><label for='attrs-836e2934-4c9b-47af-955e-953a901ae16a' title='Show/Hide attributes'><svg class='icon xr-icon-file-text2'><use xlink:href='#icon-file-text2'></use></svg></label><input id='data-e0bd98d1-9b33-4cce-a042-e96e0d762fab' class='xr-var-data-in' type='checkbox'><label for='data-e0bd98d1-9b33-4cce-a042-e96e0d762fab' title='Show/Hide data repr'><svg class='icon xr-icon-database'><use xlink:href='#icon-database'></use></svg></label><div class='xr-var-attrs'><dl class='xr-attrs'><dt><span>long_name :</span></dt><dd>Total Emission Rate of CO2BIH</dd><dt><span>units :</span></dt><dd>kg m-2 s-1</dd><dt><span>online_operation :</span></dt><dd>average</dd><dt><span>interval_operation :</span></dt><dd>900 s</dd><dt><span>interval_write :</span></dt><dd>1 h</dd><dt><span>cell_methods :</span></dt><dd>time: mean (interval: 900 s)</dd><dt><span>_ChunkSizes :</span></dt><dd>[    1 16002]</dd></dl></div><div class='xr-var-data'><pre>[384048 values with dtype=float64]</pre></div></li><li class='xr-var-item'><div class='xr-var-name'><span>vmrrn222</span></div><div class='xr-var-dims'>(time_counter, presnivs, cell)</div><div class='xr-var-dtype'>float64</div><div class='xr-var-preview xr-preview'>...</div><input id='attrs-e93dad69-a620-4df1-9f99-659dd549bf4c' class='xr-var-attrs-in' type='checkbox' ><label for='attrs-e93dad69-a620-4df1-9f99-659dd549bf4c' title='Show/Hide attributes'><svg class='icon xr-icon-file-text2'><use xlink:href='#icon-file-text2'></use></svg></label><input id='data-66995d15-9151-457f-81d8-2f7a731f35b8' class='xr-var-data-in' type='checkbox'><label for='data-66995d15-9151-457f-81d8-2f7a731f35b8' title='Show/Hide data repr'><svg class='icon xr-icon-database'><use xlink:href='#icon-database'></use></svg></label><div class='xr-var-attrs'><dl class='xr-attrs'><dt><span>long_name :</span></dt><dd>Rn222 Volume Mixing Ratio</dd><dt><span>units :</span></dt><dd>mol mol-1</dd><dt><span>online_operation :</span></dt><dd>average</dd><dt><span>interval_operation :</span></dt><dd>900 s</dd><dt><span>interval_write :</span></dt><dd>1 h</dd><dt><span>cell_methods :</span></dt><dd>time: mean (interval: 900 s)</dd><dt><span>_ChunkSizes :</span></dt><dd>[    1    79 16002]</dd></dl></div><div class='xr-var-data'><pre>[30339792 values with dtype=float64]</pre></div></li><li class='xr-var-item'><div class='xr-var-name'><span>vmrpb210</span></div><div class='xr-var-dims'>(time_counter, presnivs, cell)</div><div class='xr-var-dtype'>float64</div><div class='xr-var-preview xr-preview'>...</div><input id='attrs-c9a4fc1f-91f1-4b05-acc9-c917e5e159ca' class='xr-var-attrs-in' type='checkbox' ><label for='attrs-c9a4fc1f-91f1-4b05-acc9-c917e5e159ca' title='Show/Hide attributes'><svg class='icon xr-icon-file-text2'><use xlink:href='#icon-file-text2'></use></svg></label><input id='data-a5325af3-31d8-43f7-86fa-d32b93a63cf0' class='xr-var-data-in' type='checkbox'><label for='data-a5325af3-31d8-43f7-86fa-d32b93a63cf0' title='Show/Hide data repr'><svg class='icon xr-icon-database'><use xlink:href='#icon-database'></use></svg></label><div class='xr-var-attrs'><dl class='xr-attrs'><dt><span>long_name :</span></dt><dd>Pb210 Volume Mixing Ratio</dd><dt><span>units :</span></dt><dd>mol mol-1</dd><dt><span>online_operation :</span></dt><dd>average</dd><dt><span>interval_operation :</span></dt><dd>900 s</dd><dt><span>interval_write :</span></dt><dd>1 h</dd><dt><span>cell_methods :</span></dt><dd>time: mean (interval: 900 s)</dd><dt><span>_ChunkSizes :</span></dt><dd>[    1    79 16002]</dd></dl></div><div class='xr-var-data'><pre>[30339792 values with dtype=float64]</pre></div></li><li class='xr-var-item'><div class='xr-var-name'><span>vmrmcf</span></div><div class='xr-var-dims'>(time_counter, presnivs, cell)</div><div class='xr-var-dtype'>float64</div><div class='xr-var-preview xr-preview'>...</div><input id='attrs-13d6550c-5029-4d14-9738-f7ef819a31d6' class='xr-var-attrs-in' type='checkbox' ><label for='attrs-13d6550c-5029-4d14-9738-f7ef819a31d6' title='Show/Hide attributes'><svg class='icon xr-icon-file-text2'><use xlink:href='#icon-file-text2'></use></svg></label><input id='data-21b73d13-667d-4339-9a71-ecf971418f23' class='xr-var-data-in' type='checkbox'><label for='data-21b73d13-667d-4339-9a71-ecf971418f23' title='Show/Hide data repr'><svg class='icon xr-icon-database'><use xlink:href='#icon-database'></use></svg></label><div class='xr-var-attrs'><dl class='xr-attrs'><dt><span>long_name :</span></dt><dd>MCF Volume Mixing Ratio</dd><dt><span>units :</span></dt><dd>mol mol-1</dd><dt><span>online_operation :</span></dt><dd>average</dd><dt><span>interval_operation :</span></dt><dd>900 s</dd><dt><span>interval_write :</span></dt><dd>1 h</dd><dt><span>cell_methods :</span></dt><dd>time: mean (interval: 900 s)</dd><dt><span>_ChunkSizes :</span></dt><dd>[    1    79 16002]</dd></dl></div><div class='xr-var-data'><pre>[30339792 values with dtype=float64]</pre></div></li><li class='xr-var-item'><div class='xr-var-name'><span>vmrbe7</span></div><div class='xr-var-dims'>(time_counter, presnivs, cell)</div><div class='xr-var-dtype'>float64</div><div class='xr-var-preview xr-preview'>...</div><input id='attrs-1fe522f0-9edc-41d0-adfb-efb6d3eb99d7' class='xr-var-attrs-in' type='checkbox' ><label for='attrs-1fe522f0-9edc-41d0-adfb-efb6d3eb99d7' title='Show/Hide attributes'><svg class='icon xr-icon-file-text2'><use xlink:href='#icon-file-text2'></use></svg></label><input id='data-62ea9ced-1443-4f77-8bcb-25ed47ff42ac' class='xr-var-data-in' type='checkbox'><label for='data-62ea9ced-1443-4f77-8bcb-25ed47ff42ac' title='Show/Hide data repr'><svg class='icon xr-icon-database'><use xlink:href='#icon-database'></use></svg></label><div class='xr-var-attrs'><dl class='xr-attrs'><dt><span>long_name :</span></dt><dd>Be7 Volume Mixing Ratio</dd><dt><span>units :</span></dt><dd>mol mol-1</dd><dt><span>online_operation :</span></dt><dd>average</dd><dt><span>interval_operation :</span></dt><dd>900 s</dd><dt><span>interval_write :</span></dt><dd>1 h</dd><dt><span>cell_methods :</span></dt><dd>time: mean (interval: 900 s)</dd><dt><span>_ChunkSizes :</span></dt><dd>[    1    79 16002]</dd></dl></div><div class='xr-var-data'><pre>[30339792 values with dtype=float64]</pre></div></li><li class='xr-var-item'><div class='xr-var-name'><span>vmrn2o</span></div><div class='xr-var-dims'>(time_counter, presnivs, cell)</div><div class='xr-var-dtype'>float64</div><div class='xr-var-preview xr-preview'>...</div><input id='attrs-74c78252-e80c-480f-ad53-50e43f42b6c2' class='xr-var-attrs-in' type='checkbox' ><label for='attrs-74c78252-e80c-480f-ad53-50e43f42b6c2' title='Show/Hide attributes'><svg class='icon xr-icon-file-text2'><use xlink:href='#icon-file-text2'></use></svg></label><input id='data-406186d9-34b6-4a4c-8535-b8302f9b5c2a' class='xr-var-data-in' type='checkbox'><label for='data-406186d9-34b6-4a4c-8535-b8302f9b5c2a' title='Show/Hide data repr'><svg class='icon xr-icon-database'><use xlink:href='#icon-database'></use></svg></label><div class='xr-var-attrs'><dl class='xr-attrs'><dt><span>long_name :</span></dt><dd>N2O Volume Mixing Ratio</dd><dt><span>units :</span></dt><dd>mol mol-1</dd><dt><span>online_operation :</span></dt><dd>average</dd><dt><span>interval_operation :</span></dt><dd>900 s</dd><dt><span>interval_write :</span></dt><dd>1 h</dd><dt><span>cell_methods :</span></dt><dd>time: mean (interval: 900 s)</dd><dt><span>_ChunkSizes :</span></dt><dd>[    1    79 16002]</dd></dl></div><div class='xr-var-data'><pre>[30339792 values with dtype=float64]</pre></div></li><li class='xr-var-item'><div class='xr-var-name'><span>vmrch4</span></div><div class='xr-var-dims'>(time_counter, presnivs, cell)</div><div class='xr-var-dtype'>float64</div><div class='xr-var-preview xr-preview'>...</div><input id='attrs-85100373-f259-4e9f-ae31-ab870dfb9faf' class='xr-var-attrs-in' type='checkbox' ><label for='attrs-85100373-f259-4e9f-ae31-ab870dfb9faf' title='Show/Hide attributes'><svg class='icon xr-icon-file-text2'><use xlink:href='#icon-file-text2'></use></svg></label><input id='data-7d55c2e5-bf43-49ea-b4a0-b30e5745aedd' class='xr-var-data-in' type='checkbox'><label for='data-7d55c2e5-bf43-49ea-b4a0-b30e5745aedd' title='Show/Hide data repr'><svg class='icon xr-icon-database'><use xlink:href='#icon-database'></use></svg></label><div class='xr-var-attrs'><dl class='xr-attrs'><dt><span>long_name :</span></dt><dd>CH4 Volume Mixing Ratio</dd><dt><span>units :</span></dt><dd>mol mol-1</dd><dt><span>online_operation :</span></dt><dd>average</dd><dt><span>interval_operation :</span></dt><dd>900 s</dd><dt><span>interval_write :</span></dt><dd>1 h</dd><dt><span>cell_methods :</span></dt><dd>time: mean (interval: 900 s)</dd><dt><span>_ChunkSizes :</span></dt><dd>[    1    79 16002]</dd></dl></div><div class='xr-var-data'><pre>[30339792 values with dtype=float64]</pre></div></li><li class='xr-var-item'><div class='xr-var-name'><span>vmrco</span></div><div class='xr-var-dims'>(time_counter, presnivs, cell)</div><div class='xr-var-dtype'>float64</div><div class='xr-var-preview xr-preview'>...</div><input id='attrs-f912a713-3a2e-4d9d-b7ea-62a7cdb8b756' class='xr-var-attrs-in' type='checkbox' ><label for='attrs-f912a713-3a2e-4d9d-b7ea-62a7cdb8b756' title='Show/Hide attributes'><svg class='icon xr-icon-file-text2'><use xlink:href='#icon-file-text2'></use></svg></label><input id='data-e1edb0ae-3200-46f5-84b3-2f72d6f5b104' class='xr-var-data-in' type='checkbox'><label for='data-e1edb0ae-3200-46f5-84b3-2f72d6f5b104' title='Show/Hide data repr'><svg class='icon xr-icon-database'><use xlink:href='#icon-database'></use></svg></label><div class='xr-var-attrs'><dl class='xr-attrs'><dt><span>long_name :</span></dt><dd>CO Volume Mixing Ratio</dd><dt><span>units :</span></dt><dd>mol mol-1</dd><dt><span>online_operation :</span></dt><dd>average</dd><dt><span>interval_operation :</span></dt><dd>900 s</dd><dt><span>interval_write :</span></dt><dd>1 h</dd><dt><span>cell_methods :</span></dt><dd>time: mean (interval: 900 s)</dd><dt><span>_ChunkSizes :</span></dt><dd>[    1    79 16002]</dd></dl></div><div class='xr-var-data'><pre>[30339792 values with dtype=float64]</pre></div></li><li class='xr-var-item'><div class='xr-var-name'><span>vmrco2bih</span></div><div class='xr-var-dims'>(time_counter, presnivs, cell)</div><div class='xr-var-dtype'>float64</div><div class='xr-var-preview xr-preview'>...</div><input id='attrs-611cc758-7ea0-43be-b2dd-7d5089ddc4e8' class='xr-var-attrs-in' type='checkbox' ><label for='attrs-611cc758-7ea0-43be-b2dd-7d5089ddc4e8' title='Show/Hide attributes'><svg class='icon xr-icon-file-text2'><use xlink:href='#icon-file-text2'></use></svg></label><input id='data-0605dca5-3e84-46a9-aef6-fe4353ea7da7' class='xr-var-data-in' type='checkbox'><label for='data-0605dca5-3e84-46a9-aef6-fe4353ea7da7' title='Show/Hide data repr'><svg class='icon xr-icon-database'><use xlink:href='#icon-database'></use></svg></label><div class='xr-var-attrs'><dl class='xr-attrs'><dt><span>long_name :</span></dt><dd>CO2BIH Volume Mixing Ratio</dd><dt><span>units :</span></dt><dd>mol mol-1</dd><dt><span>online_operation :</span></dt><dd>average</dd><dt><span>interval_operation :</span></dt><dd>900 s</dd><dt><span>interval_write :</span></dt><dd>1 h</dd><dt><span>cell_methods :</span></dt><dd>time: mean (interval: 900 s)</dd><dt><span>_ChunkSizes :</span></dt><dd>[    1    79 16002]</dd></dl></div><div class='xr-var-data'><pre>[30339792 values with dtype=float64]</pre></div></li></ul></div></li><li class='xr-section-item'><input id='section-59105dd7-5e6f-40f1-b826-ca72eab8a747' class='xr-section-summary-in' type='checkbox'  ><label for='section-59105dd7-5e6f-40f1-b826-ca72eab8a747' class='xr-section-summary' >Indexes: <span>(2)</span></label><div class='xr-section-inline-details'></div><div class='xr-section-details'><ul class='xr-var-list'><li class='xr-var-item'><div class='xr-index-name'><div>presnivs</div></div><div class='xr-index-preview'>PandasIndex</div><div></div><input id='index-9f16c17a-8b44-45a8-b73f-7f99a6b4a6b7' class='xr-index-data-in' type='checkbox'/><label for='index-9f16c17a-8b44-45a8-b73f-7f99a6b4a6b7' title='Show/Hide index repr'><svg class='icon xr-icon-database'><use xlink:href='#icon-database'></use></svg></label><div class='xr-index-data'><pre>PandasIndex(Float64Index([     101202.109375,     100942.4296875,     100653.4140625,\n",
       "                  100331.8515625,      99974.1953125,      99576.5546875,\n",
       "                    99134.671875,        98643.84375,      98098.9765625,\n",
       "                   97494.4765625,      96824.3046875,      96081.9140625,\n",
       "                   95260.2421875,       94351.734375,      93348.3359375,\n",
       "                   92241.5546875,      91022.4609375,      89681.8203125,\n",
       "                    88210.203125,       86598.109375,      84836.2265625,\n",
       "                      82915.6875,      80828.3984375,       78567.484375,\n",
       "                   76127.7890625,      73506.4453125,      70703.5390625,\n",
       "                      67722.8125,     64572.38671875,     61265.37890625,\n",
       "                     57820.46875,     54262.16796875,      50620.7421875,\n",
       "                      46931.6875,         43234.6875,     39571.98828125,\n",
       "                  35986.37109375,     32518.84765625,     29206.36328125,\n",
       "                 26079.826171875,    23162.712890625,    20470.419921875,\n",
       "                 18010.361328125,   15782.7099609375,   13781.5791015625,\n",
       "                    11996.421875,   10413.4404296875,     9016.865234375,\n",
       "                7790.02001953125,   6716.14697265625,    5778.9990234375,\n",
       "                4963.23291015625,    4254.6435546875,   3640.27587890625,\n",
       "                 3108.4501953125,  2648.732666015625,  2251.866943359375,\n",
       "               1909.686767578125,   1615.01806640625, 1361.5806884765625,\n",
       "              1143.8909912109375,  957.1721801757812,  797.2695922851562,\n",
       "                660.575439453125,   543.960693359375,  444.7145690917969,\n",
       "               360.4911804199219,     289.2626953125, 229.27865600585938,\n",
       "                  179.0302734375,  137.2198486328125, 102.73442840576172,\n",
       "               74.62312316894531, 52.077579498291016, 34.414405822753906,\n",
       "              21.056676864624023, 11.507408142089844,  5.296796798706055,\n",
       "              1.4834349155426025],\n",
       "             dtype=&#x27;float64&#x27;, name=&#x27;presnivs&#x27;))</pre></div></li><li class='xr-var-item'><div class='xr-index-name'><div>time_counter</div></div><div class='xr-index-preview'>PandasIndex</div><div></div><input id='index-a385d8d9-e4df-4367-85c3-bde954057a58' class='xr-index-data-in' type='checkbox'/><label for='index-a385d8d9-e4df-4367-85c3-bde954057a58' title='Show/Hide index repr'><svg class='icon xr-icon-database'><use xlink:href='#icon-database'></use></svg></label><div class='xr-index-data'><pre>PandasIndex(DatetimeIndex([&#x27;1979-01-01 00:30:00&#x27;, &#x27;1979-01-01 01:30:00&#x27;,\n",
       "               &#x27;1979-01-01 02:30:00&#x27;, &#x27;1979-01-01 03:30:00&#x27;,\n",
       "               &#x27;1979-01-01 04:30:00&#x27;, &#x27;1979-01-01 05:30:00&#x27;,\n",
       "               &#x27;1979-01-01 06:30:00&#x27;, &#x27;1979-01-01 07:30:00&#x27;,\n",
       "               &#x27;1979-01-01 08:30:00&#x27;, &#x27;1979-01-01 09:30:00&#x27;,\n",
       "               &#x27;1979-01-01 10:30:00&#x27;, &#x27;1979-01-01 11:30:00&#x27;,\n",
       "               &#x27;1979-01-01 12:30:00&#x27;, &#x27;1979-01-01 13:30:00&#x27;,\n",
       "               &#x27;1979-01-01 14:30:00&#x27;, &#x27;1979-01-01 15:30:00&#x27;,\n",
       "               &#x27;1979-01-01 16:30:00&#x27;, &#x27;1979-01-01 17:30:00&#x27;,\n",
       "               &#x27;1979-01-01 18:30:00&#x27;, &#x27;1979-01-01 19:30:00&#x27;,\n",
       "               &#x27;1979-01-01 20:30:00&#x27;, &#x27;1979-01-01 21:30:00&#x27;,\n",
       "               &#x27;1979-01-01 22:30:00&#x27;, &#x27;1979-01-01 23:30:00&#x27;],\n",
       "              dtype=&#x27;datetime64[ns]&#x27;, name=&#x27;time_counter&#x27;, freq=None))</pre></div></li></ul></div></li><li class='xr-section-item'><input id='section-6e02346b-d689-479f-ad87-04010c2cd218' class='xr-section-summary-in' type='checkbox'  ><label for='section-6e02346b-d689-479f-ad87-04010c2cd218' class='xr-section-summary' >Attributes: <span>(10)</span></label><div class='xr-section-inline-details'></div><div class='xr-section-details'><dl class='xr-attrs'><dt><span>_NCProperties :</span></dt><dd>version=1|netcdflibversion=4.6.0|hdf5libversion=1.8.20</dd><dt><span>name :</span></dt><dd>inca1d_ges</dd><dt><span>description :</span></dt><dd>Created by xios</dd><dt><span>title :</span></dt><dd>Created by xios</dd><dt><span>Conventions :</span></dt><dd>CF-1.6</dd><dt><span>timeStamp :</span></dt><dd>2022-Apr-05 08:59:15 GMT</dd><dt><span>uuid :</span></dt><dd>8982bdb7-b650-45c4-896c-e228bec0cb5a</dd><dt><span>history :</span></dt><dd>Fri Apr 15 12:05:37 2022: ncatted -O -a axis,presnivs,o,c,Z ICO.79.1jour.native.1_19790101_19790101_1D_inca_ges.nc</dd><dt><span>NCO :</span></dt><dd>4.6.9</dd><dt><span>DODS_EXTRA.Unlimited_Dimension :</span></dt><dd>time_counter</dd></dl></div></li></ul></div></div>"
      ],
      "text/plain": [
       "<xarray.Dataset>\n",
       "Dimensions:               (cell: 16002, nvertex: 6, presnivs: 79,\n",
       "                           time_counter: 24, axis_nbounds: 2)\n",
       "Coordinates:\n",
       "    lat                   (cell) float32 ...\n",
       "    lon                   (cell) float32 ...\n",
       "  * presnivs              (presnivs) float32 1.012e+05 1.009e+05 ... 5.297 1.483\n",
       "    time_centered         (time_counter) datetime64[ns] ...\n",
       "  * time_counter          (time_counter) datetime64[ns] 1979-01-01T00:30:00 ....\n",
       "    time_instant          (time_counter) datetime64[ns] ...\n",
       "Dimensions without coordinates: cell, nvertex, axis_nbounds\n",
       "Data variables: (12/29)\n",
       "    bounds_lon            (cell, nvertex) float32 ...\n",
       "    bounds_lat            (cell, nvertex) float32 ...\n",
       "    time_centered_bounds  (time_counter, axis_nbounds) datetime64[ns] ...\n",
       "    time_counter_bounds   (time_counter, axis_nbounds) datetime64[ns] ...\n",
       "    time_instant_bounds   (time_counter, axis_nbounds) datetime64[ns] ...\n",
       "    pmid                  (time_counter, presnivs, cell) float64 ...\n",
       "    ...                    ...\n",
       "    vmrmcf                (time_counter, presnivs, cell) float64 ...\n",
       "    vmrbe7                (time_counter, presnivs, cell) float64 ...\n",
       "    vmrn2o                (time_counter, presnivs, cell) float64 ...\n",
       "    vmrch4                (time_counter, presnivs, cell) float64 ...\n",
       "    vmrco                 (time_counter, presnivs, cell) float64 ...\n",
       "    vmrco2bih             (time_counter, presnivs, cell) float64 ...\n",
       "Attributes:\n",
       "    _NCProperties:                   version=1|netcdflibversion=4.6.0|hdf5lib...\n",
       "    name:                            inca1d_ges\n",
       "    description:                     Created by xios\n",
       "    title:                           Created by xios\n",
       "    Conventions:                     CF-1.6\n",
       "    timeStamp:                       2022-Apr-05 08:59:15 GMT\n",
       "    uuid:                            8982bdb7-b650-45c4-896c-e228bec0cb5a\n",
       "    history:                         Fri Apr 15 12:05:37 2022: ncatted -O -a ...\n",
       "    NCO:                             4.6.9\n",
       "    DODS_EXTRA.Unlimited_Dimension:  time_counter"
      ]
     },
     "execution_count": 4,
     "metadata": {},
     "output_type": "execute_result"
    }
   ],
   "source": [
    "ds = xr.open_dataset(\"https://thredds-su.ipsl.fr/thredds/dodsC/ipsl_thredds/brocksce/ICO/ICO.79.1jour.native.1_19790101_19790101_1D_inca_ges.nc\")\n",
    "ds"
   ]
  },
  {
   "cell_type": "code",
   "execution_count": 5,
   "id": "c82bee03",
   "metadata": {
    "execution": {
     "iopub.execute_input": "2023-02-14T18:06:41.511160Z",
     "iopub.status.busy": "2023-02-14T18:06:41.510821Z",
     "iopub.status.idle": "2023-02-14T18:06:41.674566Z",
     "shell.execute_reply": "2023-02-14T18:06:41.672978Z",
     "shell.execute_reply.started": "2023-02-14T18:06:41.511127Z"
    },
    "tags": []
   },
   "outputs": [
    {
     "name": "stdout",
     "output_type": "stream",
     "text": [
      "6\n",
      "(16002, 6)\n"
     ]
    }
   ],
   "source": [
    "blon = ds['bounds_lon'].to_numpy()\n",
    "blat = ds['bounds_lat'].to_numpy()\n",
    "nvertex = blon.shape[-1]\n",
    "print(nvertex)\n",
    "\n",
    "blon = blon.reshape(-1, nvertex)\n",
    "blat = blat.reshape(-1, nvertex)\n",
    "print(blon.shape)\n",
    "\n",
    "arr = ds['bounds_lon'].to_numpy()\n",
    "blon = arr.reshape(-1, arr.shape[-1])\n",
    "arr = ds['bounds_lat'].to_numpy()\n",
    "blat = arr.reshape(-1, arr.shape[-1])"
   ]
  },
  {
   "cell_type": "code",
   "execution_count": 6,
   "id": "e6761515",
   "metadata": {
    "execution": {
     "iopub.execute_input": "2023-02-14T18:06:42.410900Z",
     "iopub.status.busy": "2023-02-14T18:06:42.410253Z",
     "iopub.status.idle": "2023-02-14T18:06:42.420235Z",
     "shell.execute_reply": "2023-02-14T18:06:42.419158Z",
     "shell.execute_reply.started": "2023-02-14T18:06:42.410856Z"
    },
    "tags": []
   },
   "outputs": [],
   "source": [
    "deg2rad = np.pi/180.\n",
    "x = np.cos(blat*deg2rad)*np.cos(blon*deg2rad)\n",
    "y = np.cos(blat*deg2rad)*np.sin(blon*deg2rad)\n",
    "z = np.sin(blat*deg2rad)"
   ]
  },
  {
   "cell_type": "code",
   "execution_count": 7,
   "id": "75f83291-d3bc-4a55-8a73-6c8a6acd6e35",
   "metadata": {
    "execution": {
     "iopub.execute_input": "2023-02-14T18:06:43.574160Z",
     "iopub.status.busy": "2023-02-14T18:06:43.573314Z",
     "iopub.status.idle": "2023-02-14T18:06:43.593906Z",
     "shell.execute_reply": "2023-02-14T18:06:43.591556Z",
     "shell.execute_reply.started": "2023-02-14T18:06:43.574084Z"
    },
    "tags": []
   },
   "outputs": [],
   "source": [
    "points = np.stack((x,y,z), axis=2).reshape(x.size, 3)\n",
    "faces = np.arange(x.shape[0] * nvertex).reshape(x.shape[0], nvertex)\n",
    "faces = np.insert(faces, 0, nvertex, axis=1)"
   ]
  },
  {
   "cell_type": "code",
   "execution_count": 8,
   "id": "475a5a6c",
   "metadata": {
    "execution": {
     "iopub.execute_input": "2023-02-14T18:06:44.450304Z",
     "iopub.status.busy": "2023-02-14T18:06:44.449452Z",
     "iopub.status.idle": "2023-02-14T18:06:44.465989Z",
     "shell.execute_reply": "2023-02-14T18:06:44.464673Z",
     "shell.execute_reply.started": "2023-02-14T18:06:44.450227Z"
    },
    "tags": []
   },
   "outputs": [
    {
     "data": {
      "text/html": [
       "\n",
       "<table>\n",
       "<tr><th>PolyData</th><th>Information</th></tr>\n",
       "<tr><td>N Cells</td><td>16002</td></tr>\n",
       "<tr><td>N Points</td><td>96012</td></tr>\n",
       "<tr><td>N Strips</td><td>0</td></tr>\n",
       "<tr><td>X Bounds</td><td>-1.000e+00, 1.000e+00</td></tr>\n",
       "<tr><td>Y Bounds</td><td>-9.998e-01, 9.998e-01</td></tr>\n",
       "<tr><td>Z Bounds</td><td>-9.999e-01, 9.999e-01</td></tr>\n",
       "<tr><td>N Arrays</td><td>0</td></tr>\n",
       "</table>\n",
       "\n"
      ],
      "text/plain": [
       "PolyData (0x7faa2256f100)\n",
       "  N Cells:    16002\n",
       "  N Points:   96012\n",
       "  N Strips:   0\n",
       "  X Bounds:   -1.000e+00, 1.000e+00\n",
       "  Y Bounds:   -9.998e-01, 9.998e-01\n",
       "  Z Bounds:   -9.999e-01, 9.999e-01\n",
       "  N Arrays:   0"
      ]
     },
     "execution_count": 8,
     "metadata": {},
     "output_type": "execute_result"
    }
   ],
   "source": [
    "mesh = pv.PolyData(points, faces)\n",
    "mesh"
   ]
  },
  {
   "cell_type": "code",
   "execution_count": 9,
   "id": "ee5c4796-8776-4aec-ba24-ab07f81e394a",
   "metadata": {
    "execution": {
     "iopub.execute_input": "2023-02-14T18:06:45.461841Z",
     "iopub.status.busy": "2023-02-14T18:06:45.461293Z",
     "iopub.status.idle": "2023-02-14T18:06:45.507904Z",
     "shell.execute_reply": "2023-02-14T18:06:45.506092Z",
     "shell.execute_reply.started": "2023-02-14T18:06:45.461792Z"
    },
    "tags": []
   },
   "outputs": [
    {
     "data": {
      "text/html": [
       "\n",
       "<table>\n",
       "<tr><th>PolyData</th><th>Information</th></tr>\n",
       "<tr><td>N Cells</td><td>16002</td></tr>\n",
       "<tr><td>N Points</td><td>32000</td></tr>\n",
       "<tr><td>N Strips</td><td>0</td></tr>\n",
       "<tr><td>X Bounds</td><td>-1.000e+00, 1.000e+00</td></tr>\n",
       "<tr><td>Y Bounds</td><td>-9.998e-01, 9.998e-01</td></tr>\n",
       "<tr><td>Z Bounds</td><td>-9.999e-01, 9.999e-01</td></tr>\n",
       "<tr><td>N Arrays</td><td>0</td></tr>\n",
       "</table>\n",
       "\n"
      ],
      "text/plain": [
       "PolyData (0x7faa2256ee00)\n",
       "  N Cells:    16002\n",
       "  N Points:   32000\n",
       "  N Strips:   0\n",
       "  X Bounds:   -1.000e+00, 1.000e+00\n",
       "  Y Bounds:   -9.998e-01, 9.998e-01\n",
       "  Z Bounds:   -9.999e-01, 9.999e-01\n",
       "  N Arrays:   0"
      ]
     },
     "execution_count": 9,
     "metadata": {},
     "output_type": "execute_result"
    }
   ],
   "source": [
    "mesh = pv.PolyData(points, faces)\n",
    "mesh.clean(inplace=True, tolerance=0.001)\n",
    "mesh"
   ]
  },
  {
   "cell_type": "code",
   "execution_count": 10,
   "id": "6f8d378d",
   "metadata": {
    "execution": {
     "iopub.execute_input": "2023-02-14T18:06:46.536716Z",
     "iopub.status.busy": "2023-02-14T18:06:46.536209Z",
     "iopub.status.idle": "2023-02-14T18:06:46.546096Z",
     "shell.execute_reply": "2023-02-14T18:06:46.543972Z",
     "shell.execute_reply.started": "2023-02-14T18:06:46.536672Z"
    },
    "tags": []
   },
   "outputs": [
    {
     "name": "stdout",
     "output_type": "stream",
     "text": [
      "(24, 79, 16002)\n"
     ]
    }
   ],
   "source": [
    "var = ds['temp']\n",
    "print(var.shape)"
   ]
  },
  {
   "cell_type": "code",
   "execution_count": 11,
   "id": "78bcbf9d",
   "metadata": {
    "execution": {
     "iopub.execute_input": "2023-02-14T18:06:47.239304Z",
     "iopub.status.busy": "2023-02-14T18:06:47.238966Z",
     "iopub.status.idle": "2023-02-14T18:06:47.246701Z",
     "shell.execute_reply": "2023-02-14T18:06:47.245308Z",
     "shell.execute_reply.started": "2023-02-14T18:06:47.239277Z"
    },
    "tags": []
   },
   "outputs": [
    {
     "data": {
      "text/plain": [
       "(78, 23)"
      ]
     },
     "execution_count": 11,
     "metadata": {},
     "output_type": "execute_result"
    }
   ],
   "source": [
    "kmax = var.shape[1]-1\n",
    "lmax = var.shape[0]-1\n",
    "kmax, lmax"
   ]
  },
  {
   "cell_type": "code",
   "execution_count": 12,
   "id": "4ca83fbd",
   "metadata": {
    "execution": {
     "iopub.execute_input": "2023-02-14T18:06:48.719362Z",
     "iopub.status.busy": "2023-02-14T18:06:48.718649Z",
     "iopub.status.idle": "2023-02-14T18:06:48.760446Z",
     "shell.execute_reply": "2023-02-14T18:06:48.759517Z",
     "shell.execute_reply.started": "2023-02-14T18:06:48.719328Z"
    },
    "tags": []
   },
   "outputs": [
    {
     "name": "stdout",
     "output_type": "stream",
     "text": [
      "233.364045 302.943871\n"
     ]
    }
   ],
   "source": [
    "var = ds['temp'][0,0]\n",
    "varmin = np.min(var)\n",
    "varmax = np.max(var)\n",
    "print(\"%f %f\" %(varmin, varmax))"
   ]
  },
  {
   "cell_type": "code",
   "execution_count": 13,
   "id": "6af4e693",
   "metadata": {
    "execution": {
     "iopub.execute_input": "2023-02-14T18:06:49.479275Z",
     "iopub.status.busy": "2023-02-14T18:06:49.478740Z",
     "iopub.status.idle": "2023-02-14T18:06:49.612796Z",
     "shell.execute_reply": "2023-02-14T18:06:49.611442Z",
     "shell.execute_reply.started": "2023-02-14T18:06:49.479225Z"
    },
    "tags": []
   },
   "outputs": [
    {
     "name": "stdout",
     "output_type": "stream",
     "text": [
      "Fichier «continents.vtk» déjà présent ; pas de récupération.\n",
      "\n"
     ]
    }
   ],
   "source": [
    "! wget -nc https://thredds-su.ipsl.fr/thredds/fileServer/ipsl_thredds/brocksce/pyvista/continents.vtk"
   ]
  },
  {
   "cell_type": "code",
   "execution_count": 14,
   "id": "c876e9ea-cd2a-4dd4-9b02-627a9895d1ac",
   "metadata": {
    "execution": {
     "iopub.execute_input": "2023-02-14T18:06:50.564512Z",
     "iopub.status.busy": "2023-02-14T18:06:50.564114Z",
     "iopub.status.idle": "2023-02-14T18:06:50.704596Z",
     "shell.execute_reply": "2023-02-14T18:06:50.703771Z",
     "shell.execute_reply.started": "2023-02-14T18:06:50.564478Z"
    },
    "tags": []
   },
   "outputs": [
    {
     "data": {
      "application/vnd.jupyter.widget-view+json": {
       "model_id": "19e7a8678a0544b99c072e0bdcb15f02",
       "version_major": 2,
       "version_minor": 0
      },
      "text/plain": [
       "Widget(value=\"<iframe src='http://localhost:33893/index.html?ui=P_0x7faa2261ff40_0&reconnect=auto' style='widt…"
      ]
     },
     "metadata": {},
     "output_type": "display_data"
    },
    {
     "data": {
      "application/vnd.jupyter.widget-view+json": {
       "model_id": "dcf89c7c6b53412cba9eb4f9e132f8ae",
       "version_major": 2,
       "version_minor": 0
      },
      "text/plain": [
       "HBox(children=(VBox(children=(IntSlider(value=0, description='k-index:', max=78), IntSlider(value=0, descripti…"
      ]
     },
     "metadata": {},
     "output_type": "display_data"
    }
   ],
   "source": [
    "import pyvista as pv\n",
    "from ipywidgets import interact\n",
    "\n",
    "pv.set_jupyter_backend('trame')\n",
    "\n",
    "pl = pv.Plotter()\n",
    "pl.set_background('lightgray')\n",
    "\n",
    "varname = 'temp'\n",
    "kindex = 0\n",
    "lindex = 0\n",
    "var = ds[varname][lindex,kindex]\n",
    "clim = [240, 300]\n",
    "cmap = 'plasma'\n",
    "\n",
    "continents = pv.PolyData('continents.vtk')\n",
    "pl.add_mesh(continents, color='white')\n",
    "mesh_actor = pl.add_mesh(mesh, scalars=var, show_edges=False, clim=clim, cmap=cmap, show_scalar_bar=False)\n",
    "scalarBar_actor = pl.add_scalar_bar(title=varname, color='black')\n",
    "pl.show(jupyter_backend='client')\n",
    "\n",
    "def plot(kindex, lindex, clim, cmap):\n",
    "    global mesh_actor, scalarBar_actor\n",
    "    var = ds[varname][lindex, kindex]\n",
    "    pl.remove_actor(mesh_actor)\n",
    "    pl.remove_actor(scalarBar_actor)\n",
    "    mesh_actor = pl.add_mesh(mesh, scalars=var, show_edges=False, clim=clim, cmap=cmap, show_scalar_bar=False)\n",
    "    scalarBar_actor = pl.add_scalar_bar(title=varname, color='black')\n",
    "    pl.render()\n",
    "    \n",
    "widget_k = widgets.IntSlider(min=0, max=kmax, step=1, description='k-index:')\n",
    "widget_l = widgets.IntSlider(min=0, max=lmax, step=1, description='l-index:')\n",
    "widget_clim = widgets.Button(description=\"Update range\")\n",
    "widget_cmap = widgets.Dropdown(options=matplotlib.colormaps(), value=cmap, description='cmap:')\n",
    "#widget_output = widgets.Output()\n",
    "\n",
    "def on_kvalue_change(change):\n",
    "    global kindex\n",
    "    kindex=change['new']\n",
    "    plot(kindex, lindex, clim, cmap)\n",
    "\n",
    "def on_lvalue_change(change):\n",
    "    global lindex\n",
    "    lindex=change['new']\n",
    "    plot(kindex, lindex, clim, cmap)\n",
    "    plot(lindex=lindex)\n",
    "\n",
    "def on_button_clicked(b):\n",
    "    global varmin, varmax, clim\n",
    "    var = ds[varname][lindex,kindex]\n",
    "    varmin = float(np.min(var))\n",
    "    varmax = float(np.max(var))\n",
    "    clim = [varmin, varmax]\n",
    "    plot(kindex, lindex, clim, cmap)\n",
    "\n",
    "def on_cmap_change(change):\n",
    "    global cmap\n",
    "    cmap = change['new']\n",
    "    plot(kindex, lindex, clim, cmap)\n",
    "    \n",
    "widget_k.observe(on_kvalue_change, names='value')\n",
    "widget_l.observe(on_lvalue_change, names='value')\n",
    "widget_clim.on_click(on_button_clicked)\n",
    "widget_cmap.observe(on_cmap_change, names='value')\n",
    "\n",
    "display( widgets.HBox([widgets.VBox([widget_k, widget_l, widget_cmap]), widgets.VBox([widget_clim])]) )"
   ]
  },
  {
   "cell_type": "code",
   "execution_count": null,
   "id": "7a2ada56-a232-4fd7-b506-fb6bba602dc7",
   "metadata": {},
   "outputs": [],
   "source": []
  }
 ],
 "metadata": {
  "kernelspec": {
   "display_name": "Python 3 (ipykernel)",
   "language": "python",
   "name": "python3"
  },
  "language_info": {
   "codemirror_mode": {
    "name": "ipython",
    "version": 3
   },
   "file_extension": ".py",
   "mimetype": "text/x-python",
   "name": "python",
   "nbconvert_exporter": "python",
   "pygments_lexer": "ipython3",
   "version": "3.10.9"
  }
 },
 "nbformat": 4,
 "nbformat_minor": 5
}
