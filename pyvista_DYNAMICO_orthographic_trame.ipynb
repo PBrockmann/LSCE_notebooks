{
 "cells": [
  {
   "cell_type": "markdown",
   "id": "91ed21c4-8757-4313-877a-0348851c2e96",
   "metadata": {
    "execution": {
     "iopub.execute_input": "2023-02-14T14:06:00.035712Z",
     "iopub.status.busy": "2023-02-14T14:06:00.035342Z",
     "iopub.status.idle": "2023-02-14T14:06:00.040178Z",
     "shell.execute_reply": "2023-02-14T14:06:00.039307Z",
     "shell.execute_reply.started": "2023-02-14T14:06:00.035681Z"
    },
    "tags": []
   },
   "source": [
    "### https://github.com/pyvista/pyvista/discussions/2567"
   ]
  },
  {
   "cell_type": "code",
   "execution_count": 1,
   "id": "b960092c-252c-49b1-a9be-33ee4513d251",
   "metadata": {
    "execution": {
     "iopub.execute_input": "2023-02-14T18:10:28.484627Z",
     "iopub.status.busy": "2023-02-14T18:10:28.484334Z",
     "iopub.status.idle": "2023-02-14T18:10:29.136671Z",
     "shell.execute_reply": "2023-02-14T18:10:29.136035Z",
     "shell.execute_reply.started": "2023-02-14T18:10:28.484600Z"
    },
    "tags": []
   },
   "outputs": [
    {
     "data": {
      "application/vnd.jupyter.widget-view+json": {
       "model_id": "a88ac65aef35405d9dd302a914bb52c0",
       "version_major": 2,
       "version_minor": 0
      },
      "text/plain": [
       "Widget(value=\"<iframe src='http://localhost:46475/index.html?ui=P_0x7f1904901f90_0&reconnect=auto' style='widt…"
      ]
     },
     "metadata": {},
     "output_type": "display_data"
    },
    {
     "data": {
      "application/vnd.jupyter.widget-view+json": {
       "model_id": "db751054701948f59ade5ac3010d332a",
       "version_major": 2,
       "version_minor": 0
      },
      "text/plain": [
       "interactive(children=(IntSlider(value=6, description='resolution', max=20, min=3), Output()), _dom_classes=('w…"
      ]
     },
     "metadata": {},
     "output_type": "display_data"
    }
   ],
   "source": [
    "import vtk\n",
    "import pyvista as pv\n",
    "from ipywidgets import interact\n",
    "\n",
    "pv.set_jupyter_backend('trame')\n",
    "\n",
    "pl = pv.Plotter()\n",
    "#c = pv.Cone(resolution=6)\n",
    "c = vtk.vtkConeSource()\n",
    "c_actor = pl.add_mesh(c)\n",
    "pl.show(jupyter_backend='client')\n",
    "\n",
    "def plot(resolution=6):\n",
    "    #c.shallow_copy(pv.Cone(resolution=resolution))\n",
    "    c.SetResolution(resolution)\n",
    "    pl.render()\n",
    "\n",
    "a = interact(plot, resolution = (3,20,1))"
   ]
  },
  {
   "cell_type": "code",
   "execution_count": 2,
   "id": "487db41a",
   "metadata": {
    "execution": {
     "iopub.execute_input": "2023-02-14T18:10:30.527063Z",
     "iopub.status.busy": "2023-02-14T18:10:30.525302Z",
     "iopub.status.idle": "2023-02-14T18:10:30.893870Z",
     "shell.execute_reply": "2023-02-14T18:10:30.893160Z",
     "shell.execute_reply.started": "2023-02-14T18:10:30.526963Z"
    },
    "tags": []
   },
   "outputs": [],
   "source": [
    "import numpy as np\n",
    "import xarray as xr\n",
    "import pyvista as pv\n",
    "import matplotlib"
   ]
  },
  {
   "cell_type": "code",
   "execution_count": 3,
   "id": "0579a733",
   "metadata": {
    "execution": {
     "iopub.execute_input": "2023-02-14T18:10:30.965298Z",
     "iopub.status.busy": "2023-02-14T18:10:30.964054Z",
     "iopub.status.idle": "2023-02-14T18:10:30.970203Z",
     "shell.execute_reply": "2023-02-14T18:10:30.968931Z",
     "shell.execute_reply.started": "2023-02-14T18:10:30.965242Z"
    },
    "tags": []
   },
   "outputs": [],
   "source": [
    "import ipywidgets as widgets\n",
    "from ipywidgets import Button, HBox, VBox"
   ]
  },
  {
   "cell_type": "code",
   "execution_count": 4,
   "id": "4d058a22",
   "metadata": {
    "execution": {
     "iopub.execute_input": "2023-02-14T18:10:31.292409Z",
     "iopub.status.busy": "2023-02-14T18:10:31.292148Z",
     "iopub.status.idle": "2023-02-14T18:10:32.091607Z",
     "shell.execute_reply": "2023-02-14T18:10:32.090767Z",
     "shell.execute_reply.started": "2023-02-14T18:10:31.292390Z"
    },
    "tags": []
   },
   "outputs": [
    {
     "data": {
      "text/html": [
       "<div><svg style=\"position: absolute; width: 0; height: 0; overflow: hidden\">\n",
       "<defs>\n",
       "<symbol id=\"icon-database\" viewBox=\"0 0 32 32\">\n",
       "<path d=\"M16 0c-8.837 0-16 2.239-16 5v4c0 2.761 7.163 5 16 5s16-2.239 16-5v-4c0-2.761-7.163-5-16-5z\"></path>\n",
       "<path d=\"M16 17c-8.837 0-16-2.239-16-5v6c0 2.761 7.163 5 16 5s16-2.239 16-5v-6c0 2.761-7.163 5-16 5z\"></path>\n",
       "<path d=\"M16 26c-8.837 0-16-2.239-16-5v6c0 2.761 7.163 5 16 5s16-2.239 16-5v-6c0 2.761-7.163 5-16 5z\"></path>\n",
       "</symbol>\n",
       "<symbol id=\"icon-file-text2\" viewBox=\"0 0 32 32\">\n",
       "<path d=\"M28.681 7.159c-0.694-0.947-1.662-2.053-2.724-3.116s-2.169-2.030-3.116-2.724c-1.612-1.182-2.393-1.319-2.841-1.319h-15.5c-1.378 0-2.5 1.121-2.5 2.5v27c0 1.378 1.122 2.5 2.5 2.5h23c1.378 0 2.5-1.122 2.5-2.5v-19.5c0-0.448-0.137-1.23-1.319-2.841zM24.543 5.457c0.959 0.959 1.712 1.825 2.268 2.543h-4.811v-4.811c0.718 0.556 1.584 1.309 2.543 2.268zM28 29.5c0 0.271-0.229 0.5-0.5 0.5h-23c-0.271 0-0.5-0.229-0.5-0.5v-27c0-0.271 0.229-0.5 0.5-0.5 0 0 15.499-0 15.5 0v7c0 0.552 0.448 1 1 1h7v19.5z\"></path>\n",
       "<path d=\"M23 26h-14c-0.552 0-1-0.448-1-1s0.448-1 1-1h14c0.552 0 1 0.448 1 1s-0.448 1-1 1z\"></path>\n",
       "<path d=\"M23 22h-14c-0.552 0-1-0.448-1-1s0.448-1 1-1h14c0.552 0 1 0.448 1 1s-0.448 1-1 1z\"></path>\n",
       "<path d=\"M23 18h-14c-0.552 0-1-0.448-1-1s0.448-1 1-1h14c0.552 0 1 0.448 1 1s-0.448 1-1 1z\"></path>\n",
       "</symbol>\n",
       "</defs>\n",
       "</svg>\n",
       "<style>/* CSS stylesheet for displaying xarray objects in jupyterlab.\n",
       " *\n",
       " */\n",
       "\n",
       ":root {\n",
       "  --xr-font-color0: var(--jp-content-font-color0, rgba(0, 0, 0, 1));\n",
       "  --xr-font-color2: var(--jp-content-font-color2, rgba(0, 0, 0, 0.54));\n",
       "  --xr-font-color3: var(--jp-content-font-color3, rgba(0, 0, 0, 0.38));\n",
       "  --xr-border-color: var(--jp-border-color2, #e0e0e0);\n",
       "  --xr-disabled-color: var(--jp-layout-color3, #bdbdbd);\n",
       "  --xr-background-color: var(--jp-layout-color0, white);\n",
       "  --xr-background-color-row-even: var(--jp-layout-color1, white);\n",
       "  --xr-background-color-row-odd: var(--jp-layout-color2, #eeeeee);\n",
       "}\n",
       "\n",
       "html[theme=dark],\n",
       "body[data-theme=dark],\n",
       "body.vscode-dark {\n",
       "  --xr-font-color0: rgba(255, 255, 255, 1);\n",
       "  --xr-font-color2: rgba(255, 255, 255, 0.54);\n",
       "  --xr-font-color3: rgba(255, 255, 255, 0.38);\n",
       "  --xr-border-color: #1F1F1F;\n",
       "  --xr-disabled-color: #515151;\n",
       "  --xr-background-color: #111111;\n",
       "  --xr-background-color-row-even: #111111;\n",
       "  --xr-background-color-row-odd: #313131;\n",
       "}\n",
       "\n",
       ".xr-wrap {\n",
       "  display: block !important;\n",
       "  min-width: 300px;\n",
       "  max-width: 700px;\n",
       "}\n",
       "\n",
       ".xr-text-repr-fallback {\n",
       "  /* fallback to plain text repr when CSS is not injected (untrusted notebook) */\n",
       "  display: none;\n",
       "}\n",
       "\n",
       ".xr-header {\n",
       "  padding-top: 6px;\n",
       "  padding-bottom: 6px;\n",
       "  margin-bottom: 4px;\n",
       "  border-bottom: solid 1px var(--xr-border-color);\n",
       "}\n",
       "\n",
       ".xr-header > div,\n",
       ".xr-header > ul {\n",
       "  display: inline;\n",
       "  margin-top: 0;\n",
       "  margin-bottom: 0;\n",
       "}\n",
       "\n",
       ".xr-obj-type,\n",
       ".xr-array-name {\n",
       "  margin-left: 2px;\n",
       "  margin-right: 10px;\n",
       "}\n",
       "\n",
       ".xr-obj-type {\n",
       "  color: var(--xr-font-color2);\n",
       "}\n",
       "\n",
       ".xr-sections {\n",
       "  padding-left: 0 !important;\n",
       "  display: grid;\n",
       "  grid-template-columns: 150px auto auto 1fr 20px 20px;\n",
       "}\n",
       "\n",
       ".xr-section-item {\n",
       "  display: contents;\n",
       "}\n",
       "\n",
       ".xr-section-item input {\n",
       "  display: none;\n",
       "}\n",
       "\n",
       ".xr-section-item input + label {\n",
       "  color: var(--xr-disabled-color);\n",
       "}\n",
       "\n",
       ".xr-section-item input:enabled + label {\n",
       "  cursor: pointer;\n",
       "  color: var(--xr-font-color2);\n",
       "}\n",
       "\n",
       ".xr-section-item input:enabled + label:hover {\n",
       "  color: var(--xr-font-color0);\n",
       "}\n",
       "\n",
       ".xr-section-summary {\n",
       "  grid-column: 1;\n",
       "  color: var(--xr-font-color2);\n",
       "  font-weight: 500;\n",
       "}\n",
       "\n",
       ".xr-section-summary > span {\n",
       "  display: inline-block;\n",
       "  padding-left: 0.5em;\n",
       "}\n",
       "\n",
       ".xr-section-summary-in:disabled + label {\n",
       "  color: var(--xr-font-color2);\n",
       "}\n",
       "\n",
       ".xr-section-summary-in + label:before {\n",
       "  display: inline-block;\n",
       "  content: '►';\n",
       "  font-size: 11px;\n",
       "  width: 15px;\n",
       "  text-align: center;\n",
       "}\n",
       "\n",
       ".xr-section-summary-in:disabled + label:before {\n",
       "  color: var(--xr-disabled-color);\n",
       "}\n",
       "\n",
       ".xr-section-summary-in:checked + label:before {\n",
       "  content: '▼';\n",
       "}\n",
       "\n",
       ".xr-section-summary-in:checked + label > span {\n",
       "  display: none;\n",
       "}\n",
       "\n",
       ".xr-section-summary,\n",
       ".xr-section-inline-details {\n",
       "  padding-top: 4px;\n",
       "  padding-bottom: 4px;\n",
       "}\n",
       "\n",
       ".xr-section-inline-details {\n",
       "  grid-column: 2 / -1;\n",
       "}\n",
       "\n",
       ".xr-section-details {\n",
       "  display: none;\n",
       "  grid-column: 1 / -1;\n",
       "  margin-bottom: 5px;\n",
       "}\n",
       "\n",
       ".xr-section-summary-in:checked ~ .xr-section-details {\n",
       "  display: contents;\n",
       "}\n",
       "\n",
       ".xr-array-wrap {\n",
       "  grid-column: 1 / -1;\n",
       "  display: grid;\n",
       "  grid-template-columns: 20px auto;\n",
       "}\n",
       "\n",
       ".xr-array-wrap > label {\n",
       "  grid-column: 1;\n",
       "  vertical-align: top;\n",
       "}\n",
       "\n",
       ".xr-preview {\n",
       "  color: var(--xr-font-color3);\n",
       "}\n",
       "\n",
       ".xr-array-preview,\n",
       ".xr-array-data {\n",
       "  padding: 0 5px !important;\n",
       "  grid-column: 2;\n",
       "}\n",
       "\n",
       ".xr-array-data,\n",
       ".xr-array-in:checked ~ .xr-array-preview {\n",
       "  display: none;\n",
       "}\n",
       "\n",
       ".xr-array-in:checked ~ .xr-array-data,\n",
       ".xr-array-preview {\n",
       "  display: inline-block;\n",
       "}\n",
       "\n",
       ".xr-dim-list {\n",
       "  display: inline-block !important;\n",
       "  list-style: none;\n",
       "  padding: 0 !important;\n",
       "  margin: 0;\n",
       "}\n",
       "\n",
       ".xr-dim-list li {\n",
       "  display: inline-block;\n",
       "  padding: 0;\n",
       "  margin: 0;\n",
       "}\n",
       "\n",
       ".xr-dim-list:before {\n",
       "  content: '(';\n",
       "}\n",
       "\n",
       ".xr-dim-list:after {\n",
       "  content: ')';\n",
       "}\n",
       "\n",
       ".xr-dim-list li:not(:last-child):after {\n",
       "  content: ',';\n",
       "  padding-right: 5px;\n",
       "}\n",
       "\n",
       ".xr-has-index {\n",
       "  font-weight: bold;\n",
       "}\n",
       "\n",
       ".xr-var-list,\n",
       ".xr-var-item {\n",
       "  display: contents;\n",
       "}\n",
       "\n",
       ".xr-var-item > div,\n",
       ".xr-var-item label,\n",
       ".xr-var-item > .xr-var-name span {\n",
       "  background-color: var(--xr-background-color-row-even);\n",
       "  margin-bottom: 0;\n",
       "}\n",
       "\n",
       ".xr-var-item > .xr-var-name:hover span {\n",
       "  padding-right: 5px;\n",
       "}\n",
       "\n",
       ".xr-var-list > li:nth-child(odd) > div,\n",
       ".xr-var-list > li:nth-child(odd) > label,\n",
       ".xr-var-list > li:nth-child(odd) > .xr-var-name span {\n",
       "  background-color: var(--xr-background-color-row-odd);\n",
       "}\n",
       "\n",
       ".xr-var-name {\n",
       "  grid-column: 1;\n",
       "}\n",
       "\n",
       ".xr-var-dims {\n",
       "  grid-column: 2;\n",
       "}\n",
       "\n",
       ".xr-var-dtype {\n",
       "  grid-column: 3;\n",
       "  text-align: right;\n",
       "  color: var(--xr-font-color2);\n",
       "}\n",
       "\n",
       ".xr-var-preview {\n",
       "  grid-column: 4;\n",
       "}\n",
       "\n",
       ".xr-index-preview {\n",
       "  grid-column: 2 / 5;\n",
       "  color: var(--xr-font-color2);\n",
       "}\n",
       "\n",
       ".xr-var-name,\n",
       ".xr-var-dims,\n",
       ".xr-var-dtype,\n",
       ".xr-preview,\n",
       ".xr-attrs dt {\n",
       "  white-space: nowrap;\n",
       "  overflow: hidden;\n",
       "  text-overflow: ellipsis;\n",
       "  padding-right: 10px;\n",
       "}\n",
       "\n",
       ".xr-var-name:hover,\n",
       ".xr-var-dims:hover,\n",
       ".xr-var-dtype:hover,\n",
       ".xr-attrs dt:hover {\n",
       "  overflow: visible;\n",
       "  width: auto;\n",
       "  z-index: 1;\n",
       "}\n",
       "\n",
       ".xr-var-attrs,\n",
       ".xr-var-data,\n",
       ".xr-index-data {\n",
       "  display: none;\n",
       "  background-color: var(--xr-background-color) !important;\n",
       "  padding-bottom: 5px !important;\n",
       "}\n",
       "\n",
       ".xr-var-attrs-in:checked ~ .xr-var-attrs,\n",
       ".xr-var-data-in:checked ~ .xr-var-data,\n",
       ".xr-index-data-in:checked ~ .xr-index-data {\n",
       "  display: block;\n",
       "}\n",
       "\n",
       ".xr-var-data > table {\n",
       "  float: right;\n",
       "}\n",
       "\n",
       ".xr-var-name span,\n",
       ".xr-var-data,\n",
       ".xr-index-name div,\n",
       ".xr-index-data,\n",
       ".xr-attrs {\n",
       "  padding-left: 25px !important;\n",
       "}\n",
       "\n",
       ".xr-attrs,\n",
       ".xr-var-attrs,\n",
       ".xr-var-data,\n",
       ".xr-index-data {\n",
       "  grid-column: 1 / -1;\n",
       "}\n",
       "\n",
       "dl.xr-attrs {\n",
       "  padding: 0;\n",
       "  margin: 0;\n",
       "  display: grid;\n",
       "  grid-template-columns: 125px auto;\n",
       "}\n",
       "\n",
       ".xr-attrs dt,\n",
       ".xr-attrs dd {\n",
       "  padding: 0;\n",
       "  margin: 0;\n",
       "  float: left;\n",
       "  padding-right: 10px;\n",
       "  width: auto;\n",
       "}\n",
       "\n",
       ".xr-attrs dt {\n",
       "  font-weight: normal;\n",
       "  grid-column: 1;\n",
       "}\n",
       "\n",
       ".xr-attrs dt:hover span {\n",
       "  display: inline-block;\n",
       "  background: var(--xr-background-color);\n",
       "  padding-right: 10px;\n",
       "}\n",
       "\n",
       ".xr-attrs dd {\n",
       "  grid-column: 2;\n",
       "  white-space: pre-wrap;\n",
       "  word-break: break-all;\n",
       "}\n",
       "\n",
       ".xr-icon-database,\n",
       ".xr-icon-file-text2,\n",
       ".xr-no-icon {\n",
       "  display: inline-block;\n",
       "  vertical-align: middle;\n",
       "  width: 1em;\n",
       "  height: 1.5em !important;\n",
       "  stroke-width: 0;\n",
       "  stroke: currentColor;\n",
       "  fill: currentColor;\n",
       "}\n",
       "</style><pre class='xr-text-repr-fallback'>&lt;xarray.Dataset&gt;\n",
       "Dimensions:               (cell: 16002, nvertex: 6, presnivs: 79,\n",
       "                           time_counter: 24, axis_nbounds: 2)\n",
       "Coordinates:\n",
       "    lat                   (cell) float32 ...\n",
       "    lon                   (cell) float32 ...\n",
       "  * presnivs              (presnivs) float32 1.012e+05 1.009e+05 ... 5.297 1.483\n",
       "    time_centered         (time_counter) datetime64[ns] ...\n",
       "  * time_counter          (time_counter) datetime64[ns] 1979-01-01T00:30:00 ....\n",
       "    time_instant          (time_counter) datetime64[ns] ...\n",
       "Dimensions without coordinates: cell, nvertex, axis_nbounds\n",
       "Data variables: (12/29)\n",
       "    bounds_lon            (cell, nvertex) float32 ...\n",
       "    bounds_lat            (cell, nvertex) float32 ...\n",
       "    time_centered_bounds  (time_counter, axis_nbounds) datetime64[ns] ...\n",
       "    time_counter_bounds   (time_counter, axis_nbounds) datetime64[ns] ...\n",
       "    time_instant_bounds   (time_counter, axis_nbounds) datetime64[ns] ...\n",
       "    pmid                  (time_counter, presnivs, cell) float64 ...\n",
       "    ...                    ...\n",
       "    vmrmcf                (time_counter, presnivs, cell) float64 ...\n",
       "    vmrbe7                (time_counter, presnivs, cell) float64 ...\n",
       "    vmrn2o                (time_counter, presnivs, cell) float64 ...\n",
       "    vmrch4                (time_counter, presnivs, cell) float64 ...\n",
       "    vmrco                 (time_counter, presnivs, cell) float64 ...\n",
       "    vmrco2bih             (time_counter, presnivs, cell) float64 ...\n",
       "Attributes:\n",
       "    _NCProperties:                   version=1|netcdflibversion=4.6.0|hdf5lib...\n",
       "    name:                            inca1d_ges\n",
       "    description:                     Created by xios\n",
       "    title:                           Created by xios\n",
       "    Conventions:                     CF-1.6\n",
       "    timeStamp:                       2022-Apr-05 08:59:15 GMT\n",
       "    uuid:                            8982bdb7-b650-45c4-896c-e228bec0cb5a\n",
       "    history:                         Fri Apr 15 12:05:37 2022: ncatted -O -a ...\n",
       "    NCO:                             4.6.9\n",
       "    DODS_EXTRA.Unlimited_Dimension:  time_counter</pre><div class='xr-wrap' style='display:none'><div class='xr-header'><div class='xr-obj-type'>xarray.Dataset</div></div><ul class='xr-sections'><li class='xr-section-item'><input id='section-d908f9bd-7f9d-484e-9b71-5fdb37fd8660' class='xr-section-summary-in' type='checkbox' disabled ><label for='section-d908f9bd-7f9d-484e-9b71-5fdb37fd8660' class='xr-section-summary'  title='Expand/collapse section'>Dimensions:</label><div class='xr-section-inline-details'><ul class='xr-dim-list'><li><span>cell</span>: 16002</li><li><span>nvertex</span>: 6</li><li><span class='xr-has-index'>presnivs</span>: 79</li><li><span class='xr-has-index'>time_counter</span>: 24</li><li><span>axis_nbounds</span>: 2</li></ul></div><div class='xr-section-details'></div></li><li class='xr-section-item'><input id='section-274ed8d7-bbc9-48ce-9e60-357a66d5ca50' class='xr-section-summary-in' type='checkbox'  checked><label for='section-274ed8d7-bbc9-48ce-9e60-357a66d5ca50' class='xr-section-summary' >Coordinates: <span>(6)</span></label><div class='xr-section-inline-details'></div><div class='xr-section-details'><ul class='xr-var-list'><li class='xr-var-item'><div class='xr-var-name'><span>lat</span></div><div class='xr-var-dims'>(cell)</div><div class='xr-var-dtype'>float32</div><div class='xr-var-preview xr-preview'>...</div><input id='attrs-85b892b2-96ca-4f3b-b536-fef7c778a54d' class='xr-var-attrs-in' type='checkbox' ><label for='attrs-85b892b2-96ca-4f3b-b536-fef7c778a54d' title='Show/Hide attributes'><svg class='icon xr-icon-file-text2'><use xlink:href='#icon-file-text2'></use></svg></label><input id='data-03c6b98b-7ef8-480e-a2f5-272fece20b88' class='xr-var-data-in' type='checkbox'><label for='data-03c6b98b-7ef8-480e-a2f5-272fece20b88' title='Show/Hide data repr'><svg class='icon xr-icon-database'><use xlink:href='#icon-database'></use></svg></label><div class='xr-var-attrs'><dl class='xr-attrs'><dt><span>units :</span></dt><dd>degrees_north</dd><dt><span>bounds :</span></dt><dd>bounds_lat</dd><dt><span>standard_name :</span></dt><dd>latitude</dd><dt><span>long_name :</span></dt><dd>Latitude</dd><dt><span>_ChunkSizes :</span></dt><dd>16002</dd></dl></div><div class='xr-var-data'><pre>[16002 values with dtype=float32]</pre></div></li><li class='xr-var-item'><div class='xr-var-name'><span>lon</span></div><div class='xr-var-dims'>(cell)</div><div class='xr-var-dtype'>float32</div><div class='xr-var-preview xr-preview'>...</div><input id='attrs-d770c0cc-9bd8-4b70-be7c-2ced8026b7cc' class='xr-var-attrs-in' type='checkbox' ><label for='attrs-d770c0cc-9bd8-4b70-be7c-2ced8026b7cc' title='Show/Hide attributes'><svg class='icon xr-icon-file-text2'><use xlink:href='#icon-file-text2'></use></svg></label><input id='data-3f518e5c-801d-44ac-a517-078cca4047d3' class='xr-var-data-in' type='checkbox'><label for='data-3f518e5c-801d-44ac-a517-078cca4047d3' title='Show/Hide data repr'><svg class='icon xr-icon-database'><use xlink:href='#icon-database'></use></svg></label><div class='xr-var-attrs'><dl class='xr-attrs'><dt><span>units :</span></dt><dd>degrees_east</dd><dt><span>bounds :</span></dt><dd>bounds_lon</dd><dt><span>standard_name :</span></dt><dd>longitude</dd><dt><span>long_name :</span></dt><dd>Longitude</dd><dt><span>_ChunkSizes :</span></dt><dd>16002</dd></dl></div><div class='xr-var-data'><pre>[16002 values with dtype=float32]</pre></div></li><li class='xr-var-item'><div class='xr-var-name'><span class='xr-has-index'>presnivs</span></div><div class='xr-var-dims'>(presnivs)</div><div class='xr-var-dtype'>float32</div><div class='xr-var-preview xr-preview'>1.012e+05 1.009e+05 ... 5.297 1.483</div><input id='attrs-f02632d3-35f0-42bc-b527-20187d63d513' class='xr-var-attrs-in' type='checkbox' ><label for='attrs-f02632d3-35f0-42bc-b527-20187d63d513' title='Show/Hide attributes'><svg class='icon xr-icon-file-text2'><use xlink:href='#icon-file-text2'></use></svg></label><input id='data-e57227ce-3c98-4efb-aa5a-979d4f917037' class='xr-var-data-in' type='checkbox'><label for='data-e57227ce-3c98-4efb-aa5a-979d4f917037' title='Show/Hide data repr'><svg class='icon xr-icon-database'><use xlink:href='#icon-database'></use></svg></label><div class='xr-var-attrs'><dl class='xr-attrs'><dt><span>axis :</span></dt><dd>Z</dd><dt><span>name :</span></dt><dd>presnivs</dd><dt><span>standard_name :</span></dt><dd>Vertical levels</dd><dt><span>units :</span></dt><dd>Pa</dd><dt><span>_ChunkSizes :</span></dt><dd>79</dd></dl></div><div class='xr-var-data'><pre>array([1.012021e+05, 1.009424e+05, 1.006534e+05, 1.003319e+05, 9.997420e+04,\n",
       "       9.957655e+04, 9.913467e+04, 9.864384e+04, 9.809898e+04, 9.749448e+04,\n",
       "       9.682430e+04, 9.608191e+04, 9.526024e+04, 9.435173e+04, 9.334834e+04,\n",
       "       9.224155e+04, 9.102246e+04, 8.968182e+04, 8.821020e+04, 8.659811e+04,\n",
       "       8.483623e+04, 8.291569e+04, 8.082840e+04, 7.856748e+04, 7.612779e+04,\n",
       "       7.350645e+04, 7.070354e+04, 6.772281e+04, 6.457239e+04, 6.126538e+04,\n",
       "       5.782047e+04, 5.426217e+04, 5.062074e+04, 4.693169e+04, 4.323469e+04,\n",
       "       3.957199e+04, 3.598637e+04, 3.251885e+04, 2.920636e+04, 2.607983e+04,\n",
       "       2.316271e+04, 2.047042e+04, 1.801036e+04, 1.578271e+04, 1.378158e+04,\n",
       "       1.199642e+04, 1.041344e+04, 9.016865e+03, 7.790020e+03, 6.716147e+03,\n",
       "       5.778999e+03, 4.963233e+03, 4.254644e+03, 3.640276e+03, 3.108450e+03,\n",
       "       2.648733e+03, 2.251867e+03, 1.909687e+03, 1.615018e+03, 1.361581e+03,\n",
       "       1.143891e+03, 9.571722e+02, 7.972696e+02, 6.605754e+02, 5.439607e+02,\n",
       "       4.447146e+02, 3.604912e+02, 2.892627e+02, 2.292787e+02, 1.790303e+02,\n",
       "       1.372198e+02, 1.027344e+02, 7.462312e+01, 5.207758e+01, 3.441441e+01,\n",
       "       2.105668e+01, 1.150741e+01, 5.296797e+00, 1.483435e+00], dtype=float32)</pre></div></li><li class='xr-var-item'><div class='xr-var-name'><span>time_centered</span></div><div class='xr-var-dims'>(time_counter)</div><div class='xr-var-dtype'>datetime64[ns]</div><div class='xr-var-preview xr-preview'>...</div><input id='attrs-b42b0875-7ae7-45cc-b188-28b439449742' class='xr-var-attrs-in' type='checkbox' ><label for='attrs-b42b0875-7ae7-45cc-b188-28b439449742' title='Show/Hide attributes'><svg class='icon xr-icon-file-text2'><use xlink:href='#icon-file-text2'></use></svg></label><input id='data-6ee10491-d814-456b-ade3-a6781f978dcf' class='xr-var-data-in' type='checkbox'><label for='data-6ee10491-d814-456b-ade3-a6781f978dcf' title='Show/Hide data repr'><svg class='icon xr-icon-database'><use xlink:href='#icon-database'></use></svg></label><div class='xr-var-attrs'><dl class='xr-attrs'><dt><span>time_origin :</span></dt><dd>1979-01-01 00:00:00</dd><dt><span>bounds :</span></dt><dd>time_centered_bounds</dd><dt><span>standard_name :</span></dt><dd>time</dd><dt><span>long_name :</span></dt><dd>Time axis</dd><dt><span>_ChunkSizes :</span></dt><dd>1</dd></dl></div><div class='xr-var-data'><pre>[24 values with dtype=datetime64[ns]]</pre></div></li><li class='xr-var-item'><div class='xr-var-name'><span class='xr-has-index'>time_counter</span></div><div class='xr-var-dims'>(time_counter)</div><div class='xr-var-dtype'>datetime64[ns]</div><div class='xr-var-preview xr-preview'>1979-01-01T00:30:00 ... 1979-01-...</div><input id='attrs-ae84c1ad-4091-4448-9041-214af3c994c9' class='xr-var-attrs-in' type='checkbox' ><label for='attrs-ae84c1ad-4091-4448-9041-214af3c994c9' title='Show/Hide attributes'><svg class='icon xr-icon-file-text2'><use xlink:href='#icon-file-text2'></use></svg></label><input id='data-3ed6e1c2-4343-4bf9-884c-766ddd45169b' class='xr-var-data-in' type='checkbox'><label for='data-3ed6e1c2-4343-4bf9-884c-766ddd45169b' title='Show/Hide data repr'><svg class='icon xr-icon-database'><use xlink:href='#icon-database'></use></svg></label><div class='xr-var-attrs'><dl class='xr-attrs'><dt><span>axis :</span></dt><dd>T</dd><dt><span>standard_name :</span></dt><dd>time</dd><dt><span>long_name :</span></dt><dd>Time axis</dd><dt><span>time_origin :</span></dt><dd>1979-01-01 00:00:00</dd><dt><span>bounds :</span></dt><dd>time_counter_bounds</dd><dt><span>_ChunkSizes :</span></dt><dd>1</dd></dl></div><div class='xr-var-data'><pre>array([&#x27;1979-01-01T00:30:00.000000000&#x27;, &#x27;1979-01-01T01:30:00.000000000&#x27;,\n",
       "       &#x27;1979-01-01T02:30:00.000000000&#x27;, &#x27;1979-01-01T03:30:00.000000000&#x27;,\n",
       "       &#x27;1979-01-01T04:30:00.000000000&#x27;, &#x27;1979-01-01T05:30:00.000000000&#x27;,\n",
       "       &#x27;1979-01-01T06:30:00.000000000&#x27;, &#x27;1979-01-01T07:30:00.000000000&#x27;,\n",
       "       &#x27;1979-01-01T08:30:00.000000000&#x27;, &#x27;1979-01-01T09:30:00.000000000&#x27;,\n",
       "       &#x27;1979-01-01T10:30:00.000000000&#x27;, &#x27;1979-01-01T11:30:00.000000000&#x27;,\n",
       "       &#x27;1979-01-01T12:30:00.000000000&#x27;, &#x27;1979-01-01T13:30:00.000000000&#x27;,\n",
       "       &#x27;1979-01-01T14:30:00.000000000&#x27;, &#x27;1979-01-01T15:30:00.000000000&#x27;,\n",
       "       &#x27;1979-01-01T16:30:00.000000000&#x27;, &#x27;1979-01-01T17:30:00.000000000&#x27;,\n",
       "       &#x27;1979-01-01T18:30:00.000000000&#x27;, &#x27;1979-01-01T19:30:00.000000000&#x27;,\n",
       "       &#x27;1979-01-01T20:30:00.000000000&#x27;, &#x27;1979-01-01T21:30:00.000000000&#x27;,\n",
       "       &#x27;1979-01-01T22:30:00.000000000&#x27;, &#x27;1979-01-01T23:30:00.000000000&#x27;],\n",
       "      dtype=&#x27;datetime64[ns]&#x27;)</pre></div></li><li class='xr-var-item'><div class='xr-var-name'><span>time_instant</span></div><div class='xr-var-dims'>(time_counter)</div><div class='xr-var-dtype'>datetime64[ns]</div><div class='xr-var-preview xr-preview'>...</div><input id='attrs-da0370f8-df22-44a0-80fe-4b79f4e25a14' class='xr-var-attrs-in' type='checkbox' ><label for='attrs-da0370f8-df22-44a0-80fe-4b79f4e25a14' title='Show/Hide attributes'><svg class='icon xr-icon-file-text2'><use xlink:href='#icon-file-text2'></use></svg></label><input id='data-8f63368d-767a-41e7-ba3d-f0ab0ed4e0b3' class='xr-var-data-in' type='checkbox'><label for='data-8f63368d-767a-41e7-ba3d-f0ab0ed4e0b3' title='Show/Hide data repr'><svg class='icon xr-icon-database'><use xlink:href='#icon-database'></use></svg></label><div class='xr-var-attrs'><dl class='xr-attrs'><dt><span>standard_name :</span></dt><dd>time</dd><dt><span>long_name :</span></dt><dd>Time axis</dd><dt><span>time_origin :</span></dt><dd>1979-01-01 00:00:00</dd><dt><span>bounds :</span></dt><dd>time_instant_bounds</dd><dt><span>_ChunkSizes :</span></dt><dd>1</dd></dl></div><div class='xr-var-data'><pre>[24 values with dtype=datetime64[ns]]</pre></div></li></ul></div></li><li class='xr-section-item'><input id='section-5aebfd0f-5d51-4d53-b50b-63676012aef0' class='xr-section-summary-in' type='checkbox'  ><label for='section-5aebfd0f-5d51-4d53-b50b-63676012aef0' class='xr-section-summary' >Data variables: <span>(29)</span></label><div class='xr-section-inline-details'></div><div class='xr-section-details'><ul class='xr-var-list'><li class='xr-var-item'><div class='xr-var-name'><span>bounds_lon</span></div><div class='xr-var-dims'>(cell, nvertex)</div><div class='xr-var-dtype'>float32</div><div class='xr-var-preview xr-preview'>...</div><input id='attrs-1e96da40-0d25-420f-a3dc-70e7219b8ce1' class='xr-var-attrs-in' type='checkbox' ><label for='attrs-1e96da40-0d25-420f-a3dc-70e7219b8ce1' title='Show/Hide attributes'><svg class='icon xr-icon-file-text2'><use xlink:href='#icon-file-text2'></use></svg></label><input id='data-e62d9a2d-f0ed-4692-91dc-2b265b0d97e2' class='xr-var-data-in' type='checkbox'><label for='data-e62d9a2d-f0ed-4692-91dc-2b265b0d97e2' title='Show/Hide data repr'><svg class='icon xr-icon-database'><use xlink:href='#icon-database'></use></svg></label><div class='xr-var-attrs'><dl class='xr-attrs'><dt><span>_ChunkSizes :</span></dt><dd>[16002     6]</dd></dl></div><div class='xr-var-data'><pre>[96012 values with dtype=float32]</pre></div></li><li class='xr-var-item'><div class='xr-var-name'><span>bounds_lat</span></div><div class='xr-var-dims'>(cell, nvertex)</div><div class='xr-var-dtype'>float32</div><div class='xr-var-preview xr-preview'>...</div><input id='attrs-5e1345e6-fff8-4b39-8dc0-6af5b59170ac' class='xr-var-attrs-in' type='checkbox' ><label for='attrs-5e1345e6-fff8-4b39-8dc0-6af5b59170ac' title='Show/Hide attributes'><svg class='icon xr-icon-file-text2'><use xlink:href='#icon-file-text2'></use></svg></label><input id='data-7789cf89-49da-4aa4-9607-37be947f84a5' class='xr-var-data-in' type='checkbox'><label for='data-7789cf89-49da-4aa4-9607-37be947f84a5' title='Show/Hide data repr'><svg class='icon xr-icon-database'><use xlink:href='#icon-database'></use></svg></label><div class='xr-var-attrs'><dl class='xr-attrs'><dt><span>_ChunkSizes :</span></dt><dd>[16002     6]</dd></dl></div><div class='xr-var-data'><pre>[96012 values with dtype=float32]</pre></div></li><li class='xr-var-item'><div class='xr-var-name'><span>time_centered_bounds</span></div><div class='xr-var-dims'>(time_counter, axis_nbounds)</div><div class='xr-var-dtype'>datetime64[ns]</div><div class='xr-var-preview xr-preview'>...</div><input id='attrs-ac7a61b2-2bd0-428a-aa73-79a2b9644387' class='xr-var-attrs-in' type='checkbox' ><label for='attrs-ac7a61b2-2bd0-428a-aa73-79a2b9644387' title='Show/Hide attributes'><svg class='icon xr-icon-file-text2'><use xlink:href='#icon-file-text2'></use></svg></label><input id='data-8c12f9b9-bb58-4a18-98c0-cc8846479146' class='xr-var-data-in' type='checkbox'><label for='data-8c12f9b9-bb58-4a18-98c0-cc8846479146' title='Show/Hide data repr'><svg class='icon xr-icon-database'><use xlink:href='#icon-database'></use></svg></label><div class='xr-var-attrs'><dl class='xr-attrs'><dt><span>_ChunkSizes :</span></dt><dd>[1 2]</dd></dl></div><div class='xr-var-data'><pre>[48 values with dtype=datetime64[ns]]</pre></div></li><li class='xr-var-item'><div class='xr-var-name'><span>time_counter_bounds</span></div><div class='xr-var-dims'>(time_counter, axis_nbounds)</div><div class='xr-var-dtype'>datetime64[ns]</div><div class='xr-var-preview xr-preview'>...</div><input id='attrs-09ff019f-e8f5-4fc7-97ad-a4a2556f5e06' class='xr-var-attrs-in' type='checkbox' ><label for='attrs-09ff019f-e8f5-4fc7-97ad-a4a2556f5e06' title='Show/Hide attributes'><svg class='icon xr-icon-file-text2'><use xlink:href='#icon-file-text2'></use></svg></label><input id='data-e89649aa-97ed-463b-a7c1-612f595af144' class='xr-var-data-in' type='checkbox'><label for='data-e89649aa-97ed-463b-a7c1-612f595af144' title='Show/Hide data repr'><svg class='icon xr-icon-database'><use xlink:href='#icon-database'></use></svg></label><div class='xr-var-attrs'><dl class='xr-attrs'><dt><span>_ChunkSizes :</span></dt><dd>[1 2]</dd></dl></div><div class='xr-var-data'><pre>[48 values with dtype=datetime64[ns]]</pre></div></li><li class='xr-var-item'><div class='xr-var-name'><span>time_instant_bounds</span></div><div class='xr-var-dims'>(time_counter, axis_nbounds)</div><div class='xr-var-dtype'>datetime64[ns]</div><div class='xr-var-preview xr-preview'>...</div><input id='attrs-1dca43e1-7abf-4d53-a7d1-b692d449e4f8' class='xr-var-attrs-in' type='checkbox' ><label for='attrs-1dca43e1-7abf-4d53-a7d1-b692d449e4f8' title='Show/Hide attributes'><svg class='icon xr-icon-file-text2'><use xlink:href='#icon-file-text2'></use></svg></label><input id='data-978958d2-5e47-4612-820b-b719e6b9f2b6' class='xr-var-data-in' type='checkbox'><label for='data-978958d2-5e47-4612-820b-b719e6b9f2b6' title='Show/Hide data repr'><svg class='icon xr-icon-database'><use xlink:href='#icon-database'></use></svg></label><div class='xr-var-attrs'><dl class='xr-attrs'><dt><span>_ChunkSizes :</span></dt><dd>[1 2]</dd></dl></div><div class='xr-var-data'><pre>[48 values with dtype=datetime64[ns]]</pre></div></li><li class='xr-var-item'><div class='xr-var-name'><span>pmid</span></div><div class='xr-var-dims'>(time_counter, presnivs, cell)</div><div class='xr-var-dtype'>float64</div><div class='xr-var-preview xr-preview'>...</div><input id='attrs-de2bc7a4-1de6-481b-9bb3-1859ea0a9477' class='xr-var-attrs-in' type='checkbox' ><label for='attrs-de2bc7a4-1de6-481b-9bb3-1859ea0a9477' title='Show/Hide attributes'><svg class='icon xr-icon-file-text2'><use xlink:href='#icon-file-text2'></use></svg></label><input id='data-858ef161-b95b-42dd-aadc-3cff5bb3a926' class='xr-var-data-in' type='checkbox'><label for='data-858ef161-b95b-42dd-aadc-3cff5bb3a926' title='Show/Hide data repr'><svg class='icon xr-icon-database'><use xlink:href='#icon-database'></use></svg></label><div class='xr-var-attrs'><dl class='xr-attrs'><dt><span>long_name :</span></dt><dd>mid-level air pressure</dd><dt><span>units :</span></dt><dd>Pa</dd><dt><span>online_operation :</span></dt><dd>average</dd><dt><span>interval_operation :</span></dt><dd>900 s</dd><dt><span>interval_write :</span></dt><dd>1 h</dd><dt><span>cell_methods :</span></dt><dd>time: mean (interval: 900 s)</dd><dt><span>_ChunkSizes :</span></dt><dd>[    1    79 16002]</dd></dl></div><div class='xr-var-data'><pre>[30339792 values with dtype=float64]</pre></div></li><li class='xr-var-item'><div class='xr-var-name'><span>sh</span></div><div class='xr-var-dims'>(time_counter, presnivs, cell)</div><div class='xr-var-dtype'>float64</div><div class='xr-var-preview xr-preview'>...</div><input id='attrs-125dd055-97c3-48fc-8ef6-8a14c36e8b72' class='xr-var-attrs-in' type='checkbox' ><label for='attrs-125dd055-97c3-48fc-8ef6-8a14c36e8b72' title='Show/Hide attributes'><svg class='icon xr-icon-file-text2'><use xlink:href='#icon-file-text2'></use></svg></label><input id='data-6725c2f5-ba83-48f0-b9e4-61c1c7f8a895' class='xr-var-data-in' type='checkbox'><label for='data-6725c2f5-ba83-48f0-b9e4-61c1c7f8a895' title='Show/Hide data repr'><svg class='icon xr-icon-database'><use xlink:href='#icon-database'></use></svg></label><div class='xr-var-attrs'><dl class='xr-attrs'><dt><span>long_name :</span></dt><dd>water Mass Mixing Ratio</dd><dt><span>units :</span></dt><dd>kg kg-1</dd><dt><span>online_operation :</span></dt><dd>average</dd><dt><span>interval_operation :</span></dt><dd>900 s</dd><dt><span>interval_write :</span></dt><dd>1 h</dd><dt><span>cell_methods :</span></dt><dd>time: mean (interval: 900 s)</dd><dt><span>_ChunkSizes :</span></dt><dd>[    1    79 16002]</dd></dl></div><div class='xr-var-data'><pre>[30339792 values with dtype=float64]</pre></div></li><li class='xr-var-item'><div class='xr-var-name'><span>pdel</span></div><div class='xr-var-dims'>(time_counter, presnivs, cell)</div><div class='xr-var-dtype'>float64</div><div class='xr-var-preview xr-preview'>...</div><input id='attrs-0d5e2d8c-c714-4db1-9e60-d4ea4f5efc5f' class='xr-var-attrs-in' type='checkbox' ><label for='attrs-0d5e2d8c-c714-4db1-9e60-d4ea4f5efc5f' title='Show/Hide attributes'><svg class='icon xr-icon-file-text2'><use xlink:href='#icon-file-text2'></use></svg></label><input id='data-9b478370-9418-4cf9-afed-e35e2143dc21' class='xr-var-data-in' type='checkbox'><label for='data-9b478370-9418-4cf9-afed-e35e2143dc21' title='Show/Hide data repr'><svg class='icon xr-icon-database'><use xlink:href='#icon-database'></use></svg></label><div class='xr-var-attrs'><dl class='xr-attrs'><dt><span>long_name :</span></dt><dd>pressure difference model level</dd><dt><span>units :</span></dt><dd>K</dd><dt><span>online_operation :</span></dt><dd>average</dd><dt><span>interval_operation :</span></dt><dd>900 s</dd><dt><span>interval_write :</span></dt><dd>1 h</dd><dt><span>cell_methods :</span></dt><dd>time: mean (interval: 900 s)</dd><dt><span>_ChunkSizes :</span></dt><dd>[    1    79 16002]</dd></dl></div><div class='xr-var-data'><pre>[30339792 values with dtype=float64]</pre></div></li><li class='xr-var-item'><div class='xr-var-name'><span>zdens</span></div><div class='xr-var-dims'>(time_counter, presnivs, cell)</div><div class='xr-var-dtype'>float64</div><div class='xr-var-preview xr-preview'>...</div><input id='attrs-dd4c3616-84dd-45f9-aabf-c87d813ac7a5' class='xr-var-attrs-in' type='checkbox' ><label for='attrs-dd4c3616-84dd-45f9-aabf-c87d813ac7a5' title='Show/Hide attributes'><svg class='icon xr-icon-file-text2'><use xlink:href='#icon-file-text2'></use></svg></label><input id='data-17990c57-d800-4a8b-9cab-6eda0f084b97' class='xr-var-data-in' type='checkbox'><label for='data-17990c57-d800-4a8b-9cab-6eda0f084b97' title='Show/Hide data repr'><svg class='icon xr-icon-database'><use xlink:href='#icon-database'></use></svg></label><div class='xr-var-attrs'><dl class='xr-attrs'><dt><span>long_name :</span></dt><dd>masse volumique</dd><dt><span>units :</span></dt><dd>?</dd><dt><span>online_operation :</span></dt><dd>average</dd><dt><span>interval_operation :</span></dt><dd>900 s</dd><dt><span>interval_write :</span></dt><dd>1 h</dd><dt><span>cell_methods :</span></dt><dd>time: mean (interval: 900 s)</dd><dt><span>_ChunkSizes :</span></dt><dd>[    1    79 16002]</dd></dl></div><div class='xr-var-data'><pre>[30339792 values with dtype=float64]</pre></div></li><li class='xr-var-item'><div class='xr-var-name'><span>temp</span></div><div class='xr-var-dims'>(time_counter, presnivs, cell)</div><div class='xr-var-dtype'>float64</div><div class='xr-var-preview xr-preview'>...</div><input id='attrs-78e0445c-8c88-4e91-9bbe-0806a2575961' class='xr-var-attrs-in' type='checkbox' ><label for='attrs-78e0445c-8c88-4e91-9bbe-0806a2575961' title='Show/Hide attributes'><svg class='icon xr-icon-file-text2'><use xlink:href='#icon-file-text2'></use></svg></label><input id='data-62f7cb3a-06d6-4733-97c5-d5e59d9a37bc' class='xr-var-data-in' type='checkbox'><label for='data-62f7cb3a-06d6-4733-97c5-d5e59d9a37bc' title='Show/Hide data repr'><svg class='icon xr-icon-database'><use xlink:href='#icon-database'></use></svg></label><div class='xr-var-attrs'><dl class='xr-attrs'><dt><span>long_name :</span></dt><dd>temperature model level</dd><dt><span>units :</span></dt><dd>K</dd><dt><span>online_operation :</span></dt><dd>average</dd><dt><span>interval_operation :</span></dt><dd>900 s</dd><dt><span>interval_write :</span></dt><dd>1 h</dd><dt><span>cell_methods :</span></dt><dd>time: mean (interval: 900 s)</dd><dt><span>_ChunkSizes :</span></dt><dd>[    1    79 16002]</dd></dl></div><div class='xr-var-data'><pre>[30339792 values with dtype=float64]</pre></div></li><li class='xr-var-item'><div class='xr-var-name'><span>AIRMASS</span></div><div class='xr-var-dims'>(time_counter, presnivs, cell)</div><div class='xr-var-dtype'>float64</div><div class='xr-var-preview xr-preview'>...</div><input id='attrs-834bb91d-848d-4809-9130-8b0c863f2c36' class='xr-var-attrs-in' type='checkbox' ><label for='attrs-834bb91d-848d-4809-9130-8b0c863f2c36' title='Show/Hide attributes'><svg class='icon xr-icon-file-text2'><use xlink:href='#icon-file-text2'></use></svg></label><input id='data-88d9203b-3fb3-4a63-9a00-0f4776d78353' class='xr-var-data-in' type='checkbox'><label for='data-88d9203b-3fb3-4a63-9a00-0f4776d78353' title='Show/Hide data repr'><svg class='icon xr-icon-database'><use xlink:href='#icon-database'></use></svg></label><div class='xr-var-attrs'><dl class='xr-attrs'><dt><span>interval_operation :</span></dt><dd>900 s</dd><dt><span>interval_write :</span></dt><dd>1 h</dd><dt><span>cell_methods :</span></dt><dd>time: mean (interval: 900 s)</dd><dt><span>online_operation :</span></dt><dd>average</dd><dt><span>_ChunkSizes :</span></dt><dd>[    1    79 16002]</dd></dl></div><div class='xr-var-data'><pre>[30339792 values with dtype=float64]</pre></div></li><li class='xr-var-item'><div class='xr-var-name'><span>ps</span></div><div class='xr-var-dims'>(time_counter, cell)</div><div class='xr-var-dtype'>float64</div><div class='xr-var-preview xr-preview'>...</div><input id='attrs-6c7cf51c-2488-4ac3-8a1b-06847ad6beb3' class='xr-var-attrs-in' type='checkbox' ><label for='attrs-6c7cf51c-2488-4ac3-8a1b-06847ad6beb3' title='Show/Hide attributes'><svg class='icon xr-icon-file-text2'><use xlink:href='#icon-file-text2'></use></svg></label><input id='data-00f197e5-16a4-43dd-a8d2-0afb0dfcb42e' class='xr-var-data-in' type='checkbox'><label for='data-00f197e5-16a4-43dd-a8d2-0afb0dfcb42e' title='Show/Hide data repr'><svg class='icon xr-icon-database'><use xlink:href='#icon-database'></use></svg></label><div class='xr-var-attrs'><dl class='xr-attrs'><dt><span>long_name :</span></dt><dd>surface air pressure</dd><dt><span>units :</span></dt><dd>Pa</dd><dt><span>online_operation :</span></dt><dd>average</dd><dt><span>interval_operation :</span></dt><dd>900 s</dd><dt><span>interval_write :</span></dt><dd>1 h</dd><dt><span>cell_methods :</span></dt><dd>time: mean (interval: 900 s)</dd><dt><span>_ChunkSizes :</span></dt><dd>[    1 16002]</dd></dl></div><div class='xr-var-data'><pre>[384048 values with dtype=float64]</pre></div></li><li class='xr-var-item'><div class='xr-var-name'><span>area</span></div><div class='xr-var-dims'>(time_counter, cell)</div><div class='xr-var-dtype'>float64</div><div class='xr-var-preview xr-preview'>...</div><input id='attrs-e904d958-60d1-48b7-9597-b27d39301b48' class='xr-var-attrs-in' type='checkbox' ><label for='attrs-e904d958-60d1-48b7-9597-b27d39301b48' title='Show/Hide attributes'><svg class='icon xr-icon-file-text2'><use xlink:href='#icon-file-text2'></use></svg></label><input id='data-fd8bb8ce-f333-40cf-ba29-3a6723e75df8' class='xr-var-data-in' type='checkbox'><label for='data-fd8bb8ce-f333-40cf-ba29-3a6723e75df8' title='Show/Hide data repr'><svg class='icon xr-icon-database'><use xlink:href='#icon-database'></use></svg></label><div class='xr-var-attrs'><dl class='xr-attrs'><dt><span>long_name :</span></dt><dd>area of gridbox</dd><dt><span>units :</span></dt><dd>m2</dd><dt><span>online_operation :</span></dt><dd>instant</dd><dt><span>interval_operation :</span></dt><dd>900 s</dd><dt><span>interval_write :</span></dt><dd>1 h</dd><dt><span>cell_methods :</span></dt><dd>time: point (interval: 900 s)</dd><dt><span>_ChunkSizes :</span></dt><dd>[    1 16002]</dd></dl></div><div class='xr-var-data'><pre>[384048 values with dtype=float64]</pre></div></li><li class='xr-var-item'><div class='xr-var-name'><span>emirn222</span></div><div class='xr-var-dims'>(time_counter, cell)</div><div class='xr-var-dtype'>float64</div><div class='xr-var-preview xr-preview'>...</div><input id='attrs-bea9dcb4-855a-44d4-a5b2-c0389b0d1fce' class='xr-var-attrs-in' type='checkbox' ><label for='attrs-bea9dcb4-855a-44d4-a5b2-c0389b0d1fce' title='Show/Hide attributes'><svg class='icon xr-icon-file-text2'><use xlink:href='#icon-file-text2'></use></svg></label><input id='data-544d5495-87fc-463c-9408-ba1398ad99e3' class='xr-var-data-in' type='checkbox'><label for='data-544d5495-87fc-463c-9408-ba1398ad99e3' title='Show/Hide data repr'><svg class='icon xr-icon-database'><use xlink:href='#icon-database'></use></svg></label><div class='xr-var-attrs'><dl class='xr-attrs'><dt><span>long_name :</span></dt><dd>Total Emission Rate of Rn222</dd><dt><span>units :</span></dt><dd>kg m-2 s-1</dd><dt><span>online_operation :</span></dt><dd>average</dd><dt><span>interval_operation :</span></dt><dd>900 s</dd><dt><span>interval_write :</span></dt><dd>1 h</dd><dt><span>cell_methods :</span></dt><dd>time: mean (interval: 900 s)</dd><dt><span>_ChunkSizes :</span></dt><dd>[    1 16002]</dd></dl></div><div class='xr-var-data'><pre>[384048 values with dtype=float64]</pre></div></li><li class='xr-var-item'><div class='xr-var-name'><span>emipb210</span></div><div class='xr-var-dims'>(time_counter, cell)</div><div class='xr-var-dtype'>float64</div><div class='xr-var-preview xr-preview'>...</div><input id='attrs-9b36dec5-4fc4-424a-be4f-904c618f4b7a' class='xr-var-attrs-in' type='checkbox' ><label for='attrs-9b36dec5-4fc4-424a-be4f-904c618f4b7a' title='Show/Hide attributes'><svg class='icon xr-icon-file-text2'><use xlink:href='#icon-file-text2'></use></svg></label><input id='data-b411ee80-25db-49f8-a03f-0a610a590d86' class='xr-var-data-in' type='checkbox'><label for='data-b411ee80-25db-49f8-a03f-0a610a590d86' title='Show/Hide data repr'><svg class='icon xr-icon-database'><use xlink:href='#icon-database'></use></svg></label><div class='xr-var-attrs'><dl class='xr-attrs'><dt><span>long_name :</span></dt><dd>Total Emission Rate of Pb210</dd><dt><span>units :</span></dt><dd>kg m-2 s-1</dd><dt><span>online_operation :</span></dt><dd>average</dd><dt><span>interval_operation :</span></dt><dd>900 s</dd><dt><span>interval_write :</span></dt><dd>1 h</dd><dt><span>cell_methods :</span></dt><dd>time: mean (interval: 900 s)</dd><dt><span>_ChunkSizes :</span></dt><dd>[    1 16002]</dd></dl></div><div class='xr-var-data'><pre>[384048 values with dtype=float64]</pre></div></li><li class='xr-var-item'><div class='xr-var-name'><span>emimcf</span></div><div class='xr-var-dims'>(time_counter, cell)</div><div class='xr-var-dtype'>float64</div><div class='xr-var-preview xr-preview'>...</div><input id='attrs-f0f95b80-0fd5-4abc-bc54-fdc56474a413' class='xr-var-attrs-in' type='checkbox' ><label for='attrs-f0f95b80-0fd5-4abc-bc54-fdc56474a413' title='Show/Hide attributes'><svg class='icon xr-icon-file-text2'><use xlink:href='#icon-file-text2'></use></svg></label><input id='data-763dd9c5-a7fd-43ba-b696-e67a8f8d4c78' class='xr-var-data-in' type='checkbox'><label for='data-763dd9c5-a7fd-43ba-b696-e67a8f8d4c78' title='Show/Hide data repr'><svg class='icon xr-icon-database'><use xlink:href='#icon-database'></use></svg></label><div class='xr-var-attrs'><dl class='xr-attrs'><dt><span>long_name :</span></dt><dd>Total Emission Rate of MCF</dd><dt><span>units :</span></dt><dd>kg m-2 s-1</dd><dt><span>online_operation :</span></dt><dd>average</dd><dt><span>interval_operation :</span></dt><dd>900 s</dd><dt><span>interval_write :</span></dt><dd>1 h</dd><dt><span>cell_methods :</span></dt><dd>time: mean (interval: 900 s)</dd><dt><span>_ChunkSizes :</span></dt><dd>[    1 16002]</dd></dl></div><div class='xr-var-data'><pre>[384048 values with dtype=float64]</pre></div></li><li class='xr-var-item'><div class='xr-var-name'><span>emibe7</span></div><div class='xr-var-dims'>(time_counter, cell)</div><div class='xr-var-dtype'>float64</div><div class='xr-var-preview xr-preview'>...</div><input id='attrs-d0216afe-00e5-4293-a888-df562625e6f6' class='xr-var-attrs-in' type='checkbox' ><label for='attrs-d0216afe-00e5-4293-a888-df562625e6f6' title='Show/Hide attributes'><svg class='icon xr-icon-file-text2'><use xlink:href='#icon-file-text2'></use></svg></label><input id='data-df474552-9dec-4e24-a29b-a0c8a552ad76' class='xr-var-data-in' type='checkbox'><label for='data-df474552-9dec-4e24-a29b-a0c8a552ad76' title='Show/Hide data repr'><svg class='icon xr-icon-database'><use xlink:href='#icon-database'></use></svg></label><div class='xr-var-attrs'><dl class='xr-attrs'><dt><span>long_name :</span></dt><dd>Total Emission Rate of Be7</dd><dt><span>units :</span></dt><dd>kg m-2 s-1</dd><dt><span>online_operation :</span></dt><dd>average</dd><dt><span>interval_operation :</span></dt><dd>900 s</dd><dt><span>interval_write :</span></dt><dd>1 h</dd><dt><span>cell_methods :</span></dt><dd>time: mean (interval: 900 s)</dd><dt><span>_ChunkSizes :</span></dt><dd>[    1 16002]</dd></dl></div><div class='xr-var-data'><pre>[384048 values with dtype=float64]</pre></div></li><li class='xr-var-item'><div class='xr-var-name'><span>emin2o</span></div><div class='xr-var-dims'>(time_counter, cell)</div><div class='xr-var-dtype'>float64</div><div class='xr-var-preview xr-preview'>...</div><input id='attrs-507e37ee-2378-4fe9-bb2b-7970100c568a' class='xr-var-attrs-in' type='checkbox' ><label for='attrs-507e37ee-2378-4fe9-bb2b-7970100c568a' title='Show/Hide attributes'><svg class='icon xr-icon-file-text2'><use xlink:href='#icon-file-text2'></use></svg></label><input id='data-fcf04ef9-a0d8-44c8-a025-ee959f480deb' class='xr-var-data-in' type='checkbox'><label for='data-fcf04ef9-a0d8-44c8-a025-ee959f480deb' title='Show/Hide data repr'><svg class='icon xr-icon-database'><use xlink:href='#icon-database'></use></svg></label><div class='xr-var-attrs'><dl class='xr-attrs'><dt><span>long_name :</span></dt><dd>Total Emission Rate of N2O</dd><dt><span>units :</span></dt><dd>kg m-2 s-1</dd><dt><span>online_operation :</span></dt><dd>average</dd><dt><span>interval_operation :</span></dt><dd>900 s</dd><dt><span>interval_write :</span></dt><dd>1 h</dd><dt><span>cell_methods :</span></dt><dd>time: mean (interval: 900 s)</dd><dt><span>_ChunkSizes :</span></dt><dd>[    1 16002]</dd></dl></div><div class='xr-var-data'><pre>[384048 values with dtype=float64]</pre></div></li><li class='xr-var-item'><div class='xr-var-name'><span>emich4</span></div><div class='xr-var-dims'>(time_counter, cell)</div><div class='xr-var-dtype'>float64</div><div class='xr-var-preview xr-preview'>...</div><input id='attrs-155b2de0-705e-4ee7-a3a8-77981e24acd5' class='xr-var-attrs-in' type='checkbox' ><label for='attrs-155b2de0-705e-4ee7-a3a8-77981e24acd5' title='Show/Hide attributes'><svg class='icon xr-icon-file-text2'><use xlink:href='#icon-file-text2'></use></svg></label><input id='data-6ffd11b1-40e2-4ef7-adfb-68c921ca7848' class='xr-var-data-in' type='checkbox'><label for='data-6ffd11b1-40e2-4ef7-adfb-68c921ca7848' title='Show/Hide data repr'><svg class='icon xr-icon-database'><use xlink:href='#icon-database'></use></svg></label><div class='xr-var-attrs'><dl class='xr-attrs'><dt><span>long_name :</span></dt><dd>Total Emission Rate of CH4</dd><dt><span>units :</span></dt><dd>kg m-2 s-1</dd><dt><span>online_operation :</span></dt><dd>average</dd><dt><span>interval_operation :</span></dt><dd>900 s</dd><dt><span>interval_write :</span></dt><dd>1 h</dd><dt><span>cell_methods :</span></dt><dd>time: mean (interval: 900 s)</dd><dt><span>_ChunkSizes :</span></dt><dd>[    1 16002]</dd></dl></div><div class='xr-var-data'><pre>[384048 values with dtype=float64]</pre></div></li><li class='xr-var-item'><div class='xr-var-name'><span>emico</span></div><div class='xr-var-dims'>(time_counter, cell)</div><div class='xr-var-dtype'>float64</div><div class='xr-var-preview xr-preview'>...</div><input id='attrs-e567aa9b-9943-4bd9-8ffd-c67841627085' class='xr-var-attrs-in' type='checkbox' ><label for='attrs-e567aa9b-9943-4bd9-8ffd-c67841627085' title='Show/Hide attributes'><svg class='icon xr-icon-file-text2'><use xlink:href='#icon-file-text2'></use></svg></label><input id='data-f92999bd-0d82-41c4-a909-a5bc3a4aba12' class='xr-var-data-in' type='checkbox'><label for='data-f92999bd-0d82-41c4-a909-a5bc3a4aba12' title='Show/Hide data repr'><svg class='icon xr-icon-database'><use xlink:href='#icon-database'></use></svg></label><div class='xr-var-attrs'><dl class='xr-attrs'><dt><span>long_name :</span></dt><dd>Total Emission Rate of CO</dd><dt><span>units :</span></dt><dd>kg m-2 s-1</dd><dt><span>online_operation :</span></dt><dd>average</dd><dt><span>interval_operation :</span></dt><dd>900 s</dd><dt><span>interval_write :</span></dt><dd>1 h</dd><dt><span>cell_methods :</span></dt><dd>time: mean (interval: 900 s)</dd><dt><span>_ChunkSizes :</span></dt><dd>[    1 16002]</dd></dl></div><div class='xr-var-data'><pre>[384048 values with dtype=float64]</pre></div></li><li class='xr-var-item'><div class='xr-var-name'><span>emico2bih</span></div><div class='xr-var-dims'>(time_counter, cell)</div><div class='xr-var-dtype'>float64</div><div class='xr-var-preview xr-preview'>...</div><input id='attrs-2806457f-a802-4720-8bcf-9552a3dfb2f7' class='xr-var-attrs-in' type='checkbox' ><label for='attrs-2806457f-a802-4720-8bcf-9552a3dfb2f7' title='Show/Hide attributes'><svg class='icon xr-icon-file-text2'><use xlink:href='#icon-file-text2'></use></svg></label><input id='data-fa930742-5ddd-431d-a2e6-805dedbc5437' class='xr-var-data-in' type='checkbox'><label for='data-fa930742-5ddd-431d-a2e6-805dedbc5437' title='Show/Hide data repr'><svg class='icon xr-icon-database'><use xlink:href='#icon-database'></use></svg></label><div class='xr-var-attrs'><dl class='xr-attrs'><dt><span>long_name :</span></dt><dd>Total Emission Rate of CO2BIH</dd><dt><span>units :</span></dt><dd>kg m-2 s-1</dd><dt><span>online_operation :</span></dt><dd>average</dd><dt><span>interval_operation :</span></dt><dd>900 s</dd><dt><span>interval_write :</span></dt><dd>1 h</dd><dt><span>cell_methods :</span></dt><dd>time: mean (interval: 900 s)</dd><dt><span>_ChunkSizes :</span></dt><dd>[    1 16002]</dd></dl></div><div class='xr-var-data'><pre>[384048 values with dtype=float64]</pre></div></li><li class='xr-var-item'><div class='xr-var-name'><span>vmrrn222</span></div><div class='xr-var-dims'>(time_counter, presnivs, cell)</div><div class='xr-var-dtype'>float64</div><div class='xr-var-preview xr-preview'>...</div><input id='attrs-ba7a9018-c2df-486d-a70e-d8b255209b35' class='xr-var-attrs-in' type='checkbox' ><label for='attrs-ba7a9018-c2df-486d-a70e-d8b255209b35' title='Show/Hide attributes'><svg class='icon xr-icon-file-text2'><use xlink:href='#icon-file-text2'></use></svg></label><input id='data-0cee2aec-03a5-4722-8497-ba08f25322e6' class='xr-var-data-in' type='checkbox'><label for='data-0cee2aec-03a5-4722-8497-ba08f25322e6' title='Show/Hide data repr'><svg class='icon xr-icon-database'><use xlink:href='#icon-database'></use></svg></label><div class='xr-var-attrs'><dl class='xr-attrs'><dt><span>long_name :</span></dt><dd>Rn222 Volume Mixing Ratio</dd><dt><span>units :</span></dt><dd>mol mol-1</dd><dt><span>online_operation :</span></dt><dd>average</dd><dt><span>interval_operation :</span></dt><dd>900 s</dd><dt><span>interval_write :</span></dt><dd>1 h</dd><dt><span>cell_methods :</span></dt><dd>time: mean (interval: 900 s)</dd><dt><span>_ChunkSizes :</span></dt><dd>[    1    79 16002]</dd></dl></div><div class='xr-var-data'><pre>[30339792 values with dtype=float64]</pre></div></li><li class='xr-var-item'><div class='xr-var-name'><span>vmrpb210</span></div><div class='xr-var-dims'>(time_counter, presnivs, cell)</div><div class='xr-var-dtype'>float64</div><div class='xr-var-preview xr-preview'>...</div><input id='attrs-34ad3d66-c2cb-48e9-97f7-b200548281f0' class='xr-var-attrs-in' type='checkbox' ><label for='attrs-34ad3d66-c2cb-48e9-97f7-b200548281f0' title='Show/Hide attributes'><svg class='icon xr-icon-file-text2'><use xlink:href='#icon-file-text2'></use></svg></label><input id='data-be8c0bf2-8953-46c8-a054-529106605edf' class='xr-var-data-in' type='checkbox'><label for='data-be8c0bf2-8953-46c8-a054-529106605edf' title='Show/Hide data repr'><svg class='icon xr-icon-database'><use xlink:href='#icon-database'></use></svg></label><div class='xr-var-attrs'><dl class='xr-attrs'><dt><span>long_name :</span></dt><dd>Pb210 Volume Mixing Ratio</dd><dt><span>units :</span></dt><dd>mol mol-1</dd><dt><span>online_operation :</span></dt><dd>average</dd><dt><span>interval_operation :</span></dt><dd>900 s</dd><dt><span>interval_write :</span></dt><dd>1 h</dd><dt><span>cell_methods :</span></dt><dd>time: mean (interval: 900 s)</dd><dt><span>_ChunkSizes :</span></dt><dd>[    1    79 16002]</dd></dl></div><div class='xr-var-data'><pre>[30339792 values with dtype=float64]</pre></div></li><li class='xr-var-item'><div class='xr-var-name'><span>vmrmcf</span></div><div class='xr-var-dims'>(time_counter, presnivs, cell)</div><div class='xr-var-dtype'>float64</div><div class='xr-var-preview xr-preview'>...</div><input id='attrs-c9d610c5-96ab-49c7-a9f4-639bcb202d51' class='xr-var-attrs-in' type='checkbox' ><label for='attrs-c9d610c5-96ab-49c7-a9f4-639bcb202d51' title='Show/Hide attributes'><svg class='icon xr-icon-file-text2'><use xlink:href='#icon-file-text2'></use></svg></label><input id='data-dbe6d044-b1f9-4504-ac98-3cf172eb5368' class='xr-var-data-in' type='checkbox'><label for='data-dbe6d044-b1f9-4504-ac98-3cf172eb5368' title='Show/Hide data repr'><svg class='icon xr-icon-database'><use xlink:href='#icon-database'></use></svg></label><div class='xr-var-attrs'><dl class='xr-attrs'><dt><span>long_name :</span></dt><dd>MCF Volume Mixing Ratio</dd><dt><span>units :</span></dt><dd>mol mol-1</dd><dt><span>online_operation :</span></dt><dd>average</dd><dt><span>interval_operation :</span></dt><dd>900 s</dd><dt><span>interval_write :</span></dt><dd>1 h</dd><dt><span>cell_methods :</span></dt><dd>time: mean (interval: 900 s)</dd><dt><span>_ChunkSizes :</span></dt><dd>[    1    79 16002]</dd></dl></div><div class='xr-var-data'><pre>[30339792 values with dtype=float64]</pre></div></li><li class='xr-var-item'><div class='xr-var-name'><span>vmrbe7</span></div><div class='xr-var-dims'>(time_counter, presnivs, cell)</div><div class='xr-var-dtype'>float64</div><div class='xr-var-preview xr-preview'>...</div><input id='attrs-90c7f4c5-c8f0-4bcf-8c33-cbfecd4c191f' class='xr-var-attrs-in' type='checkbox' ><label for='attrs-90c7f4c5-c8f0-4bcf-8c33-cbfecd4c191f' title='Show/Hide attributes'><svg class='icon xr-icon-file-text2'><use xlink:href='#icon-file-text2'></use></svg></label><input id='data-e28a5d3c-4c6e-433d-a568-1ae25357bc7c' class='xr-var-data-in' type='checkbox'><label for='data-e28a5d3c-4c6e-433d-a568-1ae25357bc7c' title='Show/Hide data repr'><svg class='icon xr-icon-database'><use xlink:href='#icon-database'></use></svg></label><div class='xr-var-attrs'><dl class='xr-attrs'><dt><span>long_name :</span></dt><dd>Be7 Volume Mixing Ratio</dd><dt><span>units :</span></dt><dd>mol mol-1</dd><dt><span>online_operation :</span></dt><dd>average</dd><dt><span>interval_operation :</span></dt><dd>900 s</dd><dt><span>interval_write :</span></dt><dd>1 h</dd><dt><span>cell_methods :</span></dt><dd>time: mean (interval: 900 s)</dd><dt><span>_ChunkSizes :</span></dt><dd>[    1    79 16002]</dd></dl></div><div class='xr-var-data'><pre>[30339792 values with dtype=float64]</pre></div></li><li class='xr-var-item'><div class='xr-var-name'><span>vmrn2o</span></div><div class='xr-var-dims'>(time_counter, presnivs, cell)</div><div class='xr-var-dtype'>float64</div><div class='xr-var-preview xr-preview'>...</div><input id='attrs-b7afcab0-30ca-4b89-aa79-278f27ce5229' class='xr-var-attrs-in' type='checkbox' ><label for='attrs-b7afcab0-30ca-4b89-aa79-278f27ce5229' title='Show/Hide attributes'><svg class='icon xr-icon-file-text2'><use xlink:href='#icon-file-text2'></use></svg></label><input id='data-e3b87e69-26cc-4118-a566-52a0157f5607' class='xr-var-data-in' type='checkbox'><label for='data-e3b87e69-26cc-4118-a566-52a0157f5607' title='Show/Hide data repr'><svg class='icon xr-icon-database'><use xlink:href='#icon-database'></use></svg></label><div class='xr-var-attrs'><dl class='xr-attrs'><dt><span>long_name :</span></dt><dd>N2O Volume Mixing Ratio</dd><dt><span>units :</span></dt><dd>mol mol-1</dd><dt><span>online_operation :</span></dt><dd>average</dd><dt><span>interval_operation :</span></dt><dd>900 s</dd><dt><span>interval_write :</span></dt><dd>1 h</dd><dt><span>cell_methods :</span></dt><dd>time: mean (interval: 900 s)</dd><dt><span>_ChunkSizes :</span></dt><dd>[    1    79 16002]</dd></dl></div><div class='xr-var-data'><pre>[30339792 values with dtype=float64]</pre></div></li><li class='xr-var-item'><div class='xr-var-name'><span>vmrch4</span></div><div class='xr-var-dims'>(time_counter, presnivs, cell)</div><div class='xr-var-dtype'>float64</div><div class='xr-var-preview xr-preview'>...</div><input id='attrs-4143f057-caa3-4b29-a10d-59586966dc37' class='xr-var-attrs-in' type='checkbox' ><label for='attrs-4143f057-caa3-4b29-a10d-59586966dc37' title='Show/Hide attributes'><svg class='icon xr-icon-file-text2'><use xlink:href='#icon-file-text2'></use></svg></label><input id='data-63f5081f-0911-4ad8-a6d9-38ebfda8a254' class='xr-var-data-in' type='checkbox'><label for='data-63f5081f-0911-4ad8-a6d9-38ebfda8a254' title='Show/Hide data repr'><svg class='icon xr-icon-database'><use xlink:href='#icon-database'></use></svg></label><div class='xr-var-attrs'><dl class='xr-attrs'><dt><span>long_name :</span></dt><dd>CH4 Volume Mixing Ratio</dd><dt><span>units :</span></dt><dd>mol mol-1</dd><dt><span>online_operation :</span></dt><dd>average</dd><dt><span>interval_operation :</span></dt><dd>900 s</dd><dt><span>interval_write :</span></dt><dd>1 h</dd><dt><span>cell_methods :</span></dt><dd>time: mean (interval: 900 s)</dd><dt><span>_ChunkSizes :</span></dt><dd>[    1    79 16002]</dd></dl></div><div class='xr-var-data'><pre>[30339792 values with dtype=float64]</pre></div></li><li class='xr-var-item'><div class='xr-var-name'><span>vmrco</span></div><div class='xr-var-dims'>(time_counter, presnivs, cell)</div><div class='xr-var-dtype'>float64</div><div class='xr-var-preview xr-preview'>...</div><input id='attrs-c3b00735-37a9-4ab7-8700-9c6fceaf6130' class='xr-var-attrs-in' type='checkbox' ><label for='attrs-c3b00735-37a9-4ab7-8700-9c6fceaf6130' title='Show/Hide attributes'><svg class='icon xr-icon-file-text2'><use xlink:href='#icon-file-text2'></use></svg></label><input id='data-9cab938b-e5c3-4701-99dd-fe825eb28b06' class='xr-var-data-in' type='checkbox'><label for='data-9cab938b-e5c3-4701-99dd-fe825eb28b06' title='Show/Hide data repr'><svg class='icon xr-icon-database'><use xlink:href='#icon-database'></use></svg></label><div class='xr-var-attrs'><dl class='xr-attrs'><dt><span>long_name :</span></dt><dd>CO Volume Mixing Ratio</dd><dt><span>units :</span></dt><dd>mol mol-1</dd><dt><span>online_operation :</span></dt><dd>average</dd><dt><span>interval_operation :</span></dt><dd>900 s</dd><dt><span>interval_write :</span></dt><dd>1 h</dd><dt><span>cell_methods :</span></dt><dd>time: mean (interval: 900 s)</dd><dt><span>_ChunkSizes :</span></dt><dd>[    1    79 16002]</dd></dl></div><div class='xr-var-data'><pre>[30339792 values with dtype=float64]</pre></div></li><li class='xr-var-item'><div class='xr-var-name'><span>vmrco2bih</span></div><div class='xr-var-dims'>(time_counter, presnivs, cell)</div><div class='xr-var-dtype'>float64</div><div class='xr-var-preview xr-preview'>...</div><input id='attrs-f8f9ddbf-5879-4901-9939-efeadcdc9330' class='xr-var-attrs-in' type='checkbox' ><label for='attrs-f8f9ddbf-5879-4901-9939-efeadcdc9330' title='Show/Hide attributes'><svg class='icon xr-icon-file-text2'><use xlink:href='#icon-file-text2'></use></svg></label><input id='data-88dfb94b-8589-4a98-8e32-fa3290ff49e4' class='xr-var-data-in' type='checkbox'><label for='data-88dfb94b-8589-4a98-8e32-fa3290ff49e4' title='Show/Hide data repr'><svg class='icon xr-icon-database'><use xlink:href='#icon-database'></use></svg></label><div class='xr-var-attrs'><dl class='xr-attrs'><dt><span>long_name :</span></dt><dd>CO2BIH Volume Mixing Ratio</dd><dt><span>units :</span></dt><dd>mol mol-1</dd><dt><span>online_operation :</span></dt><dd>average</dd><dt><span>interval_operation :</span></dt><dd>900 s</dd><dt><span>interval_write :</span></dt><dd>1 h</dd><dt><span>cell_methods :</span></dt><dd>time: mean (interval: 900 s)</dd><dt><span>_ChunkSizes :</span></dt><dd>[    1    79 16002]</dd></dl></div><div class='xr-var-data'><pre>[30339792 values with dtype=float64]</pre></div></li></ul></div></li><li class='xr-section-item'><input id='section-c3812bb4-f9b6-469d-8187-1563fe9cc347' class='xr-section-summary-in' type='checkbox'  ><label for='section-c3812bb4-f9b6-469d-8187-1563fe9cc347' class='xr-section-summary' >Indexes: <span>(2)</span></label><div class='xr-section-inline-details'></div><div class='xr-section-details'><ul class='xr-var-list'><li class='xr-var-item'><div class='xr-index-name'><div>presnivs</div></div><div class='xr-index-preview'>PandasIndex</div><div></div><input id='index-53cbb38c-31b1-4ba2-b7fd-56be3705101d' class='xr-index-data-in' type='checkbox'/><label for='index-53cbb38c-31b1-4ba2-b7fd-56be3705101d' title='Show/Hide index repr'><svg class='icon xr-icon-database'><use xlink:href='#icon-database'></use></svg></label><div class='xr-index-data'><pre>PandasIndex(Float64Index([     101202.109375,     100942.4296875,     100653.4140625,\n",
       "                  100331.8515625,      99974.1953125,      99576.5546875,\n",
       "                    99134.671875,        98643.84375,      98098.9765625,\n",
       "                   97494.4765625,      96824.3046875,      96081.9140625,\n",
       "                   95260.2421875,       94351.734375,      93348.3359375,\n",
       "                   92241.5546875,      91022.4609375,      89681.8203125,\n",
       "                    88210.203125,       86598.109375,      84836.2265625,\n",
       "                      82915.6875,      80828.3984375,       78567.484375,\n",
       "                   76127.7890625,      73506.4453125,      70703.5390625,\n",
       "                      67722.8125,     64572.38671875,     61265.37890625,\n",
       "                     57820.46875,     54262.16796875,      50620.7421875,\n",
       "                      46931.6875,         43234.6875,     39571.98828125,\n",
       "                  35986.37109375,     32518.84765625,     29206.36328125,\n",
       "                 26079.826171875,    23162.712890625,    20470.419921875,\n",
       "                 18010.361328125,   15782.7099609375,   13781.5791015625,\n",
       "                    11996.421875,   10413.4404296875,     9016.865234375,\n",
       "                7790.02001953125,   6716.14697265625,    5778.9990234375,\n",
       "                4963.23291015625,    4254.6435546875,   3640.27587890625,\n",
       "                 3108.4501953125,  2648.732666015625,  2251.866943359375,\n",
       "               1909.686767578125,   1615.01806640625, 1361.5806884765625,\n",
       "              1143.8909912109375,  957.1721801757812,  797.2695922851562,\n",
       "                660.575439453125,   543.960693359375,  444.7145690917969,\n",
       "               360.4911804199219,     289.2626953125, 229.27865600585938,\n",
       "                  179.0302734375,  137.2198486328125, 102.73442840576172,\n",
       "               74.62312316894531, 52.077579498291016, 34.414405822753906,\n",
       "              21.056676864624023, 11.507408142089844,  5.296796798706055,\n",
       "              1.4834349155426025],\n",
       "             dtype=&#x27;float64&#x27;, name=&#x27;presnivs&#x27;))</pre></div></li><li class='xr-var-item'><div class='xr-index-name'><div>time_counter</div></div><div class='xr-index-preview'>PandasIndex</div><div></div><input id='index-3fba11f9-7c72-4126-946b-a8d86eda2b8b' class='xr-index-data-in' type='checkbox'/><label for='index-3fba11f9-7c72-4126-946b-a8d86eda2b8b' title='Show/Hide index repr'><svg class='icon xr-icon-database'><use xlink:href='#icon-database'></use></svg></label><div class='xr-index-data'><pre>PandasIndex(DatetimeIndex([&#x27;1979-01-01 00:30:00&#x27;, &#x27;1979-01-01 01:30:00&#x27;,\n",
       "               &#x27;1979-01-01 02:30:00&#x27;, &#x27;1979-01-01 03:30:00&#x27;,\n",
       "               &#x27;1979-01-01 04:30:00&#x27;, &#x27;1979-01-01 05:30:00&#x27;,\n",
       "               &#x27;1979-01-01 06:30:00&#x27;, &#x27;1979-01-01 07:30:00&#x27;,\n",
       "               &#x27;1979-01-01 08:30:00&#x27;, &#x27;1979-01-01 09:30:00&#x27;,\n",
       "               &#x27;1979-01-01 10:30:00&#x27;, &#x27;1979-01-01 11:30:00&#x27;,\n",
       "               &#x27;1979-01-01 12:30:00&#x27;, &#x27;1979-01-01 13:30:00&#x27;,\n",
       "               &#x27;1979-01-01 14:30:00&#x27;, &#x27;1979-01-01 15:30:00&#x27;,\n",
       "               &#x27;1979-01-01 16:30:00&#x27;, &#x27;1979-01-01 17:30:00&#x27;,\n",
       "               &#x27;1979-01-01 18:30:00&#x27;, &#x27;1979-01-01 19:30:00&#x27;,\n",
       "               &#x27;1979-01-01 20:30:00&#x27;, &#x27;1979-01-01 21:30:00&#x27;,\n",
       "               &#x27;1979-01-01 22:30:00&#x27;, &#x27;1979-01-01 23:30:00&#x27;],\n",
       "              dtype=&#x27;datetime64[ns]&#x27;, name=&#x27;time_counter&#x27;, freq=None))</pre></div></li></ul></div></li><li class='xr-section-item'><input id='section-07ad2b6f-ff2b-4d17-b8a7-5180d2d33730' class='xr-section-summary-in' type='checkbox'  ><label for='section-07ad2b6f-ff2b-4d17-b8a7-5180d2d33730' class='xr-section-summary' >Attributes: <span>(10)</span></label><div class='xr-section-inline-details'></div><div class='xr-section-details'><dl class='xr-attrs'><dt><span>_NCProperties :</span></dt><dd>version=1|netcdflibversion=4.6.0|hdf5libversion=1.8.20</dd><dt><span>name :</span></dt><dd>inca1d_ges</dd><dt><span>description :</span></dt><dd>Created by xios</dd><dt><span>title :</span></dt><dd>Created by xios</dd><dt><span>Conventions :</span></dt><dd>CF-1.6</dd><dt><span>timeStamp :</span></dt><dd>2022-Apr-05 08:59:15 GMT</dd><dt><span>uuid :</span></dt><dd>8982bdb7-b650-45c4-896c-e228bec0cb5a</dd><dt><span>history :</span></dt><dd>Fri Apr 15 12:05:37 2022: ncatted -O -a axis,presnivs,o,c,Z ICO.79.1jour.native.1_19790101_19790101_1D_inca_ges.nc</dd><dt><span>NCO :</span></dt><dd>4.6.9</dd><dt><span>DODS_EXTRA.Unlimited_Dimension :</span></dt><dd>time_counter</dd></dl></div></li></ul></div></div>"
      ],
      "text/plain": [
       "<xarray.Dataset>\n",
       "Dimensions:               (cell: 16002, nvertex: 6, presnivs: 79,\n",
       "                           time_counter: 24, axis_nbounds: 2)\n",
       "Coordinates:\n",
       "    lat                   (cell) float32 ...\n",
       "    lon                   (cell) float32 ...\n",
       "  * presnivs              (presnivs) float32 1.012e+05 1.009e+05 ... 5.297 1.483\n",
       "    time_centered         (time_counter) datetime64[ns] ...\n",
       "  * time_counter          (time_counter) datetime64[ns] 1979-01-01T00:30:00 ....\n",
       "    time_instant          (time_counter) datetime64[ns] ...\n",
       "Dimensions without coordinates: cell, nvertex, axis_nbounds\n",
       "Data variables: (12/29)\n",
       "    bounds_lon            (cell, nvertex) float32 ...\n",
       "    bounds_lat            (cell, nvertex) float32 ...\n",
       "    time_centered_bounds  (time_counter, axis_nbounds) datetime64[ns] ...\n",
       "    time_counter_bounds   (time_counter, axis_nbounds) datetime64[ns] ...\n",
       "    time_instant_bounds   (time_counter, axis_nbounds) datetime64[ns] ...\n",
       "    pmid                  (time_counter, presnivs, cell) float64 ...\n",
       "    ...                    ...\n",
       "    vmrmcf                (time_counter, presnivs, cell) float64 ...\n",
       "    vmrbe7                (time_counter, presnivs, cell) float64 ...\n",
       "    vmrn2o                (time_counter, presnivs, cell) float64 ...\n",
       "    vmrch4                (time_counter, presnivs, cell) float64 ...\n",
       "    vmrco                 (time_counter, presnivs, cell) float64 ...\n",
       "    vmrco2bih             (time_counter, presnivs, cell) float64 ...\n",
       "Attributes:\n",
       "    _NCProperties:                   version=1|netcdflibversion=4.6.0|hdf5lib...\n",
       "    name:                            inca1d_ges\n",
       "    description:                     Created by xios\n",
       "    title:                           Created by xios\n",
       "    Conventions:                     CF-1.6\n",
       "    timeStamp:                       2022-Apr-05 08:59:15 GMT\n",
       "    uuid:                            8982bdb7-b650-45c4-896c-e228bec0cb5a\n",
       "    history:                         Fri Apr 15 12:05:37 2022: ncatted -O -a ...\n",
       "    NCO:                             4.6.9\n",
       "    DODS_EXTRA.Unlimited_Dimension:  time_counter"
      ]
     },
     "execution_count": 4,
     "metadata": {},
     "output_type": "execute_result"
    }
   ],
   "source": [
    "ds = xr.open_dataset(\"https://thredds-su.ipsl.fr/thredds/dodsC/ipsl_thredds/brocksce/ICO/ICO.79.1jour.native.1_19790101_19790101_1D_inca_ges.nc\")\n",
    "ds"
   ]
  },
  {
   "cell_type": "code",
   "execution_count": 5,
   "id": "c82bee03",
   "metadata": {
    "execution": {
     "iopub.execute_input": "2023-02-14T18:10:32.093695Z",
     "iopub.status.busy": "2023-02-14T18:10:32.093310Z",
     "iopub.status.idle": "2023-02-14T18:10:32.300973Z",
     "shell.execute_reply": "2023-02-14T18:10:32.298735Z",
     "shell.execute_reply.started": "2023-02-14T18:10:32.093664Z"
    },
    "tags": []
   },
   "outputs": [
    {
     "name": "stdout",
     "output_type": "stream",
     "text": [
      "6\n",
      "(16002, 6)\n"
     ]
    }
   ],
   "source": [
    "blon = ds['bounds_lon'].to_numpy()\n",
    "blat = ds['bounds_lat'].to_numpy()\n",
    "nvertex = blon.shape[-1]\n",
    "print(nvertex)\n",
    "\n",
    "blon = blon.reshape(-1, nvertex)\n",
    "blat = blat.reshape(-1, nvertex)\n",
    "print(blon.shape)\n",
    "\n",
    "arr = ds['bounds_lon'].to_numpy()\n",
    "blon = arr.reshape(-1, arr.shape[-1])\n",
    "arr = ds['bounds_lat'].to_numpy()\n",
    "blat = arr.reshape(-1, arr.shape[-1])"
   ]
  },
  {
   "cell_type": "code",
   "execution_count": 6,
   "id": "e6761515",
   "metadata": {
    "execution": {
     "iopub.execute_input": "2023-02-14T18:10:32.303770Z",
     "iopub.status.busy": "2023-02-14T18:10:32.303335Z",
     "iopub.status.idle": "2023-02-14T18:10:32.314211Z",
     "shell.execute_reply": "2023-02-14T18:10:32.312563Z",
     "shell.execute_reply.started": "2023-02-14T18:10:32.303731Z"
    },
    "tags": []
   },
   "outputs": [],
   "source": [
    "deg2rad = np.pi/180.\n",
    "x = np.cos(blat*deg2rad)*np.cos(blon*deg2rad)\n",
    "y = np.cos(blat*deg2rad)*np.sin(blon*deg2rad)\n",
    "z = np.sin(blat*deg2rad)"
   ]
  },
  {
   "cell_type": "code",
   "execution_count": 7,
   "id": "75f83291-d3bc-4a55-8a73-6c8a6acd6e35",
   "metadata": {
    "execution": {
     "iopub.execute_input": "2023-02-14T18:10:32.317316Z",
     "iopub.status.busy": "2023-02-14T18:10:32.316499Z",
     "iopub.status.idle": "2023-02-14T18:10:32.324011Z",
     "shell.execute_reply": "2023-02-14T18:10:32.323098Z",
     "shell.execute_reply.started": "2023-02-14T18:10:32.317288Z"
    },
    "tags": []
   },
   "outputs": [],
   "source": [
    "points = np.stack((x,y,z), axis=2).reshape(x.size, 3)\n",
    "faces = np.arange(x.shape[0] * nvertex).reshape(x.shape[0], nvertex)\n",
    "faces = np.insert(faces, 0, nvertex, axis=1)"
   ]
  },
  {
   "cell_type": "code",
   "execution_count": 8,
   "id": "475a5a6c",
   "metadata": {
    "execution": {
     "iopub.execute_input": "2023-02-14T18:10:32.599872Z",
     "iopub.status.busy": "2023-02-14T18:10:32.598904Z",
     "iopub.status.idle": "2023-02-14T18:10:32.613690Z",
     "shell.execute_reply": "2023-02-14T18:10:32.612483Z",
     "shell.execute_reply.started": "2023-02-14T18:10:32.599780Z"
    },
    "tags": []
   },
   "outputs": [
    {
     "data": {
      "text/html": [
       "\n",
       "<table>\n",
       "<tr><th>PolyData</th><th>Information</th></tr>\n",
       "<tr><td>N Cells</td><td>16002</td></tr>\n",
       "<tr><td>N Points</td><td>96012</td></tr>\n",
       "<tr><td>N Strips</td><td>0</td></tr>\n",
       "<tr><td>X Bounds</td><td>-1.000e+00, 1.000e+00</td></tr>\n",
       "<tr><td>Y Bounds</td><td>-9.998e-01, 9.998e-01</td></tr>\n",
       "<tr><td>Z Bounds</td><td>-9.999e-01, 9.999e-01</td></tr>\n",
       "<tr><td>N Arrays</td><td>0</td></tr>\n",
       "</table>\n",
       "\n"
      ],
      "text/plain": [
       "PolyData (0x7f186d4b73a0)\n",
       "  N Cells:    16002\n",
       "  N Points:   96012\n",
       "  N Strips:   0\n",
       "  X Bounds:   -1.000e+00, 1.000e+00\n",
       "  Y Bounds:   -9.998e-01, 9.998e-01\n",
       "  Z Bounds:   -9.999e-01, 9.999e-01\n",
       "  N Arrays:   0"
      ]
     },
     "execution_count": 8,
     "metadata": {},
     "output_type": "execute_result"
    }
   ],
   "source": [
    "mesh = pv.PolyData(points, faces)\n",
    "mesh"
   ]
  },
  {
   "cell_type": "code",
   "execution_count": 9,
   "id": "ee5c4796-8776-4aec-ba24-ab07f81e394a",
   "metadata": {
    "execution": {
     "iopub.execute_input": "2023-02-14T18:10:32.761150Z",
     "iopub.status.busy": "2023-02-14T18:10:32.760443Z",
     "iopub.status.idle": "2023-02-14T18:10:32.806826Z",
     "shell.execute_reply": "2023-02-14T18:10:32.805531Z",
     "shell.execute_reply.started": "2023-02-14T18:10:32.761074Z"
    },
    "tags": []
   },
   "outputs": [
    {
     "data": {
      "text/html": [
       "\n",
       "<table>\n",
       "<tr><th>PolyData</th><th>Information</th></tr>\n",
       "<tr><td>N Cells</td><td>16002</td></tr>\n",
       "<tr><td>N Points</td><td>32000</td></tr>\n",
       "<tr><td>N Strips</td><td>0</td></tr>\n",
       "<tr><td>X Bounds</td><td>-1.000e+00, 1.000e+00</td></tr>\n",
       "<tr><td>Y Bounds</td><td>-9.998e-01, 9.998e-01</td></tr>\n",
       "<tr><td>Z Bounds</td><td>-9.999e-01, 9.999e-01</td></tr>\n",
       "<tr><td>N Arrays</td><td>0</td></tr>\n",
       "</table>\n",
       "\n"
      ],
      "text/plain": [
       "PolyData (0x7f186d4b78e0)\n",
       "  N Cells:    16002\n",
       "  N Points:   32000\n",
       "  N Strips:   0\n",
       "  X Bounds:   -1.000e+00, 1.000e+00\n",
       "  Y Bounds:   -9.998e-01, 9.998e-01\n",
       "  Z Bounds:   -9.999e-01, 9.999e-01\n",
       "  N Arrays:   0"
      ]
     },
     "execution_count": 9,
     "metadata": {},
     "output_type": "execute_result"
    }
   ],
   "source": [
    "mesh = pv.PolyData(points, faces)\n",
    "mesh.clean(inplace=True, tolerance=0.001)\n",
    "mesh"
   ]
  },
  {
   "cell_type": "code",
   "execution_count": 10,
   "id": "6f8d378d",
   "metadata": {
    "execution": {
     "iopub.execute_input": "2023-02-14T18:10:32.906945Z",
     "iopub.status.busy": "2023-02-14T18:10:32.906485Z",
     "iopub.status.idle": "2023-02-14T18:10:32.914268Z",
     "shell.execute_reply": "2023-02-14T18:10:32.912330Z",
     "shell.execute_reply.started": "2023-02-14T18:10:32.906906Z"
    },
    "tags": []
   },
   "outputs": [
    {
     "name": "stdout",
     "output_type": "stream",
     "text": [
      "(24, 79, 16002)\n"
     ]
    }
   ],
   "source": [
    "var = ds['temp']\n",
    "print(var.shape)"
   ]
  },
  {
   "cell_type": "code",
   "execution_count": 11,
   "id": "78bcbf9d",
   "metadata": {
    "execution": {
     "iopub.execute_input": "2023-02-14T18:10:33.077234Z",
     "iopub.status.busy": "2023-02-14T18:10:33.076286Z",
     "iopub.status.idle": "2023-02-14T18:10:33.086247Z",
     "shell.execute_reply": "2023-02-14T18:10:33.084953Z",
     "shell.execute_reply.started": "2023-02-14T18:10:33.077175Z"
    },
    "tags": []
   },
   "outputs": [
    {
     "data": {
      "text/plain": [
       "(78, 23)"
      ]
     },
     "execution_count": 11,
     "metadata": {},
     "output_type": "execute_result"
    }
   ],
   "source": [
    "kmax = var.shape[1]-1\n",
    "lmax = var.shape[0]-1\n",
    "kmax, lmax"
   ]
  },
  {
   "cell_type": "code",
   "execution_count": 12,
   "id": "4ca83fbd",
   "metadata": {
    "execution": {
     "iopub.execute_input": "2023-02-14T18:10:34.038968Z",
     "iopub.status.busy": "2023-02-14T18:10:34.037289Z",
     "iopub.status.idle": "2023-02-14T18:10:34.079513Z",
     "shell.execute_reply": "2023-02-14T18:10:34.078471Z",
     "shell.execute_reply.started": "2023-02-14T18:10:34.038916Z"
    },
    "tags": []
   },
   "outputs": [
    {
     "name": "stdout",
     "output_type": "stream",
     "text": [
      "233.364045 302.943871\n"
     ]
    }
   ],
   "source": [
    "var = ds['temp'][0,0]\n",
    "varmin = np.min(var)\n",
    "varmax = np.max(var)\n",
    "print(\"%f %f\" %(varmin, varmax))"
   ]
  },
  {
   "cell_type": "code",
   "execution_count": 13,
   "id": "6af4e693",
   "metadata": {
    "execution": {
     "iopub.execute_input": "2023-02-14T18:10:34.923587Z",
     "iopub.status.busy": "2023-02-14T18:10:34.922958Z",
     "iopub.status.idle": "2023-02-14T18:10:35.057762Z",
     "shell.execute_reply": "2023-02-14T18:10:35.056700Z",
     "shell.execute_reply.started": "2023-02-14T18:10:34.923527Z"
    },
    "tags": []
   },
   "outputs": [
    {
     "name": "stdout",
     "output_type": "stream",
     "text": [
      "Fichier «continents.vtk» déjà présent ; pas de récupération.\n",
      "\n"
     ]
    }
   ],
   "source": [
    "! wget -nc https://thredds-su.ipsl.fr/thredds/fileServer/ipsl_thredds/brocksce/pyvista/continents.vtk"
   ]
  },
  {
   "cell_type": "code",
   "execution_count": 14,
   "id": "c876e9ea-cd2a-4dd4-9b02-627a9895d1ac",
   "metadata": {
    "execution": {
     "iopub.execute_input": "2023-02-14T18:10:36.218701Z",
     "iopub.status.busy": "2023-02-14T18:10:36.216426Z",
     "iopub.status.idle": "2023-02-14T18:10:36.372448Z",
     "shell.execute_reply": "2023-02-14T18:10:36.371367Z",
     "shell.execute_reply.started": "2023-02-14T18:10:36.218564Z"
    },
    "tags": []
   },
   "outputs": [
    {
     "data": {
      "application/vnd.jupyter.widget-view+json": {
       "model_id": "3e49099b8a394e2d97cbb5d3a60c7885",
       "version_major": 2,
       "version_minor": 0
      },
      "text/plain": [
       "Widget(value=\"<iframe src='http://localhost:46475/index.html?ui=P_0x7f186d553520_0&reconnect=auto' style='widt…"
      ]
     },
     "metadata": {},
     "output_type": "display_data"
    },
    {
     "data": {
      "application/vnd.jupyter.widget-view+json": {
       "model_id": "b3d978b1fc9f4dc5b603e3da1e840bc5",
       "version_major": 2,
       "version_minor": 0
      },
      "text/plain": [
       "HBox(children=(VBox(children=(IntSlider(value=0, description='k-index:', max=78), IntSlider(value=0, descripti…"
      ]
     },
     "metadata": {},
     "output_type": "display_data"
    }
   ],
   "source": [
    "import pyvista as pv\n",
    "from ipywidgets import interact\n",
    "\n",
    "pv.set_jupyter_backend('trame')\n",
    "\n",
    "pl = pv.Plotter()\n",
    "pl.set_background('lightgray')\n",
    "\n",
    "varname = 'temp'\n",
    "kindex = 0\n",
    "lindex = 0\n",
    "var = ds[varname][lindex,kindex]\n",
    "clim = [240, 300]\n",
    "cmap = 'plasma'\n",
    "\n",
    "continents = pv.PolyData('continents.vtk')\n",
    "pl.add_mesh(continents, color='white')\n",
    "mesh_actor = pl.add_mesh(mesh, scalars=var, show_edges=False, clim=clim, cmap=cmap, show_scalar_bar=False)\n",
    "scalarBar_actor = pl.add_scalar_bar(title=varname, color='black')\n",
    "pl.show(jupyter_backend='client')\n",
    "\n",
    "def plot(kindex, lindex, clim, cmap):\n",
    "    global mesh_actor, scalarBar_actor\n",
    "    var = ds[varname][lindex, kindex]\n",
    "    pl.remove_actor(mesh_actor)\n",
    "    pl.remove_actor(scalarBar_actor)\n",
    "    mesh_actor = pl.add_mesh(mesh, scalars=var, show_edges=False, clim=clim, cmap=cmap, show_scalar_bar=False)\n",
    "    scalarBar_actor = pl.add_scalar_bar(title=varname, color='black')\n",
    "    pl.render()\n",
    "    \n",
    "widget_k = widgets.IntSlider(min=0, max=kmax, step=1, description='k-index:')\n",
    "widget_l = widgets.IntSlider(min=0, max=lmax, step=1, description='l-index:')\n",
    "widget_clim = widgets.Button(description=\"Update range\")\n",
    "widget_cmap = widgets.Dropdown(options=matplotlib.colormaps(), value=cmap, description='cmap:')\n",
    "#widget_output = widgets.Output()\n",
    "\n",
    "def on_kvalue_change(change):\n",
    "    global kindex\n",
    "    kindex=change['new']\n",
    "    plot(kindex, lindex, clim, cmap)\n",
    "\n",
    "def on_lvalue_change(change):\n",
    "    global lindex\n",
    "    lindex=change['new']\n",
    "    plot(kindex, lindex, clim, cmap)\n",
    "\n",
    "def on_button_clicked(b):\n",
    "    global varmin, varmax, clim\n",
    "    var = ds[varname][lindex,kindex]\n",
    "    varmin = float(np.min(var))\n",
    "    varmax = float(np.max(var))\n",
    "    clim = [varmin, varmax]\n",
    "    plot(kindex, lindex, clim, cmap)\n",
    "\n",
    "def on_cmap_change(change):\n",
    "    global cmap\n",
    "    cmap = change['new']\n",
    "    plot(kindex, lindex, clim, cmap)\n",
    "    \n",
    "widget_k.observe(on_kvalue_change, names='value')\n",
    "widget_l.observe(on_lvalue_change, names='value')\n",
    "widget_clim.on_click(on_button_clicked)\n",
    "widget_cmap.observe(on_cmap_change, names='value')\n",
    "\n",
    "display( widgets.HBox([widgets.VBox([widget_k, widget_l, widget_cmap]), widgets.VBox([widget_clim])]) )"
   ]
  },
  {
   "cell_type": "code",
   "execution_count": null,
   "id": "7a2ada56-a232-4fd7-b506-fb6bba602dc7",
   "metadata": {},
   "outputs": [],
   "source": []
  }
 ],
 "metadata": {
  "kernelspec": {
   "display_name": "Python 3 (ipykernel)",
   "language": "python",
   "name": "python3"
  },
  "language_info": {
   "codemirror_mode": {
    "name": "ipython",
    "version": 3
   },
   "file_extension": ".py",
   "mimetype": "text/x-python",
   "name": "python",
   "nbconvert_exporter": "python",
   "pygments_lexer": "ipython3",
   "version": "3.10.9"
  }
 },
 "nbformat": 4,
 "nbformat_minor": 5
}
