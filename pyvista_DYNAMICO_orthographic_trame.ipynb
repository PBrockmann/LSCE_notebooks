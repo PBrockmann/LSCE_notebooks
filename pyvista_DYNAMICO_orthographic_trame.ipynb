{
 "cells": [
  {
   "cell_type": "markdown",
   "id": "91ed21c4-8757-4313-877a-0348851c2e96",
   "metadata": {
    "execution": {
     "iopub.execute_input": "2023-02-14T14:06:00.035712Z",
     "iopub.status.busy": "2023-02-14T14:06:00.035342Z",
     "iopub.status.idle": "2023-02-14T14:06:00.040178Z",
     "shell.execute_reply": "2023-02-14T14:06:00.039307Z",
     "shell.execute_reply.started": "2023-02-14T14:06:00.035681Z"
    },
    "tags": []
   },
   "source": [
    "### https://github.com/pyvista/pyvista/discussions/2567"
   ]
  },
  {
   "cell_type": "code",
   "execution_count": 1,
   "id": "b960092c-252c-49b1-a9be-33ee4513d251",
   "metadata": {
    "execution": {
     "iopub.execute_input": "2023-02-14T17:27:56.245099Z",
     "iopub.status.busy": "2023-02-14T17:27:56.244535Z",
     "iopub.status.idle": "2023-02-14T17:27:57.299535Z",
     "shell.execute_reply": "2023-02-14T17:27:57.298677Z",
     "shell.execute_reply.started": "2023-02-14T17:27:56.245046Z"
    },
    "tags": []
   },
   "outputs": [
    {
     "data": {
      "application/vnd.jupyter.widget-view+json": {
       "model_id": "6e0cb1aee69d4470b0cb4f45bf0c13b7",
       "version_major": 2,
       "version_minor": 0
      },
      "text/plain": [
       "Widget(value=\"<iframe src='http://localhost:35527/index.html?ui=P_0x7fe7d1d2bf70_0&reconnect=auto' style='widt…"
      ]
     },
     "metadata": {},
     "output_type": "display_data"
    },
    {
     "data": {
      "application/vnd.jupyter.widget-view+json": {
       "model_id": "f4ec37b9012b42c5966d705ece91e7ad",
       "version_major": 2,
       "version_minor": 0
      },
      "text/plain": [
       "interactive(children=(IntSlider(value=6, description='resolution', max=20, min=3), Output()), _dom_classes=('w…"
      ]
     },
     "metadata": {},
     "output_type": "display_data"
    }
   ],
   "source": [
    "import vtk\n",
    "import pyvista as pv\n",
    "from ipywidgets import interact\n",
    "\n",
    "pv.set_jupyter_backend('trame')\n",
    "\n",
    "pl = pv.Plotter()\n",
    "#c = pv.Cone(resolution=6)\n",
    "c = vtk.vtkConeSource()\n",
    "c_actor = pl.add_mesh(c)\n",
    "pl.show(jupyter_backend='client')\n",
    "\n",
    "def plot(resolution=6):\n",
    "    #c.shallow_copy(pv.Cone(resolution=resolution))\n",
    "    c.SetResolution(resolution)\n",
    "    pl.render()\n",
    "\n",
    "a = interact(plot, resolution = (3,20,1))"
   ]
  },
  {
   "cell_type": "code",
   "execution_count": 2,
   "id": "487db41a",
   "metadata": {
    "execution": {
     "iopub.execute_input": "2023-02-14T17:27:58.801092Z",
     "iopub.status.busy": "2023-02-14T17:27:58.798265Z",
     "iopub.status.idle": "2023-02-14T17:27:59.292716Z",
     "shell.execute_reply": "2023-02-14T17:27:59.292031Z",
     "shell.execute_reply.started": "2023-02-14T17:27:58.800993Z"
    },
    "tags": []
   },
   "outputs": [],
   "source": [
    "import numpy as np\n",
    "import xarray as xr\n",
    "import pyvista as pv\n",
    "import matplotlib"
   ]
  },
  {
   "cell_type": "code",
   "execution_count": 3,
   "id": "0579a733",
   "metadata": {
    "execution": {
     "iopub.execute_input": "2023-02-14T17:27:59.580566Z",
     "iopub.status.busy": "2023-02-14T17:27:59.578954Z",
     "iopub.status.idle": "2023-02-14T17:27:59.587453Z",
     "shell.execute_reply": "2023-02-14T17:27:59.585963Z",
     "shell.execute_reply.started": "2023-02-14T17:27:59.580501Z"
    },
    "tags": []
   },
   "outputs": [],
   "source": [
    "import ipywidgets as widgets\n",
    "from ipywidgets import Button, HBox, VBox"
   ]
  },
  {
   "cell_type": "code",
   "execution_count": 4,
   "id": "4d058a22",
   "metadata": {
    "execution": {
     "iopub.execute_input": "2023-02-14T17:28:00.507363Z",
     "iopub.status.busy": "2023-02-14T17:28:00.507097Z",
     "iopub.status.idle": "2023-02-14T17:28:01.502989Z",
     "shell.execute_reply": "2023-02-14T17:28:01.502199Z",
     "shell.execute_reply.started": "2023-02-14T17:28:00.507343Z"
    },
    "tags": []
   },
   "outputs": [
    {
     "data": {
      "text/html": [
       "<div><svg style=\"position: absolute; width: 0; height: 0; overflow: hidden\">\n",
       "<defs>\n",
       "<symbol id=\"icon-database\" viewBox=\"0 0 32 32\">\n",
       "<path d=\"M16 0c-8.837 0-16 2.239-16 5v4c0 2.761 7.163 5 16 5s16-2.239 16-5v-4c0-2.761-7.163-5-16-5z\"></path>\n",
       "<path d=\"M16 17c-8.837 0-16-2.239-16-5v6c0 2.761 7.163 5 16 5s16-2.239 16-5v-6c0 2.761-7.163 5-16 5z\"></path>\n",
       "<path d=\"M16 26c-8.837 0-16-2.239-16-5v6c0 2.761 7.163 5 16 5s16-2.239 16-5v-6c0 2.761-7.163 5-16 5z\"></path>\n",
       "</symbol>\n",
       "<symbol id=\"icon-file-text2\" viewBox=\"0 0 32 32\">\n",
       "<path d=\"M28.681 7.159c-0.694-0.947-1.662-2.053-2.724-3.116s-2.169-2.030-3.116-2.724c-1.612-1.182-2.393-1.319-2.841-1.319h-15.5c-1.378 0-2.5 1.121-2.5 2.5v27c0 1.378 1.122 2.5 2.5 2.5h23c1.378 0 2.5-1.122 2.5-2.5v-19.5c0-0.448-0.137-1.23-1.319-2.841zM24.543 5.457c0.959 0.959 1.712 1.825 2.268 2.543h-4.811v-4.811c0.718 0.556 1.584 1.309 2.543 2.268zM28 29.5c0 0.271-0.229 0.5-0.5 0.5h-23c-0.271 0-0.5-0.229-0.5-0.5v-27c0-0.271 0.229-0.5 0.5-0.5 0 0 15.499-0 15.5 0v7c0 0.552 0.448 1 1 1h7v19.5z\"></path>\n",
       "<path d=\"M23 26h-14c-0.552 0-1-0.448-1-1s0.448-1 1-1h14c0.552 0 1 0.448 1 1s-0.448 1-1 1z\"></path>\n",
       "<path d=\"M23 22h-14c-0.552 0-1-0.448-1-1s0.448-1 1-1h14c0.552 0 1 0.448 1 1s-0.448 1-1 1z\"></path>\n",
       "<path d=\"M23 18h-14c-0.552 0-1-0.448-1-1s0.448-1 1-1h14c0.552 0 1 0.448 1 1s-0.448 1-1 1z\"></path>\n",
       "</symbol>\n",
       "</defs>\n",
       "</svg>\n",
       "<style>/* CSS stylesheet for displaying xarray objects in jupyterlab.\n",
       " *\n",
       " */\n",
       "\n",
       ":root {\n",
       "  --xr-font-color0: var(--jp-content-font-color0, rgba(0, 0, 0, 1));\n",
       "  --xr-font-color2: var(--jp-content-font-color2, rgba(0, 0, 0, 0.54));\n",
       "  --xr-font-color3: var(--jp-content-font-color3, rgba(0, 0, 0, 0.38));\n",
       "  --xr-border-color: var(--jp-border-color2, #e0e0e0);\n",
       "  --xr-disabled-color: var(--jp-layout-color3, #bdbdbd);\n",
       "  --xr-background-color: var(--jp-layout-color0, white);\n",
       "  --xr-background-color-row-even: var(--jp-layout-color1, white);\n",
       "  --xr-background-color-row-odd: var(--jp-layout-color2, #eeeeee);\n",
       "}\n",
       "\n",
       "html[theme=dark],\n",
       "body[data-theme=dark],\n",
       "body.vscode-dark {\n",
       "  --xr-font-color0: rgba(255, 255, 255, 1);\n",
       "  --xr-font-color2: rgba(255, 255, 255, 0.54);\n",
       "  --xr-font-color3: rgba(255, 255, 255, 0.38);\n",
       "  --xr-border-color: #1F1F1F;\n",
       "  --xr-disabled-color: #515151;\n",
       "  --xr-background-color: #111111;\n",
       "  --xr-background-color-row-even: #111111;\n",
       "  --xr-background-color-row-odd: #313131;\n",
       "}\n",
       "\n",
       ".xr-wrap {\n",
       "  display: block !important;\n",
       "  min-width: 300px;\n",
       "  max-width: 700px;\n",
       "}\n",
       "\n",
       ".xr-text-repr-fallback {\n",
       "  /* fallback to plain text repr when CSS is not injected (untrusted notebook) */\n",
       "  display: none;\n",
       "}\n",
       "\n",
       ".xr-header {\n",
       "  padding-top: 6px;\n",
       "  padding-bottom: 6px;\n",
       "  margin-bottom: 4px;\n",
       "  border-bottom: solid 1px var(--xr-border-color);\n",
       "}\n",
       "\n",
       ".xr-header > div,\n",
       ".xr-header > ul {\n",
       "  display: inline;\n",
       "  margin-top: 0;\n",
       "  margin-bottom: 0;\n",
       "}\n",
       "\n",
       ".xr-obj-type,\n",
       ".xr-array-name {\n",
       "  margin-left: 2px;\n",
       "  margin-right: 10px;\n",
       "}\n",
       "\n",
       ".xr-obj-type {\n",
       "  color: var(--xr-font-color2);\n",
       "}\n",
       "\n",
       ".xr-sections {\n",
       "  padding-left: 0 !important;\n",
       "  display: grid;\n",
       "  grid-template-columns: 150px auto auto 1fr 20px 20px;\n",
       "}\n",
       "\n",
       ".xr-section-item {\n",
       "  display: contents;\n",
       "}\n",
       "\n",
       ".xr-section-item input {\n",
       "  display: none;\n",
       "}\n",
       "\n",
       ".xr-section-item input + label {\n",
       "  color: var(--xr-disabled-color);\n",
       "}\n",
       "\n",
       ".xr-section-item input:enabled + label {\n",
       "  cursor: pointer;\n",
       "  color: var(--xr-font-color2);\n",
       "}\n",
       "\n",
       ".xr-section-item input:enabled + label:hover {\n",
       "  color: var(--xr-font-color0);\n",
       "}\n",
       "\n",
       ".xr-section-summary {\n",
       "  grid-column: 1;\n",
       "  color: var(--xr-font-color2);\n",
       "  font-weight: 500;\n",
       "}\n",
       "\n",
       ".xr-section-summary > span {\n",
       "  display: inline-block;\n",
       "  padding-left: 0.5em;\n",
       "}\n",
       "\n",
       ".xr-section-summary-in:disabled + label {\n",
       "  color: var(--xr-font-color2);\n",
       "}\n",
       "\n",
       ".xr-section-summary-in + label:before {\n",
       "  display: inline-block;\n",
       "  content: '►';\n",
       "  font-size: 11px;\n",
       "  width: 15px;\n",
       "  text-align: center;\n",
       "}\n",
       "\n",
       ".xr-section-summary-in:disabled + label:before {\n",
       "  color: var(--xr-disabled-color);\n",
       "}\n",
       "\n",
       ".xr-section-summary-in:checked + label:before {\n",
       "  content: '▼';\n",
       "}\n",
       "\n",
       ".xr-section-summary-in:checked + label > span {\n",
       "  display: none;\n",
       "}\n",
       "\n",
       ".xr-section-summary,\n",
       ".xr-section-inline-details {\n",
       "  padding-top: 4px;\n",
       "  padding-bottom: 4px;\n",
       "}\n",
       "\n",
       ".xr-section-inline-details {\n",
       "  grid-column: 2 / -1;\n",
       "}\n",
       "\n",
       ".xr-section-details {\n",
       "  display: none;\n",
       "  grid-column: 1 / -1;\n",
       "  margin-bottom: 5px;\n",
       "}\n",
       "\n",
       ".xr-section-summary-in:checked ~ .xr-section-details {\n",
       "  display: contents;\n",
       "}\n",
       "\n",
       ".xr-array-wrap {\n",
       "  grid-column: 1 / -1;\n",
       "  display: grid;\n",
       "  grid-template-columns: 20px auto;\n",
       "}\n",
       "\n",
       ".xr-array-wrap > label {\n",
       "  grid-column: 1;\n",
       "  vertical-align: top;\n",
       "}\n",
       "\n",
       ".xr-preview {\n",
       "  color: var(--xr-font-color3);\n",
       "}\n",
       "\n",
       ".xr-array-preview,\n",
       ".xr-array-data {\n",
       "  padding: 0 5px !important;\n",
       "  grid-column: 2;\n",
       "}\n",
       "\n",
       ".xr-array-data,\n",
       ".xr-array-in:checked ~ .xr-array-preview {\n",
       "  display: none;\n",
       "}\n",
       "\n",
       ".xr-array-in:checked ~ .xr-array-data,\n",
       ".xr-array-preview {\n",
       "  display: inline-block;\n",
       "}\n",
       "\n",
       ".xr-dim-list {\n",
       "  display: inline-block !important;\n",
       "  list-style: none;\n",
       "  padding: 0 !important;\n",
       "  margin: 0;\n",
       "}\n",
       "\n",
       ".xr-dim-list li {\n",
       "  display: inline-block;\n",
       "  padding: 0;\n",
       "  margin: 0;\n",
       "}\n",
       "\n",
       ".xr-dim-list:before {\n",
       "  content: '(';\n",
       "}\n",
       "\n",
       ".xr-dim-list:after {\n",
       "  content: ')';\n",
       "}\n",
       "\n",
       ".xr-dim-list li:not(:last-child):after {\n",
       "  content: ',';\n",
       "  padding-right: 5px;\n",
       "}\n",
       "\n",
       ".xr-has-index {\n",
       "  font-weight: bold;\n",
       "}\n",
       "\n",
       ".xr-var-list,\n",
       ".xr-var-item {\n",
       "  display: contents;\n",
       "}\n",
       "\n",
       ".xr-var-item > div,\n",
       ".xr-var-item label,\n",
       ".xr-var-item > .xr-var-name span {\n",
       "  background-color: var(--xr-background-color-row-even);\n",
       "  margin-bottom: 0;\n",
       "}\n",
       "\n",
       ".xr-var-item > .xr-var-name:hover span {\n",
       "  padding-right: 5px;\n",
       "}\n",
       "\n",
       ".xr-var-list > li:nth-child(odd) > div,\n",
       ".xr-var-list > li:nth-child(odd) > label,\n",
       ".xr-var-list > li:nth-child(odd) > .xr-var-name span {\n",
       "  background-color: var(--xr-background-color-row-odd);\n",
       "}\n",
       "\n",
       ".xr-var-name {\n",
       "  grid-column: 1;\n",
       "}\n",
       "\n",
       ".xr-var-dims {\n",
       "  grid-column: 2;\n",
       "}\n",
       "\n",
       ".xr-var-dtype {\n",
       "  grid-column: 3;\n",
       "  text-align: right;\n",
       "  color: var(--xr-font-color2);\n",
       "}\n",
       "\n",
       ".xr-var-preview {\n",
       "  grid-column: 4;\n",
       "}\n",
       "\n",
       ".xr-index-preview {\n",
       "  grid-column: 2 / 5;\n",
       "  color: var(--xr-font-color2);\n",
       "}\n",
       "\n",
       ".xr-var-name,\n",
       ".xr-var-dims,\n",
       ".xr-var-dtype,\n",
       ".xr-preview,\n",
       ".xr-attrs dt {\n",
       "  white-space: nowrap;\n",
       "  overflow: hidden;\n",
       "  text-overflow: ellipsis;\n",
       "  padding-right: 10px;\n",
       "}\n",
       "\n",
       ".xr-var-name:hover,\n",
       ".xr-var-dims:hover,\n",
       ".xr-var-dtype:hover,\n",
       ".xr-attrs dt:hover {\n",
       "  overflow: visible;\n",
       "  width: auto;\n",
       "  z-index: 1;\n",
       "}\n",
       "\n",
       ".xr-var-attrs,\n",
       ".xr-var-data,\n",
       ".xr-index-data {\n",
       "  display: none;\n",
       "  background-color: var(--xr-background-color) !important;\n",
       "  padding-bottom: 5px !important;\n",
       "}\n",
       "\n",
       ".xr-var-attrs-in:checked ~ .xr-var-attrs,\n",
       ".xr-var-data-in:checked ~ .xr-var-data,\n",
       ".xr-index-data-in:checked ~ .xr-index-data {\n",
       "  display: block;\n",
       "}\n",
       "\n",
       ".xr-var-data > table {\n",
       "  float: right;\n",
       "}\n",
       "\n",
       ".xr-var-name span,\n",
       ".xr-var-data,\n",
       ".xr-index-name div,\n",
       ".xr-index-data,\n",
       ".xr-attrs {\n",
       "  padding-left: 25px !important;\n",
       "}\n",
       "\n",
       ".xr-attrs,\n",
       ".xr-var-attrs,\n",
       ".xr-var-data,\n",
       ".xr-index-data {\n",
       "  grid-column: 1 / -1;\n",
       "}\n",
       "\n",
       "dl.xr-attrs {\n",
       "  padding: 0;\n",
       "  margin: 0;\n",
       "  display: grid;\n",
       "  grid-template-columns: 125px auto;\n",
       "}\n",
       "\n",
       ".xr-attrs dt,\n",
       ".xr-attrs dd {\n",
       "  padding: 0;\n",
       "  margin: 0;\n",
       "  float: left;\n",
       "  padding-right: 10px;\n",
       "  width: auto;\n",
       "}\n",
       "\n",
       ".xr-attrs dt {\n",
       "  font-weight: normal;\n",
       "  grid-column: 1;\n",
       "}\n",
       "\n",
       ".xr-attrs dt:hover span {\n",
       "  display: inline-block;\n",
       "  background: var(--xr-background-color);\n",
       "  padding-right: 10px;\n",
       "}\n",
       "\n",
       ".xr-attrs dd {\n",
       "  grid-column: 2;\n",
       "  white-space: pre-wrap;\n",
       "  word-break: break-all;\n",
       "}\n",
       "\n",
       ".xr-icon-database,\n",
       ".xr-icon-file-text2,\n",
       ".xr-no-icon {\n",
       "  display: inline-block;\n",
       "  vertical-align: middle;\n",
       "  width: 1em;\n",
       "  height: 1.5em !important;\n",
       "  stroke-width: 0;\n",
       "  stroke: currentColor;\n",
       "  fill: currentColor;\n",
       "}\n",
       "</style><pre class='xr-text-repr-fallback'>&lt;xarray.Dataset&gt;\n",
       "Dimensions:               (cell: 16002, nvertex: 6, presnivs: 79,\n",
       "                           time_counter: 24, axis_nbounds: 2)\n",
       "Coordinates:\n",
       "    lat                   (cell) float32 ...\n",
       "    lon                   (cell) float32 ...\n",
       "  * presnivs              (presnivs) float32 1.012e+05 1.009e+05 ... 5.297 1.483\n",
       "    time_centered         (time_counter) datetime64[ns] ...\n",
       "  * time_counter          (time_counter) datetime64[ns] 1979-01-01T00:30:00 ....\n",
       "    time_instant          (time_counter) datetime64[ns] ...\n",
       "Dimensions without coordinates: cell, nvertex, axis_nbounds\n",
       "Data variables: (12/29)\n",
       "    bounds_lon            (cell, nvertex) float32 ...\n",
       "    bounds_lat            (cell, nvertex) float32 ...\n",
       "    time_centered_bounds  (time_counter, axis_nbounds) datetime64[ns] ...\n",
       "    time_counter_bounds   (time_counter, axis_nbounds) datetime64[ns] ...\n",
       "    time_instant_bounds   (time_counter, axis_nbounds) datetime64[ns] ...\n",
       "    pmid                  (time_counter, presnivs, cell) float64 ...\n",
       "    ...                    ...\n",
       "    vmrmcf                (time_counter, presnivs, cell) float64 ...\n",
       "    vmrbe7                (time_counter, presnivs, cell) float64 ...\n",
       "    vmrn2o                (time_counter, presnivs, cell) float64 ...\n",
       "    vmrch4                (time_counter, presnivs, cell) float64 ...\n",
       "    vmrco                 (time_counter, presnivs, cell) float64 ...\n",
       "    vmrco2bih             (time_counter, presnivs, cell) float64 ...\n",
       "Attributes:\n",
       "    _NCProperties:                   version=1|netcdflibversion=4.6.0|hdf5lib...\n",
       "    name:                            inca1d_ges\n",
       "    description:                     Created by xios\n",
       "    title:                           Created by xios\n",
       "    Conventions:                     CF-1.6\n",
       "    timeStamp:                       2022-Apr-05 08:59:15 GMT\n",
       "    uuid:                            8982bdb7-b650-45c4-896c-e228bec0cb5a\n",
       "    history:                         Fri Apr 15 12:05:37 2022: ncatted -O -a ...\n",
       "    NCO:                             4.6.9\n",
       "    DODS_EXTRA.Unlimited_Dimension:  time_counter</pre><div class='xr-wrap' style='display:none'><div class='xr-header'><div class='xr-obj-type'>xarray.Dataset</div></div><ul class='xr-sections'><li class='xr-section-item'><input id='section-2d082822-8ff6-48bc-b517-fd2cd42e026a' class='xr-section-summary-in' type='checkbox' disabled ><label for='section-2d082822-8ff6-48bc-b517-fd2cd42e026a' class='xr-section-summary'  title='Expand/collapse section'>Dimensions:</label><div class='xr-section-inline-details'><ul class='xr-dim-list'><li><span>cell</span>: 16002</li><li><span>nvertex</span>: 6</li><li><span class='xr-has-index'>presnivs</span>: 79</li><li><span class='xr-has-index'>time_counter</span>: 24</li><li><span>axis_nbounds</span>: 2</li></ul></div><div class='xr-section-details'></div></li><li class='xr-section-item'><input id='section-8d995c8d-e670-4489-bd25-eaae52251b09' class='xr-section-summary-in' type='checkbox'  checked><label for='section-8d995c8d-e670-4489-bd25-eaae52251b09' class='xr-section-summary' >Coordinates: <span>(6)</span></label><div class='xr-section-inline-details'></div><div class='xr-section-details'><ul class='xr-var-list'><li class='xr-var-item'><div class='xr-var-name'><span>lat</span></div><div class='xr-var-dims'>(cell)</div><div class='xr-var-dtype'>float32</div><div class='xr-var-preview xr-preview'>...</div><input id='attrs-4eaa21d1-5e43-4c5e-8f80-d87f3e5c90f8' class='xr-var-attrs-in' type='checkbox' ><label for='attrs-4eaa21d1-5e43-4c5e-8f80-d87f3e5c90f8' title='Show/Hide attributes'><svg class='icon xr-icon-file-text2'><use xlink:href='#icon-file-text2'></use></svg></label><input id='data-2edce247-dba7-4ab4-80e7-465a9ccd7330' class='xr-var-data-in' type='checkbox'><label for='data-2edce247-dba7-4ab4-80e7-465a9ccd7330' title='Show/Hide data repr'><svg class='icon xr-icon-database'><use xlink:href='#icon-database'></use></svg></label><div class='xr-var-attrs'><dl class='xr-attrs'><dt><span>units :</span></dt><dd>degrees_north</dd><dt><span>bounds :</span></dt><dd>bounds_lat</dd><dt><span>standard_name :</span></dt><dd>latitude</dd><dt><span>long_name :</span></dt><dd>Latitude</dd><dt><span>_ChunkSizes :</span></dt><dd>16002</dd></dl></div><div class='xr-var-data'><pre>[16002 values with dtype=float32]</pre></div></li><li class='xr-var-item'><div class='xr-var-name'><span>lon</span></div><div class='xr-var-dims'>(cell)</div><div class='xr-var-dtype'>float32</div><div class='xr-var-preview xr-preview'>...</div><input id='attrs-28d0e3d8-1308-45d6-bdc5-608ed6c3aefd' class='xr-var-attrs-in' type='checkbox' ><label for='attrs-28d0e3d8-1308-45d6-bdc5-608ed6c3aefd' title='Show/Hide attributes'><svg class='icon xr-icon-file-text2'><use xlink:href='#icon-file-text2'></use></svg></label><input id='data-fd91349e-88a3-4a98-bb07-43e8b1faeff6' class='xr-var-data-in' type='checkbox'><label for='data-fd91349e-88a3-4a98-bb07-43e8b1faeff6' title='Show/Hide data repr'><svg class='icon xr-icon-database'><use xlink:href='#icon-database'></use></svg></label><div class='xr-var-attrs'><dl class='xr-attrs'><dt><span>units :</span></dt><dd>degrees_east</dd><dt><span>bounds :</span></dt><dd>bounds_lon</dd><dt><span>standard_name :</span></dt><dd>longitude</dd><dt><span>long_name :</span></dt><dd>Longitude</dd><dt><span>_ChunkSizes :</span></dt><dd>16002</dd></dl></div><div class='xr-var-data'><pre>[16002 values with dtype=float32]</pre></div></li><li class='xr-var-item'><div class='xr-var-name'><span class='xr-has-index'>presnivs</span></div><div class='xr-var-dims'>(presnivs)</div><div class='xr-var-dtype'>float32</div><div class='xr-var-preview xr-preview'>1.012e+05 1.009e+05 ... 5.297 1.483</div><input id='attrs-2b4b1462-dcd1-4c30-b0d4-c62f85dabba8' class='xr-var-attrs-in' type='checkbox' ><label for='attrs-2b4b1462-dcd1-4c30-b0d4-c62f85dabba8' title='Show/Hide attributes'><svg class='icon xr-icon-file-text2'><use xlink:href='#icon-file-text2'></use></svg></label><input id='data-f5ec9567-b16c-4c97-b1bc-3c5d69338777' class='xr-var-data-in' type='checkbox'><label for='data-f5ec9567-b16c-4c97-b1bc-3c5d69338777' title='Show/Hide data repr'><svg class='icon xr-icon-database'><use xlink:href='#icon-database'></use></svg></label><div class='xr-var-attrs'><dl class='xr-attrs'><dt><span>axis :</span></dt><dd>Z</dd><dt><span>name :</span></dt><dd>presnivs</dd><dt><span>standard_name :</span></dt><dd>Vertical levels</dd><dt><span>units :</span></dt><dd>Pa</dd><dt><span>_ChunkSizes :</span></dt><dd>79</dd></dl></div><div class='xr-var-data'><pre>array([1.012021e+05, 1.009424e+05, 1.006534e+05, 1.003319e+05, 9.997420e+04,\n",
       "       9.957655e+04, 9.913467e+04, 9.864384e+04, 9.809898e+04, 9.749448e+04,\n",
       "       9.682430e+04, 9.608191e+04, 9.526024e+04, 9.435173e+04, 9.334834e+04,\n",
       "       9.224155e+04, 9.102246e+04, 8.968182e+04, 8.821020e+04, 8.659811e+04,\n",
       "       8.483623e+04, 8.291569e+04, 8.082840e+04, 7.856748e+04, 7.612779e+04,\n",
       "       7.350645e+04, 7.070354e+04, 6.772281e+04, 6.457239e+04, 6.126538e+04,\n",
       "       5.782047e+04, 5.426217e+04, 5.062074e+04, 4.693169e+04, 4.323469e+04,\n",
       "       3.957199e+04, 3.598637e+04, 3.251885e+04, 2.920636e+04, 2.607983e+04,\n",
       "       2.316271e+04, 2.047042e+04, 1.801036e+04, 1.578271e+04, 1.378158e+04,\n",
       "       1.199642e+04, 1.041344e+04, 9.016865e+03, 7.790020e+03, 6.716147e+03,\n",
       "       5.778999e+03, 4.963233e+03, 4.254644e+03, 3.640276e+03, 3.108450e+03,\n",
       "       2.648733e+03, 2.251867e+03, 1.909687e+03, 1.615018e+03, 1.361581e+03,\n",
       "       1.143891e+03, 9.571722e+02, 7.972696e+02, 6.605754e+02, 5.439607e+02,\n",
       "       4.447146e+02, 3.604912e+02, 2.892627e+02, 2.292787e+02, 1.790303e+02,\n",
       "       1.372198e+02, 1.027344e+02, 7.462312e+01, 5.207758e+01, 3.441441e+01,\n",
       "       2.105668e+01, 1.150741e+01, 5.296797e+00, 1.483435e+00], dtype=float32)</pre></div></li><li class='xr-var-item'><div class='xr-var-name'><span>time_centered</span></div><div class='xr-var-dims'>(time_counter)</div><div class='xr-var-dtype'>datetime64[ns]</div><div class='xr-var-preview xr-preview'>...</div><input id='attrs-4f251ee2-19b8-4873-8e0a-dc480762348e' class='xr-var-attrs-in' type='checkbox' ><label for='attrs-4f251ee2-19b8-4873-8e0a-dc480762348e' title='Show/Hide attributes'><svg class='icon xr-icon-file-text2'><use xlink:href='#icon-file-text2'></use></svg></label><input id='data-f1481a43-5964-451d-822e-ee43aa22a575' class='xr-var-data-in' type='checkbox'><label for='data-f1481a43-5964-451d-822e-ee43aa22a575' title='Show/Hide data repr'><svg class='icon xr-icon-database'><use xlink:href='#icon-database'></use></svg></label><div class='xr-var-attrs'><dl class='xr-attrs'><dt><span>time_origin :</span></dt><dd>1979-01-01 00:00:00</dd><dt><span>bounds :</span></dt><dd>time_centered_bounds</dd><dt><span>standard_name :</span></dt><dd>time</dd><dt><span>long_name :</span></dt><dd>Time axis</dd><dt><span>_ChunkSizes :</span></dt><dd>1</dd></dl></div><div class='xr-var-data'><pre>[24 values with dtype=datetime64[ns]]</pre></div></li><li class='xr-var-item'><div class='xr-var-name'><span class='xr-has-index'>time_counter</span></div><div class='xr-var-dims'>(time_counter)</div><div class='xr-var-dtype'>datetime64[ns]</div><div class='xr-var-preview xr-preview'>1979-01-01T00:30:00 ... 1979-01-...</div><input id='attrs-47e368e7-0a22-4fdf-a389-b8891e9210b1' class='xr-var-attrs-in' type='checkbox' ><label for='attrs-47e368e7-0a22-4fdf-a389-b8891e9210b1' title='Show/Hide attributes'><svg class='icon xr-icon-file-text2'><use xlink:href='#icon-file-text2'></use></svg></label><input id='data-8b4c8265-cb6a-4655-a8c8-6726796d377e' class='xr-var-data-in' type='checkbox'><label for='data-8b4c8265-cb6a-4655-a8c8-6726796d377e' title='Show/Hide data repr'><svg class='icon xr-icon-database'><use xlink:href='#icon-database'></use></svg></label><div class='xr-var-attrs'><dl class='xr-attrs'><dt><span>axis :</span></dt><dd>T</dd><dt><span>standard_name :</span></dt><dd>time</dd><dt><span>long_name :</span></dt><dd>Time axis</dd><dt><span>time_origin :</span></dt><dd>1979-01-01 00:00:00</dd><dt><span>bounds :</span></dt><dd>time_counter_bounds</dd><dt><span>_ChunkSizes :</span></dt><dd>1</dd></dl></div><div class='xr-var-data'><pre>array([&#x27;1979-01-01T00:30:00.000000000&#x27;, &#x27;1979-01-01T01:30:00.000000000&#x27;,\n",
       "       &#x27;1979-01-01T02:30:00.000000000&#x27;, &#x27;1979-01-01T03:30:00.000000000&#x27;,\n",
       "       &#x27;1979-01-01T04:30:00.000000000&#x27;, &#x27;1979-01-01T05:30:00.000000000&#x27;,\n",
       "       &#x27;1979-01-01T06:30:00.000000000&#x27;, &#x27;1979-01-01T07:30:00.000000000&#x27;,\n",
       "       &#x27;1979-01-01T08:30:00.000000000&#x27;, &#x27;1979-01-01T09:30:00.000000000&#x27;,\n",
       "       &#x27;1979-01-01T10:30:00.000000000&#x27;, &#x27;1979-01-01T11:30:00.000000000&#x27;,\n",
       "       &#x27;1979-01-01T12:30:00.000000000&#x27;, &#x27;1979-01-01T13:30:00.000000000&#x27;,\n",
       "       &#x27;1979-01-01T14:30:00.000000000&#x27;, &#x27;1979-01-01T15:30:00.000000000&#x27;,\n",
       "       &#x27;1979-01-01T16:30:00.000000000&#x27;, &#x27;1979-01-01T17:30:00.000000000&#x27;,\n",
       "       &#x27;1979-01-01T18:30:00.000000000&#x27;, &#x27;1979-01-01T19:30:00.000000000&#x27;,\n",
       "       &#x27;1979-01-01T20:30:00.000000000&#x27;, &#x27;1979-01-01T21:30:00.000000000&#x27;,\n",
       "       &#x27;1979-01-01T22:30:00.000000000&#x27;, &#x27;1979-01-01T23:30:00.000000000&#x27;],\n",
       "      dtype=&#x27;datetime64[ns]&#x27;)</pre></div></li><li class='xr-var-item'><div class='xr-var-name'><span>time_instant</span></div><div class='xr-var-dims'>(time_counter)</div><div class='xr-var-dtype'>datetime64[ns]</div><div class='xr-var-preview xr-preview'>...</div><input id='attrs-8ef61d60-a0eb-4b73-814f-2311dd52758c' class='xr-var-attrs-in' type='checkbox' ><label for='attrs-8ef61d60-a0eb-4b73-814f-2311dd52758c' title='Show/Hide attributes'><svg class='icon xr-icon-file-text2'><use xlink:href='#icon-file-text2'></use></svg></label><input id='data-e1b4fec2-37d4-45cf-a272-4a2e93cbd9b9' class='xr-var-data-in' type='checkbox'><label for='data-e1b4fec2-37d4-45cf-a272-4a2e93cbd9b9' title='Show/Hide data repr'><svg class='icon xr-icon-database'><use xlink:href='#icon-database'></use></svg></label><div class='xr-var-attrs'><dl class='xr-attrs'><dt><span>standard_name :</span></dt><dd>time</dd><dt><span>long_name :</span></dt><dd>Time axis</dd><dt><span>time_origin :</span></dt><dd>1979-01-01 00:00:00</dd><dt><span>bounds :</span></dt><dd>time_instant_bounds</dd><dt><span>_ChunkSizes :</span></dt><dd>1</dd></dl></div><div class='xr-var-data'><pre>[24 values with dtype=datetime64[ns]]</pre></div></li></ul></div></li><li class='xr-section-item'><input id='section-26063273-4252-4080-ba4a-7120f54d5f0b' class='xr-section-summary-in' type='checkbox'  ><label for='section-26063273-4252-4080-ba4a-7120f54d5f0b' class='xr-section-summary' >Data variables: <span>(29)</span></label><div class='xr-section-inline-details'></div><div class='xr-section-details'><ul class='xr-var-list'><li class='xr-var-item'><div class='xr-var-name'><span>bounds_lon</span></div><div class='xr-var-dims'>(cell, nvertex)</div><div class='xr-var-dtype'>float32</div><div class='xr-var-preview xr-preview'>...</div><input id='attrs-df382bb4-2e84-4fa6-99ee-970d61d706c6' class='xr-var-attrs-in' type='checkbox' ><label for='attrs-df382bb4-2e84-4fa6-99ee-970d61d706c6' title='Show/Hide attributes'><svg class='icon xr-icon-file-text2'><use xlink:href='#icon-file-text2'></use></svg></label><input id='data-52aa4df8-4ce7-445d-bb4b-de5f0b07d3c9' class='xr-var-data-in' type='checkbox'><label for='data-52aa4df8-4ce7-445d-bb4b-de5f0b07d3c9' title='Show/Hide data repr'><svg class='icon xr-icon-database'><use xlink:href='#icon-database'></use></svg></label><div class='xr-var-attrs'><dl class='xr-attrs'><dt><span>_ChunkSizes :</span></dt><dd>[16002     6]</dd></dl></div><div class='xr-var-data'><pre>[96012 values with dtype=float32]</pre></div></li><li class='xr-var-item'><div class='xr-var-name'><span>bounds_lat</span></div><div class='xr-var-dims'>(cell, nvertex)</div><div class='xr-var-dtype'>float32</div><div class='xr-var-preview xr-preview'>...</div><input id='attrs-6637a8ff-7690-4ad5-bf9c-b76905bd2253' class='xr-var-attrs-in' type='checkbox' ><label for='attrs-6637a8ff-7690-4ad5-bf9c-b76905bd2253' title='Show/Hide attributes'><svg class='icon xr-icon-file-text2'><use xlink:href='#icon-file-text2'></use></svg></label><input id='data-076c6649-db3f-4555-9d18-2a9e1b31b71e' class='xr-var-data-in' type='checkbox'><label for='data-076c6649-db3f-4555-9d18-2a9e1b31b71e' title='Show/Hide data repr'><svg class='icon xr-icon-database'><use xlink:href='#icon-database'></use></svg></label><div class='xr-var-attrs'><dl class='xr-attrs'><dt><span>_ChunkSizes :</span></dt><dd>[16002     6]</dd></dl></div><div class='xr-var-data'><pre>[96012 values with dtype=float32]</pre></div></li><li class='xr-var-item'><div class='xr-var-name'><span>time_centered_bounds</span></div><div class='xr-var-dims'>(time_counter, axis_nbounds)</div><div class='xr-var-dtype'>datetime64[ns]</div><div class='xr-var-preview xr-preview'>...</div><input id='attrs-d323d791-6fd9-472c-8c18-d988c77b3e9d' class='xr-var-attrs-in' type='checkbox' ><label for='attrs-d323d791-6fd9-472c-8c18-d988c77b3e9d' title='Show/Hide attributes'><svg class='icon xr-icon-file-text2'><use xlink:href='#icon-file-text2'></use></svg></label><input id='data-7764f91c-5b51-49c5-bed0-2cec8d9f9c95' class='xr-var-data-in' type='checkbox'><label for='data-7764f91c-5b51-49c5-bed0-2cec8d9f9c95' title='Show/Hide data repr'><svg class='icon xr-icon-database'><use xlink:href='#icon-database'></use></svg></label><div class='xr-var-attrs'><dl class='xr-attrs'><dt><span>_ChunkSizes :</span></dt><dd>[1 2]</dd></dl></div><div class='xr-var-data'><pre>[48 values with dtype=datetime64[ns]]</pre></div></li><li class='xr-var-item'><div class='xr-var-name'><span>time_counter_bounds</span></div><div class='xr-var-dims'>(time_counter, axis_nbounds)</div><div class='xr-var-dtype'>datetime64[ns]</div><div class='xr-var-preview xr-preview'>...</div><input id='attrs-0bf45883-4d0d-4088-9a4c-97ca0b838d33' class='xr-var-attrs-in' type='checkbox' ><label for='attrs-0bf45883-4d0d-4088-9a4c-97ca0b838d33' title='Show/Hide attributes'><svg class='icon xr-icon-file-text2'><use xlink:href='#icon-file-text2'></use></svg></label><input id='data-d3cd5873-c7ec-4576-9508-6058ba73853c' class='xr-var-data-in' type='checkbox'><label for='data-d3cd5873-c7ec-4576-9508-6058ba73853c' title='Show/Hide data repr'><svg class='icon xr-icon-database'><use xlink:href='#icon-database'></use></svg></label><div class='xr-var-attrs'><dl class='xr-attrs'><dt><span>_ChunkSizes :</span></dt><dd>[1 2]</dd></dl></div><div class='xr-var-data'><pre>[48 values with dtype=datetime64[ns]]</pre></div></li><li class='xr-var-item'><div class='xr-var-name'><span>time_instant_bounds</span></div><div class='xr-var-dims'>(time_counter, axis_nbounds)</div><div class='xr-var-dtype'>datetime64[ns]</div><div class='xr-var-preview xr-preview'>...</div><input id='attrs-1a733d6d-838c-4965-b8b2-d6c61d8674bf' class='xr-var-attrs-in' type='checkbox' ><label for='attrs-1a733d6d-838c-4965-b8b2-d6c61d8674bf' title='Show/Hide attributes'><svg class='icon xr-icon-file-text2'><use xlink:href='#icon-file-text2'></use></svg></label><input id='data-c3dd2015-c540-4d4d-a533-40ef3c5b88ef' class='xr-var-data-in' type='checkbox'><label for='data-c3dd2015-c540-4d4d-a533-40ef3c5b88ef' title='Show/Hide data repr'><svg class='icon xr-icon-database'><use xlink:href='#icon-database'></use></svg></label><div class='xr-var-attrs'><dl class='xr-attrs'><dt><span>_ChunkSizes :</span></dt><dd>[1 2]</dd></dl></div><div class='xr-var-data'><pre>[48 values with dtype=datetime64[ns]]</pre></div></li><li class='xr-var-item'><div class='xr-var-name'><span>pmid</span></div><div class='xr-var-dims'>(time_counter, presnivs, cell)</div><div class='xr-var-dtype'>float64</div><div class='xr-var-preview xr-preview'>...</div><input id='attrs-41607a5a-7d7f-41ee-9945-b03f5aad4f3a' class='xr-var-attrs-in' type='checkbox' ><label for='attrs-41607a5a-7d7f-41ee-9945-b03f5aad4f3a' title='Show/Hide attributes'><svg class='icon xr-icon-file-text2'><use xlink:href='#icon-file-text2'></use></svg></label><input id='data-028a600e-bdb9-45f1-95c1-622e718a5771' class='xr-var-data-in' type='checkbox'><label for='data-028a600e-bdb9-45f1-95c1-622e718a5771' title='Show/Hide data repr'><svg class='icon xr-icon-database'><use xlink:href='#icon-database'></use></svg></label><div class='xr-var-attrs'><dl class='xr-attrs'><dt><span>long_name :</span></dt><dd>mid-level air pressure</dd><dt><span>units :</span></dt><dd>Pa</dd><dt><span>online_operation :</span></dt><dd>average</dd><dt><span>interval_operation :</span></dt><dd>900 s</dd><dt><span>interval_write :</span></dt><dd>1 h</dd><dt><span>cell_methods :</span></dt><dd>time: mean (interval: 900 s)</dd><dt><span>_ChunkSizes :</span></dt><dd>[    1    79 16002]</dd></dl></div><div class='xr-var-data'><pre>[30339792 values with dtype=float64]</pre></div></li><li class='xr-var-item'><div class='xr-var-name'><span>sh</span></div><div class='xr-var-dims'>(time_counter, presnivs, cell)</div><div class='xr-var-dtype'>float64</div><div class='xr-var-preview xr-preview'>...</div><input id='attrs-b322f0e3-8adb-40cf-be2b-afdd3e6cbd26' class='xr-var-attrs-in' type='checkbox' ><label for='attrs-b322f0e3-8adb-40cf-be2b-afdd3e6cbd26' title='Show/Hide attributes'><svg class='icon xr-icon-file-text2'><use xlink:href='#icon-file-text2'></use></svg></label><input id='data-4983c11a-ed66-45e6-a6d0-339aae51dde9' class='xr-var-data-in' type='checkbox'><label for='data-4983c11a-ed66-45e6-a6d0-339aae51dde9' title='Show/Hide data repr'><svg class='icon xr-icon-database'><use xlink:href='#icon-database'></use></svg></label><div class='xr-var-attrs'><dl class='xr-attrs'><dt><span>long_name :</span></dt><dd>water Mass Mixing Ratio</dd><dt><span>units :</span></dt><dd>kg kg-1</dd><dt><span>online_operation :</span></dt><dd>average</dd><dt><span>interval_operation :</span></dt><dd>900 s</dd><dt><span>interval_write :</span></dt><dd>1 h</dd><dt><span>cell_methods :</span></dt><dd>time: mean (interval: 900 s)</dd><dt><span>_ChunkSizes :</span></dt><dd>[    1    79 16002]</dd></dl></div><div class='xr-var-data'><pre>[30339792 values with dtype=float64]</pre></div></li><li class='xr-var-item'><div class='xr-var-name'><span>pdel</span></div><div class='xr-var-dims'>(time_counter, presnivs, cell)</div><div class='xr-var-dtype'>float64</div><div class='xr-var-preview xr-preview'>...</div><input id='attrs-7812cc44-9339-452d-ad4c-c1e6d7260b80' class='xr-var-attrs-in' type='checkbox' ><label for='attrs-7812cc44-9339-452d-ad4c-c1e6d7260b80' title='Show/Hide attributes'><svg class='icon xr-icon-file-text2'><use xlink:href='#icon-file-text2'></use></svg></label><input id='data-cfa8b7d9-4907-4521-9931-7cca765d3983' class='xr-var-data-in' type='checkbox'><label for='data-cfa8b7d9-4907-4521-9931-7cca765d3983' title='Show/Hide data repr'><svg class='icon xr-icon-database'><use xlink:href='#icon-database'></use></svg></label><div class='xr-var-attrs'><dl class='xr-attrs'><dt><span>long_name :</span></dt><dd>pressure difference model level</dd><dt><span>units :</span></dt><dd>K</dd><dt><span>online_operation :</span></dt><dd>average</dd><dt><span>interval_operation :</span></dt><dd>900 s</dd><dt><span>interval_write :</span></dt><dd>1 h</dd><dt><span>cell_methods :</span></dt><dd>time: mean (interval: 900 s)</dd><dt><span>_ChunkSizes :</span></dt><dd>[    1    79 16002]</dd></dl></div><div class='xr-var-data'><pre>[30339792 values with dtype=float64]</pre></div></li><li class='xr-var-item'><div class='xr-var-name'><span>zdens</span></div><div class='xr-var-dims'>(time_counter, presnivs, cell)</div><div class='xr-var-dtype'>float64</div><div class='xr-var-preview xr-preview'>...</div><input id='attrs-07e7ca2a-e5da-4c5e-8d5f-90e9e7550c00' class='xr-var-attrs-in' type='checkbox' ><label for='attrs-07e7ca2a-e5da-4c5e-8d5f-90e9e7550c00' title='Show/Hide attributes'><svg class='icon xr-icon-file-text2'><use xlink:href='#icon-file-text2'></use></svg></label><input id='data-ab0ce8fb-ceab-4c8a-9f11-61e3931312aa' class='xr-var-data-in' type='checkbox'><label for='data-ab0ce8fb-ceab-4c8a-9f11-61e3931312aa' title='Show/Hide data repr'><svg class='icon xr-icon-database'><use xlink:href='#icon-database'></use></svg></label><div class='xr-var-attrs'><dl class='xr-attrs'><dt><span>long_name :</span></dt><dd>masse volumique</dd><dt><span>units :</span></dt><dd>?</dd><dt><span>online_operation :</span></dt><dd>average</dd><dt><span>interval_operation :</span></dt><dd>900 s</dd><dt><span>interval_write :</span></dt><dd>1 h</dd><dt><span>cell_methods :</span></dt><dd>time: mean (interval: 900 s)</dd><dt><span>_ChunkSizes :</span></dt><dd>[    1    79 16002]</dd></dl></div><div class='xr-var-data'><pre>[30339792 values with dtype=float64]</pre></div></li><li class='xr-var-item'><div class='xr-var-name'><span>temp</span></div><div class='xr-var-dims'>(time_counter, presnivs, cell)</div><div class='xr-var-dtype'>float64</div><div class='xr-var-preview xr-preview'>...</div><input id='attrs-74da6a9a-db8b-49be-b77c-c3472b68dfe9' class='xr-var-attrs-in' type='checkbox' ><label for='attrs-74da6a9a-db8b-49be-b77c-c3472b68dfe9' title='Show/Hide attributes'><svg class='icon xr-icon-file-text2'><use xlink:href='#icon-file-text2'></use></svg></label><input id='data-30bd7c50-238d-4be4-b561-17606c439f95' class='xr-var-data-in' type='checkbox'><label for='data-30bd7c50-238d-4be4-b561-17606c439f95' title='Show/Hide data repr'><svg class='icon xr-icon-database'><use xlink:href='#icon-database'></use></svg></label><div class='xr-var-attrs'><dl class='xr-attrs'><dt><span>long_name :</span></dt><dd>temperature model level</dd><dt><span>units :</span></dt><dd>K</dd><dt><span>online_operation :</span></dt><dd>average</dd><dt><span>interval_operation :</span></dt><dd>900 s</dd><dt><span>interval_write :</span></dt><dd>1 h</dd><dt><span>cell_methods :</span></dt><dd>time: mean (interval: 900 s)</dd><dt><span>_ChunkSizes :</span></dt><dd>[    1    79 16002]</dd></dl></div><div class='xr-var-data'><pre>[30339792 values with dtype=float64]</pre></div></li><li class='xr-var-item'><div class='xr-var-name'><span>AIRMASS</span></div><div class='xr-var-dims'>(time_counter, presnivs, cell)</div><div class='xr-var-dtype'>float64</div><div class='xr-var-preview xr-preview'>...</div><input id='attrs-b7f5e795-2641-4d49-a989-643f449da6ea' class='xr-var-attrs-in' type='checkbox' ><label for='attrs-b7f5e795-2641-4d49-a989-643f449da6ea' title='Show/Hide attributes'><svg class='icon xr-icon-file-text2'><use xlink:href='#icon-file-text2'></use></svg></label><input id='data-001c79b0-6bf4-4a68-a370-0ddc95e24a28' class='xr-var-data-in' type='checkbox'><label for='data-001c79b0-6bf4-4a68-a370-0ddc95e24a28' title='Show/Hide data repr'><svg class='icon xr-icon-database'><use xlink:href='#icon-database'></use></svg></label><div class='xr-var-attrs'><dl class='xr-attrs'><dt><span>interval_operation :</span></dt><dd>900 s</dd><dt><span>interval_write :</span></dt><dd>1 h</dd><dt><span>cell_methods :</span></dt><dd>time: mean (interval: 900 s)</dd><dt><span>online_operation :</span></dt><dd>average</dd><dt><span>_ChunkSizes :</span></dt><dd>[    1    79 16002]</dd></dl></div><div class='xr-var-data'><pre>[30339792 values with dtype=float64]</pre></div></li><li class='xr-var-item'><div class='xr-var-name'><span>ps</span></div><div class='xr-var-dims'>(time_counter, cell)</div><div class='xr-var-dtype'>float64</div><div class='xr-var-preview xr-preview'>...</div><input id='attrs-4e7a1b65-da9c-4781-b174-76afabddabac' class='xr-var-attrs-in' type='checkbox' ><label for='attrs-4e7a1b65-da9c-4781-b174-76afabddabac' title='Show/Hide attributes'><svg class='icon xr-icon-file-text2'><use xlink:href='#icon-file-text2'></use></svg></label><input id='data-08494b92-771d-423c-9a7c-eb3e15b55c6f' class='xr-var-data-in' type='checkbox'><label for='data-08494b92-771d-423c-9a7c-eb3e15b55c6f' title='Show/Hide data repr'><svg class='icon xr-icon-database'><use xlink:href='#icon-database'></use></svg></label><div class='xr-var-attrs'><dl class='xr-attrs'><dt><span>long_name :</span></dt><dd>surface air pressure</dd><dt><span>units :</span></dt><dd>Pa</dd><dt><span>online_operation :</span></dt><dd>average</dd><dt><span>interval_operation :</span></dt><dd>900 s</dd><dt><span>interval_write :</span></dt><dd>1 h</dd><dt><span>cell_methods :</span></dt><dd>time: mean (interval: 900 s)</dd><dt><span>_ChunkSizes :</span></dt><dd>[    1 16002]</dd></dl></div><div class='xr-var-data'><pre>[384048 values with dtype=float64]</pre></div></li><li class='xr-var-item'><div class='xr-var-name'><span>area</span></div><div class='xr-var-dims'>(time_counter, cell)</div><div class='xr-var-dtype'>float64</div><div class='xr-var-preview xr-preview'>...</div><input id='attrs-57b08c57-b419-4efa-a0ca-bd9f5d59495e' class='xr-var-attrs-in' type='checkbox' ><label for='attrs-57b08c57-b419-4efa-a0ca-bd9f5d59495e' title='Show/Hide attributes'><svg class='icon xr-icon-file-text2'><use xlink:href='#icon-file-text2'></use></svg></label><input id='data-b68a7aa7-2231-4833-b2d1-c74a5a6992e2' class='xr-var-data-in' type='checkbox'><label for='data-b68a7aa7-2231-4833-b2d1-c74a5a6992e2' title='Show/Hide data repr'><svg class='icon xr-icon-database'><use xlink:href='#icon-database'></use></svg></label><div class='xr-var-attrs'><dl class='xr-attrs'><dt><span>long_name :</span></dt><dd>area of gridbox</dd><dt><span>units :</span></dt><dd>m2</dd><dt><span>online_operation :</span></dt><dd>instant</dd><dt><span>interval_operation :</span></dt><dd>900 s</dd><dt><span>interval_write :</span></dt><dd>1 h</dd><dt><span>cell_methods :</span></dt><dd>time: point (interval: 900 s)</dd><dt><span>_ChunkSizes :</span></dt><dd>[    1 16002]</dd></dl></div><div class='xr-var-data'><pre>[384048 values with dtype=float64]</pre></div></li><li class='xr-var-item'><div class='xr-var-name'><span>emirn222</span></div><div class='xr-var-dims'>(time_counter, cell)</div><div class='xr-var-dtype'>float64</div><div class='xr-var-preview xr-preview'>...</div><input id='attrs-b3ef6e8f-0b97-4af3-9ad1-652026ff8991' class='xr-var-attrs-in' type='checkbox' ><label for='attrs-b3ef6e8f-0b97-4af3-9ad1-652026ff8991' title='Show/Hide attributes'><svg class='icon xr-icon-file-text2'><use xlink:href='#icon-file-text2'></use></svg></label><input id='data-07db72cd-81e1-45e2-94ba-abbea0677e92' class='xr-var-data-in' type='checkbox'><label for='data-07db72cd-81e1-45e2-94ba-abbea0677e92' title='Show/Hide data repr'><svg class='icon xr-icon-database'><use xlink:href='#icon-database'></use></svg></label><div class='xr-var-attrs'><dl class='xr-attrs'><dt><span>long_name :</span></dt><dd>Total Emission Rate of Rn222</dd><dt><span>units :</span></dt><dd>kg m-2 s-1</dd><dt><span>online_operation :</span></dt><dd>average</dd><dt><span>interval_operation :</span></dt><dd>900 s</dd><dt><span>interval_write :</span></dt><dd>1 h</dd><dt><span>cell_methods :</span></dt><dd>time: mean (interval: 900 s)</dd><dt><span>_ChunkSizes :</span></dt><dd>[    1 16002]</dd></dl></div><div class='xr-var-data'><pre>[384048 values with dtype=float64]</pre></div></li><li class='xr-var-item'><div class='xr-var-name'><span>emipb210</span></div><div class='xr-var-dims'>(time_counter, cell)</div><div class='xr-var-dtype'>float64</div><div class='xr-var-preview xr-preview'>...</div><input id='attrs-7d4c1235-c026-4614-bc96-471d44c49568' class='xr-var-attrs-in' type='checkbox' ><label for='attrs-7d4c1235-c026-4614-bc96-471d44c49568' title='Show/Hide attributes'><svg class='icon xr-icon-file-text2'><use xlink:href='#icon-file-text2'></use></svg></label><input id='data-5e88ec8c-b05f-4503-95a6-ba242aa8f274' class='xr-var-data-in' type='checkbox'><label for='data-5e88ec8c-b05f-4503-95a6-ba242aa8f274' title='Show/Hide data repr'><svg class='icon xr-icon-database'><use xlink:href='#icon-database'></use></svg></label><div class='xr-var-attrs'><dl class='xr-attrs'><dt><span>long_name :</span></dt><dd>Total Emission Rate of Pb210</dd><dt><span>units :</span></dt><dd>kg m-2 s-1</dd><dt><span>online_operation :</span></dt><dd>average</dd><dt><span>interval_operation :</span></dt><dd>900 s</dd><dt><span>interval_write :</span></dt><dd>1 h</dd><dt><span>cell_methods :</span></dt><dd>time: mean (interval: 900 s)</dd><dt><span>_ChunkSizes :</span></dt><dd>[    1 16002]</dd></dl></div><div class='xr-var-data'><pre>[384048 values with dtype=float64]</pre></div></li><li class='xr-var-item'><div class='xr-var-name'><span>emimcf</span></div><div class='xr-var-dims'>(time_counter, cell)</div><div class='xr-var-dtype'>float64</div><div class='xr-var-preview xr-preview'>...</div><input id='attrs-1aade8a2-9a16-4dc7-b6ba-9a02482f0841' class='xr-var-attrs-in' type='checkbox' ><label for='attrs-1aade8a2-9a16-4dc7-b6ba-9a02482f0841' title='Show/Hide attributes'><svg class='icon xr-icon-file-text2'><use xlink:href='#icon-file-text2'></use></svg></label><input id='data-d2cdf89c-ae0e-4fac-84e9-9b66d5e9f106' class='xr-var-data-in' type='checkbox'><label for='data-d2cdf89c-ae0e-4fac-84e9-9b66d5e9f106' title='Show/Hide data repr'><svg class='icon xr-icon-database'><use xlink:href='#icon-database'></use></svg></label><div class='xr-var-attrs'><dl class='xr-attrs'><dt><span>long_name :</span></dt><dd>Total Emission Rate of MCF</dd><dt><span>units :</span></dt><dd>kg m-2 s-1</dd><dt><span>online_operation :</span></dt><dd>average</dd><dt><span>interval_operation :</span></dt><dd>900 s</dd><dt><span>interval_write :</span></dt><dd>1 h</dd><dt><span>cell_methods :</span></dt><dd>time: mean (interval: 900 s)</dd><dt><span>_ChunkSizes :</span></dt><dd>[    1 16002]</dd></dl></div><div class='xr-var-data'><pre>[384048 values with dtype=float64]</pre></div></li><li class='xr-var-item'><div class='xr-var-name'><span>emibe7</span></div><div class='xr-var-dims'>(time_counter, cell)</div><div class='xr-var-dtype'>float64</div><div class='xr-var-preview xr-preview'>...</div><input id='attrs-13cbd83a-5bac-4d8d-a3a6-167b4a2c51ff' class='xr-var-attrs-in' type='checkbox' ><label for='attrs-13cbd83a-5bac-4d8d-a3a6-167b4a2c51ff' title='Show/Hide attributes'><svg class='icon xr-icon-file-text2'><use xlink:href='#icon-file-text2'></use></svg></label><input id='data-7c99450e-817d-497d-b0d0-dd9c2034e751' class='xr-var-data-in' type='checkbox'><label for='data-7c99450e-817d-497d-b0d0-dd9c2034e751' title='Show/Hide data repr'><svg class='icon xr-icon-database'><use xlink:href='#icon-database'></use></svg></label><div class='xr-var-attrs'><dl class='xr-attrs'><dt><span>long_name :</span></dt><dd>Total Emission Rate of Be7</dd><dt><span>units :</span></dt><dd>kg m-2 s-1</dd><dt><span>online_operation :</span></dt><dd>average</dd><dt><span>interval_operation :</span></dt><dd>900 s</dd><dt><span>interval_write :</span></dt><dd>1 h</dd><dt><span>cell_methods :</span></dt><dd>time: mean (interval: 900 s)</dd><dt><span>_ChunkSizes :</span></dt><dd>[    1 16002]</dd></dl></div><div class='xr-var-data'><pre>[384048 values with dtype=float64]</pre></div></li><li class='xr-var-item'><div class='xr-var-name'><span>emin2o</span></div><div class='xr-var-dims'>(time_counter, cell)</div><div class='xr-var-dtype'>float64</div><div class='xr-var-preview xr-preview'>...</div><input id='attrs-79cf88ed-9026-4ff0-85ca-a9821af7a88b' class='xr-var-attrs-in' type='checkbox' ><label for='attrs-79cf88ed-9026-4ff0-85ca-a9821af7a88b' title='Show/Hide attributes'><svg class='icon xr-icon-file-text2'><use xlink:href='#icon-file-text2'></use></svg></label><input id='data-c84b9372-a01f-4801-b3b2-14a4e94c83a6' class='xr-var-data-in' type='checkbox'><label for='data-c84b9372-a01f-4801-b3b2-14a4e94c83a6' title='Show/Hide data repr'><svg class='icon xr-icon-database'><use xlink:href='#icon-database'></use></svg></label><div class='xr-var-attrs'><dl class='xr-attrs'><dt><span>long_name :</span></dt><dd>Total Emission Rate of N2O</dd><dt><span>units :</span></dt><dd>kg m-2 s-1</dd><dt><span>online_operation :</span></dt><dd>average</dd><dt><span>interval_operation :</span></dt><dd>900 s</dd><dt><span>interval_write :</span></dt><dd>1 h</dd><dt><span>cell_methods :</span></dt><dd>time: mean (interval: 900 s)</dd><dt><span>_ChunkSizes :</span></dt><dd>[    1 16002]</dd></dl></div><div class='xr-var-data'><pre>[384048 values with dtype=float64]</pre></div></li><li class='xr-var-item'><div class='xr-var-name'><span>emich4</span></div><div class='xr-var-dims'>(time_counter, cell)</div><div class='xr-var-dtype'>float64</div><div class='xr-var-preview xr-preview'>...</div><input id='attrs-4af93ce6-bbc2-4358-aa50-2c49be202f1a' class='xr-var-attrs-in' type='checkbox' ><label for='attrs-4af93ce6-bbc2-4358-aa50-2c49be202f1a' title='Show/Hide attributes'><svg class='icon xr-icon-file-text2'><use xlink:href='#icon-file-text2'></use></svg></label><input id='data-e48a81f7-3437-4c48-a11b-59b1f98c8776' class='xr-var-data-in' type='checkbox'><label for='data-e48a81f7-3437-4c48-a11b-59b1f98c8776' title='Show/Hide data repr'><svg class='icon xr-icon-database'><use xlink:href='#icon-database'></use></svg></label><div class='xr-var-attrs'><dl class='xr-attrs'><dt><span>long_name :</span></dt><dd>Total Emission Rate of CH4</dd><dt><span>units :</span></dt><dd>kg m-2 s-1</dd><dt><span>online_operation :</span></dt><dd>average</dd><dt><span>interval_operation :</span></dt><dd>900 s</dd><dt><span>interval_write :</span></dt><dd>1 h</dd><dt><span>cell_methods :</span></dt><dd>time: mean (interval: 900 s)</dd><dt><span>_ChunkSizes :</span></dt><dd>[    1 16002]</dd></dl></div><div class='xr-var-data'><pre>[384048 values with dtype=float64]</pre></div></li><li class='xr-var-item'><div class='xr-var-name'><span>emico</span></div><div class='xr-var-dims'>(time_counter, cell)</div><div class='xr-var-dtype'>float64</div><div class='xr-var-preview xr-preview'>...</div><input id='attrs-9562bf3e-6e2b-45ca-8594-67faa3f90285' class='xr-var-attrs-in' type='checkbox' ><label for='attrs-9562bf3e-6e2b-45ca-8594-67faa3f90285' title='Show/Hide attributes'><svg class='icon xr-icon-file-text2'><use xlink:href='#icon-file-text2'></use></svg></label><input id='data-0ac5ef8e-2b92-41a8-ba30-7040178ebcb7' class='xr-var-data-in' type='checkbox'><label for='data-0ac5ef8e-2b92-41a8-ba30-7040178ebcb7' title='Show/Hide data repr'><svg class='icon xr-icon-database'><use xlink:href='#icon-database'></use></svg></label><div class='xr-var-attrs'><dl class='xr-attrs'><dt><span>long_name :</span></dt><dd>Total Emission Rate of CO</dd><dt><span>units :</span></dt><dd>kg m-2 s-1</dd><dt><span>online_operation :</span></dt><dd>average</dd><dt><span>interval_operation :</span></dt><dd>900 s</dd><dt><span>interval_write :</span></dt><dd>1 h</dd><dt><span>cell_methods :</span></dt><dd>time: mean (interval: 900 s)</dd><dt><span>_ChunkSizes :</span></dt><dd>[    1 16002]</dd></dl></div><div class='xr-var-data'><pre>[384048 values with dtype=float64]</pre></div></li><li class='xr-var-item'><div class='xr-var-name'><span>emico2bih</span></div><div class='xr-var-dims'>(time_counter, cell)</div><div class='xr-var-dtype'>float64</div><div class='xr-var-preview xr-preview'>...</div><input id='attrs-5420d3df-15c4-438f-9df5-64aea3949490' class='xr-var-attrs-in' type='checkbox' ><label for='attrs-5420d3df-15c4-438f-9df5-64aea3949490' title='Show/Hide attributes'><svg class='icon xr-icon-file-text2'><use xlink:href='#icon-file-text2'></use></svg></label><input id='data-93cc8d59-e3b1-4a39-91ab-49f05ec529be' class='xr-var-data-in' type='checkbox'><label for='data-93cc8d59-e3b1-4a39-91ab-49f05ec529be' title='Show/Hide data repr'><svg class='icon xr-icon-database'><use xlink:href='#icon-database'></use></svg></label><div class='xr-var-attrs'><dl class='xr-attrs'><dt><span>long_name :</span></dt><dd>Total Emission Rate of CO2BIH</dd><dt><span>units :</span></dt><dd>kg m-2 s-1</dd><dt><span>online_operation :</span></dt><dd>average</dd><dt><span>interval_operation :</span></dt><dd>900 s</dd><dt><span>interval_write :</span></dt><dd>1 h</dd><dt><span>cell_methods :</span></dt><dd>time: mean (interval: 900 s)</dd><dt><span>_ChunkSizes :</span></dt><dd>[    1 16002]</dd></dl></div><div class='xr-var-data'><pre>[384048 values with dtype=float64]</pre></div></li><li class='xr-var-item'><div class='xr-var-name'><span>vmrrn222</span></div><div class='xr-var-dims'>(time_counter, presnivs, cell)</div><div class='xr-var-dtype'>float64</div><div class='xr-var-preview xr-preview'>...</div><input id='attrs-1dc18173-8f79-4bb4-ae2c-c21424f72a08' class='xr-var-attrs-in' type='checkbox' ><label for='attrs-1dc18173-8f79-4bb4-ae2c-c21424f72a08' title='Show/Hide attributes'><svg class='icon xr-icon-file-text2'><use xlink:href='#icon-file-text2'></use></svg></label><input id='data-935c1b8a-f737-4674-b57d-7aa016d5fec0' class='xr-var-data-in' type='checkbox'><label for='data-935c1b8a-f737-4674-b57d-7aa016d5fec0' title='Show/Hide data repr'><svg class='icon xr-icon-database'><use xlink:href='#icon-database'></use></svg></label><div class='xr-var-attrs'><dl class='xr-attrs'><dt><span>long_name :</span></dt><dd>Rn222 Volume Mixing Ratio</dd><dt><span>units :</span></dt><dd>mol mol-1</dd><dt><span>online_operation :</span></dt><dd>average</dd><dt><span>interval_operation :</span></dt><dd>900 s</dd><dt><span>interval_write :</span></dt><dd>1 h</dd><dt><span>cell_methods :</span></dt><dd>time: mean (interval: 900 s)</dd><dt><span>_ChunkSizes :</span></dt><dd>[    1    79 16002]</dd></dl></div><div class='xr-var-data'><pre>[30339792 values with dtype=float64]</pre></div></li><li class='xr-var-item'><div class='xr-var-name'><span>vmrpb210</span></div><div class='xr-var-dims'>(time_counter, presnivs, cell)</div><div class='xr-var-dtype'>float64</div><div class='xr-var-preview xr-preview'>...</div><input id='attrs-6bfae1b4-c536-4ff6-b83b-56f5c44b226f' class='xr-var-attrs-in' type='checkbox' ><label for='attrs-6bfae1b4-c536-4ff6-b83b-56f5c44b226f' title='Show/Hide attributes'><svg class='icon xr-icon-file-text2'><use xlink:href='#icon-file-text2'></use></svg></label><input id='data-3b2b3831-598f-41ca-a3b1-6e0cc9ec0cbf' class='xr-var-data-in' type='checkbox'><label for='data-3b2b3831-598f-41ca-a3b1-6e0cc9ec0cbf' title='Show/Hide data repr'><svg class='icon xr-icon-database'><use xlink:href='#icon-database'></use></svg></label><div class='xr-var-attrs'><dl class='xr-attrs'><dt><span>long_name :</span></dt><dd>Pb210 Volume Mixing Ratio</dd><dt><span>units :</span></dt><dd>mol mol-1</dd><dt><span>online_operation :</span></dt><dd>average</dd><dt><span>interval_operation :</span></dt><dd>900 s</dd><dt><span>interval_write :</span></dt><dd>1 h</dd><dt><span>cell_methods :</span></dt><dd>time: mean (interval: 900 s)</dd><dt><span>_ChunkSizes :</span></dt><dd>[    1    79 16002]</dd></dl></div><div class='xr-var-data'><pre>[30339792 values with dtype=float64]</pre></div></li><li class='xr-var-item'><div class='xr-var-name'><span>vmrmcf</span></div><div class='xr-var-dims'>(time_counter, presnivs, cell)</div><div class='xr-var-dtype'>float64</div><div class='xr-var-preview xr-preview'>...</div><input id='attrs-c20c8a0c-c5ba-43ce-a460-9916b90fc70e' class='xr-var-attrs-in' type='checkbox' ><label for='attrs-c20c8a0c-c5ba-43ce-a460-9916b90fc70e' title='Show/Hide attributes'><svg class='icon xr-icon-file-text2'><use xlink:href='#icon-file-text2'></use></svg></label><input id='data-cb63a0c0-e009-4714-a7a5-4d3dea42f603' class='xr-var-data-in' type='checkbox'><label for='data-cb63a0c0-e009-4714-a7a5-4d3dea42f603' title='Show/Hide data repr'><svg class='icon xr-icon-database'><use xlink:href='#icon-database'></use></svg></label><div class='xr-var-attrs'><dl class='xr-attrs'><dt><span>long_name :</span></dt><dd>MCF Volume Mixing Ratio</dd><dt><span>units :</span></dt><dd>mol mol-1</dd><dt><span>online_operation :</span></dt><dd>average</dd><dt><span>interval_operation :</span></dt><dd>900 s</dd><dt><span>interval_write :</span></dt><dd>1 h</dd><dt><span>cell_methods :</span></dt><dd>time: mean (interval: 900 s)</dd><dt><span>_ChunkSizes :</span></dt><dd>[    1    79 16002]</dd></dl></div><div class='xr-var-data'><pre>[30339792 values with dtype=float64]</pre></div></li><li class='xr-var-item'><div class='xr-var-name'><span>vmrbe7</span></div><div class='xr-var-dims'>(time_counter, presnivs, cell)</div><div class='xr-var-dtype'>float64</div><div class='xr-var-preview xr-preview'>...</div><input id='attrs-9e4e69e8-3165-4549-856a-7b47549edb47' class='xr-var-attrs-in' type='checkbox' ><label for='attrs-9e4e69e8-3165-4549-856a-7b47549edb47' title='Show/Hide attributes'><svg class='icon xr-icon-file-text2'><use xlink:href='#icon-file-text2'></use></svg></label><input id='data-ab2c53e3-61d1-4063-babf-a707abbdbd8b' class='xr-var-data-in' type='checkbox'><label for='data-ab2c53e3-61d1-4063-babf-a707abbdbd8b' title='Show/Hide data repr'><svg class='icon xr-icon-database'><use xlink:href='#icon-database'></use></svg></label><div class='xr-var-attrs'><dl class='xr-attrs'><dt><span>long_name :</span></dt><dd>Be7 Volume Mixing Ratio</dd><dt><span>units :</span></dt><dd>mol mol-1</dd><dt><span>online_operation :</span></dt><dd>average</dd><dt><span>interval_operation :</span></dt><dd>900 s</dd><dt><span>interval_write :</span></dt><dd>1 h</dd><dt><span>cell_methods :</span></dt><dd>time: mean (interval: 900 s)</dd><dt><span>_ChunkSizes :</span></dt><dd>[    1    79 16002]</dd></dl></div><div class='xr-var-data'><pre>[30339792 values with dtype=float64]</pre></div></li><li class='xr-var-item'><div class='xr-var-name'><span>vmrn2o</span></div><div class='xr-var-dims'>(time_counter, presnivs, cell)</div><div class='xr-var-dtype'>float64</div><div class='xr-var-preview xr-preview'>...</div><input id='attrs-937434ca-4acf-467d-a4b4-c1f8be61f840' class='xr-var-attrs-in' type='checkbox' ><label for='attrs-937434ca-4acf-467d-a4b4-c1f8be61f840' title='Show/Hide attributes'><svg class='icon xr-icon-file-text2'><use xlink:href='#icon-file-text2'></use></svg></label><input id='data-d8f159ef-cd15-414a-a1ee-790b1eb84505' class='xr-var-data-in' type='checkbox'><label for='data-d8f159ef-cd15-414a-a1ee-790b1eb84505' title='Show/Hide data repr'><svg class='icon xr-icon-database'><use xlink:href='#icon-database'></use></svg></label><div class='xr-var-attrs'><dl class='xr-attrs'><dt><span>long_name :</span></dt><dd>N2O Volume Mixing Ratio</dd><dt><span>units :</span></dt><dd>mol mol-1</dd><dt><span>online_operation :</span></dt><dd>average</dd><dt><span>interval_operation :</span></dt><dd>900 s</dd><dt><span>interval_write :</span></dt><dd>1 h</dd><dt><span>cell_methods :</span></dt><dd>time: mean (interval: 900 s)</dd><dt><span>_ChunkSizes :</span></dt><dd>[    1    79 16002]</dd></dl></div><div class='xr-var-data'><pre>[30339792 values with dtype=float64]</pre></div></li><li class='xr-var-item'><div class='xr-var-name'><span>vmrch4</span></div><div class='xr-var-dims'>(time_counter, presnivs, cell)</div><div class='xr-var-dtype'>float64</div><div class='xr-var-preview xr-preview'>...</div><input id='attrs-8bb75545-c73a-452e-ac7d-8feb06370f7e' class='xr-var-attrs-in' type='checkbox' ><label for='attrs-8bb75545-c73a-452e-ac7d-8feb06370f7e' title='Show/Hide attributes'><svg class='icon xr-icon-file-text2'><use xlink:href='#icon-file-text2'></use></svg></label><input id='data-31d143b1-ed7d-410f-bc0f-65d554ede67d' class='xr-var-data-in' type='checkbox'><label for='data-31d143b1-ed7d-410f-bc0f-65d554ede67d' title='Show/Hide data repr'><svg class='icon xr-icon-database'><use xlink:href='#icon-database'></use></svg></label><div class='xr-var-attrs'><dl class='xr-attrs'><dt><span>long_name :</span></dt><dd>CH4 Volume Mixing Ratio</dd><dt><span>units :</span></dt><dd>mol mol-1</dd><dt><span>online_operation :</span></dt><dd>average</dd><dt><span>interval_operation :</span></dt><dd>900 s</dd><dt><span>interval_write :</span></dt><dd>1 h</dd><dt><span>cell_methods :</span></dt><dd>time: mean (interval: 900 s)</dd><dt><span>_ChunkSizes :</span></dt><dd>[    1    79 16002]</dd></dl></div><div class='xr-var-data'><pre>[30339792 values with dtype=float64]</pre></div></li><li class='xr-var-item'><div class='xr-var-name'><span>vmrco</span></div><div class='xr-var-dims'>(time_counter, presnivs, cell)</div><div class='xr-var-dtype'>float64</div><div class='xr-var-preview xr-preview'>...</div><input id='attrs-8a98fc1d-dfa1-4c09-8a40-91f032ac58e7' class='xr-var-attrs-in' type='checkbox' ><label for='attrs-8a98fc1d-dfa1-4c09-8a40-91f032ac58e7' title='Show/Hide attributes'><svg class='icon xr-icon-file-text2'><use xlink:href='#icon-file-text2'></use></svg></label><input id='data-25edcf03-1dd0-4a13-80e6-bc6a33f32c86' class='xr-var-data-in' type='checkbox'><label for='data-25edcf03-1dd0-4a13-80e6-bc6a33f32c86' title='Show/Hide data repr'><svg class='icon xr-icon-database'><use xlink:href='#icon-database'></use></svg></label><div class='xr-var-attrs'><dl class='xr-attrs'><dt><span>long_name :</span></dt><dd>CO Volume Mixing Ratio</dd><dt><span>units :</span></dt><dd>mol mol-1</dd><dt><span>online_operation :</span></dt><dd>average</dd><dt><span>interval_operation :</span></dt><dd>900 s</dd><dt><span>interval_write :</span></dt><dd>1 h</dd><dt><span>cell_methods :</span></dt><dd>time: mean (interval: 900 s)</dd><dt><span>_ChunkSizes :</span></dt><dd>[    1    79 16002]</dd></dl></div><div class='xr-var-data'><pre>[30339792 values with dtype=float64]</pre></div></li><li class='xr-var-item'><div class='xr-var-name'><span>vmrco2bih</span></div><div class='xr-var-dims'>(time_counter, presnivs, cell)</div><div class='xr-var-dtype'>float64</div><div class='xr-var-preview xr-preview'>...</div><input id='attrs-1c3f5b7e-6f26-46ae-859b-15a8432284b8' class='xr-var-attrs-in' type='checkbox' ><label for='attrs-1c3f5b7e-6f26-46ae-859b-15a8432284b8' title='Show/Hide attributes'><svg class='icon xr-icon-file-text2'><use xlink:href='#icon-file-text2'></use></svg></label><input id='data-d1c4b6cf-7b47-4d86-8728-3c3547caebc1' class='xr-var-data-in' type='checkbox'><label for='data-d1c4b6cf-7b47-4d86-8728-3c3547caebc1' title='Show/Hide data repr'><svg class='icon xr-icon-database'><use xlink:href='#icon-database'></use></svg></label><div class='xr-var-attrs'><dl class='xr-attrs'><dt><span>long_name :</span></dt><dd>CO2BIH Volume Mixing Ratio</dd><dt><span>units :</span></dt><dd>mol mol-1</dd><dt><span>online_operation :</span></dt><dd>average</dd><dt><span>interval_operation :</span></dt><dd>900 s</dd><dt><span>interval_write :</span></dt><dd>1 h</dd><dt><span>cell_methods :</span></dt><dd>time: mean (interval: 900 s)</dd><dt><span>_ChunkSizes :</span></dt><dd>[    1    79 16002]</dd></dl></div><div class='xr-var-data'><pre>[30339792 values with dtype=float64]</pre></div></li></ul></div></li><li class='xr-section-item'><input id='section-5ca6a6fc-c4c8-47ea-827f-e15dfd7a787f' class='xr-section-summary-in' type='checkbox'  ><label for='section-5ca6a6fc-c4c8-47ea-827f-e15dfd7a787f' class='xr-section-summary' >Indexes: <span>(2)</span></label><div class='xr-section-inline-details'></div><div class='xr-section-details'><ul class='xr-var-list'><li class='xr-var-item'><div class='xr-index-name'><div>presnivs</div></div><div class='xr-index-preview'>PandasIndex</div><div></div><input id='index-771a1651-700f-4095-bd08-8d3cec3f04a2' class='xr-index-data-in' type='checkbox'/><label for='index-771a1651-700f-4095-bd08-8d3cec3f04a2' title='Show/Hide index repr'><svg class='icon xr-icon-database'><use xlink:href='#icon-database'></use></svg></label><div class='xr-index-data'><pre>PandasIndex(Float64Index([     101202.109375,     100942.4296875,     100653.4140625,\n",
       "                  100331.8515625,      99974.1953125,      99576.5546875,\n",
       "                    99134.671875,        98643.84375,      98098.9765625,\n",
       "                   97494.4765625,      96824.3046875,      96081.9140625,\n",
       "                   95260.2421875,       94351.734375,      93348.3359375,\n",
       "                   92241.5546875,      91022.4609375,      89681.8203125,\n",
       "                    88210.203125,       86598.109375,      84836.2265625,\n",
       "                      82915.6875,      80828.3984375,       78567.484375,\n",
       "                   76127.7890625,      73506.4453125,      70703.5390625,\n",
       "                      67722.8125,     64572.38671875,     61265.37890625,\n",
       "                     57820.46875,     54262.16796875,      50620.7421875,\n",
       "                      46931.6875,         43234.6875,     39571.98828125,\n",
       "                  35986.37109375,     32518.84765625,     29206.36328125,\n",
       "                 26079.826171875,    23162.712890625,    20470.419921875,\n",
       "                 18010.361328125,   15782.7099609375,   13781.5791015625,\n",
       "                    11996.421875,   10413.4404296875,     9016.865234375,\n",
       "                7790.02001953125,   6716.14697265625,    5778.9990234375,\n",
       "                4963.23291015625,    4254.6435546875,   3640.27587890625,\n",
       "                 3108.4501953125,  2648.732666015625,  2251.866943359375,\n",
       "               1909.686767578125,   1615.01806640625, 1361.5806884765625,\n",
       "              1143.8909912109375,  957.1721801757812,  797.2695922851562,\n",
       "                660.575439453125,   543.960693359375,  444.7145690917969,\n",
       "               360.4911804199219,     289.2626953125, 229.27865600585938,\n",
       "                  179.0302734375,  137.2198486328125, 102.73442840576172,\n",
       "               74.62312316894531, 52.077579498291016, 34.414405822753906,\n",
       "              21.056676864624023, 11.507408142089844,  5.296796798706055,\n",
       "              1.4834349155426025],\n",
       "             dtype=&#x27;float64&#x27;, name=&#x27;presnivs&#x27;))</pre></div></li><li class='xr-var-item'><div class='xr-index-name'><div>time_counter</div></div><div class='xr-index-preview'>PandasIndex</div><div></div><input id='index-28283d1b-00b9-46ae-8829-0af4d9ba576d' class='xr-index-data-in' type='checkbox'/><label for='index-28283d1b-00b9-46ae-8829-0af4d9ba576d' title='Show/Hide index repr'><svg class='icon xr-icon-database'><use xlink:href='#icon-database'></use></svg></label><div class='xr-index-data'><pre>PandasIndex(DatetimeIndex([&#x27;1979-01-01 00:30:00&#x27;, &#x27;1979-01-01 01:30:00&#x27;,\n",
       "               &#x27;1979-01-01 02:30:00&#x27;, &#x27;1979-01-01 03:30:00&#x27;,\n",
       "               &#x27;1979-01-01 04:30:00&#x27;, &#x27;1979-01-01 05:30:00&#x27;,\n",
       "               &#x27;1979-01-01 06:30:00&#x27;, &#x27;1979-01-01 07:30:00&#x27;,\n",
       "               &#x27;1979-01-01 08:30:00&#x27;, &#x27;1979-01-01 09:30:00&#x27;,\n",
       "               &#x27;1979-01-01 10:30:00&#x27;, &#x27;1979-01-01 11:30:00&#x27;,\n",
       "               &#x27;1979-01-01 12:30:00&#x27;, &#x27;1979-01-01 13:30:00&#x27;,\n",
       "               &#x27;1979-01-01 14:30:00&#x27;, &#x27;1979-01-01 15:30:00&#x27;,\n",
       "               &#x27;1979-01-01 16:30:00&#x27;, &#x27;1979-01-01 17:30:00&#x27;,\n",
       "               &#x27;1979-01-01 18:30:00&#x27;, &#x27;1979-01-01 19:30:00&#x27;,\n",
       "               &#x27;1979-01-01 20:30:00&#x27;, &#x27;1979-01-01 21:30:00&#x27;,\n",
       "               &#x27;1979-01-01 22:30:00&#x27;, &#x27;1979-01-01 23:30:00&#x27;],\n",
       "              dtype=&#x27;datetime64[ns]&#x27;, name=&#x27;time_counter&#x27;, freq=None))</pre></div></li></ul></div></li><li class='xr-section-item'><input id='section-9160acaf-f11d-427c-9458-000a33e1a55a' class='xr-section-summary-in' type='checkbox'  ><label for='section-9160acaf-f11d-427c-9458-000a33e1a55a' class='xr-section-summary' >Attributes: <span>(10)</span></label><div class='xr-section-inline-details'></div><div class='xr-section-details'><dl class='xr-attrs'><dt><span>_NCProperties :</span></dt><dd>version=1|netcdflibversion=4.6.0|hdf5libversion=1.8.20</dd><dt><span>name :</span></dt><dd>inca1d_ges</dd><dt><span>description :</span></dt><dd>Created by xios</dd><dt><span>title :</span></dt><dd>Created by xios</dd><dt><span>Conventions :</span></dt><dd>CF-1.6</dd><dt><span>timeStamp :</span></dt><dd>2022-Apr-05 08:59:15 GMT</dd><dt><span>uuid :</span></dt><dd>8982bdb7-b650-45c4-896c-e228bec0cb5a</dd><dt><span>history :</span></dt><dd>Fri Apr 15 12:05:37 2022: ncatted -O -a axis,presnivs,o,c,Z ICO.79.1jour.native.1_19790101_19790101_1D_inca_ges.nc</dd><dt><span>NCO :</span></dt><dd>4.6.9</dd><dt><span>DODS_EXTRA.Unlimited_Dimension :</span></dt><dd>time_counter</dd></dl></div></li></ul></div></div>"
      ],
      "text/plain": [
       "<xarray.Dataset>\n",
       "Dimensions:               (cell: 16002, nvertex: 6, presnivs: 79,\n",
       "                           time_counter: 24, axis_nbounds: 2)\n",
       "Coordinates:\n",
       "    lat                   (cell) float32 ...\n",
       "    lon                   (cell) float32 ...\n",
       "  * presnivs              (presnivs) float32 1.012e+05 1.009e+05 ... 5.297 1.483\n",
       "    time_centered         (time_counter) datetime64[ns] ...\n",
       "  * time_counter          (time_counter) datetime64[ns] 1979-01-01T00:30:00 ....\n",
       "    time_instant          (time_counter) datetime64[ns] ...\n",
       "Dimensions without coordinates: cell, nvertex, axis_nbounds\n",
       "Data variables: (12/29)\n",
       "    bounds_lon            (cell, nvertex) float32 ...\n",
       "    bounds_lat            (cell, nvertex) float32 ...\n",
       "    time_centered_bounds  (time_counter, axis_nbounds) datetime64[ns] ...\n",
       "    time_counter_bounds   (time_counter, axis_nbounds) datetime64[ns] ...\n",
       "    time_instant_bounds   (time_counter, axis_nbounds) datetime64[ns] ...\n",
       "    pmid                  (time_counter, presnivs, cell) float64 ...\n",
       "    ...                    ...\n",
       "    vmrmcf                (time_counter, presnivs, cell) float64 ...\n",
       "    vmrbe7                (time_counter, presnivs, cell) float64 ...\n",
       "    vmrn2o                (time_counter, presnivs, cell) float64 ...\n",
       "    vmrch4                (time_counter, presnivs, cell) float64 ...\n",
       "    vmrco                 (time_counter, presnivs, cell) float64 ...\n",
       "    vmrco2bih             (time_counter, presnivs, cell) float64 ...\n",
       "Attributes:\n",
       "    _NCProperties:                   version=1|netcdflibversion=4.6.0|hdf5lib...\n",
       "    name:                            inca1d_ges\n",
       "    description:                     Created by xios\n",
       "    title:                           Created by xios\n",
       "    Conventions:                     CF-1.6\n",
       "    timeStamp:                       2022-Apr-05 08:59:15 GMT\n",
       "    uuid:                            8982bdb7-b650-45c4-896c-e228bec0cb5a\n",
       "    history:                         Fri Apr 15 12:05:37 2022: ncatted -O -a ...\n",
       "    NCO:                             4.6.9\n",
       "    DODS_EXTRA.Unlimited_Dimension:  time_counter"
      ]
     },
     "execution_count": 4,
     "metadata": {},
     "output_type": "execute_result"
    }
   ],
   "source": [
    "ds = xr.open_dataset(\"https://thredds-su.ipsl.fr/thredds/dodsC/ipsl_thredds/brocksce/ICO/ICO.79.1jour.native.1_19790101_19790101_1D_inca_ges.nc\")\n",
    "ds"
   ]
  },
  {
   "cell_type": "code",
   "execution_count": 5,
   "id": "c82bee03",
   "metadata": {
    "execution": {
     "iopub.execute_input": "2023-02-14T17:28:02.212663Z",
     "iopub.status.busy": "2023-02-14T17:28:02.211162Z",
     "iopub.status.idle": "2023-02-14T17:28:02.562367Z",
     "shell.execute_reply": "2023-02-14T17:28:02.560575Z",
     "shell.execute_reply.started": "2023-02-14T17:28:02.212583Z"
    },
    "tags": []
   },
   "outputs": [
    {
     "name": "stdout",
     "output_type": "stream",
     "text": [
      "6\n",
      "(16002, 6)\n"
     ]
    }
   ],
   "source": [
    "blon = ds['bounds_lon'].to_numpy()\n",
    "blat = ds['bounds_lat'].to_numpy()\n",
    "nvertex = blon.shape[-1]\n",
    "print(nvertex)\n",
    "\n",
    "blon = blon.reshape(-1, nvertex)\n",
    "blat = blat.reshape(-1, nvertex)\n",
    "print(blon.shape)\n",
    "\n",
    "arr = ds['bounds_lon'].to_numpy()\n",
    "blon = arr.reshape(-1, arr.shape[-1])\n",
    "arr = ds['bounds_lat'].to_numpy()\n",
    "blat = arr.reshape(-1, arr.shape[-1])"
   ]
  },
  {
   "cell_type": "code",
   "execution_count": 6,
   "id": "e6761515",
   "metadata": {
    "execution": {
     "iopub.execute_input": "2023-02-14T17:28:03.673824Z",
     "iopub.status.busy": "2023-02-14T17:28:03.672929Z",
     "iopub.status.idle": "2023-02-14T17:28:03.691411Z",
     "shell.execute_reply": "2023-02-14T17:28:03.689834Z",
     "shell.execute_reply.started": "2023-02-14T17:28:03.673747Z"
    },
    "tags": []
   },
   "outputs": [],
   "source": [
    "deg2rad = np.pi/180.\n",
    "x = np.cos(blat*deg2rad)*np.cos(blon*deg2rad)\n",
    "y = np.cos(blat*deg2rad)*np.sin(blon*deg2rad)\n",
    "z = np.sin(blat*deg2rad)"
   ]
  },
  {
   "cell_type": "code",
   "execution_count": 7,
   "id": "75f83291-d3bc-4a55-8a73-6c8a6acd6e35",
   "metadata": {
    "execution": {
     "iopub.execute_input": "2023-02-14T17:28:04.532153Z",
     "iopub.status.busy": "2023-02-14T17:28:04.531693Z",
     "iopub.status.idle": "2023-02-14T17:28:04.540997Z",
     "shell.execute_reply": "2023-02-14T17:28:04.540083Z",
     "shell.execute_reply.started": "2023-02-14T17:28:04.532113Z"
    },
    "tags": []
   },
   "outputs": [],
   "source": [
    "points = np.stack((x,y,z), axis=2).reshape(x.size, 3)\n",
    "faces = np.arange(x.shape[0] * nvertex).reshape(x.shape[0], nvertex)\n",
    "faces = np.insert(faces, 0, nvertex, axis=1)"
   ]
  },
  {
   "cell_type": "code",
   "execution_count": 8,
   "id": "475a5a6c",
   "metadata": {
    "execution": {
     "iopub.execute_input": "2023-02-14T17:28:05.199935Z",
     "iopub.status.busy": "2023-02-14T17:28:05.199332Z",
     "iopub.status.idle": "2023-02-14T17:28:05.209362Z",
     "shell.execute_reply": "2023-02-14T17:28:05.208353Z",
     "shell.execute_reply.started": "2023-02-14T17:28:05.199873Z"
    },
    "tags": []
   },
   "outputs": [
    {
     "data": {
      "text/html": [
       "\n",
       "<table>\n",
       "<tr><th>PolyData</th><th>Information</th></tr>\n",
       "<tr><td>N Cells</td><td>16002</td></tr>\n",
       "<tr><td>N Points</td><td>96012</td></tr>\n",
       "<tr><td>N Strips</td><td>0</td></tr>\n",
       "<tr><td>X Bounds</td><td>-1.000e+00, 1.000e+00</td></tr>\n",
       "<tr><td>Y Bounds</td><td>-9.998e-01, 9.998e-01</td></tr>\n",
       "<tr><td>Z Bounds</td><td>-9.999e-01, 9.999e-01</td></tr>\n",
       "<tr><td>N Arrays</td><td>0</td></tr>\n",
       "</table>\n",
       "\n"
      ],
      "text/plain": [
       "PolyData (0x7fe72c76fca0)\n",
       "  N Cells:    16002\n",
       "  N Points:   96012\n",
       "  N Strips:   0\n",
       "  X Bounds:   -1.000e+00, 1.000e+00\n",
       "  Y Bounds:   -9.998e-01, 9.998e-01\n",
       "  Z Bounds:   -9.999e-01, 9.999e-01\n",
       "  N Arrays:   0"
      ]
     },
     "execution_count": 8,
     "metadata": {},
     "output_type": "execute_result"
    }
   ],
   "source": [
    "mesh = pv.PolyData(points, faces)\n",
    "mesh"
   ]
  },
  {
   "cell_type": "code",
   "execution_count": 9,
   "id": "ee5c4796-8776-4aec-ba24-ab07f81e394a",
   "metadata": {
    "execution": {
     "iopub.execute_input": "2023-02-14T17:28:05.959138Z",
     "iopub.status.busy": "2023-02-14T17:28:05.958526Z",
     "iopub.status.idle": "2023-02-14T17:28:06.008098Z",
     "shell.execute_reply": "2023-02-14T17:28:06.007127Z",
     "shell.execute_reply.started": "2023-02-14T17:28:05.959087Z"
    },
    "tags": []
   },
   "outputs": [
    {
     "data": {
      "text/html": [
       "\n",
       "<table>\n",
       "<tr><th>PolyData</th><th>Information</th></tr>\n",
       "<tr><td>N Cells</td><td>16002</td></tr>\n",
       "<tr><td>N Points</td><td>32000</td></tr>\n",
       "<tr><td>N Strips</td><td>0</td></tr>\n",
       "<tr><td>X Bounds</td><td>-1.000e+00, 1.000e+00</td></tr>\n",
       "<tr><td>Y Bounds</td><td>-9.998e-01, 9.998e-01</td></tr>\n",
       "<tr><td>Z Bounds</td><td>-9.999e-01, 9.999e-01</td></tr>\n",
       "<tr><td>N Arrays</td><td>0</td></tr>\n",
       "</table>\n",
       "\n"
      ],
      "text/plain": [
       "PolyData (0x7fe72c76f160)\n",
       "  N Cells:    16002\n",
       "  N Points:   32000\n",
       "  N Strips:   0\n",
       "  X Bounds:   -1.000e+00, 1.000e+00\n",
       "  Y Bounds:   -9.998e-01, 9.998e-01\n",
       "  Z Bounds:   -9.999e-01, 9.999e-01\n",
       "  N Arrays:   0"
      ]
     },
     "execution_count": 9,
     "metadata": {},
     "output_type": "execute_result"
    }
   ],
   "source": [
    "mesh = pv.PolyData(points, faces)\n",
    "mesh.clean(inplace=True, tolerance=0.001)\n",
    "mesh"
   ]
  },
  {
   "cell_type": "code",
   "execution_count": 10,
   "id": "6f8d378d",
   "metadata": {
    "execution": {
     "iopub.execute_input": "2023-02-14T17:28:07.305988Z",
     "iopub.status.busy": "2023-02-14T17:28:07.305080Z",
     "iopub.status.idle": "2023-02-14T17:28:07.319795Z",
     "shell.execute_reply": "2023-02-14T17:28:07.317436Z",
     "shell.execute_reply.started": "2023-02-14T17:28:07.305907Z"
    },
    "tags": []
   },
   "outputs": [
    {
     "name": "stdout",
     "output_type": "stream",
     "text": [
      "(24, 79, 16002)\n"
     ]
    }
   ],
   "source": [
    "var = ds['temp']\n",
    "print(var.shape)"
   ]
  },
  {
   "cell_type": "code",
   "execution_count": 11,
   "id": "78bcbf9d",
   "metadata": {
    "execution": {
     "iopub.execute_input": "2023-02-14T17:28:07.989069Z",
     "iopub.status.busy": "2023-02-14T17:28:07.988519Z",
     "iopub.status.idle": "2023-02-14T17:28:07.997981Z",
     "shell.execute_reply": "2023-02-14T17:28:07.996863Z",
     "shell.execute_reply.started": "2023-02-14T17:28:07.989021Z"
    },
    "tags": []
   },
   "outputs": [
    {
     "data": {
      "text/plain": [
       "(78, 23)"
      ]
     },
     "execution_count": 11,
     "metadata": {},
     "output_type": "execute_result"
    }
   ],
   "source": [
    "kmax = var.shape[1]-1\n",
    "lmax = var.shape[0]-1\n",
    "kmax, lmax"
   ]
  },
  {
   "cell_type": "code",
   "execution_count": 12,
   "id": "4ca83fbd",
   "metadata": {
    "execution": {
     "iopub.execute_input": "2023-02-14T17:28:09.458817Z",
     "iopub.status.busy": "2023-02-14T17:28:09.457471Z",
     "iopub.status.idle": "2023-02-14T17:28:09.528485Z",
     "shell.execute_reply": "2023-02-14T17:28:09.527303Z",
     "shell.execute_reply.started": "2023-02-14T17:28:09.458693Z"
    },
    "tags": []
   },
   "outputs": [
    {
     "name": "stdout",
     "output_type": "stream",
     "text": [
      "233.364045 302.943871\n"
     ]
    }
   ],
   "source": [
    "var = ds['temp'][0,0]\n",
    "varmin = np.min(var)\n",
    "varmax = np.max(var)\n",
    "print(\"%f %f\" %(varmin, varmax))"
   ]
  },
  {
   "cell_type": "code",
   "execution_count": 13,
   "id": "6af4e693",
   "metadata": {
    "execution": {
     "iopub.execute_input": "2023-02-14T17:28:11.107092Z",
     "iopub.status.busy": "2023-02-14T17:28:11.106700Z",
     "iopub.status.idle": "2023-02-14T17:28:11.248988Z",
     "shell.execute_reply": "2023-02-14T17:28:11.247887Z",
     "shell.execute_reply.started": "2023-02-14T17:28:11.107062Z"
    },
    "tags": []
   },
   "outputs": [
    {
     "name": "stdout",
     "output_type": "stream",
     "text": [
      "Fichier «continents.vtk» déjà présent ; pas de récupération.\n",
      "\n"
     ]
    }
   ],
   "source": [
    "! wget -nc https://thredds-su.ipsl.fr/thredds/fileServer/ipsl_thredds/brocksce/pyvista/continents.vtk"
   ]
  },
  {
   "cell_type": "code",
   "execution_count": 14,
   "id": "c876e9ea-cd2a-4dd4-9b02-627a9895d1ac",
   "metadata": {
    "execution": {
     "iopub.execute_input": "2023-02-14T17:28:11.957121Z",
     "iopub.status.busy": "2023-02-14T17:28:11.956768Z",
     "iopub.status.idle": "2023-02-14T17:28:12.134367Z",
     "shell.execute_reply": "2023-02-14T17:28:12.132532Z",
     "shell.execute_reply.started": "2023-02-14T17:28:11.957091Z"
    },
    "tags": []
   },
   "outputs": [
    {
     "data": {
      "application/vnd.jupyter.widget-view+json": {
       "model_id": "94d2192de06b485b88ce329f28b4c60a",
       "version_major": 2,
       "version_minor": 0
      },
      "text/plain": [
       "Widget(value=\"<iframe src='http://localhost:35527/index.html?ui=P_0x7fe72c81f5b0_0&reconnect=auto' style='widt…"
      ]
     },
     "metadata": {},
     "output_type": "display_data"
    },
    {
     "data": {
      "application/vnd.jupyter.widget-view+json": {
       "model_id": "25c0124dc62d4b82a9349fd7813470aa",
       "version_major": 2,
       "version_minor": 0
      },
      "text/plain": [
       "HBox(children=(VBox(children=(IntSlider(value=0, description='k-index:', max=78), IntSlider(value=0, descripti…"
      ]
     },
     "metadata": {},
     "output_type": "display_data"
    }
   ],
   "source": [
    "import pyvista as pv\n",
    "from ipywidgets import interact\n",
    "\n",
    "pv.set_jupyter_backend('trame')\n",
    "\n",
    "pl = pv.Plotter()\n",
    "pl.set_background('lightgray')\n",
    "\n",
    "varname = 'temp'\n",
    "kindex = 0\n",
    "lindex = 0\n",
    "var = ds[varname][lindex,kindex]\n",
    "clim = [240, 300]\n",
    "cmap = 'plasma'\n",
    "\n",
    "continents = pv.PolyData('continents.vtk')\n",
    "pl.add_mesh(continents, color='white')\n",
    "mesh_actor = pl.add_mesh(mesh, scalars=var, show_edges=False, clim=clim, cmap=cmap, show_scalar_bar=False)\n",
    "scalarBar_actor = pl.add_scalar_bar(title=varname, color='black')\n",
    "pl.show(jupyter_backend='client')\n",
    "\n",
    "def plot(kindex, lindex, clim, cmap):\n",
    "    global mesh_actor, scalarBar_actor\n",
    "    var = ds[varname][lindex, kindex]\n",
    "    pl.remove_actor(mesh_actor)\n",
    "    pl.remove_actor(scalarBar_actor)\n",
    "    mesh_actor = pl.add_mesh(mesh, scalars=var, show_edges=False, clim=clim, cmap=cmap, show_scalar_bar=False)\n",
    "    scalarBar_actor = pl.add_scalar_bar(title=varname, color='black')\n",
    "    pl.render()\n",
    "    \n",
    "widget_k = widgets.IntSlider(min=0, max=kmax, step=1, description='k-index:')\n",
    "widget_l = widgets.IntSlider(min=0, max=lmax, step=1, description='l-index:')\n",
    "widget_clim = widgets.Button(description=\"Update range\")\n",
    "widget_cmap = widgets.Dropdown(options=matplotlib.colormaps(), value=cmap, description='cmap:')\n",
    "#widget_output = widgets.Output()\n",
    "\n",
    "def on_kvalue_change(change):\n",
    "    global kindex\n",
    "    kindex=change['new']\n",
    "    plot(kindex, lindex, clim, cmap)\n",
    "\n",
    "def on_lvalue_change(change):\n",
    "    global lindex\n",
    "    lindex=change['new']\n",
    "    plot(kindex, lindex, clim, cmap)\n",
    "    plot(lindex=lindex)\n",
    "\n",
    "def on_button_clicked(b):\n",
    "    global varmin, varmax, cmap\n",
    "    var = ds[varname][lindex,kindex]\n",
    "    varmin = float(np.min(var))\n",
    "    varmax = float(np.max(var))\n",
    "    clim = [varmin, varmax]\n",
    "    plot(kindex, lindex, clim, cmap)\n",
    "\n",
    "def on_cmap_change(change):\n",
    "    global cmap\n",
    "    cmap = change['new']\n",
    "    plot(kindex, lindex, clim, cmap)\n",
    "    \n",
    "widget_k.observe(on_kvalue_change, names='value')\n",
    "widget_l.observe(on_lvalue_change, names='value')\n",
    "widget_clim.on_click(on_button_clicked)\n",
    "widget_cmap.observe(on_cmap_change, names='value')\n",
    "\n",
    "display( widgets.HBox([widgets.VBox([widget_k, widget_l, widget_cmap]), widgets.VBox([widget_clim])]) )"
   ]
  },
  {
   "cell_type": "code",
   "execution_count": null,
   "id": "7a2ada56-a232-4fd7-b506-fb6bba602dc7",
   "metadata": {},
   "outputs": [],
   "source": []
  }
 ],
 "metadata": {
  "kernelspec": {
   "display_name": "Python 3 (ipykernel)",
   "language": "python",
   "name": "python3"
  },
  "language_info": {
   "codemirror_mode": {
    "name": "ipython",
    "version": 3
   },
   "file_extension": ".py",
   "mimetype": "text/x-python",
   "name": "python",
   "nbconvert_exporter": "python",
   "pygments_lexer": "ipython3",
   "version": "3.10.9"
  }
 },
 "nbformat": 4,
 "nbformat_minor": 5
}
