{
 "cells": [
  {
   "cell_type": "markdown",
   "id": "9a6f4d65-663a-42fe-a216-9d2921eeec99",
   "metadata": {},
   "source": [
    "<img src=\"https://www.lsce.ipsl.fr/Css/img/banniere_LSCE_75.png\" width=\"600px\">\n",
    "\n",
    "## Mapping DYNAMICO output\n",
    "\n",
    "- Author: Patrick Brockmann\n",
    "- Version: 25/11/2022"
   ]
  },
  {
   "cell_type": "markdown",
   "id": "d592868d-422e-4ef8-83ac-a9698a884142",
   "metadata": {},
   "source": [
    "### Testing pyvista and different backends"
   ]
  },
  {
   "cell_type": "code",
   "execution_count": 1,
   "id": "487db41a",
   "metadata": {
    "tags": []
   },
   "outputs": [],
   "source": [
    "import numpy as np\n",
    "import xarray as xr\n",
    "import pyvista as pv\n",
    "import matplotlib"
   ]
  },
  {
   "cell_type": "code",
   "execution_count": 2,
   "id": "0579a733",
   "metadata": {
    "tags": []
   },
   "outputs": [],
   "source": [
    "import ipywidgets as widgets\n",
    "from ipywidgets import interact"
   ]
  },
  {
   "cell_type": "code",
   "execution_count": 3,
   "id": "4d058a22",
   "metadata": {
    "tags": []
   },
   "outputs": [
    {
     "data": {
      "text/html": [
       "<div><svg style=\"position: absolute; width: 0; height: 0; overflow: hidden\">\n",
       "<defs>\n",
       "<symbol id=\"icon-database\" viewBox=\"0 0 32 32\">\n",
       "<path d=\"M16 0c-8.837 0-16 2.239-16 5v4c0 2.761 7.163 5 16 5s16-2.239 16-5v-4c0-2.761-7.163-5-16-5z\"></path>\n",
       "<path d=\"M16 17c-8.837 0-16-2.239-16-5v6c0 2.761 7.163 5 16 5s16-2.239 16-5v-6c0 2.761-7.163 5-16 5z\"></path>\n",
       "<path d=\"M16 26c-8.837 0-16-2.239-16-5v6c0 2.761 7.163 5 16 5s16-2.239 16-5v-6c0 2.761-7.163 5-16 5z\"></path>\n",
       "</symbol>\n",
       "<symbol id=\"icon-file-text2\" viewBox=\"0 0 32 32\">\n",
       "<path d=\"M28.681 7.159c-0.694-0.947-1.662-2.053-2.724-3.116s-2.169-2.030-3.116-2.724c-1.612-1.182-2.393-1.319-2.841-1.319h-15.5c-1.378 0-2.5 1.121-2.5 2.5v27c0 1.378 1.122 2.5 2.5 2.5h23c1.378 0 2.5-1.122 2.5-2.5v-19.5c0-0.448-0.137-1.23-1.319-2.841zM24.543 5.457c0.959 0.959 1.712 1.825 2.268 2.543h-4.811v-4.811c0.718 0.556 1.584 1.309 2.543 2.268zM28 29.5c0 0.271-0.229 0.5-0.5 0.5h-23c-0.271 0-0.5-0.229-0.5-0.5v-27c0-0.271 0.229-0.5 0.5-0.5 0 0 15.499-0 15.5 0v7c0 0.552 0.448 1 1 1h7v19.5z\"></path>\n",
       "<path d=\"M23 26h-14c-0.552 0-1-0.448-1-1s0.448-1 1-1h14c0.552 0 1 0.448 1 1s-0.448 1-1 1z\"></path>\n",
       "<path d=\"M23 22h-14c-0.552 0-1-0.448-1-1s0.448-1 1-1h14c0.552 0 1 0.448 1 1s-0.448 1-1 1z\"></path>\n",
       "<path d=\"M23 18h-14c-0.552 0-1-0.448-1-1s0.448-1 1-1h14c0.552 0 1 0.448 1 1s-0.448 1-1 1z\"></path>\n",
       "</symbol>\n",
       "</defs>\n",
       "</svg>\n",
       "<style>/* CSS stylesheet for displaying xarray objects in jupyterlab.\n",
       " *\n",
       " */\n",
       "\n",
       ":root {\n",
       "  --xr-font-color0: var(--jp-content-font-color0, rgba(0, 0, 0, 1));\n",
       "  --xr-font-color2: var(--jp-content-font-color2, rgba(0, 0, 0, 0.54));\n",
       "  --xr-font-color3: var(--jp-content-font-color3, rgba(0, 0, 0, 0.38));\n",
       "  --xr-border-color: var(--jp-border-color2, #e0e0e0);\n",
       "  --xr-disabled-color: var(--jp-layout-color3, #bdbdbd);\n",
       "  --xr-background-color: var(--jp-layout-color0, white);\n",
       "  --xr-background-color-row-even: var(--jp-layout-color1, white);\n",
       "  --xr-background-color-row-odd: var(--jp-layout-color2, #eeeeee);\n",
       "}\n",
       "\n",
       "html[theme=dark],\n",
       "body[data-theme=dark],\n",
       "body.vscode-dark {\n",
       "  --xr-font-color0: rgba(255, 255, 255, 1);\n",
       "  --xr-font-color2: rgba(255, 255, 255, 0.54);\n",
       "  --xr-font-color3: rgba(255, 255, 255, 0.38);\n",
       "  --xr-border-color: #1F1F1F;\n",
       "  --xr-disabled-color: #515151;\n",
       "  --xr-background-color: #111111;\n",
       "  --xr-background-color-row-even: #111111;\n",
       "  --xr-background-color-row-odd: #313131;\n",
       "}\n",
       "\n",
       ".xr-wrap {\n",
       "  display: block !important;\n",
       "  min-width: 300px;\n",
       "  max-width: 700px;\n",
       "}\n",
       "\n",
       ".xr-text-repr-fallback {\n",
       "  /* fallback to plain text repr when CSS is not injected (untrusted notebook) */\n",
       "  display: none;\n",
       "}\n",
       "\n",
       ".xr-header {\n",
       "  padding-top: 6px;\n",
       "  padding-bottom: 6px;\n",
       "  margin-bottom: 4px;\n",
       "  border-bottom: solid 1px var(--xr-border-color);\n",
       "}\n",
       "\n",
       ".xr-header > div,\n",
       ".xr-header > ul {\n",
       "  display: inline;\n",
       "  margin-top: 0;\n",
       "  margin-bottom: 0;\n",
       "}\n",
       "\n",
       ".xr-obj-type,\n",
       ".xr-array-name {\n",
       "  margin-left: 2px;\n",
       "  margin-right: 10px;\n",
       "}\n",
       "\n",
       ".xr-obj-type {\n",
       "  color: var(--xr-font-color2);\n",
       "}\n",
       "\n",
       ".xr-sections {\n",
       "  padding-left: 0 !important;\n",
       "  display: grid;\n",
       "  grid-template-columns: 150px auto auto 1fr 20px 20px;\n",
       "}\n",
       "\n",
       ".xr-section-item {\n",
       "  display: contents;\n",
       "}\n",
       "\n",
       ".xr-section-item input {\n",
       "  display: none;\n",
       "}\n",
       "\n",
       ".xr-section-item input + label {\n",
       "  color: var(--xr-disabled-color);\n",
       "}\n",
       "\n",
       ".xr-section-item input:enabled + label {\n",
       "  cursor: pointer;\n",
       "  color: var(--xr-font-color2);\n",
       "}\n",
       "\n",
       ".xr-section-item input:enabled + label:hover {\n",
       "  color: var(--xr-font-color0);\n",
       "}\n",
       "\n",
       ".xr-section-summary {\n",
       "  grid-column: 1;\n",
       "  color: var(--xr-font-color2);\n",
       "  font-weight: 500;\n",
       "}\n",
       "\n",
       ".xr-section-summary > span {\n",
       "  display: inline-block;\n",
       "  padding-left: 0.5em;\n",
       "}\n",
       "\n",
       ".xr-section-summary-in:disabled + label {\n",
       "  color: var(--xr-font-color2);\n",
       "}\n",
       "\n",
       ".xr-section-summary-in + label:before {\n",
       "  display: inline-block;\n",
       "  content: '►';\n",
       "  font-size: 11px;\n",
       "  width: 15px;\n",
       "  text-align: center;\n",
       "}\n",
       "\n",
       ".xr-section-summary-in:disabled + label:before {\n",
       "  color: var(--xr-disabled-color);\n",
       "}\n",
       "\n",
       ".xr-section-summary-in:checked + label:before {\n",
       "  content: '▼';\n",
       "}\n",
       "\n",
       ".xr-section-summary-in:checked + label > span {\n",
       "  display: none;\n",
       "}\n",
       "\n",
       ".xr-section-summary,\n",
       ".xr-section-inline-details {\n",
       "  padding-top: 4px;\n",
       "  padding-bottom: 4px;\n",
       "}\n",
       "\n",
       ".xr-section-inline-details {\n",
       "  grid-column: 2 / -1;\n",
       "}\n",
       "\n",
       ".xr-section-details {\n",
       "  display: none;\n",
       "  grid-column: 1 / -1;\n",
       "  margin-bottom: 5px;\n",
       "}\n",
       "\n",
       ".xr-section-summary-in:checked ~ .xr-section-details {\n",
       "  display: contents;\n",
       "}\n",
       "\n",
       ".xr-array-wrap {\n",
       "  grid-column: 1 / -1;\n",
       "  display: grid;\n",
       "  grid-template-columns: 20px auto;\n",
       "}\n",
       "\n",
       ".xr-array-wrap > label {\n",
       "  grid-column: 1;\n",
       "  vertical-align: top;\n",
       "}\n",
       "\n",
       ".xr-preview {\n",
       "  color: var(--xr-font-color3);\n",
       "}\n",
       "\n",
       ".xr-array-preview,\n",
       ".xr-array-data {\n",
       "  padding: 0 5px !important;\n",
       "  grid-column: 2;\n",
       "}\n",
       "\n",
       ".xr-array-data,\n",
       ".xr-array-in:checked ~ .xr-array-preview {\n",
       "  display: none;\n",
       "}\n",
       "\n",
       ".xr-array-in:checked ~ .xr-array-data,\n",
       ".xr-array-preview {\n",
       "  display: inline-block;\n",
       "}\n",
       "\n",
       ".xr-dim-list {\n",
       "  display: inline-block !important;\n",
       "  list-style: none;\n",
       "  padding: 0 !important;\n",
       "  margin: 0;\n",
       "}\n",
       "\n",
       ".xr-dim-list li {\n",
       "  display: inline-block;\n",
       "  padding: 0;\n",
       "  margin: 0;\n",
       "}\n",
       "\n",
       ".xr-dim-list:before {\n",
       "  content: '(';\n",
       "}\n",
       "\n",
       ".xr-dim-list:after {\n",
       "  content: ')';\n",
       "}\n",
       "\n",
       ".xr-dim-list li:not(:last-child):after {\n",
       "  content: ',';\n",
       "  padding-right: 5px;\n",
       "}\n",
       "\n",
       ".xr-has-index {\n",
       "  font-weight: bold;\n",
       "}\n",
       "\n",
       ".xr-var-list,\n",
       ".xr-var-item {\n",
       "  display: contents;\n",
       "}\n",
       "\n",
       ".xr-var-item > div,\n",
       ".xr-var-item label,\n",
       ".xr-var-item > .xr-var-name span {\n",
       "  background-color: var(--xr-background-color-row-even);\n",
       "  margin-bottom: 0;\n",
       "}\n",
       "\n",
       ".xr-var-item > .xr-var-name:hover span {\n",
       "  padding-right: 5px;\n",
       "}\n",
       "\n",
       ".xr-var-list > li:nth-child(odd) > div,\n",
       ".xr-var-list > li:nth-child(odd) > label,\n",
       ".xr-var-list > li:nth-child(odd) > .xr-var-name span {\n",
       "  background-color: var(--xr-background-color-row-odd);\n",
       "}\n",
       "\n",
       ".xr-var-name {\n",
       "  grid-column: 1;\n",
       "}\n",
       "\n",
       ".xr-var-dims {\n",
       "  grid-column: 2;\n",
       "}\n",
       "\n",
       ".xr-var-dtype {\n",
       "  grid-column: 3;\n",
       "  text-align: right;\n",
       "  color: var(--xr-font-color2);\n",
       "}\n",
       "\n",
       ".xr-var-preview {\n",
       "  grid-column: 4;\n",
       "}\n",
       "\n",
       ".xr-index-preview {\n",
       "  grid-column: 2 / 5;\n",
       "  color: var(--xr-font-color2);\n",
       "}\n",
       "\n",
       ".xr-var-name,\n",
       ".xr-var-dims,\n",
       ".xr-var-dtype,\n",
       ".xr-preview,\n",
       ".xr-attrs dt {\n",
       "  white-space: nowrap;\n",
       "  overflow: hidden;\n",
       "  text-overflow: ellipsis;\n",
       "  padding-right: 10px;\n",
       "}\n",
       "\n",
       ".xr-var-name:hover,\n",
       ".xr-var-dims:hover,\n",
       ".xr-var-dtype:hover,\n",
       ".xr-attrs dt:hover {\n",
       "  overflow: visible;\n",
       "  width: auto;\n",
       "  z-index: 1;\n",
       "}\n",
       "\n",
       ".xr-var-attrs,\n",
       ".xr-var-data,\n",
       ".xr-index-data {\n",
       "  display: none;\n",
       "  background-color: var(--xr-background-color) !important;\n",
       "  padding-bottom: 5px !important;\n",
       "}\n",
       "\n",
       ".xr-var-attrs-in:checked ~ .xr-var-attrs,\n",
       ".xr-var-data-in:checked ~ .xr-var-data,\n",
       ".xr-index-data-in:checked ~ .xr-index-data {\n",
       "  display: block;\n",
       "}\n",
       "\n",
       ".xr-var-data > table {\n",
       "  float: right;\n",
       "}\n",
       "\n",
       ".xr-var-name span,\n",
       ".xr-var-data,\n",
       ".xr-index-name div,\n",
       ".xr-index-data,\n",
       ".xr-attrs {\n",
       "  padding-left: 25px !important;\n",
       "}\n",
       "\n",
       ".xr-attrs,\n",
       ".xr-var-attrs,\n",
       ".xr-var-data,\n",
       ".xr-index-data {\n",
       "  grid-column: 1 / -1;\n",
       "}\n",
       "\n",
       "dl.xr-attrs {\n",
       "  padding: 0;\n",
       "  margin: 0;\n",
       "  display: grid;\n",
       "  grid-template-columns: 125px auto;\n",
       "}\n",
       "\n",
       ".xr-attrs dt,\n",
       ".xr-attrs dd {\n",
       "  padding: 0;\n",
       "  margin: 0;\n",
       "  float: left;\n",
       "  padding-right: 10px;\n",
       "  width: auto;\n",
       "}\n",
       "\n",
       ".xr-attrs dt {\n",
       "  font-weight: normal;\n",
       "  grid-column: 1;\n",
       "}\n",
       "\n",
       ".xr-attrs dt:hover span {\n",
       "  display: inline-block;\n",
       "  background: var(--xr-background-color);\n",
       "  padding-right: 10px;\n",
       "}\n",
       "\n",
       ".xr-attrs dd {\n",
       "  grid-column: 2;\n",
       "  white-space: pre-wrap;\n",
       "  word-break: break-all;\n",
       "}\n",
       "\n",
       ".xr-icon-database,\n",
       ".xr-icon-file-text2,\n",
       ".xr-no-icon {\n",
       "  display: inline-block;\n",
       "  vertical-align: middle;\n",
       "  width: 1em;\n",
       "  height: 1.5em !important;\n",
       "  stroke-width: 0;\n",
       "  stroke: currentColor;\n",
       "  fill: currentColor;\n",
       "}\n",
       "</style><pre class='xr-text-repr-fallback'>&lt;xarray.Dataset&gt;\n",
       "Dimensions:               (cell: 16002, nvertex: 6, presnivs: 79,\n",
       "                           time_counter: 24, axis_nbounds: 2)\n",
       "Coordinates:\n",
       "    lat                   (cell) float32 ...\n",
       "    lon                   (cell) float32 ...\n",
       "  * presnivs              (presnivs) float32 1.012e+05 1.009e+05 ... 5.297 1.483\n",
       "    time_centered         (time_counter) datetime64[ns] ...\n",
       "  * time_counter          (time_counter) datetime64[ns] 1979-01-01T00:30:00 ....\n",
       "    time_instant          (time_counter) datetime64[ns] ...\n",
       "Dimensions without coordinates: cell, nvertex, axis_nbounds\n",
       "Data variables: (12/29)\n",
       "    bounds_lon            (cell, nvertex) float32 ...\n",
       "    bounds_lat            (cell, nvertex) float32 ...\n",
       "    time_centered_bounds  (time_counter, axis_nbounds) datetime64[ns] ...\n",
       "    time_counter_bounds   (time_counter, axis_nbounds) datetime64[ns] ...\n",
       "    time_instant_bounds   (time_counter, axis_nbounds) datetime64[ns] ...\n",
       "    pmid                  (time_counter, presnivs, cell) float64 ...\n",
       "    ...                    ...\n",
       "    vmrmcf                (time_counter, presnivs, cell) float64 ...\n",
       "    vmrbe7                (time_counter, presnivs, cell) float64 ...\n",
       "    vmrn2o                (time_counter, presnivs, cell) float64 ...\n",
       "    vmrch4                (time_counter, presnivs, cell) float64 ...\n",
       "    vmrco                 (time_counter, presnivs, cell) float64 ...\n",
       "    vmrco2bih             (time_counter, presnivs, cell) float64 ...\n",
       "Attributes:\n",
       "    _NCProperties:                   version=1|netcdflibversion=4.6.0|hdf5lib...\n",
       "    name:                            inca1d_ges\n",
       "    description:                     Created by xios\n",
       "    title:                           Created by xios\n",
       "    Conventions:                     CF-1.6\n",
       "    timeStamp:                       2022-Apr-05 08:59:15 GMT\n",
       "    uuid:                            8982bdb7-b650-45c4-896c-e228bec0cb5a\n",
       "    history:                         Fri Apr 15 12:05:37 2022: ncatted -O -a ...\n",
       "    NCO:                             4.6.9\n",
       "    DODS_EXTRA.Unlimited_Dimension:  time_counter</pre><div class='xr-wrap' style='display:none'><div class='xr-header'><div class='xr-obj-type'>xarray.Dataset</div></div><ul class='xr-sections'><li class='xr-section-item'><input id='section-1a1e4580-9904-43e4-98c9-ae4d697349eb' class='xr-section-summary-in' type='checkbox' disabled ><label for='section-1a1e4580-9904-43e4-98c9-ae4d697349eb' class='xr-section-summary'  title='Expand/collapse section'>Dimensions:</label><div class='xr-section-inline-details'><ul class='xr-dim-list'><li><span>cell</span>: 16002</li><li><span>nvertex</span>: 6</li><li><span class='xr-has-index'>presnivs</span>: 79</li><li><span class='xr-has-index'>time_counter</span>: 24</li><li><span>axis_nbounds</span>: 2</li></ul></div><div class='xr-section-details'></div></li><li class='xr-section-item'><input id='section-a8a6d02c-614e-40f4-b7a0-64b49eaa3b24' class='xr-section-summary-in' type='checkbox'  checked><label for='section-a8a6d02c-614e-40f4-b7a0-64b49eaa3b24' class='xr-section-summary' >Coordinates: <span>(6)</span></label><div class='xr-section-inline-details'></div><div class='xr-section-details'><ul class='xr-var-list'><li class='xr-var-item'><div class='xr-var-name'><span>lat</span></div><div class='xr-var-dims'>(cell)</div><div class='xr-var-dtype'>float32</div><div class='xr-var-preview xr-preview'>...</div><input id='attrs-2080a4a4-a4ce-43bf-a33a-572a61269ec9' class='xr-var-attrs-in' type='checkbox' ><label for='attrs-2080a4a4-a4ce-43bf-a33a-572a61269ec9' title='Show/Hide attributes'><svg class='icon xr-icon-file-text2'><use xlink:href='#icon-file-text2'></use></svg></label><input id='data-452ea4c7-35dc-45f8-ae9e-74ebe8e0123d' class='xr-var-data-in' type='checkbox'><label for='data-452ea4c7-35dc-45f8-ae9e-74ebe8e0123d' title='Show/Hide data repr'><svg class='icon xr-icon-database'><use xlink:href='#icon-database'></use></svg></label><div class='xr-var-attrs'><dl class='xr-attrs'><dt><span>units :</span></dt><dd>degrees_north</dd><dt><span>bounds :</span></dt><dd>bounds_lat</dd><dt><span>standard_name :</span></dt><dd>latitude</dd><dt><span>long_name :</span></dt><dd>Latitude</dd><dt><span>_ChunkSizes :</span></dt><dd>16002</dd></dl></div><div class='xr-var-data'><pre>[16002 values with dtype=float32]</pre></div></li><li class='xr-var-item'><div class='xr-var-name'><span>lon</span></div><div class='xr-var-dims'>(cell)</div><div class='xr-var-dtype'>float32</div><div class='xr-var-preview xr-preview'>...</div><input id='attrs-6df38e26-d499-428b-9301-3eaf41b14b7a' class='xr-var-attrs-in' type='checkbox' ><label for='attrs-6df38e26-d499-428b-9301-3eaf41b14b7a' title='Show/Hide attributes'><svg class='icon xr-icon-file-text2'><use xlink:href='#icon-file-text2'></use></svg></label><input id='data-59f3bdef-a00e-47a5-a852-8f4492da9a3c' class='xr-var-data-in' type='checkbox'><label for='data-59f3bdef-a00e-47a5-a852-8f4492da9a3c' title='Show/Hide data repr'><svg class='icon xr-icon-database'><use xlink:href='#icon-database'></use></svg></label><div class='xr-var-attrs'><dl class='xr-attrs'><dt><span>units :</span></dt><dd>degrees_east</dd><dt><span>bounds :</span></dt><dd>bounds_lon</dd><dt><span>standard_name :</span></dt><dd>longitude</dd><dt><span>long_name :</span></dt><dd>Longitude</dd><dt><span>_ChunkSizes :</span></dt><dd>16002</dd></dl></div><div class='xr-var-data'><pre>[16002 values with dtype=float32]</pre></div></li><li class='xr-var-item'><div class='xr-var-name'><span class='xr-has-index'>presnivs</span></div><div class='xr-var-dims'>(presnivs)</div><div class='xr-var-dtype'>float32</div><div class='xr-var-preview xr-preview'>1.012e+05 1.009e+05 ... 5.297 1.483</div><input id='attrs-baacc90a-7852-4306-aea7-8825de0fba05' class='xr-var-attrs-in' type='checkbox' ><label for='attrs-baacc90a-7852-4306-aea7-8825de0fba05' title='Show/Hide attributes'><svg class='icon xr-icon-file-text2'><use xlink:href='#icon-file-text2'></use></svg></label><input id='data-609d6b4a-77f5-4183-aedc-ae644e8f2672' class='xr-var-data-in' type='checkbox'><label for='data-609d6b4a-77f5-4183-aedc-ae644e8f2672' title='Show/Hide data repr'><svg class='icon xr-icon-database'><use xlink:href='#icon-database'></use></svg></label><div class='xr-var-attrs'><dl class='xr-attrs'><dt><span>axis :</span></dt><dd>Z</dd><dt><span>name :</span></dt><dd>presnivs</dd><dt><span>standard_name :</span></dt><dd>Vertical levels</dd><dt><span>units :</span></dt><dd>Pa</dd><dt><span>_ChunkSizes :</span></dt><dd>79</dd></dl></div><div class='xr-var-data'><pre>array([1.012021e+05, 1.009424e+05, 1.006534e+05, 1.003319e+05, 9.997420e+04,\n",
       "       9.957655e+04, 9.913467e+04, 9.864384e+04, 9.809898e+04, 9.749448e+04,\n",
       "       9.682430e+04, 9.608191e+04, 9.526024e+04, 9.435173e+04, 9.334834e+04,\n",
       "       9.224155e+04, 9.102246e+04, 8.968182e+04, 8.821020e+04, 8.659811e+04,\n",
       "       8.483623e+04, 8.291569e+04, 8.082840e+04, 7.856748e+04, 7.612779e+04,\n",
       "       7.350645e+04, 7.070354e+04, 6.772281e+04, 6.457239e+04, 6.126538e+04,\n",
       "       5.782047e+04, 5.426217e+04, 5.062074e+04, 4.693169e+04, 4.323469e+04,\n",
       "       3.957199e+04, 3.598637e+04, 3.251885e+04, 2.920636e+04, 2.607983e+04,\n",
       "       2.316271e+04, 2.047042e+04, 1.801036e+04, 1.578271e+04, 1.378158e+04,\n",
       "       1.199642e+04, 1.041344e+04, 9.016865e+03, 7.790020e+03, 6.716147e+03,\n",
       "       5.778999e+03, 4.963233e+03, 4.254644e+03, 3.640276e+03, 3.108450e+03,\n",
       "       2.648733e+03, 2.251867e+03, 1.909687e+03, 1.615018e+03, 1.361581e+03,\n",
       "       1.143891e+03, 9.571722e+02, 7.972696e+02, 6.605754e+02, 5.439607e+02,\n",
       "       4.447146e+02, 3.604912e+02, 2.892627e+02, 2.292787e+02, 1.790303e+02,\n",
       "       1.372198e+02, 1.027344e+02, 7.462312e+01, 5.207758e+01, 3.441441e+01,\n",
       "       2.105668e+01, 1.150741e+01, 5.296797e+00, 1.483435e+00], dtype=float32)</pre></div></li><li class='xr-var-item'><div class='xr-var-name'><span>time_centered</span></div><div class='xr-var-dims'>(time_counter)</div><div class='xr-var-dtype'>datetime64[ns]</div><div class='xr-var-preview xr-preview'>...</div><input id='attrs-d5f37407-b8c3-4b82-b943-5fc1cc2aa3b2' class='xr-var-attrs-in' type='checkbox' ><label for='attrs-d5f37407-b8c3-4b82-b943-5fc1cc2aa3b2' title='Show/Hide attributes'><svg class='icon xr-icon-file-text2'><use xlink:href='#icon-file-text2'></use></svg></label><input id='data-065d278f-51d8-44eb-84a5-953c2843fd7d' class='xr-var-data-in' type='checkbox'><label for='data-065d278f-51d8-44eb-84a5-953c2843fd7d' title='Show/Hide data repr'><svg class='icon xr-icon-database'><use xlink:href='#icon-database'></use></svg></label><div class='xr-var-attrs'><dl class='xr-attrs'><dt><span>time_origin :</span></dt><dd>1979-01-01 00:00:00</dd><dt><span>bounds :</span></dt><dd>time_centered_bounds</dd><dt><span>standard_name :</span></dt><dd>time</dd><dt><span>long_name :</span></dt><dd>Time axis</dd><dt><span>_ChunkSizes :</span></dt><dd>1</dd></dl></div><div class='xr-var-data'><pre>[24 values with dtype=datetime64[ns]]</pre></div></li><li class='xr-var-item'><div class='xr-var-name'><span class='xr-has-index'>time_counter</span></div><div class='xr-var-dims'>(time_counter)</div><div class='xr-var-dtype'>datetime64[ns]</div><div class='xr-var-preview xr-preview'>1979-01-01T00:30:00 ... 1979-01-...</div><input id='attrs-44fdb4c1-214c-4511-a016-1cd3a0231540' class='xr-var-attrs-in' type='checkbox' ><label for='attrs-44fdb4c1-214c-4511-a016-1cd3a0231540' title='Show/Hide attributes'><svg class='icon xr-icon-file-text2'><use xlink:href='#icon-file-text2'></use></svg></label><input id='data-0b5d2fd5-4662-4a49-b0f2-fe9b756a9eae' class='xr-var-data-in' type='checkbox'><label for='data-0b5d2fd5-4662-4a49-b0f2-fe9b756a9eae' title='Show/Hide data repr'><svg class='icon xr-icon-database'><use xlink:href='#icon-database'></use></svg></label><div class='xr-var-attrs'><dl class='xr-attrs'><dt><span>axis :</span></dt><dd>T</dd><dt><span>standard_name :</span></dt><dd>time</dd><dt><span>long_name :</span></dt><dd>Time axis</dd><dt><span>time_origin :</span></dt><dd>1979-01-01 00:00:00</dd><dt><span>bounds :</span></dt><dd>time_counter_bounds</dd><dt><span>_ChunkSizes :</span></dt><dd>1</dd></dl></div><div class='xr-var-data'><pre>array([&#x27;1979-01-01T00:30:00.000000000&#x27;, &#x27;1979-01-01T01:30:00.000000000&#x27;,\n",
       "       &#x27;1979-01-01T02:30:00.000000000&#x27;, &#x27;1979-01-01T03:30:00.000000000&#x27;,\n",
       "       &#x27;1979-01-01T04:30:00.000000000&#x27;, &#x27;1979-01-01T05:30:00.000000000&#x27;,\n",
       "       &#x27;1979-01-01T06:30:00.000000000&#x27;, &#x27;1979-01-01T07:30:00.000000000&#x27;,\n",
       "       &#x27;1979-01-01T08:30:00.000000000&#x27;, &#x27;1979-01-01T09:30:00.000000000&#x27;,\n",
       "       &#x27;1979-01-01T10:30:00.000000000&#x27;, &#x27;1979-01-01T11:30:00.000000000&#x27;,\n",
       "       &#x27;1979-01-01T12:30:00.000000000&#x27;, &#x27;1979-01-01T13:30:00.000000000&#x27;,\n",
       "       &#x27;1979-01-01T14:30:00.000000000&#x27;, &#x27;1979-01-01T15:30:00.000000000&#x27;,\n",
       "       &#x27;1979-01-01T16:30:00.000000000&#x27;, &#x27;1979-01-01T17:30:00.000000000&#x27;,\n",
       "       &#x27;1979-01-01T18:30:00.000000000&#x27;, &#x27;1979-01-01T19:30:00.000000000&#x27;,\n",
       "       &#x27;1979-01-01T20:30:00.000000000&#x27;, &#x27;1979-01-01T21:30:00.000000000&#x27;,\n",
       "       &#x27;1979-01-01T22:30:00.000000000&#x27;, &#x27;1979-01-01T23:30:00.000000000&#x27;],\n",
       "      dtype=&#x27;datetime64[ns]&#x27;)</pre></div></li><li class='xr-var-item'><div class='xr-var-name'><span>time_instant</span></div><div class='xr-var-dims'>(time_counter)</div><div class='xr-var-dtype'>datetime64[ns]</div><div class='xr-var-preview xr-preview'>...</div><input id='attrs-98fb2271-3dd1-4c32-bd0d-a63f13243927' class='xr-var-attrs-in' type='checkbox' ><label for='attrs-98fb2271-3dd1-4c32-bd0d-a63f13243927' title='Show/Hide attributes'><svg class='icon xr-icon-file-text2'><use xlink:href='#icon-file-text2'></use></svg></label><input id='data-ba65c460-e335-4c43-9eb4-8e75f6d71de0' class='xr-var-data-in' type='checkbox'><label for='data-ba65c460-e335-4c43-9eb4-8e75f6d71de0' title='Show/Hide data repr'><svg class='icon xr-icon-database'><use xlink:href='#icon-database'></use></svg></label><div class='xr-var-attrs'><dl class='xr-attrs'><dt><span>standard_name :</span></dt><dd>time</dd><dt><span>long_name :</span></dt><dd>Time axis</dd><dt><span>time_origin :</span></dt><dd>1979-01-01 00:00:00</dd><dt><span>bounds :</span></dt><dd>time_instant_bounds</dd><dt><span>_ChunkSizes :</span></dt><dd>1</dd></dl></div><div class='xr-var-data'><pre>[24 values with dtype=datetime64[ns]]</pre></div></li></ul></div></li><li class='xr-section-item'><input id='section-013f24a1-7c38-425d-a558-61df08e1bc5b' class='xr-section-summary-in' type='checkbox'  ><label for='section-013f24a1-7c38-425d-a558-61df08e1bc5b' class='xr-section-summary' >Data variables: <span>(29)</span></label><div class='xr-section-inline-details'></div><div class='xr-section-details'><ul class='xr-var-list'><li class='xr-var-item'><div class='xr-var-name'><span>bounds_lon</span></div><div class='xr-var-dims'>(cell, nvertex)</div><div class='xr-var-dtype'>float32</div><div class='xr-var-preview xr-preview'>...</div><input id='attrs-0d5f76d0-e1d5-41b1-b208-9b84c108b7d3' class='xr-var-attrs-in' type='checkbox' ><label for='attrs-0d5f76d0-e1d5-41b1-b208-9b84c108b7d3' title='Show/Hide attributes'><svg class='icon xr-icon-file-text2'><use xlink:href='#icon-file-text2'></use></svg></label><input id='data-af2f07ad-af08-4ba3-8d0a-80ae3485c7cc' class='xr-var-data-in' type='checkbox'><label for='data-af2f07ad-af08-4ba3-8d0a-80ae3485c7cc' title='Show/Hide data repr'><svg class='icon xr-icon-database'><use xlink:href='#icon-database'></use></svg></label><div class='xr-var-attrs'><dl class='xr-attrs'><dt><span>_ChunkSizes :</span></dt><dd>[16002     6]</dd></dl></div><div class='xr-var-data'><pre>[96012 values with dtype=float32]</pre></div></li><li class='xr-var-item'><div class='xr-var-name'><span>bounds_lat</span></div><div class='xr-var-dims'>(cell, nvertex)</div><div class='xr-var-dtype'>float32</div><div class='xr-var-preview xr-preview'>...</div><input id='attrs-ab87222e-37d7-4730-81a7-b80dec6af422' class='xr-var-attrs-in' type='checkbox' ><label for='attrs-ab87222e-37d7-4730-81a7-b80dec6af422' title='Show/Hide attributes'><svg class='icon xr-icon-file-text2'><use xlink:href='#icon-file-text2'></use></svg></label><input id='data-0a08d6c3-af75-4ff8-a6d7-2811279c3ee1' class='xr-var-data-in' type='checkbox'><label for='data-0a08d6c3-af75-4ff8-a6d7-2811279c3ee1' title='Show/Hide data repr'><svg class='icon xr-icon-database'><use xlink:href='#icon-database'></use></svg></label><div class='xr-var-attrs'><dl class='xr-attrs'><dt><span>_ChunkSizes :</span></dt><dd>[16002     6]</dd></dl></div><div class='xr-var-data'><pre>[96012 values with dtype=float32]</pre></div></li><li class='xr-var-item'><div class='xr-var-name'><span>time_centered_bounds</span></div><div class='xr-var-dims'>(time_counter, axis_nbounds)</div><div class='xr-var-dtype'>datetime64[ns]</div><div class='xr-var-preview xr-preview'>...</div><input id='attrs-98bd7d35-c9aa-4e49-b146-0ad59fbdab05' class='xr-var-attrs-in' type='checkbox' ><label for='attrs-98bd7d35-c9aa-4e49-b146-0ad59fbdab05' title='Show/Hide attributes'><svg class='icon xr-icon-file-text2'><use xlink:href='#icon-file-text2'></use></svg></label><input id='data-0366e0d0-39df-48d8-a301-ee12278d8a2d' class='xr-var-data-in' type='checkbox'><label for='data-0366e0d0-39df-48d8-a301-ee12278d8a2d' title='Show/Hide data repr'><svg class='icon xr-icon-database'><use xlink:href='#icon-database'></use></svg></label><div class='xr-var-attrs'><dl class='xr-attrs'><dt><span>_ChunkSizes :</span></dt><dd>[1 2]</dd></dl></div><div class='xr-var-data'><pre>[48 values with dtype=datetime64[ns]]</pre></div></li><li class='xr-var-item'><div class='xr-var-name'><span>time_counter_bounds</span></div><div class='xr-var-dims'>(time_counter, axis_nbounds)</div><div class='xr-var-dtype'>datetime64[ns]</div><div class='xr-var-preview xr-preview'>...</div><input id='attrs-b0b8c7d6-5d85-4fe9-adb9-cf3dce1d900b' class='xr-var-attrs-in' type='checkbox' ><label for='attrs-b0b8c7d6-5d85-4fe9-adb9-cf3dce1d900b' title='Show/Hide attributes'><svg class='icon xr-icon-file-text2'><use xlink:href='#icon-file-text2'></use></svg></label><input id='data-0d04524e-3584-497d-ad51-03160b9ecb7d' class='xr-var-data-in' type='checkbox'><label for='data-0d04524e-3584-497d-ad51-03160b9ecb7d' title='Show/Hide data repr'><svg class='icon xr-icon-database'><use xlink:href='#icon-database'></use></svg></label><div class='xr-var-attrs'><dl class='xr-attrs'><dt><span>_ChunkSizes :</span></dt><dd>[1 2]</dd></dl></div><div class='xr-var-data'><pre>[48 values with dtype=datetime64[ns]]</pre></div></li><li class='xr-var-item'><div class='xr-var-name'><span>time_instant_bounds</span></div><div class='xr-var-dims'>(time_counter, axis_nbounds)</div><div class='xr-var-dtype'>datetime64[ns]</div><div class='xr-var-preview xr-preview'>...</div><input id='attrs-588d3bbd-eeac-4c4d-b3e9-879ace5ad4d7' class='xr-var-attrs-in' type='checkbox' ><label for='attrs-588d3bbd-eeac-4c4d-b3e9-879ace5ad4d7' title='Show/Hide attributes'><svg class='icon xr-icon-file-text2'><use xlink:href='#icon-file-text2'></use></svg></label><input id='data-825db778-9ac0-436b-9bb5-da6f901424b5' class='xr-var-data-in' type='checkbox'><label for='data-825db778-9ac0-436b-9bb5-da6f901424b5' title='Show/Hide data repr'><svg class='icon xr-icon-database'><use xlink:href='#icon-database'></use></svg></label><div class='xr-var-attrs'><dl class='xr-attrs'><dt><span>_ChunkSizes :</span></dt><dd>[1 2]</dd></dl></div><div class='xr-var-data'><pre>[48 values with dtype=datetime64[ns]]</pre></div></li><li class='xr-var-item'><div class='xr-var-name'><span>pmid</span></div><div class='xr-var-dims'>(time_counter, presnivs, cell)</div><div class='xr-var-dtype'>float64</div><div class='xr-var-preview xr-preview'>...</div><input id='attrs-89498c17-2577-47b5-920f-7fdf57023216' class='xr-var-attrs-in' type='checkbox' ><label for='attrs-89498c17-2577-47b5-920f-7fdf57023216' title='Show/Hide attributes'><svg class='icon xr-icon-file-text2'><use xlink:href='#icon-file-text2'></use></svg></label><input id='data-f75525d0-b750-4018-995c-28f6171b0536' class='xr-var-data-in' type='checkbox'><label for='data-f75525d0-b750-4018-995c-28f6171b0536' title='Show/Hide data repr'><svg class='icon xr-icon-database'><use xlink:href='#icon-database'></use></svg></label><div class='xr-var-attrs'><dl class='xr-attrs'><dt><span>long_name :</span></dt><dd>mid-level air pressure</dd><dt><span>units :</span></dt><dd>Pa</dd><dt><span>online_operation :</span></dt><dd>average</dd><dt><span>interval_operation :</span></dt><dd>900 s</dd><dt><span>interval_write :</span></dt><dd>1 h</dd><dt><span>cell_methods :</span></dt><dd>time: mean (interval: 900 s)</dd><dt><span>_ChunkSizes :</span></dt><dd>[    1    79 16002]</dd></dl></div><div class='xr-var-data'><pre>[30339792 values with dtype=float64]</pre></div></li><li class='xr-var-item'><div class='xr-var-name'><span>sh</span></div><div class='xr-var-dims'>(time_counter, presnivs, cell)</div><div class='xr-var-dtype'>float64</div><div class='xr-var-preview xr-preview'>...</div><input id='attrs-d1e5ccaf-2368-4523-b035-6a95c45230c7' class='xr-var-attrs-in' type='checkbox' ><label for='attrs-d1e5ccaf-2368-4523-b035-6a95c45230c7' title='Show/Hide attributes'><svg class='icon xr-icon-file-text2'><use xlink:href='#icon-file-text2'></use></svg></label><input id='data-110f9088-34fa-4fa5-b25b-cb820ec2a944' class='xr-var-data-in' type='checkbox'><label for='data-110f9088-34fa-4fa5-b25b-cb820ec2a944' title='Show/Hide data repr'><svg class='icon xr-icon-database'><use xlink:href='#icon-database'></use></svg></label><div class='xr-var-attrs'><dl class='xr-attrs'><dt><span>long_name :</span></dt><dd>water Mass Mixing Ratio</dd><dt><span>units :</span></dt><dd>kg kg-1</dd><dt><span>online_operation :</span></dt><dd>average</dd><dt><span>interval_operation :</span></dt><dd>900 s</dd><dt><span>interval_write :</span></dt><dd>1 h</dd><dt><span>cell_methods :</span></dt><dd>time: mean (interval: 900 s)</dd><dt><span>_ChunkSizes :</span></dt><dd>[    1    79 16002]</dd></dl></div><div class='xr-var-data'><pre>[30339792 values with dtype=float64]</pre></div></li><li class='xr-var-item'><div class='xr-var-name'><span>pdel</span></div><div class='xr-var-dims'>(time_counter, presnivs, cell)</div><div class='xr-var-dtype'>float64</div><div class='xr-var-preview xr-preview'>...</div><input id='attrs-ca2289a3-ab61-4456-96e8-b412f9b6520b' class='xr-var-attrs-in' type='checkbox' ><label for='attrs-ca2289a3-ab61-4456-96e8-b412f9b6520b' title='Show/Hide attributes'><svg class='icon xr-icon-file-text2'><use xlink:href='#icon-file-text2'></use></svg></label><input id='data-3905b9fe-2169-44b2-9647-4e2fbdac7b2e' class='xr-var-data-in' type='checkbox'><label for='data-3905b9fe-2169-44b2-9647-4e2fbdac7b2e' title='Show/Hide data repr'><svg class='icon xr-icon-database'><use xlink:href='#icon-database'></use></svg></label><div class='xr-var-attrs'><dl class='xr-attrs'><dt><span>long_name :</span></dt><dd>pressure difference model level</dd><dt><span>units :</span></dt><dd>K</dd><dt><span>online_operation :</span></dt><dd>average</dd><dt><span>interval_operation :</span></dt><dd>900 s</dd><dt><span>interval_write :</span></dt><dd>1 h</dd><dt><span>cell_methods :</span></dt><dd>time: mean (interval: 900 s)</dd><dt><span>_ChunkSizes :</span></dt><dd>[    1    79 16002]</dd></dl></div><div class='xr-var-data'><pre>[30339792 values with dtype=float64]</pre></div></li><li class='xr-var-item'><div class='xr-var-name'><span>zdens</span></div><div class='xr-var-dims'>(time_counter, presnivs, cell)</div><div class='xr-var-dtype'>float64</div><div class='xr-var-preview xr-preview'>...</div><input id='attrs-e0a80bf7-f96c-478b-b353-c0b1c58816f5' class='xr-var-attrs-in' type='checkbox' ><label for='attrs-e0a80bf7-f96c-478b-b353-c0b1c58816f5' title='Show/Hide attributes'><svg class='icon xr-icon-file-text2'><use xlink:href='#icon-file-text2'></use></svg></label><input id='data-6358bddf-306e-4082-bb31-dca41b9c0055' class='xr-var-data-in' type='checkbox'><label for='data-6358bddf-306e-4082-bb31-dca41b9c0055' title='Show/Hide data repr'><svg class='icon xr-icon-database'><use xlink:href='#icon-database'></use></svg></label><div class='xr-var-attrs'><dl class='xr-attrs'><dt><span>long_name :</span></dt><dd>masse volumique</dd><dt><span>units :</span></dt><dd>?</dd><dt><span>online_operation :</span></dt><dd>average</dd><dt><span>interval_operation :</span></dt><dd>900 s</dd><dt><span>interval_write :</span></dt><dd>1 h</dd><dt><span>cell_methods :</span></dt><dd>time: mean (interval: 900 s)</dd><dt><span>_ChunkSizes :</span></dt><dd>[    1    79 16002]</dd></dl></div><div class='xr-var-data'><pre>[30339792 values with dtype=float64]</pre></div></li><li class='xr-var-item'><div class='xr-var-name'><span>temp</span></div><div class='xr-var-dims'>(time_counter, presnivs, cell)</div><div class='xr-var-dtype'>float64</div><div class='xr-var-preview xr-preview'>...</div><input id='attrs-b9d1849b-92db-428b-9164-ca7076b7786a' class='xr-var-attrs-in' type='checkbox' ><label for='attrs-b9d1849b-92db-428b-9164-ca7076b7786a' title='Show/Hide attributes'><svg class='icon xr-icon-file-text2'><use xlink:href='#icon-file-text2'></use></svg></label><input id='data-2a16e745-1da4-49ee-b7bf-10168267ce94' class='xr-var-data-in' type='checkbox'><label for='data-2a16e745-1da4-49ee-b7bf-10168267ce94' title='Show/Hide data repr'><svg class='icon xr-icon-database'><use xlink:href='#icon-database'></use></svg></label><div class='xr-var-attrs'><dl class='xr-attrs'><dt><span>long_name :</span></dt><dd>temperature model level</dd><dt><span>units :</span></dt><dd>K</dd><dt><span>online_operation :</span></dt><dd>average</dd><dt><span>interval_operation :</span></dt><dd>900 s</dd><dt><span>interval_write :</span></dt><dd>1 h</dd><dt><span>cell_methods :</span></dt><dd>time: mean (interval: 900 s)</dd><dt><span>_ChunkSizes :</span></dt><dd>[    1    79 16002]</dd></dl></div><div class='xr-var-data'><pre>[30339792 values with dtype=float64]</pre></div></li><li class='xr-var-item'><div class='xr-var-name'><span>AIRMASS</span></div><div class='xr-var-dims'>(time_counter, presnivs, cell)</div><div class='xr-var-dtype'>float64</div><div class='xr-var-preview xr-preview'>...</div><input id='attrs-f8223b09-af86-4d68-8a89-0a3a0bb31fcb' class='xr-var-attrs-in' type='checkbox' ><label for='attrs-f8223b09-af86-4d68-8a89-0a3a0bb31fcb' title='Show/Hide attributes'><svg class='icon xr-icon-file-text2'><use xlink:href='#icon-file-text2'></use></svg></label><input id='data-7494073e-4e89-405f-8812-525a0c937ced' class='xr-var-data-in' type='checkbox'><label for='data-7494073e-4e89-405f-8812-525a0c937ced' title='Show/Hide data repr'><svg class='icon xr-icon-database'><use xlink:href='#icon-database'></use></svg></label><div class='xr-var-attrs'><dl class='xr-attrs'><dt><span>interval_operation :</span></dt><dd>900 s</dd><dt><span>interval_write :</span></dt><dd>1 h</dd><dt><span>cell_methods :</span></dt><dd>time: mean (interval: 900 s)</dd><dt><span>online_operation :</span></dt><dd>average</dd><dt><span>_ChunkSizes :</span></dt><dd>[    1    79 16002]</dd></dl></div><div class='xr-var-data'><pre>[30339792 values with dtype=float64]</pre></div></li><li class='xr-var-item'><div class='xr-var-name'><span>ps</span></div><div class='xr-var-dims'>(time_counter, cell)</div><div class='xr-var-dtype'>float64</div><div class='xr-var-preview xr-preview'>...</div><input id='attrs-75e60f33-0dc5-4a1b-bbf3-846186c8e134' class='xr-var-attrs-in' type='checkbox' ><label for='attrs-75e60f33-0dc5-4a1b-bbf3-846186c8e134' title='Show/Hide attributes'><svg class='icon xr-icon-file-text2'><use xlink:href='#icon-file-text2'></use></svg></label><input id='data-3f954002-4f36-4602-b580-75df8f9879c9' class='xr-var-data-in' type='checkbox'><label for='data-3f954002-4f36-4602-b580-75df8f9879c9' title='Show/Hide data repr'><svg class='icon xr-icon-database'><use xlink:href='#icon-database'></use></svg></label><div class='xr-var-attrs'><dl class='xr-attrs'><dt><span>long_name :</span></dt><dd>surface air pressure</dd><dt><span>units :</span></dt><dd>Pa</dd><dt><span>online_operation :</span></dt><dd>average</dd><dt><span>interval_operation :</span></dt><dd>900 s</dd><dt><span>interval_write :</span></dt><dd>1 h</dd><dt><span>cell_methods :</span></dt><dd>time: mean (interval: 900 s)</dd><dt><span>_ChunkSizes :</span></dt><dd>[    1 16002]</dd></dl></div><div class='xr-var-data'><pre>[384048 values with dtype=float64]</pre></div></li><li class='xr-var-item'><div class='xr-var-name'><span>area</span></div><div class='xr-var-dims'>(time_counter, cell)</div><div class='xr-var-dtype'>float64</div><div class='xr-var-preview xr-preview'>...</div><input id='attrs-18a9a236-4814-4c1a-85f4-360a39094181' class='xr-var-attrs-in' type='checkbox' ><label for='attrs-18a9a236-4814-4c1a-85f4-360a39094181' title='Show/Hide attributes'><svg class='icon xr-icon-file-text2'><use xlink:href='#icon-file-text2'></use></svg></label><input id='data-c616f46e-2163-4e9b-88be-b5b78b4cc678' class='xr-var-data-in' type='checkbox'><label for='data-c616f46e-2163-4e9b-88be-b5b78b4cc678' title='Show/Hide data repr'><svg class='icon xr-icon-database'><use xlink:href='#icon-database'></use></svg></label><div class='xr-var-attrs'><dl class='xr-attrs'><dt><span>long_name :</span></dt><dd>area of gridbox</dd><dt><span>units :</span></dt><dd>m2</dd><dt><span>online_operation :</span></dt><dd>instant</dd><dt><span>interval_operation :</span></dt><dd>900 s</dd><dt><span>interval_write :</span></dt><dd>1 h</dd><dt><span>cell_methods :</span></dt><dd>time: point (interval: 900 s)</dd><dt><span>_ChunkSizes :</span></dt><dd>[    1 16002]</dd></dl></div><div class='xr-var-data'><pre>[384048 values with dtype=float64]</pre></div></li><li class='xr-var-item'><div class='xr-var-name'><span>emirn222</span></div><div class='xr-var-dims'>(time_counter, cell)</div><div class='xr-var-dtype'>float64</div><div class='xr-var-preview xr-preview'>...</div><input id='attrs-315db392-6b50-4999-8bc0-d631bdeac5f6' class='xr-var-attrs-in' type='checkbox' ><label for='attrs-315db392-6b50-4999-8bc0-d631bdeac5f6' title='Show/Hide attributes'><svg class='icon xr-icon-file-text2'><use xlink:href='#icon-file-text2'></use></svg></label><input id='data-2a924294-a16d-4828-8733-d1c4efcc40da' class='xr-var-data-in' type='checkbox'><label for='data-2a924294-a16d-4828-8733-d1c4efcc40da' title='Show/Hide data repr'><svg class='icon xr-icon-database'><use xlink:href='#icon-database'></use></svg></label><div class='xr-var-attrs'><dl class='xr-attrs'><dt><span>long_name :</span></dt><dd>Total Emission Rate of Rn222</dd><dt><span>units :</span></dt><dd>kg m-2 s-1</dd><dt><span>online_operation :</span></dt><dd>average</dd><dt><span>interval_operation :</span></dt><dd>900 s</dd><dt><span>interval_write :</span></dt><dd>1 h</dd><dt><span>cell_methods :</span></dt><dd>time: mean (interval: 900 s)</dd><dt><span>_ChunkSizes :</span></dt><dd>[    1 16002]</dd></dl></div><div class='xr-var-data'><pre>[384048 values with dtype=float64]</pre></div></li><li class='xr-var-item'><div class='xr-var-name'><span>emipb210</span></div><div class='xr-var-dims'>(time_counter, cell)</div><div class='xr-var-dtype'>float64</div><div class='xr-var-preview xr-preview'>...</div><input id='attrs-35bb4b8d-38b8-4699-b85e-880800e32338' class='xr-var-attrs-in' type='checkbox' ><label for='attrs-35bb4b8d-38b8-4699-b85e-880800e32338' title='Show/Hide attributes'><svg class='icon xr-icon-file-text2'><use xlink:href='#icon-file-text2'></use></svg></label><input id='data-b0a20ebd-c460-4396-9775-337f14ba5458' class='xr-var-data-in' type='checkbox'><label for='data-b0a20ebd-c460-4396-9775-337f14ba5458' title='Show/Hide data repr'><svg class='icon xr-icon-database'><use xlink:href='#icon-database'></use></svg></label><div class='xr-var-attrs'><dl class='xr-attrs'><dt><span>long_name :</span></dt><dd>Total Emission Rate of Pb210</dd><dt><span>units :</span></dt><dd>kg m-2 s-1</dd><dt><span>online_operation :</span></dt><dd>average</dd><dt><span>interval_operation :</span></dt><dd>900 s</dd><dt><span>interval_write :</span></dt><dd>1 h</dd><dt><span>cell_methods :</span></dt><dd>time: mean (interval: 900 s)</dd><dt><span>_ChunkSizes :</span></dt><dd>[    1 16002]</dd></dl></div><div class='xr-var-data'><pre>[384048 values with dtype=float64]</pre></div></li><li class='xr-var-item'><div class='xr-var-name'><span>emimcf</span></div><div class='xr-var-dims'>(time_counter, cell)</div><div class='xr-var-dtype'>float64</div><div class='xr-var-preview xr-preview'>...</div><input id='attrs-1e64ed29-3b03-48eb-89ce-e7e8ca3da9a2' class='xr-var-attrs-in' type='checkbox' ><label for='attrs-1e64ed29-3b03-48eb-89ce-e7e8ca3da9a2' title='Show/Hide attributes'><svg class='icon xr-icon-file-text2'><use xlink:href='#icon-file-text2'></use></svg></label><input id='data-ed446e7a-0a7e-4236-824f-a6b0bc846e89' class='xr-var-data-in' type='checkbox'><label for='data-ed446e7a-0a7e-4236-824f-a6b0bc846e89' title='Show/Hide data repr'><svg class='icon xr-icon-database'><use xlink:href='#icon-database'></use></svg></label><div class='xr-var-attrs'><dl class='xr-attrs'><dt><span>long_name :</span></dt><dd>Total Emission Rate of MCF</dd><dt><span>units :</span></dt><dd>kg m-2 s-1</dd><dt><span>online_operation :</span></dt><dd>average</dd><dt><span>interval_operation :</span></dt><dd>900 s</dd><dt><span>interval_write :</span></dt><dd>1 h</dd><dt><span>cell_methods :</span></dt><dd>time: mean (interval: 900 s)</dd><dt><span>_ChunkSizes :</span></dt><dd>[    1 16002]</dd></dl></div><div class='xr-var-data'><pre>[384048 values with dtype=float64]</pre></div></li><li class='xr-var-item'><div class='xr-var-name'><span>emibe7</span></div><div class='xr-var-dims'>(time_counter, cell)</div><div class='xr-var-dtype'>float64</div><div class='xr-var-preview xr-preview'>...</div><input id='attrs-22a1ce9f-a1d1-4df6-bc0b-b8f8f63b344b' class='xr-var-attrs-in' type='checkbox' ><label for='attrs-22a1ce9f-a1d1-4df6-bc0b-b8f8f63b344b' title='Show/Hide attributes'><svg class='icon xr-icon-file-text2'><use xlink:href='#icon-file-text2'></use></svg></label><input id='data-a275f0ae-4288-4494-a3b3-c37d261920f3' class='xr-var-data-in' type='checkbox'><label for='data-a275f0ae-4288-4494-a3b3-c37d261920f3' title='Show/Hide data repr'><svg class='icon xr-icon-database'><use xlink:href='#icon-database'></use></svg></label><div class='xr-var-attrs'><dl class='xr-attrs'><dt><span>long_name :</span></dt><dd>Total Emission Rate of Be7</dd><dt><span>units :</span></dt><dd>kg m-2 s-1</dd><dt><span>online_operation :</span></dt><dd>average</dd><dt><span>interval_operation :</span></dt><dd>900 s</dd><dt><span>interval_write :</span></dt><dd>1 h</dd><dt><span>cell_methods :</span></dt><dd>time: mean (interval: 900 s)</dd><dt><span>_ChunkSizes :</span></dt><dd>[    1 16002]</dd></dl></div><div class='xr-var-data'><pre>[384048 values with dtype=float64]</pre></div></li><li class='xr-var-item'><div class='xr-var-name'><span>emin2o</span></div><div class='xr-var-dims'>(time_counter, cell)</div><div class='xr-var-dtype'>float64</div><div class='xr-var-preview xr-preview'>...</div><input id='attrs-e1a5df06-6bad-4b1b-90cc-6f019948f071' class='xr-var-attrs-in' type='checkbox' ><label for='attrs-e1a5df06-6bad-4b1b-90cc-6f019948f071' title='Show/Hide attributes'><svg class='icon xr-icon-file-text2'><use xlink:href='#icon-file-text2'></use></svg></label><input id='data-1ecd60c5-bffc-48db-9669-ee5343c7d2bf' class='xr-var-data-in' type='checkbox'><label for='data-1ecd60c5-bffc-48db-9669-ee5343c7d2bf' title='Show/Hide data repr'><svg class='icon xr-icon-database'><use xlink:href='#icon-database'></use></svg></label><div class='xr-var-attrs'><dl class='xr-attrs'><dt><span>long_name :</span></dt><dd>Total Emission Rate of N2O</dd><dt><span>units :</span></dt><dd>kg m-2 s-1</dd><dt><span>online_operation :</span></dt><dd>average</dd><dt><span>interval_operation :</span></dt><dd>900 s</dd><dt><span>interval_write :</span></dt><dd>1 h</dd><dt><span>cell_methods :</span></dt><dd>time: mean (interval: 900 s)</dd><dt><span>_ChunkSizes :</span></dt><dd>[    1 16002]</dd></dl></div><div class='xr-var-data'><pre>[384048 values with dtype=float64]</pre></div></li><li class='xr-var-item'><div class='xr-var-name'><span>emich4</span></div><div class='xr-var-dims'>(time_counter, cell)</div><div class='xr-var-dtype'>float64</div><div class='xr-var-preview xr-preview'>...</div><input id='attrs-36ae136c-ca59-4845-9d4c-5bef145b0f32' class='xr-var-attrs-in' type='checkbox' ><label for='attrs-36ae136c-ca59-4845-9d4c-5bef145b0f32' title='Show/Hide attributes'><svg class='icon xr-icon-file-text2'><use xlink:href='#icon-file-text2'></use></svg></label><input id='data-a08ff4e2-2c7d-449a-a029-8f130b928212' class='xr-var-data-in' type='checkbox'><label for='data-a08ff4e2-2c7d-449a-a029-8f130b928212' title='Show/Hide data repr'><svg class='icon xr-icon-database'><use xlink:href='#icon-database'></use></svg></label><div class='xr-var-attrs'><dl class='xr-attrs'><dt><span>long_name :</span></dt><dd>Total Emission Rate of CH4</dd><dt><span>units :</span></dt><dd>kg m-2 s-1</dd><dt><span>online_operation :</span></dt><dd>average</dd><dt><span>interval_operation :</span></dt><dd>900 s</dd><dt><span>interval_write :</span></dt><dd>1 h</dd><dt><span>cell_methods :</span></dt><dd>time: mean (interval: 900 s)</dd><dt><span>_ChunkSizes :</span></dt><dd>[    1 16002]</dd></dl></div><div class='xr-var-data'><pre>[384048 values with dtype=float64]</pre></div></li><li class='xr-var-item'><div class='xr-var-name'><span>emico</span></div><div class='xr-var-dims'>(time_counter, cell)</div><div class='xr-var-dtype'>float64</div><div class='xr-var-preview xr-preview'>...</div><input id='attrs-edf7cefb-2099-44da-ac64-c77098e359fa' class='xr-var-attrs-in' type='checkbox' ><label for='attrs-edf7cefb-2099-44da-ac64-c77098e359fa' title='Show/Hide attributes'><svg class='icon xr-icon-file-text2'><use xlink:href='#icon-file-text2'></use></svg></label><input id='data-131780c2-31c4-4869-a20c-aa24369482ca' class='xr-var-data-in' type='checkbox'><label for='data-131780c2-31c4-4869-a20c-aa24369482ca' title='Show/Hide data repr'><svg class='icon xr-icon-database'><use xlink:href='#icon-database'></use></svg></label><div class='xr-var-attrs'><dl class='xr-attrs'><dt><span>long_name :</span></dt><dd>Total Emission Rate of CO</dd><dt><span>units :</span></dt><dd>kg m-2 s-1</dd><dt><span>online_operation :</span></dt><dd>average</dd><dt><span>interval_operation :</span></dt><dd>900 s</dd><dt><span>interval_write :</span></dt><dd>1 h</dd><dt><span>cell_methods :</span></dt><dd>time: mean (interval: 900 s)</dd><dt><span>_ChunkSizes :</span></dt><dd>[    1 16002]</dd></dl></div><div class='xr-var-data'><pre>[384048 values with dtype=float64]</pre></div></li><li class='xr-var-item'><div class='xr-var-name'><span>emico2bih</span></div><div class='xr-var-dims'>(time_counter, cell)</div><div class='xr-var-dtype'>float64</div><div class='xr-var-preview xr-preview'>...</div><input id='attrs-034c97d9-1ae4-4f43-9716-3581b66d8e76' class='xr-var-attrs-in' type='checkbox' ><label for='attrs-034c97d9-1ae4-4f43-9716-3581b66d8e76' title='Show/Hide attributes'><svg class='icon xr-icon-file-text2'><use xlink:href='#icon-file-text2'></use></svg></label><input id='data-e29b2a10-abb1-479a-9317-f9904af8fec5' class='xr-var-data-in' type='checkbox'><label for='data-e29b2a10-abb1-479a-9317-f9904af8fec5' title='Show/Hide data repr'><svg class='icon xr-icon-database'><use xlink:href='#icon-database'></use></svg></label><div class='xr-var-attrs'><dl class='xr-attrs'><dt><span>long_name :</span></dt><dd>Total Emission Rate of CO2BIH</dd><dt><span>units :</span></dt><dd>kg m-2 s-1</dd><dt><span>online_operation :</span></dt><dd>average</dd><dt><span>interval_operation :</span></dt><dd>900 s</dd><dt><span>interval_write :</span></dt><dd>1 h</dd><dt><span>cell_methods :</span></dt><dd>time: mean (interval: 900 s)</dd><dt><span>_ChunkSizes :</span></dt><dd>[    1 16002]</dd></dl></div><div class='xr-var-data'><pre>[384048 values with dtype=float64]</pre></div></li><li class='xr-var-item'><div class='xr-var-name'><span>vmrrn222</span></div><div class='xr-var-dims'>(time_counter, presnivs, cell)</div><div class='xr-var-dtype'>float64</div><div class='xr-var-preview xr-preview'>...</div><input id='attrs-7af42144-717c-4ff3-9ea9-b5a63928895e' class='xr-var-attrs-in' type='checkbox' ><label for='attrs-7af42144-717c-4ff3-9ea9-b5a63928895e' title='Show/Hide attributes'><svg class='icon xr-icon-file-text2'><use xlink:href='#icon-file-text2'></use></svg></label><input id='data-da0ca9dc-336d-443e-8a23-ebd0fe226ab6' class='xr-var-data-in' type='checkbox'><label for='data-da0ca9dc-336d-443e-8a23-ebd0fe226ab6' title='Show/Hide data repr'><svg class='icon xr-icon-database'><use xlink:href='#icon-database'></use></svg></label><div class='xr-var-attrs'><dl class='xr-attrs'><dt><span>long_name :</span></dt><dd>Rn222 Volume Mixing Ratio</dd><dt><span>units :</span></dt><dd>mol mol-1</dd><dt><span>online_operation :</span></dt><dd>average</dd><dt><span>interval_operation :</span></dt><dd>900 s</dd><dt><span>interval_write :</span></dt><dd>1 h</dd><dt><span>cell_methods :</span></dt><dd>time: mean (interval: 900 s)</dd><dt><span>_ChunkSizes :</span></dt><dd>[    1    79 16002]</dd></dl></div><div class='xr-var-data'><pre>[30339792 values with dtype=float64]</pre></div></li><li class='xr-var-item'><div class='xr-var-name'><span>vmrpb210</span></div><div class='xr-var-dims'>(time_counter, presnivs, cell)</div><div class='xr-var-dtype'>float64</div><div class='xr-var-preview xr-preview'>...</div><input id='attrs-609146f8-6d83-413b-b1a5-3d23d8dce1fe' class='xr-var-attrs-in' type='checkbox' ><label for='attrs-609146f8-6d83-413b-b1a5-3d23d8dce1fe' title='Show/Hide attributes'><svg class='icon xr-icon-file-text2'><use xlink:href='#icon-file-text2'></use></svg></label><input id='data-bb89de59-352f-410c-9d35-e90ba45277ce' class='xr-var-data-in' type='checkbox'><label for='data-bb89de59-352f-410c-9d35-e90ba45277ce' title='Show/Hide data repr'><svg class='icon xr-icon-database'><use xlink:href='#icon-database'></use></svg></label><div class='xr-var-attrs'><dl class='xr-attrs'><dt><span>long_name :</span></dt><dd>Pb210 Volume Mixing Ratio</dd><dt><span>units :</span></dt><dd>mol mol-1</dd><dt><span>online_operation :</span></dt><dd>average</dd><dt><span>interval_operation :</span></dt><dd>900 s</dd><dt><span>interval_write :</span></dt><dd>1 h</dd><dt><span>cell_methods :</span></dt><dd>time: mean (interval: 900 s)</dd><dt><span>_ChunkSizes :</span></dt><dd>[    1    79 16002]</dd></dl></div><div class='xr-var-data'><pre>[30339792 values with dtype=float64]</pre></div></li><li class='xr-var-item'><div class='xr-var-name'><span>vmrmcf</span></div><div class='xr-var-dims'>(time_counter, presnivs, cell)</div><div class='xr-var-dtype'>float64</div><div class='xr-var-preview xr-preview'>...</div><input id='attrs-b0580bd5-14c6-4da9-bfca-8b745dacd060' class='xr-var-attrs-in' type='checkbox' ><label for='attrs-b0580bd5-14c6-4da9-bfca-8b745dacd060' title='Show/Hide attributes'><svg class='icon xr-icon-file-text2'><use xlink:href='#icon-file-text2'></use></svg></label><input id='data-c793f806-80e7-4c69-8e71-cc420d706346' class='xr-var-data-in' type='checkbox'><label for='data-c793f806-80e7-4c69-8e71-cc420d706346' title='Show/Hide data repr'><svg class='icon xr-icon-database'><use xlink:href='#icon-database'></use></svg></label><div class='xr-var-attrs'><dl class='xr-attrs'><dt><span>long_name :</span></dt><dd>MCF Volume Mixing Ratio</dd><dt><span>units :</span></dt><dd>mol mol-1</dd><dt><span>online_operation :</span></dt><dd>average</dd><dt><span>interval_operation :</span></dt><dd>900 s</dd><dt><span>interval_write :</span></dt><dd>1 h</dd><dt><span>cell_methods :</span></dt><dd>time: mean (interval: 900 s)</dd><dt><span>_ChunkSizes :</span></dt><dd>[    1    79 16002]</dd></dl></div><div class='xr-var-data'><pre>[30339792 values with dtype=float64]</pre></div></li><li class='xr-var-item'><div class='xr-var-name'><span>vmrbe7</span></div><div class='xr-var-dims'>(time_counter, presnivs, cell)</div><div class='xr-var-dtype'>float64</div><div class='xr-var-preview xr-preview'>...</div><input id='attrs-7f273ecf-926d-4534-8044-f2df6645fb3a' class='xr-var-attrs-in' type='checkbox' ><label for='attrs-7f273ecf-926d-4534-8044-f2df6645fb3a' title='Show/Hide attributes'><svg class='icon xr-icon-file-text2'><use xlink:href='#icon-file-text2'></use></svg></label><input id='data-30a2dcab-626a-43b8-adf9-0f096175c53b' class='xr-var-data-in' type='checkbox'><label for='data-30a2dcab-626a-43b8-adf9-0f096175c53b' title='Show/Hide data repr'><svg class='icon xr-icon-database'><use xlink:href='#icon-database'></use></svg></label><div class='xr-var-attrs'><dl class='xr-attrs'><dt><span>long_name :</span></dt><dd>Be7 Volume Mixing Ratio</dd><dt><span>units :</span></dt><dd>mol mol-1</dd><dt><span>online_operation :</span></dt><dd>average</dd><dt><span>interval_operation :</span></dt><dd>900 s</dd><dt><span>interval_write :</span></dt><dd>1 h</dd><dt><span>cell_methods :</span></dt><dd>time: mean (interval: 900 s)</dd><dt><span>_ChunkSizes :</span></dt><dd>[    1    79 16002]</dd></dl></div><div class='xr-var-data'><pre>[30339792 values with dtype=float64]</pre></div></li><li class='xr-var-item'><div class='xr-var-name'><span>vmrn2o</span></div><div class='xr-var-dims'>(time_counter, presnivs, cell)</div><div class='xr-var-dtype'>float64</div><div class='xr-var-preview xr-preview'>...</div><input id='attrs-04a413e0-a2b2-4c49-8a46-8107d8d67e64' class='xr-var-attrs-in' type='checkbox' ><label for='attrs-04a413e0-a2b2-4c49-8a46-8107d8d67e64' title='Show/Hide attributes'><svg class='icon xr-icon-file-text2'><use xlink:href='#icon-file-text2'></use></svg></label><input id='data-07ad5483-4b83-47a6-a8bb-7e69ea0db344' class='xr-var-data-in' type='checkbox'><label for='data-07ad5483-4b83-47a6-a8bb-7e69ea0db344' title='Show/Hide data repr'><svg class='icon xr-icon-database'><use xlink:href='#icon-database'></use></svg></label><div class='xr-var-attrs'><dl class='xr-attrs'><dt><span>long_name :</span></dt><dd>N2O Volume Mixing Ratio</dd><dt><span>units :</span></dt><dd>mol mol-1</dd><dt><span>online_operation :</span></dt><dd>average</dd><dt><span>interval_operation :</span></dt><dd>900 s</dd><dt><span>interval_write :</span></dt><dd>1 h</dd><dt><span>cell_methods :</span></dt><dd>time: mean (interval: 900 s)</dd><dt><span>_ChunkSizes :</span></dt><dd>[    1    79 16002]</dd></dl></div><div class='xr-var-data'><pre>[30339792 values with dtype=float64]</pre></div></li><li class='xr-var-item'><div class='xr-var-name'><span>vmrch4</span></div><div class='xr-var-dims'>(time_counter, presnivs, cell)</div><div class='xr-var-dtype'>float64</div><div class='xr-var-preview xr-preview'>...</div><input id='attrs-f56fbc34-7f25-4f24-98a4-b5ec4ced087a' class='xr-var-attrs-in' type='checkbox' ><label for='attrs-f56fbc34-7f25-4f24-98a4-b5ec4ced087a' title='Show/Hide attributes'><svg class='icon xr-icon-file-text2'><use xlink:href='#icon-file-text2'></use></svg></label><input id='data-3b33141c-1321-491a-846d-c8bbf235716c' class='xr-var-data-in' type='checkbox'><label for='data-3b33141c-1321-491a-846d-c8bbf235716c' title='Show/Hide data repr'><svg class='icon xr-icon-database'><use xlink:href='#icon-database'></use></svg></label><div class='xr-var-attrs'><dl class='xr-attrs'><dt><span>long_name :</span></dt><dd>CH4 Volume Mixing Ratio</dd><dt><span>units :</span></dt><dd>mol mol-1</dd><dt><span>online_operation :</span></dt><dd>average</dd><dt><span>interval_operation :</span></dt><dd>900 s</dd><dt><span>interval_write :</span></dt><dd>1 h</dd><dt><span>cell_methods :</span></dt><dd>time: mean (interval: 900 s)</dd><dt><span>_ChunkSizes :</span></dt><dd>[    1    79 16002]</dd></dl></div><div class='xr-var-data'><pre>[30339792 values with dtype=float64]</pre></div></li><li class='xr-var-item'><div class='xr-var-name'><span>vmrco</span></div><div class='xr-var-dims'>(time_counter, presnivs, cell)</div><div class='xr-var-dtype'>float64</div><div class='xr-var-preview xr-preview'>...</div><input id='attrs-9cf2264a-fcb4-47a2-b6c5-88c2286bf2d7' class='xr-var-attrs-in' type='checkbox' ><label for='attrs-9cf2264a-fcb4-47a2-b6c5-88c2286bf2d7' title='Show/Hide attributes'><svg class='icon xr-icon-file-text2'><use xlink:href='#icon-file-text2'></use></svg></label><input id='data-757ff68d-f0eb-4f1c-ae63-daae64971a21' class='xr-var-data-in' type='checkbox'><label for='data-757ff68d-f0eb-4f1c-ae63-daae64971a21' title='Show/Hide data repr'><svg class='icon xr-icon-database'><use xlink:href='#icon-database'></use></svg></label><div class='xr-var-attrs'><dl class='xr-attrs'><dt><span>long_name :</span></dt><dd>CO Volume Mixing Ratio</dd><dt><span>units :</span></dt><dd>mol mol-1</dd><dt><span>online_operation :</span></dt><dd>average</dd><dt><span>interval_operation :</span></dt><dd>900 s</dd><dt><span>interval_write :</span></dt><dd>1 h</dd><dt><span>cell_methods :</span></dt><dd>time: mean (interval: 900 s)</dd><dt><span>_ChunkSizes :</span></dt><dd>[    1    79 16002]</dd></dl></div><div class='xr-var-data'><pre>[30339792 values with dtype=float64]</pre></div></li><li class='xr-var-item'><div class='xr-var-name'><span>vmrco2bih</span></div><div class='xr-var-dims'>(time_counter, presnivs, cell)</div><div class='xr-var-dtype'>float64</div><div class='xr-var-preview xr-preview'>...</div><input id='attrs-7a5c78c7-a3bb-41c5-9db0-dd3ba5d553fb' class='xr-var-attrs-in' type='checkbox' ><label for='attrs-7a5c78c7-a3bb-41c5-9db0-dd3ba5d553fb' title='Show/Hide attributes'><svg class='icon xr-icon-file-text2'><use xlink:href='#icon-file-text2'></use></svg></label><input id='data-c91ed5fd-295a-4222-a54b-ee8be0a1e79a' class='xr-var-data-in' type='checkbox'><label for='data-c91ed5fd-295a-4222-a54b-ee8be0a1e79a' title='Show/Hide data repr'><svg class='icon xr-icon-database'><use xlink:href='#icon-database'></use></svg></label><div class='xr-var-attrs'><dl class='xr-attrs'><dt><span>long_name :</span></dt><dd>CO2BIH Volume Mixing Ratio</dd><dt><span>units :</span></dt><dd>mol mol-1</dd><dt><span>online_operation :</span></dt><dd>average</dd><dt><span>interval_operation :</span></dt><dd>900 s</dd><dt><span>interval_write :</span></dt><dd>1 h</dd><dt><span>cell_methods :</span></dt><dd>time: mean (interval: 900 s)</dd><dt><span>_ChunkSizes :</span></dt><dd>[    1    79 16002]</dd></dl></div><div class='xr-var-data'><pre>[30339792 values with dtype=float64]</pre></div></li></ul></div></li><li class='xr-section-item'><input id='section-87ad7d8e-8228-4e23-aa7c-3eebbaa4df29' class='xr-section-summary-in' type='checkbox'  ><label for='section-87ad7d8e-8228-4e23-aa7c-3eebbaa4df29' class='xr-section-summary' >Indexes: <span>(2)</span></label><div class='xr-section-inline-details'></div><div class='xr-section-details'><ul class='xr-var-list'><li class='xr-var-item'><div class='xr-index-name'><div>presnivs</div></div><div class='xr-index-preview'>PandasIndex</div><div></div><input id='index-78d04027-dfde-4900-a416-1706dae39818' class='xr-index-data-in' type='checkbox'/><label for='index-78d04027-dfde-4900-a416-1706dae39818' title='Show/Hide index repr'><svg class='icon xr-icon-database'><use xlink:href='#icon-database'></use></svg></label><div class='xr-index-data'><pre>PandasIndex(Float64Index([     101202.109375,     100942.4296875,     100653.4140625,\n",
       "                  100331.8515625,      99974.1953125,      99576.5546875,\n",
       "                    99134.671875,        98643.84375,      98098.9765625,\n",
       "                   97494.4765625,      96824.3046875,      96081.9140625,\n",
       "                   95260.2421875,       94351.734375,      93348.3359375,\n",
       "                   92241.5546875,      91022.4609375,      89681.8203125,\n",
       "                    88210.203125,       86598.109375,      84836.2265625,\n",
       "                      82915.6875,      80828.3984375,       78567.484375,\n",
       "                   76127.7890625,      73506.4453125,      70703.5390625,\n",
       "                      67722.8125,     64572.38671875,     61265.37890625,\n",
       "                     57820.46875,     54262.16796875,      50620.7421875,\n",
       "                      46931.6875,         43234.6875,     39571.98828125,\n",
       "                  35986.37109375,     32518.84765625,     29206.36328125,\n",
       "                 26079.826171875,    23162.712890625,    20470.419921875,\n",
       "                 18010.361328125,   15782.7099609375,   13781.5791015625,\n",
       "                    11996.421875,   10413.4404296875,     9016.865234375,\n",
       "                7790.02001953125,   6716.14697265625,    5778.9990234375,\n",
       "                4963.23291015625,    4254.6435546875,   3640.27587890625,\n",
       "                 3108.4501953125,  2648.732666015625,  2251.866943359375,\n",
       "               1909.686767578125,   1615.01806640625, 1361.5806884765625,\n",
       "              1143.8909912109375,  957.1721801757812,  797.2695922851562,\n",
       "                660.575439453125,   543.960693359375,  444.7145690917969,\n",
       "               360.4911804199219,     289.2626953125, 229.27865600585938,\n",
       "                  179.0302734375,  137.2198486328125, 102.73442840576172,\n",
       "               74.62312316894531, 52.077579498291016, 34.414405822753906,\n",
       "              21.056676864624023, 11.507408142089844,  5.296796798706055,\n",
       "              1.4834349155426025],\n",
       "             dtype=&#x27;float64&#x27;, name=&#x27;presnivs&#x27;))</pre></div></li><li class='xr-var-item'><div class='xr-index-name'><div>time_counter</div></div><div class='xr-index-preview'>PandasIndex</div><div></div><input id='index-6d6008b8-8600-4124-8603-2ad3d2a6fbcb' class='xr-index-data-in' type='checkbox'/><label for='index-6d6008b8-8600-4124-8603-2ad3d2a6fbcb' title='Show/Hide index repr'><svg class='icon xr-icon-database'><use xlink:href='#icon-database'></use></svg></label><div class='xr-index-data'><pre>PandasIndex(DatetimeIndex([&#x27;1979-01-01 00:30:00&#x27;, &#x27;1979-01-01 01:30:00&#x27;,\n",
       "               &#x27;1979-01-01 02:30:00&#x27;, &#x27;1979-01-01 03:30:00&#x27;,\n",
       "               &#x27;1979-01-01 04:30:00&#x27;, &#x27;1979-01-01 05:30:00&#x27;,\n",
       "               &#x27;1979-01-01 06:30:00&#x27;, &#x27;1979-01-01 07:30:00&#x27;,\n",
       "               &#x27;1979-01-01 08:30:00&#x27;, &#x27;1979-01-01 09:30:00&#x27;,\n",
       "               &#x27;1979-01-01 10:30:00&#x27;, &#x27;1979-01-01 11:30:00&#x27;,\n",
       "               &#x27;1979-01-01 12:30:00&#x27;, &#x27;1979-01-01 13:30:00&#x27;,\n",
       "               &#x27;1979-01-01 14:30:00&#x27;, &#x27;1979-01-01 15:30:00&#x27;,\n",
       "               &#x27;1979-01-01 16:30:00&#x27;, &#x27;1979-01-01 17:30:00&#x27;,\n",
       "               &#x27;1979-01-01 18:30:00&#x27;, &#x27;1979-01-01 19:30:00&#x27;,\n",
       "               &#x27;1979-01-01 20:30:00&#x27;, &#x27;1979-01-01 21:30:00&#x27;,\n",
       "               &#x27;1979-01-01 22:30:00&#x27;, &#x27;1979-01-01 23:30:00&#x27;],\n",
       "              dtype=&#x27;datetime64[ns]&#x27;, name=&#x27;time_counter&#x27;, freq=None))</pre></div></li></ul></div></li><li class='xr-section-item'><input id='section-2e452de9-f3f9-4d5d-afb2-43ba4a3cf8c4' class='xr-section-summary-in' type='checkbox'  ><label for='section-2e452de9-f3f9-4d5d-afb2-43ba4a3cf8c4' class='xr-section-summary' >Attributes: <span>(10)</span></label><div class='xr-section-inline-details'></div><div class='xr-section-details'><dl class='xr-attrs'><dt><span>_NCProperties :</span></dt><dd>version=1|netcdflibversion=4.6.0|hdf5libversion=1.8.20</dd><dt><span>name :</span></dt><dd>inca1d_ges</dd><dt><span>description :</span></dt><dd>Created by xios</dd><dt><span>title :</span></dt><dd>Created by xios</dd><dt><span>Conventions :</span></dt><dd>CF-1.6</dd><dt><span>timeStamp :</span></dt><dd>2022-Apr-05 08:59:15 GMT</dd><dt><span>uuid :</span></dt><dd>8982bdb7-b650-45c4-896c-e228bec0cb5a</dd><dt><span>history :</span></dt><dd>Fri Apr 15 12:05:37 2022: ncatted -O -a axis,presnivs,o,c,Z ICO.79.1jour.native.1_19790101_19790101_1D_inca_ges.nc</dd><dt><span>NCO :</span></dt><dd>4.6.9</dd><dt><span>DODS_EXTRA.Unlimited_Dimension :</span></dt><dd>time_counter</dd></dl></div></li></ul></div></div>"
      ],
      "text/plain": [
       "<xarray.Dataset>\n",
       "Dimensions:               (cell: 16002, nvertex: 6, presnivs: 79,\n",
       "                           time_counter: 24, axis_nbounds: 2)\n",
       "Coordinates:\n",
       "    lat                   (cell) float32 ...\n",
       "    lon                   (cell) float32 ...\n",
       "  * presnivs              (presnivs) float32 1.012e+05 1.009e+05 ... 5.297 1.483\n",
       "    time_centered         (time_counter) datetime64[ns] ...\n",
       "  * time_counter          (time_counter) datetime64[ns] 1979-01-01T00:30:00 ....\n",
       "    time_instant          (time_counter) datetime64[ns] ...\n",
       "Dimensions without coordinates: cell, nvertex, axis_nbounds\n",
       "Data variables: (12/29)\n",
       "    bounds_lon            (cell, nvertex) float32 ...\n",
       "    bounds_lat            (cell, nvertex) float32 ...\n",
       "    time_centered_bounds  (time_counter, axis_nbounds) datetime64[ns] ...\n",
       "    time_counter_bounds   (time_counter, axis_nbounds) datetime64[ns] ...\n",
       "    time_instant_bounds   (time_counter, axis_nbounds) datetime64[ns] ...\n",
       "    pmid                  (time_counter, presnivs, cell) float64 ...\n",
       "    ...                    ...\n",
       "    vmrmcf                (time_counter, presnivs, cell) float64 ...\n",
       "    vmrbe7                (time_counter, presnivs, cell) float64 ...\n",
       "    vmrn2o                (time_counter, presnivs, cell) float64 ...\n",
       "    vmrch4                (time_counter, presnivs, cell) float64 ...\n",
       "    vmrco                 (time_counter, presnivs, cell) float64 ...\n",
       "    vmrco2bih             (time_counter, presnivs, cell) float64 ...\n",
       "Attributes:\n",
       "    _NCProperties:                   version=1|netcdflibversion=4.6.0|hdf5lib...\n",
       "    name:                            inca1d_ges\n",
       "    description:                     Created by xios\n",
       "    title:                           Created by xios\n",
       "    Conventions:                     CF-1.6\n",
       "    timeStamp:                       2022-Apr-05 08:59:15 GMT\n",
       "    uuid:                            8982bdb7-b650-45c4-896c-e228bec0cb5a\n",
       "    history:                         Fri Apr 15 12:05:37 2022: ncatted -O -a ...\n",
       "    NCO:                             4.6.9\n",
       "    DODS_EXTRA.Unlimited_Dimension:  time_counter"
      ]
     },
     "execution_count": 3,
     "metadata": {},
     "output_type": "execute_result"
    }
   ],
   "source": [
    "ds = xr.open_dataset(\"https://thredds-su.ipsl.fr/thredds/dodsC/ipsl_thredds/brocksce/ICO/ICO.79.1jour.native.1_19790101_19790101_1D_inca_ges.nc\")\n",
    "ds"
   ]
  },
  {
   "cell_type": "code",
   "execution_count": 4,
   "id": "c82bee03",
   "metadata": {
    "tags": []
   },
   "outputs": [
    {
     "name": "stdout",
     "output_type": "stream",
     "text": [
      "6\n",
      "(16002, 6)\n"
     ]
    }
   ],
   "source": [
    "blon = ds['bounds_lon'].to_numpy()\n",
    "blat = ds['bounds_lat'].to_numpy()\n",
    "nvertex = blon.shape[-1]\n",
    "print(nvertex)\n",
    "\n",
    "blon = blon.reshape(-1, nvertex)\n",
    "blat = blat.reshape(-1, nvertex)\n",
    "print(blon.shape)\n",
    "\n",
    "arr = ds['bounds_lon'].to_numpy()\n",
    "blon = arr.reshape(-1, arr.shape[-1])\n",
    "arr = ds['bounds_lat'].to_numpy()\n",
    "blat = arr.reshape(-1, arr.shape[-1])"
   ]
  },
  {
   "cell_type": "code",
   "execution_count": 5,
   "id": "e6761515",
   "metadata": {
    "tags": []
   },
   "outputs": [],
   "source": [
    "R = 0.999\n",
    "deg2rad = np.pi/180.\n",
    "x = R * np.cos(blat*deg2rad)*np.cos(blon*deg2rad)\n",
    "y = R * np.cos(blat*deg2rad)*np.sin(blon*deg2rad)\n",
    "z = R * np.sin(blat*deg2rad)"
   ]
  },
  {
   "cell_type": "code",
   "execution_count": 6,
   "id": "75f83291-d3bc-4a55-8a73-6c8a6acd6e35",
   "metadata": {
    "tags": []
   },
   "outputs": [],
   "source": [
    "points = np.stack((x,y,z), axis=2).reshape(x.size, 3)\n",
    "faces = np.arange(x.shape[0] * nvertex).reshape(x.shape[0], nvertex)\n",
    "faces = np.insert(faces, 0, nvertex, axis=1)"
   ]
  },
  {
   "cell_type": "code",
   "execution_count": 7,
   "id": "475a5a6c",
   "metadata": {
    "tags": []
   },
   "outputs": [
    {
     "data": {
      "text/html": [
       "\n",
       "<table>\n",
       "<tr><th>PolyData</th><th>Information</th></tr>\n",
       "<tr><td>N Cells</td><td>16002</td></tr>\n",
       "<tr><td>N Points</td><td>96012</td></tr>\n",
       "<tr><td>N Strips</td><td>0</td></tr>\n",
       "<tr><td>X Bounds</td><td>-9.990e-01, 9.990e-01</td></tr>\n",
       "<tr><td>Y Bounds</td><td>-9.988e-01, 9.988e-01</td></tr>\n",
       "<tr><td>Z Bounds</td><td>-9.989e-01, 9.989e-01</td></tr>\n",
       "<tr><td>N Arrays</td><td>0</td></tr>\n",
       "</table>\n",
       "\n"
      ],
      "text/plain": [
       "PolyData (0x7f22a5cb7e80)\n",
       "  N Cells:\t16002\n",
       "  N Points:\t96012\n",
       "  N Strips:\t0\n",
       "  X Bounds:\t-9.990e-01, 9.990e-01\n",
       "  Y Bounds:\t-9.988e-01, 9.988e-01\n",
       "  Z Bounds:\t-9.989e-01, 9.989e-01\n",
       "  N Arrays:\t0"
      ]
     },
     "execution_count": 7,
     "metadata": {},
     "output_type": "execute_result"
    }
   ],
   "source": [
    "mesh = pv.PolyData(points, faces)\n",
    "mesh"
   ]
  },
  {
   "cell_type": "code",
   "execution_count": 8,
   "id": "ee5c4796-8776-4aec-ba24-ab07f81e394a",
   "metadata": {
    "tags": []
   },
   "outputs": [
    {
     "data": {
      "text/html": [
       "\n",
       "<table>\n",
       "<tr><th>PolyData</th><th>Information</th></tr>\n",
       "<tr><td>N Cells</td><td>16002</td></tr>\n",
       "<tr><td>N Points</td><td>32000</td></tr>\n",
       "<tr><td>N Strips</td><td>0</td></tr>\n",
       "<tr><td>X Bounds</td><td>-9.990e-01, 9.990e-01</td></tr>\n",
       "<tr><td>Y Bounds</td><td>-9.988e-01, 9.988e-01</td></tr>\n",
       "<tr><td>Z Bounds</td><td>-9.989e-01, 9.989e-01</td></tr>\n",
       "<tr><td>N Arrays</td><td>0</td></tr>\n",
       "</table>\n",
       "\n"
      ],
      "text/plain": [
       "PolyData (0x7f22a5b34040)\n",
       "  N Cells:\t16002\n",
       "  N Points:\t32000\n",
       "  N Strips:\t0\n",
       "  X Bounds:\t-9.990e-01, 9.990e-01\n",
       "  Y Bounds:\t-9.988e-01, 9.988e-01\n",
       "  Z Bounds:\t-9.989e-01, 9.989e-01\n",
       "  N Arrays:\t0"
      ]
     },
     "execution_count": 8,
     "metadata": {},
     "output_type": "execute_result"
    }
   ],
   "source": [
    "mesh = pv.PolyData(points, faces)\n",
    "mesh.clean(inplace=True, tolerance=0.001)\n",
    "mesh"
   ]
  },
  {
   "cell_type": "code",
   "execution_count": 9,
   "id": "6f8d378d",
   "metadata": {
    "tags": []
   },
   "outputs": [
    {
     "name": "stdout",
     "output_type": "stream",
     "text": [
      "(24, 79, 16002)\n"
     ]
    }
   ],
   "source": [
    "var = ds['temp']\n",
    "print(var.shape)"
   ]
  },
  {
   "cell_type": "code",
   "execution_count": 10,
   "id": "78bcbf9d",
   "metadata": {
    "tags": []
   },
   "outputs": [
    {
     "data": {
      "text/plain": [
       "(78, 23)"
      ]
     },
     "execution_count": 10,
     "metadata": {},
     "output_type": "execute_result"
    }
   ],
   "source": [
    "kmax = var.shape[1]-1\n",
    "lmax = var.shape[0]-1\n",
    "kmax, lmax"
   ]
  },
  {
   "cell_type": "code",
   "execution_count": 11,
   "id": "4ca83fbd",
   "metadata": {
    "tags": []
   },
   "outputs": [
    {
     "name": "stdout",
     "output_type": "stream",
     "text": [
      "233.364045 302.943871\n"
     ]
    }
   ],
   "source": [
    "var = ds['temp'][0,0]\n",
    "varmin = np.min(var)\n",
    "varmax = np.max(var)\n",
    "print(\"%f %f\" %(varmin, varmax))"
   ]
  },
  {
   "cell_type": "code",
   "execution_count": 12,
   "id": "6af4e693",
   "metadata": {
    "tags": []
   },
   "outputs": [
    {
     "name": "stdout",
     "output_type": "stream",
     "text": [
      "Fichier «continents.vtk» déjà présent ; pas de récupération.\n",
      "\n"
     ]
    }
   ],
   "source": [
    "! wget -nc https://thredds-su.ipsl.fr/thredds/fileServer/ipsl_thredds/brocksce/pyvista/continents.vtk"
   ]
  },
  {
   "cell_type": "code",
   "execution_count": 13,
   "id": "f05889b3-d213-46f3-b1e2-9eec564e60d7",
   "metadata": {},
   "outputs": [],
   "source": [
    "import vtk\n",
    "vtk.vtkLogger.SetStderrVerbosity(vtk.vtkLogger.VERBOSITY_OFF)"
   ]
  },
  {
   "cell_type": "markdown",
   "id": "1442f035-63fd-4e65-9d18-a0f51766b377",
   "metadata": {},
   "source": [
    "### With pythreejs backend\n",
    "\n",
    " * The position has to be saved.\n",
    " * No scalar bar implemented yet"
   ]
  },
  {
   "cell_type": "code",
   "execution_count": 14,
   "id": "ec39b9bb-f67d-4f52-8337-860ad5ed7caa",
   "metadata": {},
   "outputs": [
    {
     "data": {
      "application/vnd.jupyter.widget-view+json": {
       "model_id": "db0c2f868b5945db8cb7f4caf84ad630",
       "version_major": 2,
       "version_minor": 0
      },
      "text/plain": [
       "interactive(children=(Checkbox(value=True, description='show_edges'), IntSlider(value=0, description='kindex',…"
      ]
     },
     "metadata": {},
     "output_type": "display_data"
    }
   ],
   "source": [
    "plotter = pv.Plotter()\n",
    "plotter.set_background('lightgray')\n",
    "\n",
    "continents = pv.PolyData('continents.vtk')\n",
    "cont_actor = plotter.add_mesh(continents, color='white')\n",
    "mesh_actor = plotter.add_mesh(mesh, scalars=var, clim=[240, 290], cmap='plasma', show_edges=True)\n",
    "viewer = plotter.show(jupyter_backend='pythreejs', return_viewer=True)\n",
    "\n",
    "def plot(show_edges=True, kindex=0, lindex=0, clim=[240, 290], cmap='plasma'):\n",
    "    global viewer, mesh_actor\n",
    "    save = viewer.camera.position\n",
    "    var = ds['temp'][lindex,kindex]\n",
    "    plotter.remove_actor(mesh_actor)\n",
    "    cont_actor = plotter.add_mesh(continents, color='white')\n",
    "    mesh_actor = plotter.add_mesh(mesh, scalars=var, clim=clim, cmap=cmap, show_edges=show_edges)\n",
    "    plotter.update_scalars(var, mesh=mesh)\n",
    "    viewer = plotter.show(jupyter_backend='pythreejs', return_viewer=True)\n",
    "    viewer.camera.position = save\n",
    "    viewer.camera.lookAt((0,0,0))\n",
    "    display(viewer)\n",
    "\n",
    "a = interact(plot,\n",
    "        cmap = matplotlib.colormaps(),\n",
    "        show_edges = True, \n",
    "        kindex = (0,kmax,1),\n",
    "        lindex = (0,lmax,1),\n",
    "        clim = widgets.FloatRangeSlider(min=200, max=400, step=10, value=[240, 290])\n",
    ")"
   ]
  },
  {
   "cell_type": "markdown",
   "id": "0f774306-cdb5-4a63-b1f2-375daea962d7",
   "metadata": {},
   "source": [
    "### With panel backend\n",
    "\n",
    " * There a blink each time a slider value is changed."
   ]
  },
  {
   "cell_type": "code",
   "execution_count": 16,
   "id": "209580d7-c1b3-4d63-8c8b-e9a8219c0baf",
   "metadata": {},
   "outputs": [
    {
     "data": {
      "application/vnd.jupyter.widget-view+json": {
       "model_id": "0088e053689c4ee5b561297afc87edab",
       "version_major": 2,
       "version_minor": 0
      },
      "text/plain": [
       "interactive(children=(Checkbox(value=True, description='show_edges'), IntSlider(value=0, description='kindex',…"
      ]
     },
     "metadata": {},
     "output_type": "display_data"
    }
   ],
   "source": [
    "plotter = pv.Plotter()\n",
    "plotter.set_background('lightgray')\n",
    "\n",
    "continents = pv.PolyData('continents.vtk')\n",
    "cont_actor = plotter.add_mesh(continents, color='white')\n",
    "mesh_actor = plotter.add_mesh(mesh, scalars=var, clim=[240, 290], cmap='plasma', show_edges=True)\n",
    "viewer = plotter.show(jupyter_backend='panel', return_viewer=True)\n",
    "\n",
    "def plot(show_edges=True, kindex=0, lindex=0, clim=[240, 290], cmap='plasma'):\n",
    "    global plotter, mesh_actor, viewer\n",
    "    var = ds['temp'][lindex,kindex]\n",
    "    plotter.remove_actor(mesh_actor, render=False, reset_camera=False)\n",
    "    mesh_actor = plotter.add_mesh(mesh, scalars=var, clim=clim, cmap=cmap, show_edges=show_edges)\n",
    "    plotter.update_scalars(var, mesh=mesh)\n",
    "    plotter.show(jupyter_backend='panel', return_viewer=True)\n",
    "    display(viewer)\n",
    "\n",
    "a = interact(plot,\n",
    "        cmap = matplotlib.colormaps(),\n",
    "        show_edges = True, \n",
    "        kindex = (0,kmax,1),\n",
    "        lindex = (0,lmax,1),\n",
    "        clim = widgets.FloatRangeSlider(min=200, max=400, step=10, value=[240, 290])\n",
    ")"
   ]
  },
  {
   "cell_type": "markdown",
   "id": "f96de35a-526e-4a89-a15e-b151bb1e1510",
   "metadata": {},
   "source": [
    "### Simplest test with pythreejs backend\n",
    "\n",
    " * Is there simpler than remove actor each time a widget is triggered ?"
   ]
  },
  {
   "cell_type": "code",
   "execution_count": 17,
   "id": "c8c6d594-ce5c-4f75-9880-c01356ca6d31",
   "metadata": {},
   "outputs": [
    {
     "data": {
      "application/vnd.jupyter.widget-view+json": {
       "model_id": "6186c92268fd449488599efaf44fe561",
       "version_major": 2,
       "version_minor": 0
      },
      "text/plain": [
       "interactive(children=(Checkbox(value=True, description='show_edges'), Output()), _dom_classes=('widget-interac…"
      ]
     },
     "metadata": {},
     "output_type": "display_data"
    }
   ],
   "source": [
    "import vtk\n",
    "vtk.vtkLogger.SetStderrVerbosity(vtk.vtkLogger.VERBOSITY_OFF)\n",
    "\n",
    "import pyvista as pv\n",
    "from ipywidgets import interact\n",
    "\n",
    "pl = pv.Plotter()\n",
    "actor = pl.add_mesh(pv.Sphere(), show_edges=True)\n",
    "viewer = pl.show(jupyter_backend='pythreejs', return_viewer=True)\n",
    "\n",
    "def plot(show_edges):\n",
    "    global actor, viewer\n",
    "    pl.remove_actor(actor)\n",
    "    actor = pl.add_mesh(pv.Sphere(), show_edges=show_edges)\n",
    "    viewer = pl.show(jupyter_backend='pythreejs', return_viewer=True)\n",
    "    display(viewer)\n",
    "    \n",
    "a = interact(plot, show_edges=True)"
   ]
  },
  {
   "cell_type": "code",
   "execution_count": null,
   "id": "608f04b2-4258-4b0d-8553-357ee84a7b53",
   "metadata": {},
   "outputs": [],
   "source": []
  }
 ],
 "metadata": {
  "kernelspec": {
   "display_name": "Python 3 (ipykernel)",
   "language": "python",
   "name": "python3"
  },
  "language_info": {
   "codemirror_mode": {
    "name": "ipython",
    "version": 3
   },
   "file_extension": ".py",
   "mimetype": "text/x-python",
   "name": "python",
   "nbconvert_exporter": "python",
   "pygments_lexer": "ipython3",
   "version": "3.10.6"
  }
 },
 "nbformat": 4,
 "nbformat_minor": 5
}
